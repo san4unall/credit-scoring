{
 "cells": [
  {
   "cell_type": "markdown",
   "metadata": {},
   "source": [
    "Problem Statement\n",
    "The problem statement is divided into two cases: \n",
    "\n",
    "Use Case A : To build a banking behavioural scorecard (model) for Self-employed customers which differentiates customer's risk profile. The scorecard will be built in unsecured disbursals.\n",
    "\n",
    "The model will have the following usage -\n",
    "\n",
    "Customer on-boarding for cross-selling other products of the bank.\n",
    "It will help us decision customer treatment (through graded risk profile of  customer) as an input for credit underwriting.\n",
    "What is a Banking Behavioural Scorecard (model)?\n",
    "\n",
    "Banking Behavioural Scorecard is a scorecard (model) maintained for a customer based on his liability transactions. Liability transactions are transactions that are transacted by an internal customer of a bank i.e. a customer who has a current account (CA) or Savings account (SA) with the bank is an internal customer.\n",
    "\n",
    "What do you mean by Self-employed customers?\n",
    "\n",
    "Self-employed customers are non-salaried customers who have income coming from selfowned businesses i.e. Self-employed individuals, Proprietors, Private Ltd. Co. and Partnership Firms involved in the business of Manufacturing, Trading or Services.\n",
    "\n",
    "How does a customer repay a loan?\n",
    "\n",
    "Customer pays the loan in equal monthly instalments (EMIs). The loan will be paid through post-dated cheques. Customer also has an option to pay through Electronic Clearing System (ECS ) or a standing instruction to debit his HDFC Bank account with the EMI amount.\n",
    "\n",
    "What security does a customer need to provide to obtain a Business loan?\n",
    "\n",
    "To obtain the loan, there is absolutely no need to provide any security or collateral.\n",
    "\n",
    "What are the loan tenure options for Business Loan?\n",
    "\n",
    "A customer can repay his loan over a period of 12 to 48 months.\n",
    "\n",
    "What does customer risk profile mean?\n",
    "\n",
    "Customer risk profile means the probability of the customer defaulting on his EMI payment.\n",
    "\n",
    "Use Case B : \n",
    "\n",
    "Describe your approach for the above built model and your reasons for the same\n",
    "Describe model segmentation (if any)\n",
    "Describe how will your model help the bank.\n",
    "Data Desciption\n",
    "The dataset consists of the following types of files :\n",
    "\n",
    "AggregateData_Train/Test : Customer Savings account/Current Account transaction information for the training period.\n",
    "TransactionData_Train/Test :  Type of transactions done by a particular customer, aggregated at customer level for relevant training period.\n",
    "sample_submission.csv : Sample submission indicating the format of submission.\n",
    "Columns description for the above mentioned files can be found in this excel sheet."
   ]
  },
  {
   "cell_type": "markdown",
   "metadata": {},
   "source": [
    "Agg Data Dic\n",
    "V1\tDisbursal End of month date\n",
    "V2\tID\n",
    "V3\tAggregated_Amount_Variable_1\n",
    "V4\tAggregated_Amount_Variable_2\n",
    "V5\tAggregated_Amount_Variable_3\n",
    "V6\tAggregated_Amount_Variable_4\n",
    "V7\tAggregated_Amount_Variable_5\n",
    "V8\tAggregated_Amount_Variable_6\n",
    "V9\tAggregated_Amount_Variable_7\n",
    "V10\tAggregated_Amount_Variable_8\n",
    "V11\tAggregated_Amount_Variable_9\n",
    "V12\tAggregated_Amount_Variable_10\n",
    "V13\tAggregated_Amount_Variable_11\n",
    "V14\tAggregated_Amount_Variable_12\n",
    "V15\tAggregated_Amount_Variable_13\n",
    "V16\tAggregated_Amount_Variable_14\n",
    "V17\tAggregated_Amount_Variable_15\n",
    "V18\tAggregated_Amount_Variable_16\n",
    "V19\tAggregated_Count_Variable_1\n",
    "V20\tAggregated_Count_Variable_2\n",
    "V21\tAggregated_Count_Variable_3\n",
    "V22\tAggregated_Count_Variable_4\n",
    "V23\tAggregated_Count_Variable_5\n",
    "V24\tAggregated_Count_Variable_6\n",
    "V25\tAggregated_Count_Variable_7\n",
    "V26\tAggregated_Count_Variable_8\n",
    "V27\tAggregated_Count_Variable_9\n",
    "V28\tAggregated_Count_Variable_10\n",
    "V29\tAggregated_Count_Variable_11\n",
    "V30\tAggregated_Count_Variable_12\n",
    "V31\tAggregated_Count_Variable_13\n",
    "V32\tAggregated_Count_Variable_14\n",
    "V33\tAggregated_Count_Variable_15\n",
    "V34\tAggregated_Count_Variable_16\n",
    "V35\tAggregated_Amount_Variable_17\n",
    "V36\tAggregated_Amount_Variable_18\n",
    "V37\tAggregated_Amount_Variable_19\n",
    "V38\tAggregated_Count_Variable_17\n",
    "V39\tAggregated_Count_Variable_18\n",
    "V40\tAggregated_Count_Variable_19\n",
    "V41\tAggregated_Ratio_Variable_1\n",
    "V42\tAggregated_Ratio_Variable_2\n",
    "V43\tAggregated_Proportion_Variable_1\n",
    "V44\tAggregated_Proportion_Variable_2\n",
    "V45\tAggregated_Proportion_Variable_3\n",
    "V46\tAggregated_Proportion_Variable_4\n",
    "V47\tAggregated_Proportion_Variable_5\n",
    "V48\tAggregated_Proportion_Variable_6\n",
    "V49\tAggregated_Proportion_Variable_7\n",
    "V50\tAggregated_Count_Variable_20\n",
    "V51\tAggregated_Count_Variable_21\n",
    "V52\tAggregated_Count_Variable_22\n",
    "V53\tAggregated_Count_Variable_23\n",
    "bad_flag\tBad_Flag \n",
    "\n",
    "Transaction Data Dictionary\n",
    "C2\tID\n",
    "C3\tTransaction ID\n",
    "C4\tThe date of transaction\n",
    "C5\tDebit/ Credit Indicator\n",
    "C6\tTransaction Type\n",
    "C8\tDisbursal End of month date\n",
    "C9\tTransaction End of Month date\n",
    "C10\tTransaction Mnemonic which helps to identify the type of transaction eg. ATM/NEFT/RTGS etc\n",
    "C12\tAmount of transaction\n",
    "\n"
   ]
  },
  {
   "cell_type": "code",
   "execution_count": 5,
   "metadata": {
    "collapsed": false
   },
   "outputs": [
    {
     "name": "stderr",
     "output_type": "stream",
     "text": [
      "C:\\Users\\sandeep.ram\\AppData\\Local\\Continuum\\Anaconda3\\lib\\site-packages\\matplotlib\\__init__.py:1401: UserWarning:  This call to matplotlib.use() has no effect\n",
      "because the backend has already been chosen;\n",
      "matplotlib.use() must be called *before* pylab, matplotlib.pyplot,\n",
      "or matplotlib.backends is imported for the first time.\n",
      "\n",
      "  warnings.warn(_use_error_msg)\n"
     ]
    },
    {
     "data": {
      "text/plain": [
       "<matplotlib.figure.Figure at 0x96edc50>"
      ]
     },
     "metadata": {},
     "output_type": "display_data"
    }
   ],
   "source": [
    "import pandas as pd\n",
    "import numpy as np\n",
    "import seaborn as sns\n",
    "import matplotlib.pyplot as plt\n",
    "\n",
    "import statsmodels.formula.api as sm\n",
    "import scipy.stats as stats\n",
    "import pandas_profiling   #need to install using anaconda prompt (pip install pandas_profiling)\n",
    "\n",
    "%matplotlib inline\n",
    "plt.rcParams['figure.figsize'] = 10, 7.5\n",
    "plt.rcParams['axes.grid'] = True\n",
    "plt.gray()\n",
    "\n",
    "from matplotlib.backends.backend_pdf import PdfPages\n",
    "\n",
    "from sklearn.model_selection import train_test_split\n",
    "from sklearn import metrics\n",
    "from sklearn.linear_model import LogisticRegression\n",
    "from statsmodels.stats.outliers_influence import variance_inflation_factor\n",
    "from patsy import dmatrices"
   ]
  },
  {
   "cell_type": "code",
   "execution_count": 6,
   "metadata": {
    "collapsed": false
   },
   "outputs": [],
   "source": [
    "# Load the training data\n",
    "df_aggdata_train = pd.read_csv( 'C:/sandeep_operabackup/Analytics/HackerEarth/HDFC Credit Scoring/train_data/AggregateData_Train.csv' )"
   ]
  },
  {
   "cell_type": "code",
   "execution_count": 7,
   "metadata": {
    "collapsed": false
   },
   "outputs": [],
   "source": [
    "df_txndata_train = pd.read_csv('C:/sandeep_operabackup/Analytics/HackerEarth/HDFC Credit Scoring/train_data/TransactionData_Train.csv')"
   ]
  },
  {
   "cell_type": "code",
   "execution_count": 8,
   "metadata": {
    "collapsed": true
   },
   "outputs": [],
   "source": [
    "# Load the training data\n",
    "df_aggdata_test = pd.read_csv( 'C:/sandeep_operabackup/Analytics/HackerEarth/HDFC Credit Scoring/test_data/AggregateData_Test.csv' )"
   ]
  },
  {
   "cell_type": "code",
   "execution_count": 9,
   "metadata": {
    "collapsed": true
   },
   "outputs": [],
   "source": [
    "df_txndata_test = pd.read_csv('C:/sandeep_operabackup/Analytics/HackerEarth/HDFC Credit Scoring/test_data/TransactionData_Test.csv')"
   ]
  },
  {
   "cell_type": "code",
   "execution_count": 10,
   "metadata": {
    "collapsed": false
   },
   "outputs": [
    {
     "data": {
      "text/html": [
       "<div>\n",
       "<style scoped>\n",
       "    .dataframe tbody tr th:only-of-type {\n",
       "        vertical-align: middle;\n",
       "    }\n",
       "\n",
       "    .dataframe tbody tr th {\n",
       "        vertical-align: top;\n",
       "    }\n",
       "\n",
       "    .dataframe thead th {\n",
       "        text-align: right;\n",
       "    }\n",
       "</style>\n",
       "<table border=\"1\" class=\"dataframe\">\n",
       "  <thead>\n",
       "    <tr style=\"text-align: right;\">\n",
       "      <th></th>\n",
       "      <th>UID</th>\n",
       "      <th>V1</th>\n",
       "      <th>V2</th>\n",
       "      <th>V3</th>\n",
       "      <th>V4</th>\n",
       "      <th>V5</th>\n",
       "      <th>V6</th>\n",
       "      <th>V7</th>\n",
       "      <th>V8</th>\n",
       "      <th>V9</th>\n",
       "      <th>...</th>\n",
       "      <th>V45</th>\n",
       "      <th>V46</th>\n",
       "      <th>V47</th>\n",
       "      <th>V48</th>\n",
       "      <th>V49</th>\n",
       "      <th>V50</th>\n",
       "      <th>V51</th>\n",
       "      <th>V52</th>\n",
       "      <th>V53</th>\n",
       "      <th>bad_flag</th>\n",
       "    </tr>\n",
       "  </thead>\n",
       "  <tbody>\n",
       "    <tr>\n",
       "      <th>0</th>\n",
       "      <td>Tr-1</td>\n",
       "      <td>30SEP2038</td>\n",
       "      <td>61P4S1M3GET</td>\n",
       "      <td>10397.75</td>\n",
       "      <td>?</td>\n",
       "      <td>?</td>\n",
       "      <td>?</td>\n",
       "      <td>?</td>\n",
       "      <td>?</td>\n",
       "      <td>?</td>\n",
       "      <td>...</td>\n",
       "      <td>?</td>\n",
       "      <td>5.04055</td>\n",
       "      <td>?</td>\n",
       "      <td>?</td>\n",
       "      <td>?</td>\n",
       "      <td>6</td>\n",
       "      <td>9</td>\n",
       "      <td>3</td>\n",
       "      <td>10</td>\n",
       "      <td>0</td>\n",
       "    </tr>\n",
       "    <tr>\n",
       "      <th>1</th>\n",
       "      <td>Tr-2</td>\n",
       "      <td>31JAN2038</td>\n",
       "      <td>6NYVS1J3U7M</td>\n",
       "      <td>?</td>\n",
       "      <td>606.74</td>\n",
       "      <td>?</td>\n",
       "      <td>?</td>\n",
       "      <td>?</td>\n",
       "      <td>?</td>\n",
       "      <td>?</td>\n",
       "      <td>...</td>\n",
       "      <td>?</td>\n",
       "      <td>?</td>\n",
       "      <td>?</td>\n",
       "      <td>?</td>\n",
       "      <td>?</td>\n",
       "      <td>1</td>\n",
       "      <td>?</td>\n",
       "      <td>?</td>\n",
       "      <td>?</td>\n",
       "      <td>0</td>\n",
       "    </tr>\n",
       "    <tr>\n",
       "      <th>2</th>\n",
       "      <td>Tr-3</td>\n",
       "      <td>31APR2038</td>\n",
       "      <td>BLFB1KMS48</td>\n",
       "      <td>87452.89</td>\n",
       "      <td>963.52</td>\n",
       "      <td>?</td>\n",
       "      <td>?</td>\n",
       "      <td>13838</td>\n",
       "      <td>?</td>\n",
       "      <td>?</td>\n",
       "      <td>...</td>\n",
       "      <td>?</td>\n",
       "      <td>?</td>\n",
       "      <td>?</td>\n",
       "      <td>?</td>\n",
       "      <td>?</td>\n",
       "      <td>10</td>\n",
       "      <td>10</td>\n",
       "      <td>20</td>\n",
       "      <td>1</td>\n",
       "      <td>0</td>\n",
       "    </tr>\n",
       "    <tr>\n",
       "      <th>3</th>\n",
       "      <td>Tr-4</td>\n",
       "      <td>31NOV2038</td>\n",
       "      <td>MYGB1LCW8P</td>\n",
       "      <td>?</td>\n",
       "      <td>393.26</td>\n",
       "      <td>100000</td>\n",
       "      <td>?</td>\n",
       "      <td>?</td>\n",
       "      <td>?</td>\n",
       "      <td>?</td>\n",
       "      <td>...</td>\n",
       "      <td>?</td>\n",
       "      <td>?</td>\n",
       "      <td>?</td>\n",
       "      <td>?</td>\n",
       "      <td>?</td>\n",
       "      <td>4</td>\n",
       "      <td>1</td>\n",
       "      <td>?</td>\n",
       "      <td>2</td>\n",
       "      <td>0</td>\n",
       "    </tr>\n",
       "    <tr>\n",
       "      <th>4</th>\n",
       "      <td>Tr-5</td>\n",
       "      <td>31OCT2038</td>\n",
       "      <td>6UG5S1PQGE5</td>\n",
       "      <td>1100</td>\n",
       "      <td>497.2</td>\n",
       "      <td>?</td>\n",
       "      <td>?</td>\n",
       "      <td>?</td>\n",
       "      <td>?</td>\n",
       "      <td>0.9</td>\n",
       "      <td>...</td>\n",
       "      <td>?</td>\n",
       "      <td>0.00470</td>\n",
       "      <td>?</td>\n",
       "      <td>?</td>\n",
       "      <td>0.00007</td>\n",
       "      <td>2</td>\n",
       "      <td>3</td>\n",
       "      <td>1</td>\n",
       "      <td>2</td>\n",
       "      <td>0</td>\n",
       "    </tr>\n",
       "    <tr>\n",
       "      <th>5</th>\n",
       "      <td>Tr-6</td>\n",
       "      <td>31JUN2038</td>\n",
       "      <td>7UFB1CTP1I</td>\n",
       "      <td>60456</td>\n",
       "      <td>1936.07</td>\n",
       "      <td>?</td>\n",
       "      <td>?</td>\n",
       "      <td>?</td>\n",
       "      <td>?</td>\n",
       "      <td>?</td>\n",
       "      <td>...</td>\n",
       "      <td>?</td>\n",
       "      <td>?</td>\n",
       "      <td>?</td>\n",
       "      <td>?</td>\n",
       "      <td>?</td>\n",
       "      <td>?</td>\n",
       "      <td>?</td>\n",
       "      <td>?</td>\n",
       "      <td>?</td>\n",
       "      <td>0</td>\n",
       "    </tr>\n",
       "    <tr>\n",
       "      <th>6</th>\n",
       "      <td>Tr-7</td>\n",
       "      <td>31APR2038</td>\n",
       "      <td>56FB19KDG9</td>\n",
       "      <td>5194.84</td>\n",
       "      <td>112.36</td>\n",
       "      <td>?</td>\n",
       "      <td>?</td>\n",
       "      <td>?</td>\n",
       "      <td>?</td>\n",
       "      <td>?</td>\n",
       "      <td>...</td>\n",
       "      <td>?</td>\n",
       "      <td>?</td>\n",
       "      <td>?</td>\n",
       "      <td>?</td>\n",
       "      <td>?</td>\n",
       "      <td>1</td>\n",
       "      <td>1</td>\n",
       "      <td>?</td>\n",
       "      <td>20</td>\n",
       "      <td>0</td>\n",
       "    </tr>\n",
       "    <tr>\n",
       "      <th>7</th>\n",
       "      <td>Tr-8</td>\n",
       "      <td>31NOV2038</td>\n",
       "      <td>5UBB1BA9R7</td>\n",
       "      <td>?</td>\n",
       "      <td>337.08</td>\n",
       "      <td>295</td>\n",
       "      <td>?</td>\n",
       "      <td>?</td>\n",
       "      <td>?</td>\n",
       "      <td>?</td>\n",
       "      <td>...</td>\n",
       "      <td>?</td>\n",
       "      <td>?</td>\n",
       "      <td>?</td>\n",
       "      <td>?</td>\n",
       "      <td>?</td>\n",
       "      <td>2</td>\n",
       "      <td>2</td>\n",
       "      <td>?</td>\n",
       "      <td>2</td>\n",
       "      <td>0</td>\n",
       "    </tr>\n",
       "    <tr>\n",
       "      <th>8</th>\n",
       "      <td>Tr-9</td>\n",
       "      <td>30SEP2038</td>\n",
       "      <td>68CB11P3Q</td>\n",
       "      <td>?</td>\n",
       "      <td>876.4</td>\n",
       "      <td>?</td>\n",
       "      <td>?</td>\n",
       "      <td>?</td>\n",
       "      <td>?</td>\n",
       "      <td>?</td>\n",
       "      <td>...</td>\n",
       "      <td>?</td>\n",
       "      <td>?</td>\n",
       "      <td>?</td>\n",
       "      <td>?</td>\n",
       "      <td>?</td>\n",
       "      <td>1</td>\n",
       "      <td>10</td>\n",
       "      <td>?</td>\n",
       "      <td>?</td>\n",
       "      <td>0</td>\n",
       "    </tr>\n",
       "    <tr>\n",
       "      <th>9</th>\n",
       "      <td>Tr-10</td>\n",
       "      <td>30SEP2038</td>\n",
       "      <td>71BBS1MS4</td>\n",
       "      <td>?</td>\n",
       "      <td>?</td>\n",
       "      <td>?</td>\n",
       "      <td>?</td>\n",
       "      <td>?</td>\n",
       "      <td>?</td>\n",
       "      <td>?</td>\n",
       "      <td>...</td>\n",
       "      <td>?</td>\n",
       "      <td>?</td>\n",
       "      <td>?</td>\n",
       "      <td>?</td>\n",
       "      <td>?</td>\n",
       "      <td>2</td>\n",
       "      <td>1</td>\n",
       "      <td>?</td>\n",
       "      <td>1</td>\n",
       "      <td>0</td>\n",
       "    </tr>\n",
       "    <tr>\n",
       "      <th>10</th>\n",
       "      <td>Tr-11</td>\n",
       "      <td>30JUL2038</td>\n",
       "      <td>9UYBSOYQM</td>\n",
       "      <td>2155390</td>\n",
       "      <td>5804.52</td>\n",
       "      <td>?</td>\n",
       "      <td>?</td>\n",
       "      <td>?</td>\n",
       "      <td>?</td>\n",
       "      <td>?</td>\n",
       "      <td>...</td>\n",
       "      <td>?</td>\n",
       "      <td>?</td>\n",
       "      <td>?</td>\n",
       "      <td>?</td>\n",
       "      <td>?</td>\n",
       "      <td>10</td>\n",
       "      <td>16</td>\n",
       "      <td>35</td>\n",
       "      <td>17</td>\n",
       "      <td>0</td>\n",
       "    </tr>\n",
       "    <tr>\n",
       "      <th>11</th>\n",
       "      <td>Tr-12</td>\n",
       "      <td>28MAY2038</td>\n",
       "      <td>56FBS3PQQY</td>\n",
       "      <td>?</td>\n",
       "      <td>4870.25</td>\n",
       "      <td>?</td>\n",
       "      <td>?</td>\n",
       "      <td>?</td>\n",
       "      <td>?</td>\n",
       "      <td>?</td>\n",
       "      <td>...</td>\n",
       "      <td>?</td>\n",
       "      <td>?</td>\n",
       "      <td>?</td>\n",
       "      <td>?</td>\n",
       "      <td>?</td>\n",
       "      <td>33</td>\n",
       "      <td>?</td>\n",
       "      <td>?</td>\n",
       "      <td>4</td>\n",
       "      <td>0</td>\n",
       "    </tr>\n",
       "    <tr>\n",
       "      <th>12</th>\n",
       "      <td>Tr-13</td>\n",
       "      <td>31MAR2038</td>\n",
       "      <td>7XCH5KC</td>\n",
       "      <td>?</td>\n",
       "      <td>?</td>\n",
       "      <td>?</td>\n",
       "      <td>?</td>\n",
       "      <td>?</td>\n",
       "      <td>?</td>\n",
       "      <td>?</td>\n",
       "      <td>...</td>\n",
       "      <td>?</td>\n",
       "      <td>?</td>\n",
       "      <td>?</td>\n",
       "      <td>?</td>\n",
       "      <td>?</td>\n",
       "      <td>?</td>\n",
       "      <td>?</td>\n",
       "      <td>?</td>\n",
       "      <td>?</td>\n",
       "      <td>0</td>\n",
       "    </tr>\n",
       "    <tr>\n",
       "      <th>13</th>\n",
       "      <td>Tr-14</td>\n",
       "      <td>31JUN2038</td>\n",
       "      <td>6NHESQG9R8</td>\n",
       "      <td>?</td>\n",
       "      <td>476.96</td>\n",
       "      <td>?</td>\n",
       "      <td>?</td>\n",
       "      <td>?</td>\n",
       "      <td>?</td>\n",
       "      <td>?</td>\n",
       "      <td>...</td>\n",
       "      <td>?</td>\n",
       "      <td>?</td>\n",
       "      <td>?</td>\n",
       "      <td>?</td>\n",
       "      <td>?</td>\n",
       "      <td>1</td>\n",
       "      <td>3</td>\n",
       "      <td>1</td>\n",
       "      <td>3</td>\n",
       "      <td>0</td>\n",
       "    </tr>\n",
       "    <tr>\n",
       "      <th>14</th>\n",
       "      <td>Tr-15</td>\n",
       "      <td>31AUG2038</td>\n",
       "      <td>6YCHSQAJQ7W</td>\n",
       "      <td>?</td>\n",
       "      <td>100</td>\n",
       "      <td>?</td>\n",
       "      <td>?</td>\n",
       "      <td>?</td>\n",
       "      <td>?</td>\n",
       "      <td>?</td>\n",
       "      <td>...</td>\n",
       "      <td>?</td>\n",
       "      <td>0.00004</td>\n",
       "      <td>?</td>\n",
       "      <td>?</td>\n",
       "      <td>?</td>\n",
       "      <td>1</td>\n",
       "      <td>1</td>\n",
       "      <td>?</td>\n",
       "      <td>1</td>\n",
       "      <td>0</td>\n",
       "    </tr>\n",
       "    <tr>\n",
       "      <th>15</th>\n",
       "      <td>Tr-16</td>\n",
       "      <td>31OCT2038</td>\n",
       "      <td>6YB5SQPSU7T</td>\n",
       "      <td>?</td>\n",
       "      <td>657.3</td>\n",
       "      <td>?</td>\n",
       "      <td>?</td>\n",
       "      <td>?</td>\n",
       "      <td>?</td>\n",
       "      <td>?</td>\n",
       "      <td>...</td>\n",
       "      <td>?</td>\n",
       "      <td>?</td>\n",
       "      <td>?</td>\n",
       "      <td>?</td>\n",
       "      <td>?</td>\n",
       "      <td>?</td>\n",
       "      <td>?</td>\n",
       "      <td>2</td>\n",
       "      <td>1</td>\n",
       "      <td>0</td>\n",
       "    </tr>\n",
       "    <tr>\n",
       "      <th>16</th>\n",
       "      <td>Tr-17</td>\n",
       "      <td>31JAN2038</td>\n",
       "      <td>BYPBSCTQ4I</td>\n",
       "      <td>1288.48</td>\n",
       "      <td>431.31</td>\n",
       "      <td>?</td>\n",
       "      <td>?</td>\n",
       "      <td>?</td>\n",
       "      <td>?</td>\n",
       "      <td>?</td>\n",
       "      <td>...</td>\n",
       "      <td>0.00530</td>\n",
       "      <td>?</td>\n",
       "      <td>?</td>\n",
       "      <td>?</td>\n",
       "      <td>?</td>\n",
       "      <td>1</td>\n",
       "      <td>1</td>\n",
       "      <td>?</td>\n",
       "      <td>3</td>\n",
       "      <td>0</td>\n",
       "    </tr>\n",
       "    <tr>\n",
       "      <th>17</th>\n",
       "      <td>Tr-18</td>\n",
       "      <td>31JUN2039</td>\n",
       "      <td>6YHASQPDF65</td>\n",
       "      <td>285633.67</td>\n",
       "      <td>316.85</td>\n",
       "      <td>?</td>\n",
       "      <td>?</td>\n",
       "      <td>?</td>\n",
       "      <td>?</td>\n",
       "      <td>?</td>\n",
       "      <td>...</td>\n",
       "      <td>?</td>\n",
       "      <td>0.92178</td>\n",
       "      <td>2.39330</td>\n",
       "      <td>?</td>\n",
       "      <td>?</td>\n",
       "      <td>2</td>\n",
       "      <td>9</td>\n",
       "      <td>3</td>\n",
       "      <td>?</td>\n",
       "      <td>0</td>\n",
       "    </tr>\n",
       "    <tr>\n",
       "      <th>18</th>\n",
       "      <td>Tr-19</td>\n",
       "      <td>30DEC2038</td>\n",
       "      <td>7I4BSCPSF</td>\n",
       "      <td>?</td>\n",
       "      <td>180.6</td>\n",
       "      <td>?</td>\n",
       "      <td>?</td>\n",
       "      <td>?</td>\n",
       "      <td>?</td>\n",
       "      <td>?</td>\n",
       "      <td>...</td>\n",
       "      <td>?</td>\n",
       "      <td>?</td>\n",
       "      <td>?</td>\n",
       "      <td>?</td>\n",
       "      <td>?</td>\n",
       "      <td>2</td>\n",
       "      <td>1</td>\n",
       "      <td>?</td>\n",
       "      <td>?</td>\n",
       "      <td>0</td>\n",
       "    </tr>\n",
       "    <tr>\n",
       "      <th>19</th>\n",
       "      <td>Tr-20</td>\n",
       "      <td>29MAY2039</td>\n",
       "      <td>6IFBS9HQF</td>\n",
       "      <td>?</td>\n",
       "      <td>1572.07</td>\n",
       "      <td>?</td>\n",
       "      <td>?</td>\n",
       "      <td>?</td>\n",
       "      <td>?</td>\n",
       "      <td>?</td>\n",
       "      <td>...</td>\n",
       "      <td>?</td>\n",
       "      <td>?</td>\n",
       "      <td>?</td>\n",
       "      <td>?</td>\n",
       "      <td>?</td>\n",
       "      <td>1</td>\n",
       "      <td>?</td>\n",
       "      <td>?</td>\n",
       "      <td>1</td>\n",
       "      <td>0</td>\n",
       "    </tr>\n",
       "  </tbody>\n",
       "</table>\n",
       "<p>20 rows × 55 columns</p>\n",
       "</div>"
      ],
      "text/plain": [
       "      UID         V1           V2         V3       V4      V5 V6     V7 V8  \\\n",
       "0    Tr-1  30SEP2038  61P4S1M3GET   10397.75        ?       ?  ?      ?  ?   \n",
       "1    Tr-2  31JAN2038  6NYVS1J3U7M          ?   606.74       ?  ?      ?  ?   \n",
       "2    Tr-3  31APR2038   BLFB1KMS48   87452.89   963.52       ?  ?  13838  ?   \n",
       "3    Tr-4  31NOV2038   MYGB1LCW8P          ?   393.26  100000  ?      ?  ?   \n",
       "4    Tr-5  31OCT2038  6UG5S1PQGE5       1100    497.2       ?  ?      ?  ?   \n",
       "5    Tr-6  31JUN2038   7UFB1CTP1I      60456  1936.07       ?  ?      ?  ?   \n",
       "6    Tr-7  31APR2038   56FB19KDG9    5194.84   112.36       ?  ?      ?  ?   \n",
       "7    Tr-8  31NOV2038   5UBB1BA9R7          ?   337.08     295  ?      ?  ?   \n",
       "8    Tr-9  30SEP2038    68CB11P3Q          ?    876.4       ?  ?      ?  ?   \n",
       "9   Tr-10  30SEP2038    71BBS1MS4          ?        ?       ?  ?      ?  ?   \n",
       "10  Tr-11  30JUL2038    9UYBSOYQM    2155390  5804.52       ?  ?      ?  ?   \n",
       "11  Tr-12  28MAY2038   56FBS3PQQY          ?  4870.25       ?  ?      ?  ?   \n",
       "12  Tr-13  31MAR2038      7XCH5KC          ?        ?       ?  ?      ?  ?   \n",
       "13  Tr-14  31JUN2038   6NHESQG9R8          ?   476.96       ?  ?      ?  ?   \n",
       "14  Tr-15  31AUG2038  6YCHSQAJQ7W          ?      100       ?  ?      ?  ?   \n",
       "15  Tr-16  31OCT2038  6YB5SQPSU7T          ?    657.3       ?  ?      ?  ?   \n",
       "16  Tr-17  31JAN2038   BYPBSCTQ4I    1288.48   431.31       ?  ?      ?  ?   \n",
       "17  Tr-18  31JUN2039  6YHASQPDF65  285633.67   316.85       ?  ?      ?  ?   \n",
       "18  Tr-19  30DEC2038    7I4BSCPSF          ?    180.6       ?  ?      ?  ?   \n",
       "19  Tr-20  29MAY2039    6IFBS9HQF          ?  1572.07       ?  ?      ?  ?   \n",
       "\n",
       "     V9   ...         V45      V46      V47 V48      V49 V50 V51 V52 V53  \\\n",
       "0     ?   ...           ?  5.04055        ?   ?        ?   6   9   3  10   \n",
       "1     ?   ...           ?        ?        ?   ?        ?   1   ?   ?   ?   \n",
       "2     ?   ...           ?        ?        ?   ?        ?  10  10  20   1   \n",
       "3     ?   ...           ?        ?        ?   ?        ?   4   1   ?   2   \n",
       "4   0.9   ...           ?  0.00470        ?   ?  0.00007   2   3   1   2   \n",
       "5     ?   ...           ?        ?        ?   ?        ?   ?   ?   ?   ?   \n",
       "6     ?   ...           ?        ?        ?   ?        ?   1   1   ?  20   \n",
       "7     ?   ...           ?        ?        ?   ?        ?   2   2   ?   2   \n",
       "8     ?   ...           ?        ?        ?   ?        ?   1  10   ?   ?   \n",
       "9     ?   ...           ?        ?        ?   ?        ?   2   1   ?   1   \n",
       "10    ?   ...           ?        ?        ?   ?        ?  10  16  35  17   \n",
       "11    ?   ...           ?        ?        ?   ?        ?  33   ?   ?   4   \n",
       "12    ?   ...           ?        ?        ?   ?        ?   ?   ?   ?   ?   \n",
       "13    ?   ...           ?        ?        ?   ?        ?   1   3   1   3   \n",
       "14    ?   ...           ?  0.00004        ?   ?        ?   1   1   ?   1   \n",
       "15    ?   ...           ?        ?        ?   ?        ?   ?   ?   2   1   \n",
       "16    ?   ...     0.00530        ?        ?   ?        ?   1   1   ?   3   \n",
       "17    ?   ...           ?  0.92178  2.39330   ?        ?   2   9   3   ?   \n",
       "18    ?   ...           ?        ?        ?   ?        ?   2   1   ?   ?   \n",
       "19    ?   ...           ?        ?        ?   ?        ?   1   ?   ?   1   \n",
       "\n",
       "   bad_flag  \n",
       "0         0  \n",
       "1         0  \n",
       "2         0  \n",
       "3         0  \n",
       "4         0  \n",
       "5         0  \n",
       "6         0  \n",
       "7         0  \n",
       "8         0  \n",
       "9         0  \n",
       "10        0  \n",
       "11        0  \n",
       "12        0  \n",
       "13        0  \n",
       "14        0  \n",
       "15        0  \n",
       "16        0  \n",
       "17        0  \n",
       "18        0  \n",
       "19        0  \n",
       "\n",
       "[20 rows x 55 columns]"
      ]
     },
     "execution_count": 10,
     "metadata": {},
     "output_type": "execute_result"
    }
   ],
   "source": [
    "#Check data for proper loading\n",
    "df_aggdata_train.head(20)\n"
   ]
  },
  {
   "cell_type": "code",
   "execution_count": 11,
   "metadata": {
    "collapsed": false
   },
   "outputs": [
    {
     "data": {
      "text/html": [
       "<div>\n",
       "<style scoped>\n",
       "    .dataframe tbody tr th:only-of-type {\n",
       "        vertical-align: middle;\n",
       "    }\n",
       "\n",
       "    .dataframe tbody tr th {\n",
       "        vertical-align: top;\n",
       "    }\n",
       "\n",
       "    .dataframe thead th {\n",
       "        text-align: right;\n",
       "    }\n",
       "</style>\n",
       "<table border=\"1\" class=\"dataframe\">\n",
       "  <thead>\n",
       "    <tr style=\"text-align: right;\">\n",
       "      <th></th>\n",
       "      <th>C2</th>\n",
       "      <th>C3</th>\n",
       "      <th>C4</th>\n",
       "      <th>C5</th>\n",
       "      <th>C6</th>\n",
       "      <th>C8</th>\n",
       "      <th>C9</th>\n",
       "      <th>C10</th>\n",
       "      <th>C12</th>\n",
       "    </tr>\n",
       "  </thead>\n",
       "  <tbody>\n",
       "    <tr>\n",
       "      <th>0</th>\n",
       "      <td>6UGH4BMM1Y6P</td>\n",
       "      <td>6YPV4HMP1V5EWID</td>\n",
       "      <td>06JUL38:17:31:02</td>\n",
       "      <td>D</td>\n",
       "      <td>IAD</td>\n",
       "      <td>2038-12-30</td>\n",
       "      <td>30JUL38:00:00:00</td>\n",
       "      <td>OTHER</td>\n",
       "      <td>22000.00</td>\n",
       "    </tr>\n",
       "    <tr>\n",
       "      <th>1</th>\n",
       "      <td>9Y46ZBCWRP9</td>\n",
       "      <td>61CE41JD5YMP329</td>\n",
       "      <td>05MAY38:16:46:36</td>\n",
       "      <td>D</td>\n",
       "      <td>STD</td>\n",
       "      <td>2039-06-31</td>\n",
       "      <td>28MAY38:00:00:00</td>\n",
       "      <td>FT</td>\n",
       "      <td>8183.00</td>\n",
       "    </tr>\n",
       "    <tr>\n",
       "      <th>2</th>\n",
       "      <td>6Z4F3BPVME6</td>\n",
       "      <td>6UQA3CP9F95BOBD</td>\n",
       "      <td>08FEB37:15:55:28</td>\n",
       "      <td>C</td>\n",
       "      <td>OCD</td>\n",
       "      <td>2038-04-31</td>\n",
       "      <td>30FEB37:00:00:00</td>\n",
       "      <td>CHQ</td>\n",
       "      <td>48900.00</td>\n",
       "    </tr>\n",
       "    <tr>\n",
       "      <th>3</th>\n",
       "      <td>6UYF21TDMPPT</td>\n",
       "      <td>BZF6Z3AJQ55MAM</td>\n",
       "      <td>24NOV38:09:48:37</td>\n",
       "      <td>D</td>\n",
       "      <td>EAW</td>\n",
       "      <td>2039-05-29</td>\n",
       "      <td>31NOV38:00:00:00</td>\n",
       "      <td>ATM</td>\n",
       "      <td>1500.00</td>\n",
       "    </tr>\n",
       "    <tr>\n",
       "      <th>4</th>\n",
       "      <td>5N5ASLGMMPM</td>\n",
       "      <td>6IPA43AM4Y613SX</td>\n",
       "      <td>26OCT38:18:54:06</td>\n",
       "      <td>D</td>\n",
       "      <td>ATW</td>\n",
       "      <td>2038-03-31</td>\n",
       "      <td>31OCT38:00:00:00</td>\n",
       "      <td>ATM</td>\n",
       "      <td>10000.00</td>\n",
       "    </tr>\n",
       "    <tr>\n",
       "      <th>5</th>\n",
       "      <td>6UHVZCYQ56W</td>\n",
       "      <td>6UQA4KKDQ5THE2K</td>\n",
       "      <td>08SEP38:18:42:45</td>\n",
       "      <td>D</td>\n",
       "      <td>CHQ</td>\n",
       "      <td>2038-01-31</td>\n",
       "      <td>30SEP38:00:00:00</td>\n",
       "      <td>CHQ</td>\n",
       "      <td>7150.00</td>\n",
       "    </tr>\n",
       "    <tr>\n",
       "      <th>6</th>\n",
       "      <td>VXF63LKVFYG</td>\n",
       "      <td>6YPE3BJMFV91JQQ</td>\n",
       "      <td>31MAR37:14:25:19</td>\n",
       "      <td>C</td>\n",
       "      <td>STC</td>\n",
       "      <td>2039-04-31</td>\n",
       "      <td>31MAR37:00:00:00</td>\n",
       "      <td>FT</td>\n",
       "      <td>106459.00</td>\n",
       "    </tr>\n",
       "    <tr>\n",
       "      <th>7</th>\n",
       "      <td>6L4E3KCSR9WT</td>\n",
       "      <td>IX563OHVUE9E0S</td>\n",
       "      <td>15AUG38:12:25:26</td>\n",
       "      <td>D</td>\n",
       "      <td>CTD</td>\n",
       "      <td>2038-11-31</td>\n",
       "      <td>31AUG38:00:00:00</td>\n",
       "      <td>CHQ</td>\n",
       "      <td>8500.00</td>\n",
       "    </tr>\n",
       "    <tr>\n",
       "      <th>8</th>\n",
       "      <td>6U444CPWG8G7</td>\n",
       "      <td>6L4V4KPWG6W6O4Y</td>\n",
       "      <td>30SEP38:13:06:28</td>\n",
       "      <td>D</td>\n",
       "      <td>PDN</td>\n",
       "      <td>2039-04-31</td>\n",
       "      <td>30SEP38:00:00:00</td>\n",
       "      <td>OTHER</td>\n",
       "      <td>1016.26</td>\n",
       "    </tr>\n",
       "    <tr>\n",
       "      <th>9</th>\n",
       "      <td>6YQFDQJSR861</td>\n",
       "      <td>6NHF4QCMF99BCAD</td>\n",
       "      <td>26JUN38:08:27:17</td>\n",
       "      <td>D</td>\n",
       "      <td>CHQ</td>\n",
       "      <td>2038-11-31</td>\n",
       "      <td>31JUN38:00:00:00</td>\n",
       "      <td>CHQ</td>\n",
       "      <td>147485.00</td>\n",
       "    </tr>\n",
       "    <tr>\n",
       "      <th>10</th>\n",
       "      <td>665A4HPP55WH</td>\n",
       "      <td>IIG62HAMFYT6E2</td>\n",
       "      <td>14OCT38:14:33:02</td>\n",
       "      <td>D</td>\n",
       "      <td>NTD</td>\n",
       "      <td>2039-04-31</td>\n",
       "      <td>31OCT38:00:00:00</td>\n",
       "      <td>NEFT</td>\n",
       "      <td>10000.00</td>\n",
       "    </tr>\n",
       "    <tr>\n",
       "      <th>11</th>\n",
       "      <td>7XFHC1Y3M6</td>\n",
       "      <td>MUH55CCQ8751CH</td>\n",
       "      <td>11MAR37:12:34:39</td>\n",
       "      <td>D</td>\n",
       "      <td>BRD</td>\n",
       "      <td>2038-10-31</td>\n",
       "      <td>31MAR37:00:00:00</td>\n",
       "      <td>OTHER</td>\n",
       "      <td>112.36</td>\n",
       "    </tr>\n",
       "    <tr>\n",
       "      <th>12</th>\n",
       "      <td>6X4641H9F59P</td>\n",
       "      <td>91CB1KT988G</td>\n",
       "      <td>01NOV37:00:00:00</td>\n",
       "      <td>C</td>\n",
       "      <td>IFC</td>\n",
       "      <td>2038-06-31</td>\n",
       "      <td>31NOV37:00:00:00</td>\n",
       "      <td>FT</td>\n",
       "      <td>150000.00</td>\n",
       "    </tr>\n",
       "    <tr>\n",
       "      <th>13</th>\n",
       "      <td>6XFH29KPG74</td>\n",
       "      <td>66C44HG3F66MA2Q</td>\n",
       "      <td>17JUL38:14:41:13</td>\n",
       "      <td>D</td>\n",
       "      <td>FTD</td>\n",
       "      <td>2039-04-31</td>\n",
       "      <td>30JUL38:00:00:00</td>\n",
       "      <td>FT</td>\n",
       "      <td>500000.00</td>\n",
       "    </tr>\n",
       "    <tr>\n",
       "      <th>14</th>\n",
       "      <td>68BED1KQFEGM</td>\n",
       "      <td>6I5E3BHSG8P6W3Y</td>\n",
       "      <td>21APR38:12:49:08</td>\n",
       "      <td>C</td>\n",
       "      <td>OCD</td>\n",
       "      <td>2038-03-31</td>\n",
       "      <td>31APR38:00:00:00</td>\n",
       "      <td>CHQ</td>\n",
       "      <td>450000.00</td>\n",
       "    </tr>\n",
       "    <tr>\n",
       "      <th>15</th>\n",
       "      <td>61G54LPJR7TP</td>\n",
       "      <td>5UH55CMS1PW69I</td>\n",
       "      <td>09MAR37:19:02:40</td>\n",
       "      <td>C</td>\n",
       "      <td>IPM</td>\n",
       "      <td>2038-02-30</td>\n",
       "      <td>31MAR37:00:00:00</td>\n",
       "      <td>NEFT</td>\n",
       "      <td>200000.00</td>\n",
       "    </tr>\n",
       "    <tr>\n",
       "      <th>16</th>\n",
       "      <td>6IGA4CJP159E</td>\n",
       "      <td>MYG641YSUY5PJA</td>\n",
       "      <td>04SEP38:20:14:36</td>\n",
       "      <td>D</td>\n",
       "      <td>AFM</td>\n",
       "      <td>2038-11-31</td>\n",
       "      <td>30SEP38:00:00:00</td>\n",
       "      <td>ATM</td>\n",
       "      <td>22.80</td>\n",
       "    </tr>\n",
       "    <tr>\n",
       "      <th>17</th>\n",
       "      <td>7NPHDBTP8PP</td>\n",
       "      <td>7YB5ZKK91VGN0S</td>\n",
       "      <td>22DEC37:14:59:16</td>\n",
       "      <td>D</td>\n",
       "      <td>ATW</td>\n",
       "      <td>2038-11-31</td>\n",
       "      <td>30DEC37:00:00:00</td>\n",
       "      <td>ATM</td>\n",
       "      <td>5000.00</td>\n",
       "    </tr>\n",
       "    <tr>\n",
       "      <th>18</th>\n",
       "      <td>7XY651Y9G84</td>\n",
       "      <td>6ZBW39YSR8N1WH3</td>\n",
       "      <td>17FEB37:16:49:12</td>\n",
       "      <td>C</td>\n",
       "      <td>STC</td>\n",
       "      <td>2038-08-31</td>\n",
       "      <td>30FEB37:00:00:00</td>\n",
       "      <td>FT</td>\n",
       "      <td>68900.00</td>\n",
       "    </tr>\n",
       "    <tr>\n",
       "      <th>19</th>\n",
       "      <td>6YCADKMJ1YWT</td>\n",
       "      <td>61QW3CAW58WBAS9</td>\n",
       "      <td>04FEB37:10:23:52</td>\n",
       "      <td>D</td>\n",
       "      <td>IAD</td>\n",
       "      <td>2038-08-31</td>\n",
       "      <td>30FEB37:00:00:00</td>\n",
       "      <td>CHG</td>\n",
       "      <td>16.85</td>\n",
       "    </tr>\n",
       "  </tbody>\n",
       "</table>\n",
       "</div>"
      ],
      "text/plain": [
       "              C2               C3                C4 C5   C6          C8  \\\n",
       "0   6UGH4BMM1Y6P  6YPV4HMP1V5EWID  06JUL38:17:31:02  D  IAD  2038-12-30   \n",
       "1    9Y46ZBCWRP9  61CE41JD5YMP329  05MAY38:16:46:36  D  STD  2039-06-31   \n",
       "2    6Z4F3BPVME6  6UQA3CP9F95BOBD  08FEB37:15:55:28  C  OCD  2038-04-31   \n",
       "3   6UYF21TDMPPT   BZF6Z3AJQ55MAM  24NOV38:09:48:37  D  EAW  2039-05-29   \n",
       "4    5N5ASLGMMPM  6IPA43AM4Y613SX  26OCT38:18:54:06  D  ATW  2038-03-31   \n",
       "5    6UHVZCYQ56W  6UQA4KKDQ5THE2K  08SEP38:18:42:45  D  CHQ  2038-01-31   \n",
       "6    VXF63LKVFYG  6YPE3BJMFV91JQQ  31MAR37:14:25:19  C  STC  2039-04-31   \n",
       "7   6L4E3KCSR9WT   IX563OHVUE9E0S  15AUG38:12:25:26  D  CTD  2038-11-31   \n",
       "8   6U444CPWG8G7  6L4V4KPWG6W6O4Y  30SEP38:13:06:28  D  PDN  2039-04-31   \n",
       "9   6YQFDQJSR861  6NHF4QCMF99BCAD  26JUN38:08:27:17  D  CHQ  2038-11-31   \n",
       "10  665A4HPP55WH   IIG62HAMFYT6E2  14OCT38:14:33:02  D  NTD  2039-04-31   \n",
       "11    7XFHC1Y3M6   MUH55CCQ8751CH  11MAR37:12:34:39  D  BRD  2038-10-31   \n",
       "12  6X4641H9F59P      91CB1KT988G  01NOV37:00:00:00  C  IFC  2038-06-31   \n",
       "13   6XFH29KPG74  66C44HG3F66MA2Q  17JUL38:14:41:13  D  FTD  2039-04-31   \n",
       "14  68BED1KQFEGM  6I5E3BHSG8P6W3Y  21APR38:12:49:08  C  OCD  2038-03-31   \n",
       "15  61G54LPJR7TP   5UH55CMS1PW69I  09MAR37:19:02:40  C  IPM  2038-02-30   \n",
       "16  6IGA4CJP159E   MYG641YSUY5PJA  04SEP38:20:14:36  D  AFM  2038-11-31   \n",
       "17   7NPHDBTP8PP   7YB5ZKK91VGN0S  22DEC37:14:59:16  D  ATW  2038-11-31   \n",
       "18   7XY651Y9G84  6ZBW39YSR8N1WH3  17FEB37:16:49:12  C  STC  2038-08-31   \n",
       "19  6YCADKMJ1YWT  61QW3CAW58WBAS9  04FEB37:10:23:52  D  IAD  2038-08-31   \n",
       "\n",
       "                  C9    C10        C12  \n",
       "0   30JUL38:00:00:00  OTHER   22000.00  \n",
       "1   28MAY38:00:00:00     FT    8183.00  \n",
       "2   30FEB37:00:00:00    CHQ   48900.00  \n",
       "3   31NOV38:00:00:00    ATM    1500.00  \n",
       "4   31OCT38:00:00:00    ATM   10000.00  \n",
       "5   30SEP38:00:00:00    CHQ    7150.00  \n",
       "6   31MAR37:00:00:00     FT  106459.00  \n",
       "7   31AUG38:00:00:00    CHQ    8500.00  \n",
       "8   30SEP38:00:00:00  OTHER    1016.26  \n",
       "9   31JUN38:00:00:00    CHQ  147485.00  \n",
       "10  31OCT38:00:00:00   NEFT   10000.00  \n",
       "11  31MAR37:00:00:00  OTHER     112.36  \n",
       "12  31NOV37:00:00:00     FT  150000.00  \n",
       "13  30JUL38:00:00:00     FT  500000.00  \n",
       "14  31APR38:00:00:00    CHQ  450000.00  \n",
       "15  31MAR37:00:00:00   NEFT  200000.00  \n",
       "16  30SEP38:00:00:00    ATM      22.80  \n",
       "17  30DEC37:00:00:00    ATM    5000.00  \n",
       "18  30FEB37:00:00:00     FT   68900.00  \n",
       "19  30FEB37:00:00:00    CHG      16.85  "
      ]
     },
     "execution_count": 11,
     "metadata": {},
     "output_type": "execute_result"
    }
   ],
   "source": [
    "df_txndata_train.head(20)"
   ]
  },
  {
   "cell_type": "code",
   "execution_count": 12,
   "metadata": {
    "collapsed": false
   },
   "outputs": [
    {
     "data": {
      "text/html": [
       "<div>\n",
       "<style scoped>\n",
       "    .dataframe tbody tr th:only-of-type {\n",
       "        vertical-align: middle;\n",
       "    }\n",
       "\n",
       "    .dataframe tbody tr th {\n",
       "        vertical-align: top;\n",
       "    }\n",
       "\n",
       "    .dataframe thead th {\n",
       "        text-align: right;\n",
       "    }\n",
       "</style>\n",
       "<table border=\"1\" class=\"dataframe\">\n",
       "  <thead>\n",
       "    <tr style=\"text-align: right;\">\n",
       "      <th></th>\n",
       "      <th>C2</th>\n",
       "      <th>C3</th>\n",
       "      <th>C4</th>\n",
       "      <th>C5</th>\n",
       "      <th>C6</th>\n",
       "      <th>C8</th>\n",
       "      <th>C9</th>\n",
       "      <th>C10</th>\n",
       "      <th>C12</th>\n",
       "    </tr>\n",
       "  </thead>\n",
       "  <tbody>\n",
       "    <tr>\n",
       "      <th>0</th>\n",
       "      <td>IYH6EOT91IN</td>\n",
       "      <td>6I5V3CKDUVTER3U</td>\n",
       "      <td>16JAN37:23:42:31</td>\n",
       "      <td>D</td>\n",
       "      <td>RDD</td>\n",
       "      <td>2038-02-30</td>\n",
       "      <td>31JAN37:00:00:00</td>\n",
       "      <td>SWEEP</td>\n",
       "      <td>1000.00</td>\n",
       "    </tr>\n",
       "    <tr>\n",
       "      <th>1</th>\n",
       "      <td>6NF44HKS8VNP</td>\n",
       "      <td>68BV39T3U86732X</td>\n",
       "      <td>01MAR37:10:24:25</td>\n",
       "      <td>D</td>\n",
       "      <td>NWD</td>\n",
       "      <td>2038-12-30</td>\n",
       "      <td>31MAR37:00:00:00</td>\n",
       "      <td>ATM</td>\n",
       "      <td>10000.00</td>\n",
       "    </tr>\n",
       "    <tr>\n",
       "      <th>2</th>\n",
       "      <td>6LFE2QYJ56TM</td>\n",
       "      <td>6UHW3BHJGEWE93X</td>\n",
       "      <td>23APR38:09:33:09</td>\n",
       "      <td>C</td>\n",
       "      <td>MCR</td>\n",
       "      <td>2038-07-30</td>\n",
       "      <td>31APR38:00:00:00</td>\n",
       "      <td>OTHER</td>\n",
       "      <td>23591.24</td>\n",
       "    </tr>\n",
       "    <tr>\n",
       "      <th>3</th>\n",
       "      <td>61QE4KT94V5N</td>\n",
       "      <td>6XBA4KPWF94NEBQ</td>\n",
       "      <td>30SEP38:17:30:56</td>\n",
       "      <td>D</td>\n",
       "      <td>ETD</td>\n",
       "      <td>2039-05-29</td>\n",
       "      <td>30SEP38:00:00:00</td>\n",
       "      <td>OTHER</td>\n",
       "      <td>24000.00</td>\n",
       "    </tr>\n",
       "    <tr>\n",
       "      <th>4</th>\n",
       "      <td>6XGA3KPVR7WH</td>\n",
       "      <td>5NFF4KADUV41J</td>\n",
       "      <td>23DEC37:19:37:08</td>\n",
       "      <td>C</td>\n",
       "      <td>OCD</td>\n",
       "      <td>2038-01-31</td>\n",
       "      <td>30DEC37:00:00:00</td>\n",
       "      <td>CHQ</td>\n",
       "      <td>4076.00</td>\n",
       "    </tr>\n",
       "  </tbody>\n",
       "</table>\n",
       "</div>"
      ],
      "text/plain": [
       "             C2               C3                C4 C5   C6          C8  \\\n",
       "0   IYH6EOT91IN  6I5V3CKDUVTER3U  16JAN37:23:42:31  D  RDD  2038-02-30   \n",
       "1  6NF44HKS8VNP  68BV39T3U86732X  01MAR37:10:24:25  D  NWD  2038-12-30   \n",
       "2  6LFE2QYJ56TM  6UHW3BHJGEWE93X  23APR38:09:33:09  C  MCR  2038-07-30   \n",
       "3  61QE4KT94V5N  6XBA4KPWF94NEBQ  30SEP38:17:30:56  D  ETD  2039-05-29   \n",
       "4  6XGA3KPVR7WH    5NFF4KADUV41J  23DEC37:19:37:08  C  OCD  2038-01-31   \n",
       "\n",
       "                 C9    C10       C12  \n",
       "0  31JAN37:00:00:00  SWEEP   1000.00  \n",
       "1  31MAR37:00:00:00    ATM  10000.00  \n",
       "2  31APR38:00:00:00  OTHER  23591.24  \n",
       "3  30SEP38:00:00:00  OTHER  24000.00  \n",
       "4  30DEC37:00:00:00    CHQ   4076.00  "
      ]
     },
     "execution_count": 12,
     "metadata": {},
     "output_type": "execute_result"
    }
   ],
   "source": [
    "df_txndata_test.head()"
   ]
  },
  {
   "cell_type": "code",
   "execution_count": 207,
   "metadata": {
    "collapsed": false
   },
   "outputs": [
    {
     "name": "stdout",
     "output_type": "stream",
     "text": [
      "<class 'pandas.core.frame.DataFrame'>\n",
      "RangeIndex: 48434 entries, 0 to 48433\n",
      "Data columns (total 38 columns):\n",
      "UID    48434 non-null object\n",
      "V1     48434 non-null object\n",
      "V2     48434 non-null object\n",
      "V3     20284 non-null float64\n",
      "V4     38522 non-null float64\n",
      "V6     2529 non-null float64\n",
      "V7     3601 non-null float64\n",
      "V8     63 non-null float64\n",
      "V10    3367 non-null float64\n",
      "V11    6187 non-null float64\n",
      "V16    44599 non-null float64\n",
      "V19    47995 non-null float64\n",
      "V20    47995 non-null float64\n",
      "V21    47995 non-null float64\n",
      "V22    47995 non-null float64\n",
      "V23    47995 non-null float64\n",
      "V24    47995 non-null float64\n",
      "V25    47995 non-null float64\n",
      "V26    47995 non-null float64\n",
      "V27    47995 non-null float64\n",
      "V28    47995 non-null float64\n",
      "V29    47995 non-null float64\n",
      "V30    47995 non-null float64\n",
      "V31    47995 non-null float64\n",
      "V32    47995 non-null float64\n",
      "V33    47995 non-null float64\n",
      "V34    47995 non-null float64\n",
      "V37    9492 non-null float64\n",
      "V38    47995 non-null float64\n",
      "V39    47995 non-null float64\n",
      "V40    47995 non-null float64\n",
      "V41    1063 non-null float64\n",
      "V43    38522 non-null float64\n",
      "V46    9492 non-null float64\n",
      "V50    23943 non-null float64\n",
      "V51    27137 non-null float64\n",
      "V52    19241 non-null float64\n",
      "V53    26844 non-null float64\n",
      "dtypes: float64(35), object(3)\n",
      "memory usage: 14.0+ MB\n"
     ]
    }
   ],
   "source": [
    "#get column info\n",
    "df_aggdata_test.info()"
   ]
  },
  {
   "cell_type": "code",
   "execution_count": 7,
   "metadata": {
    "collapsed": false
   },
   "outputs": [
    {
     "name": "stdout",
     "output_type": "stream",
     "text": [
      "<class 'pandas.core.frame.DataFrame'>\n",
      "RangeIndex: 3343745 entries, 0 to 3343744\n",
      "Data columns (total 9 columns):\n",
      "C2     object\n",
      "C3     object\n",
      "C4     object\n",
      "C5     object\n",
      "C6     object\n",
      "C8     object\n",
      "C9     object\n",
      "C10    object\n",
      "C12    float64\n",
      "dtypes: float64(1), object(8)\n",
      "memory usage: 229.6+ MB\n"
     ]
    }
   ],
   "source": [
    "df_txndata_train.info()"
   ]
  },
  {
   "cell_type": "code",
   "execution_count": 14,
   "metadata": {
    "collapsed": false
   },
   "outputs": [],
   "source": [
    "#In Agg data, we can see a lot of missing values. Let us examine this further:\n",
    "#Step 1: convert the required columns to numeric format: V3 to V53\n",
    "#Step 2: carry out profiling of the variables \n",
    "#Step 3: Drop variables having fill-rate <5% or are highly co-related\n",
    "#Step 4: Deal with skweness in variables\n",
    "#Step 4: Treat missing values and outliers\n",
    "#Step 5:WOE\n",
    "#Store column names separately\n",
    "cols=df_aggdata_train.columns\n",
    "#Store numeric columns separately\n",
    "cols_num=cols[3:len(cols)-1]\n",
    "#Convert the required columns to numeric format\n",
    "df_aggdata_train[cols_num]=df_aggdata_train[cols_num].apply(pd.to_numeric, errors='coerce')"
   ]
  },
  {
   "cell_type": "code",
   "execution_count": 15,
   "metadata": {
    "collapsed": false
   },
   "outputs": [],
   "source": [
    "df_aggdata_test[cols_num]=df_aggdata_test[cols_num].apply(pd.to_numeric,errors='coerce')"
   ]
  },
  {
   "cell_type": "markdown",
   "metadata": {},
   "source": [
    "# Step1 and Step2"
   ]
  },
  {
   "cell_type": "code",
   "execution_count": 10,
   "metadata": {
    "collapsed": false
   },
   "outputs": [
    {
     "name": "stdout",
     "output_type": "stream",
     "text": [
      "<class 'pandas.core.frame.DataFrame'>\n",
      "RangeIndex: 26775 entries, 0 to 26774\n",
      "Data columns (total 55 columns):\n",
      "UID         26775 non-null object\n",
      "V1          26775 non-null object\n",
      "V2          26775 non-null object\n",
      "V3          10886 non-null float64\n",
      "V4          21079 non-null float64\n",
      "V5          755 non-null float64\n",
      "V6          1360 non-null float64\n",
      "V7          1940 non-null float64\n",
      "V8          34 non-null float64\n",
      "V9          406 non-null float64\n",
      "V10         1805 non-null float64\n",
      "V11         3351 non-null float64\n",
      "V12         932 non-null float64\n",
      "V13         886 non-null float64\n",
      "V14         0 non-null float64\n",
      "V15         836 non-null float64\n",
      "V16         24308 non-null float64\n",
      "V17         24012 non-null float64\n",
      "V18         195 non-null float64\n",
      "V19         26471 non-null float64\n",
      "V20         26471 non-null float64\n",
      "V21         26471 non-null float64\n",
      "V22         26471 non-null float64\n",
      "V23         26471 non-null float64\n",
      "V24         26471 non-null float64\n",
      "V25         26471 non-null float64\n",
      "V26         26471 non-null float64\n",
      "V27         26471 non-null float64\n",
      "V28         26471 non-null float64\n",
      "V29         26471 non-null float64\n",
      "V30         26471 non-null float64\n",
      "V31         26471 non-null float64\n",
      "V32         26471 non-null float64\n",
      "V33         26471 non-null float64\n",
      "V34         26471 non-null float64\n",
      "V35         707 non-null float64\n",
      "V36         302 non-null float64\n",
      "V37         5096 non-null float64\n",
      "V38         26471 non-null float64\n",
      "V39         26471 non-null float64\n",
      "V40         26471 non-null float64\n",
      "V41         569 non-null float64\n",
      "V42         280 non-null float64\n",
      "V43         21079 non-null float64\n",
      "V44         1940 non-null float64\n",
      "V45         707 non-null float64\n",
      "V46         5096 non-null float64\n",
      "V47         302 non-null float64\n",
      "V48         34 non-null float64\n",
      "V49         406 non-null float64\n",
      "V50         12936 non-null float64\n",
      "V51         14685 non-null float64\n",
      "V52         10352 non-null float64\n",
      "V53         14481 non-null float64\n",
      "bad_flag    26775 non-null int64\n",
      "dtypes: float64(51), int64(1), object(3)\n",
      "memory usage: 11.2+ MB\n"
     ]
    }
   ],
   "source": [
    "#Check for numeric conversion\n",
    "df_aggdata_train.info()"
   ]
  },
  {
   "cell_type": "code",
   "execution_count": 12,
   "metadata": {
    "collapsed": false
   },
   "outputs": [
    {
     "data": {
      "text/html": [
       "<div>\n",
       "<style scoped>\n",
       "    .dataframe tbody tr th:only-of-type {\n",
       "        vertical-align: middle;\n",
       "    }\n",
       "\n",
       "    .dataframe tbody tr th {\n",
       "        vertical-align: top;\n",
       "    }\n",
       "\n",
       "    .dataframe thead th {\n",
       "        text-align: right;\n",
       "    }\n",
       "</style>\n",
       "<table border=\"1\" class=\"dataframe\">\n",
       "  <thead>\n",
       "    <tr style=\"text-align: right;\">\n",
       "      <th></th>\n",
       "      <th>UID</th>\n",
       "      <th>V1</th>\n",
       "      <th>V2</th>\n",
       "      <th>V3</th>\n",
       "      <th>V4</th>\n",
       "      <th>V5</th>\n",
       "      <th>V6</th>\n",
       "      <th>V7</th>\n",
       "      <th>V8</th>\n",
       "      <th>V9</th>\n",
       "      <th>...</th>\n",
       "      <th>V44</th>\n",
       "      <th>V45</th>\n",
       "      <th>V46</th>\n",
       "      <th>V47</th>\n",
       "      <th>V48</th>\n",
       "      <th>V49</th>\n",
       "      <th>V50</th>\n",
       "      <th>V51</th>\n",
       "      <th>V52</th>\n",
       "      <th>V53</th>\n",
       "    </tr>\n",
       "  </thead>\n",
       "  <tbody>\n",
       "    <tr>\n",
       "      <th>0</th>\n",
       "      <td>Te-1</td>\n",
       "      <td>30SEP2038</td>\n",
       "      <td>61P4S1M3GET</td>\n",
       "      <td>10397.75</td>\n",
       "      <td>NaN</td>\n",
       "      <td>NaN</td>\n",
       "      <td>NaN</td>\n",
       "      <td>NaN</td>\n",
       "      <td>NaN</td>\n",
       "      <td>NaN</td>\n",
       "      <td>...</td>\n",
       "      <td>NaN</td>\n",
       "      <td>NaN</td>\n",
       "      <td>5.04055</td>\n",
       "      <td>NaN</td>\n",
       "      <td>NaN</td>\n",
       "      <td>NaN</td>\n",
       "      <td>6.0</td>\n",
       "      <td>9.0</td>\n",
       "      <td>3.0</td>\n",
       "      <td>10.0</td>\n",
       "    </tr>\n",
       "    <tr>\n",
       "      <th>1</th>\n",
       "      <td>Te-2</td>\n",
       "      <td>31JAN2038</td>\n",
       "      <td>6NYVS1J3U7M</td>\n",
       "      <td>NaN</td>\n",
       "      <td>606.74</td>\n",
       "      <td>NaN</td>\n",
       "      <td>NaN</td>\n",
       "      <td>NaN</td>\n",
       "      <td>NaN</td>\n",
       "      <td>NaN</td>\n",
       "      <td>...</td>\n",
       "      <td>NaN</td>\n",
       "      <td>NaN</td>\n",
       "      <td>NaN</td>\n",
       "      <td>NaN</td>\n",
       "      <td>NaN</td>\n",
       "      <td>NaN</td>\n",
       "      <td>1.0</td>\n",
       "      <td>NaN</td>\n",
       "      <td>NaN</td>\n",
       "      <td>NaN</td>\n",
       "    </tr>\n",
       "    <tr>\n",
       "      <th>2</th>\n",
       "      <td>Te-3</td>\n",
       "      <td>31APR2038</td>\n",
       "      <td>BLFB1KMS48</td>\n",
       "      <td>87452.89</td>\n",
       "      <td>963.52</td>\n",
       "      <td>NaN</td>\n",
       "      <td>NaN</td>\n",
       "      <td>13838.0</td>\n",
       "      <td>NaN</td>\n",
       "      <td>NaN</td>\n",
       "      <td>...</td>\n",
       "      <td>1.28678</td>\n",
       "      <td>NaN</td>\n",
       "      <td>NaN</td>\n",
       "      <td>NaN</td>\n",
       "      <td>NaN</td>\n",
       "      <td>NaN</td>\n",
       "      <td>10.0</td>\n",
       "      <td>10.0</td>\n",
       "      <td>20.0</td>\n",
       "      <td>1.0</td>\n",
       "    </tr>\n",
       "    <tr>\n",
       "      <th>3</th>\n",
       "      <td>Te-4</td>\n",
       "      <td>31NOV2038</td>\n",
       "      <td>MYGB1LCW8P</td>\n",
       "      <td>NaN</td>\n",
       "      <td>393.26</td>\n",
       "      <td>100000.0</td>\n",
       "      <td>NaN</td>\n",
       "      <td>NaN</td>\n",
       "      <td>NaN</td>\n",
       "      <td>NaN</td>\n",
       "      <td>...</td>\n",
       "      <td>NaN</td>\n",
       "      <td>NaN</td>\n",
       "      <td>NaN</td>\n",
       "      <td>NaN</td>\n",
       "      <td>NaN</td>\n",
       "      <td>NaN</td>\n",
       "      <td>4.0</td>\n",
       "      <td>1.0</td>\n",
       "      <td>NaN</td>\n",
       "      <td>2.0</td>\n",
       "    </tr>\n",
       "    <tr>\n",
       "      <th>4</th>\n",
       "      <td>Te-5</td>\n",
       "      <td>31OCT2038</td>\n",
       "      <td>6UG5S1PQGE5</td>\n",
       "      <td>1100.00</td>\n",
       "      <td>497.20</td>\n",
       "      <td>NaN</td>\n",
       "      <td>NaN</td>\n",
       "      <td>NaN</td>\n",
       "      <td>NaN</td>\n",
       "      <td>0.9</td>\n",
       "      <td>...</td>\n",
       "      <td>NaN</td>\n",
       "      <td>NaN</td>\n",
       "      <td>0.00470</td>\n",
       "      <td>NaN</td>\n",
       "      <td>NaN</td>\n",
       "      <td>0.00007</td>\n",
       "      <td>2.0</td>\n",
       "      <td>3.0</td>\n",
       "      <td>1.0</td>\n",
       "      <td>2.0</td>\n",
       "    </tr>\n",
       "    <tr>\n",
       "      <th>5</th>\n",
       "      <td>Te-6</td>\n",
       "      <td>31JUN2038</td>\n",
       "      <td>7UFB1CTP1I</td>\n",
       "      <td>60456.00</td>\n",
       "      <td>1936.07</td>\n",
       "      <td>NaN</td>\n",
       "      <td>NaN</td>\n",
       "      <td>NaN</td>\n",
       "      <td>NaN</td>\n",
       "      <td>NaN</td>\n",
       "      <td>...</td>\n",
       "      <td>NaN</td>\n",
       "      <td>NaN</td>\n",
       "      <td>NaN</td>\n",
       "      <td>NaN</td>\n",
       "      <td>NaN</td>\n",
       "      <td>NaN</td>\n",
       "      <td>NaN</td>\n",
       "      <td>NaN</td>\n",
       "      <td>NaN</td>\n",
       "      <td>NaN</td>\n",
       "    </tr>\n",
       "    <tr>\n",
       "      <th>6</th>\n",
       "      <td>Te-7</td>\n",
       "      <td>31APR2038</td>\n",
       "      <td>56FB19KDG9</td>\n",
       "      <td>5194.84</td>\n",
       "      <td>112.36</td>\n",
       "      <td>NaN</td>\n",
       "      <td>NaN</td>\n",
       "      <td>NaN</td>\n",
       "      <td>NaN</td>\n",
       "      <td>NaN</td>\n",
       "      <td>...</td>\n",
       "      <td>NaN</td>\n",
       "      <td>NaN</td>\n",
       "      <td>NaN</td>\n",
       "      <td>NaN</td>\n",
       "      <td>NaN</td>\n",
       "      <td>NaN</td>\n",
       "      <td>1.0</td>\n",
       "      <td>1.0</td>\n",
       "      <td>NaN</td>\n",
       "      <td>20.0</td>\n",
       "    </tr>\n",
       "    <tr>\n",
       "      <th>7</th>\n",
       "      <td>Te-8</td>\n",
       "      <td>31NOV2038</td>\n",
       "      <td>5UBB1BA9R7</td>\n",
       "      <td>NaN</td>\n",
       "      <td>337.08</td>\n",
       "      <td>295.0</td>\n",
       "      <td>NaN</td>\n",
       "      <td>NaN</td>\n",
       "      <td>NaN</td>\n",
       "      <td>NaN</td>\n",
       "      <td>...</td>\n",
       "      <td>NaN</td>\n",
       "      <td>NaN</td>\n",
       "      <td>NaN</td>\n",
       "      <td>NaN</td>\n",
       "      <td>NaN</td>\n",
       "      <td>NaN</td>\n",
       "      <td>2.0</td>\n",
       "      <td>2.0</td>\n",
       "      <td>NaN</td>\n",
       "      <td>2.0</td>\n",
       "    </tr>\n",
       "    <tr>\n",
       "      <th>8</th>\n",
       "      <td>Te-9</td>\n",
       "      <td>30SEP2038</td>\n",
       "      <td>68CB11P3Q</td>\n",
       "      <td>NaN</td>\n",
       "      <td>876.40</td>\n",
       "      <td>NaN</td>\n",
       "      <td>NaN</td>\n",
       "      <td>NaN</td>\n",
       "      <td>NaN</td>\n",
       "      <td>NaN</td>\n",
       "      <td>...</td>\n",
       "      <td>NaN</td>\n",
       "      <td>NaN</td>\n",
       "      <td>NaN</td>\n",
       "      <td>NaN</td>\n",
       "      <td>NaN</td>\n",
       "      <td>NaN</td>\n",
       "      <td>1.0</td>\n",
       "      <td>10.0</td>\n",
       "      <td>NaN</td>\n",
       "      <td>NaN</td>\n",
       "    </tr>\n",
       "    <tr>\n",
       "      <th>9</th>\n",
       "      <td>Te-10</td>\n",
       "      <td>30SEP2038</td>\n",
       "      <td>71BBS1MS4</td>\n",
       "      <td>NaN</td>\n",
       "      <td>NaN</td>\n",
       "      <td>NaN</td>\n",
       "      <td>NaN</td>\n",
       "      <td>NaN</td>\n",
       "      <td>NaN</td>\n",
       "      <td>NaN</td>\n",
       "      <td>...</td>\n",
       "      <td>NaN</td>\n",
       "      <td>NaN</td>\n",
       "      <td>NaN</td>\n",
       "      <td>NaN</td>\n",
       "      <td>NaN</td>\n",
       "      <td>NaN</td>\n",
       "      <td>2.0</td>\n",
       "      <td>1.0</td>\n",
       "      <td>NaN</td>\n",
       "      <td>1.0</td>\n",
       "    </tr>\n",
       "  </tbody>\n",
       "</table>\n",
       "<p>10 rows × 54 columns</p>\n",
       "</div>"
      ],
      "text/plain": [
       "     UID         V1           V2        V3       V4        V5  V6       V7  \\\n",
       "0   Te-1  30SEP2038  61P4S1M3GET  10397.75      NaN       NaN NaN      NaN   \n",
       "1   Te-2  31JAN2038  6NYVS1J3U7M       NaN   606.74       NaN NaN      NaN   \n",
       "2   Te-3  31APR2038   BLFB1KMS48  87452.89   963.52       NaN NaN  13838.0   \n",
       "3   Te-4  31NOV2038   MYGB1LCW8P       NaN   393.26  100000.0 NaN      NaN   \n",
       "4   Te-5  31OCT2038  6UG5S1PQGE5   1100.00   497.20       NaN NaN      NaN   \n",
       "5   Te-6  31JUN2038   7UFB1CTP1I  60456.00  1936.07       NaN NaN      NaN   \n",
       "6   Te-7  31APR2038   56FB19KDG9   5194.84   112.36       NaN NaN      NaN   \n",
       "7   Te-8  31NOV2038   5UBB1BA9R7       NaN   337.08     295.0 NaN      NaN   \n",
       "8   Te-9  30SEP2038    68CB11P3Q       NaN   876.40       NaN NaN      NaN   \n",
       "9  Te-10  30SEP2038    71BBS1MS4       NaN      NaN       NaN NaN      NaN   \n",
       "\n",
       "   V8   V9  ...       V44  V45      V46  V47  V48      V49   V50   V51   V52  \\\n",
       "0 NaN  NaN  ...       NaN  NaN  5.04055  NaN  NaN      NaN   6.0   9.0   3.0   \n",
       "1 NaN  NaN  ...       NaN  NaN      NaN  NaN  NaN      NaN   1.0   NaN   NaN   \n",
       "2 NaN  NaN  ...   1.28678  NaN      NaN  NaN  NaN      NaN  10.0  10.0  20.0   \n",
       "3 NaN  NaN  ...       NaN  NaN      NaN  NaN  NaN      NaN   4.0   1.0   NaN   \n",
       "4 NaN  0.9  ...       NaN  NaN  0.00470  NaN  NaN  0.00007   2.0   3.0   1.0   \n",
       "5 NaN  NaN  ...       NaN  NaN      NaN  NaN  NaN      NaN   NaN   NaN   NaN   \n",
       "6 NaN  NaN  ...       NaN  NaN      NaN  NaN  NaN      NaN   1.0   1.0   NaN   \n",
       "7 NaN  NaN  ...       NaN  NaN      NaN  NaN  NaN      NaN   2.0   2.0   NaN   \n",
       "8 NaN  NaN  ...       NaN  NaN      NaN  NaN  NaN      NaN   1.0  10.0   NaN   \n",
       "9 NaN  NaN  ...       NaN  NaN      NaN  NaN  NaN      NaN   2.0   1.0   NaN   \n",
       "\n",
       "    V53  \n",
       "0  10.0  \n",
       "1   NaN  \n",
       "2   1.0  \n",
       "3   2.0  \n",
       "4   2.0  \n",
       "5   NaN  \n",
       "6  20.0  \n",
       "7   2.0  \n",
       "8   NaN  \n",
       "9   1.0  \n",
       "\n",
       "[10 rows x 54 columns]"
      ]
     },
     "execution_count": 12,
     "metadata": {},
     "output_type": "execute_result"
    }
   ],
   "source": [
    "df_aggdata_test.head(10)"
   ]
  },
  {
   "cell_type": "code",
   "execution_count": 8,
   "metadata": {
    "collapsed": false
   },
   "outputs": [
    {
     "data": {
      "text/html": [
       "<div>\n",
       "<style scoped>\n",
       "    .dataframe tbody tr th:only-of-type {\n",
       "        vertical-align: middle;\n",
       "    }\n",
       "\n",
       "    .dataframe tbody tr th {\n",
       "        vertical-align: top;\n",
       "    }\n",
       "\n",
       "    .dataframe thead th {\n",
       "        text-align: right;\n",
       "    }\n",
       "</style>\n",
       "<table border=\"1\" class=\"dataframe\">\n",
       "  <thead>\n",
       "    <tr style=\"text-align: right;\">\n",
       "      <th></th>\n",
       "      <th>UID</th>\n",
       "      <th>V1</th>\n",
       "      <th>V2</th>\n",
       "      <th>V3</th>\n",
       "      <th>V4</th>\n",
       "      <th>V5</th>\n",
       "      <th>V6</th>\n",
       "      <th>V7</th>\n",
       "      <th>V8</th>\n",
       "      <th>V9</th>\n",
       "      <th>...</th>\n",
       "      <th>V45</th>\n",
       "      <th>V46</th>\n",
       "      <th>V47</th>\n",
       "      <th>V48</th>\n",
       "      <th>V49</th>\n",
       "      <th>V50</th>\n",
       "      <th>V51</th>\n",
       "      <th>V52</th>\n",
       "      <th>V53</th>\n",
       "      <th>bad_flag</th>\n",
       "    </tr>\n",
       "  </thead>\n",
       "  <tbody>\n",
       "    <tr>\n",
       "      <th>0</th>\n",
       "      <td>Tr-1</td>\n",
       "      <td>30SEP2038</td>\n",
       "      <td>61P4S1M3GET</td>\n",
       "      <td>10397.75</td>\n",
       "      <td>NaN</td>\n",
       "      <td>NaN</td>\n",
       "      <td>NaN</td>\n",
       "      <td>NaN</td>\n",
       "      <td>NaN</td>\n",
       "      <td>NaN</td>\n",
       "      <td>...</td>\n",
       "      <td>NaN</td>\n",
       "      <td>5.04055</td>\n",
       "      <td>NaN</td>\n",
       "      <td>NaN</td>\n",
       "      <td>NaN</td>\n",
       "      <td>6.0</td>\n",
       "      <td>9.0</td>\n",
       "      <td>3.0</td>\n",
       "      <td>10.0</td>\n",
       "      <td>0</td>\n",
       "    </tr>\n",
       "    <tr>\n",
       "      <th>1</th>\n",
       "      <td>Tr-2</td>\n",
       "      <td>31JAN2038</td>\n",
       "      <td>6NYVS1J3U7M</td>\n",
       "      <td>NaN</td>\n",
       "      <td>606.74</td>\n",
       "      <td>NaN</td>\n",
       "      <td>NaN</td>\n",
       "      <td>NaN</td>\n",
       "      <td>NaN</td>\n",
       "      <td>NaN</td>\n",
       "      <td>...</td>\n",
       "      <td>NaN</td>\n",
       "      <td>NaN</td>\n",
       "      <td>NaN</td>\n",
       "      <td>NaN</td>\n",
       "      <td>NaN</td>\n",
       "      <td>1.0</td>\n",
       "      <td>NaN</td>\n",
       "      <td>NaN</td>\n",
       "      <td>NaN</td>\n",
       "      <td>0</td>\n",
       "    </tr>\n",
       "    <tr>\n",
       "      <th>2</th>\n",
       "      <td>Tr-3</td>\n",
       "      <td>31APR2038</td>\n",
       "      <td>BLFB1KMS48</td>\n",
       "      <td>87452.89</td>\n",
       "      <td>963.52</td>\n",
       "      <td>NaN</td>\n",
       "      <td>NaN</td>\n",
       "      <td>13838.0</td>\n",
       "      <td>NaN</td>\n",
       "      <td>NaN</td>\n",
       "      <td>...</td>\n",
       "      <td>NaN</td>\n",
       "      <td>NaN</td>\n",
       "      <td>NaN</td>\n",
       "      <td>NaN</td>\n",
       "      <td>NaN</td>\n",
       "      <td>10.0</td>\n",
       "      <td>10.0</td>\n",
       "      <td>20.0</td>\n",
       "      <td>1.0</td>\n",
       "      <td>0</td>\n",
       "    </tr>\n",
       "    <tr>\n",
       "      <th>3</th>\n",
       "      <td>Tr-4</td>\n",
       "      <td>31NOV2038</td>\n",
       "      <td>MYGB1LCW8P</td>\n",
       "      <td>NaN</td>\n",
       "      <td>393.26</td>\n",
       "      <td>100000.0</td>\n",
       "      <td>NaN</td>\n",
       "      <td>NaN</td>\n",
       "      <td>NaN</td>\n",
       "      <td>NaN</td>\n",
       "      <td>...</td>\n",
       "      <td>NaN</td>\n",
       "      <td>NaN</td>\n",
       "      <td>NaN</td>\n",
       "      <td>NaN</td>\n",
       "      <td>NaN</td>\n",
       "      <td>4.0</td>\n",
       "      <td>1.0</td>\n",
       "      <td>NaN</td>\n",
       "      <td>2.0</td>\n",
       "      <td>0</td>\n",
       "    </tr>\n",
       "    <tr>\n",
       "      <th>4</th>\n",
       "      <td>Tr-5</td>\n",
       "      <td>31OCT2038</td>\n",
       "      <td>6UG5S1PQGE5</td>\n",
       "      <td>1100.00</td>\n",
       "      <td>497.20</td>\n",
       "      <td>NaN</td>\n",
       "      <td>NaN</td>\n",
       "      <td>NaN</td>\n",
       "      <td>NaN</td>\n",
       "      <td>0.9</td>\n",
       "      <td>...</td>\n",
       "      <td>NaN</td>\n",
       "      <td>0.00470</td>\n",
       "      <td>NaN</td>\n",
       "      <td>NaN</td>\n",
       "      <td>0.00007</td>\n",
       "      <td>2.0</td>\n",
       "      <td>3.0</td>\n",
       "      <td>1.0</td>\n",
       "      <td>2.0</td>\n",
       "      <td>0</td>\n",
       "    </tr>\n",
       "    <tr>\n",
       "      <th>5</th>\n",
       "      <td>Tr-6</td>\n",
       "      <td>31JUN2038</td>\n",
       "      <td>7UFB1CTP1I</td>\n",
       "      <td>60456.00</td>\n",
       "      <td>1936.07</td>\n",
       "      <td>NaN</td>\n",
       "      <td>NaN</td>\n",
       "      <td>NaN</td>\n",
       "      <td>NaN</td>\n",
       "      <td>NaN</td>\n",
       "      <td>...</td>\n",
       "      <td>NaN</td>\n",
       "      <td>NaN</td>\n",
       "      <td>NaN</td>\n",
       "      <td>NaN</td>\n",
       "      <td>NaN</td>\n",
       "      <td>NaN</td>\n",
       "      <td>NaN</td>\n",
       "      <td>NaN</td>\n",
       "      <td>NaN</td>\n",
       "      <td>0</td>\n",
       "    </tr>\n",
       "    <tr>\n",
       "      <th>6</th>\n",
       "      <td>Tr-7</td>\n",
       "      <td>31APR2038</td>\n",
       "      <td>56FB19KDG9</td>\n",
       "      <td>5194.84</td>\n",
       "      <td>112.36</td>\n",
       "      <td>NaN</td>\n",
       "      <td>NaN</td>\n",
       "      <td>NaN</td>\n",
       "      <td>NaN</td>\n",
       "      <td>NaN</td>\n",
       "      <td>...</td>\n",
       "      <td>NaN</td>\n",
       "      <td>NaN</td>\n",
       "      <td>NaN</td>\n",
       "      <td>NaN</td>\n",
       "      <td>NaN</td>\n",
       "      <td>1.0</td>\n",
       "      <td>1.0</td>\n",
       "      <td>NaN</td>\n",
       "      <td>20.0</td>\n",
       "      <td>0</td>\n",
       "    </tr>\n",
       "    <tr>\n",
       "      <th>7</th>\n",
       "      <td>Tr-8</td>\n",
       "      <td>31NOV2038</td>\n",
       "      <td>5UBB1BA9R7</td>\n",
       "      <td>NaN</td>\n",
       "      <td>337.08</td>\n",
       "      <td>295.0</td>\n",
       "      <td>NaN</td>\n",
       "      <td>NaN</td>\n",
       "      <td>NaN</td>\n",
       "      <td>NaN</td>\n",
       "      <td>...</td>\n",
       "      <td>NaN</td>\n",
       "      <td>NaN</td>\n",
       "      <td>NaN</td>\n",
       "      <td>NaN</td>\n",
       "      <td>NaN</td>\n",
       "      <td>2.0</td>\n",
       "      <td>2.0</td>\n",
       "      <td>NaN</td>\n",
       "      <td>2.0</td>\n",
       "      <td>0</td>\n",
       "    </tr>\n",
       "    <tr>\n",
       "      <th>8</th>\n",
       "      <td>Tr-9</td>\n",
       "      <td>30SEP2038</td>\n",
       "      <td>68CB11P3Q</td>\n",
       "      <td>NaN</td>\n",
       "      <td>876.40</td>\n",
       "      <td>NaN</td>\n",
       "      <td>NaN</td>\n",
       "      <td>NaN</td>\n",
       "      <td>NaN</td>\n",
       "      <td>NaN</td>\n",
       "      <td>...</td>\n",
       "      <td>NaN</td>\n",
       "      <td>NaN</td>\n",
       "      <td>NaN</td>\n",
       "      <td>NaN</td>\n",
       "      <td>NaN</td>\n",
       "      <td>1.0</td>\n",
       "      <td>10.0</td>\n",
       "      <td>NaN</td>\n",
       "      <td>NaN</td>\n",
       "      <td>0</td>\n",
       "    </tr>\n",
       "    <tr>\n",
       "      <th>9</th>\n",
       "      <td>Tr-10</td>\n",
       "      <td>30SEP2038</td>\n",
       "      <td>71BBS1MS4</td>\n",
       "      <td>NaN</td>\n",
       "      <td>NaN</td>\n",
       "      <td>NaN</td>\n",
       "      <td>NaN</td>\n",
       "      <td>NaN</td>\n",
       "      <td>NaN</td>\n",
       "      <td>NaN</td>\n",
       "      <td>...</td>\n",
       "      <td>NaN</td>\n",
       "      <td>NaN</td>\n",
       "      <td>NaN</td>\n",
       "      <td>NaN</td>\n",
       "      <td>NaN</td>\n",
       "      <td>2.0</td>\n",
       "      <td>1.0</td>\n",
       "      <td>NaN</td>\n",
       "      <td>1.0</td>\n",
       "      <td>0</td>\n",
       "    </tr>\n",
       "    <tr>\n",
       "      <th>10</th>\n",
       "      <td>Tr-11</td>\n",
       "      <td>30JUL2038</td>\n",
       "      <td>9UYBSOYQM</td>\n",
       "      <td>2155390.00</td>\n",
       "      <td>5804.52</td>\n",
       "      <td>NaN</td>\n",
       "      <td>NaN</td>\n",
       "      <td>NaN</td>\n",
       "      <td>NaN</td>\n",
       "      <td>NaN</td>\n",
       "      <td>...</td>\n",
       "      <td>NaN</td>\n",
       "      <td>NaN</td>\n",
       "      <td>NaN</td>\n",
       "      <td>NaN</td>\n",
       "      <td>NaN</td>\n",
       "      <td>10.0</td>\n",
       "      <td>16.0</td>\n",
       "      <td>35.0</td>\n",
       "      <td>17.0</td>\n",
       "      <td>0</td>\n",
       "    </tr>\n",
       "    <tr>\n",
       "      <th>11</th>\n",
       "      <td>Tr-12</td>\n",
       "      <td>28MAY2038</td>\n",
       "      <td>56FBS3PQQY</td>\n",
       "      <td>NaN</td>\n",
       "      <td>4870.25</td>\n",
       "      <td>NaN</td>\n",
       "      <td>NaN</td>\n",
       "      <td>NaN</td>\n",
       "      <td>NaN</td>\n",
       "      <td>NaN</td>\n",
       "      <td>...</td>\n",
       "      <td>NaN</td>\n",
       "      <td>NaN</td>\n",
       "      <td>NaN</td>\n",
       "      <td>NaN</td>\n",
       "      <td>NaN</td>\n",
       "      <td>33.0</td>\n",
       "      <td>NaN</td>\n",
       "      <td>NaN</td>\n",
       "      <td>4.0</td>\n",
       "      <td>0</td>\n",
       "    </tr>\n",
       "    <tr>\n",
       "      <th>12</th>\n",
       "      <td>Tr-13</td>\n",
       "      <td>31MAR2038</td>\n",
       "      <td>7XCH5KC</td>\n",
       "      <td>NaN</td>\n",
       "      <td>NaN</td>\n",
       "      <td>NaN</td>\n",
       "      <td>NaN</td>\n",
       "      <td>NaN</td>\n",
       "      <td>NaN</td>\n",
       "      <td>NaN</td>\n",
       "      <td>...</td>\n",
       "      <td>NaN</td>\n",
       "      <td>NaN</td>\n",
       "      <td>NaN</td>\n",
       "      <td>NaN</td>\n",
       "      <td>NaN</td>\n",
       "      <td>NaN</td>\n",
       "      <td>NaN</td>\n",
       "      <td>NaN</td>\n",
       "      <td>NaN</td>\n",
       "      <td>0</td>\n",
       "    </tr>\n",
       "    <tr>\n",
       "      <th>13</th>\n",
       "      <td>Tr-14</td>\n",
       "      <td>31JUN2038</td>\n",
       "      <td>6NHESQG9R8</td>\n",
       "      <td>NaN</td>\n",
       "      <td>476.96</td>\n",
       "      <td>NaN</td>\n",
       "      <td>NaN</td>\n",
       "      <td>NaN</td>\n",
       "      <td>NaN</td>\n",
       "      <td>NaN</td>\n",
       "      <td>...</td>\n",
       "      <td>NaN</td>\n",
       "      <td>NaN</td>\n",
       "      <td>NaN</td>\n",
       "      <td>NaN</td>\n",
       "      <td>NaN</td>\n",
       "      <td>1.0</td>\n",
       "      <td>3.0</td>\n",
       "      <td>1.0</td>\n",
       "      <td>3.0</td>\n",
       "      <td>0</td>\n",
       "    </tr>\n",
       "    <tr>\n",
       "      <th>14</th>\n",
       "      <td>Tr-15</td>\n",
       "      <td>31AUG2038</td>\n",
       "      <td>6YCHSQAJQ7W</td>\n",
       "      <td>NaN</td>\n",
       "      <td>100.00</td>\n",
       "      <td>NaN</td>\n",
       "      <td>NaN</td>\n",
       "      <td>NaN</td>\n",
       "      <td>NaN</td>\n",
       "      <td>NaN</td>\n",
       "      <td>...</td>\n",
       "      <td>NaN</td>\n",
       "      <td>0.00004</td>\n",
       "      <td>NaN</td>\n",
       "      <td>NaN</td>\n",
       "      <td>NaN</td>\n",
       "      <td>1.0</td>\n",
       "      <td>1.0</td>\n",
       "      <td>NaN</td>\n",
       "      <td>1.0</td>\n",
       "      <td>0</td>\n",
       "    </tr>\n",
       "    <tr>\n",
       "      <th>15</th>\n",
       "      <td>Tr-16</td>\n",
       "      <td>31OCT2038</td>\n",
       "      <td>6YB5SQPSU7T</td>\n",
       "      <td>NaN</td>\n",
       "      <td>657.30</td>\n",
       "      <td>NaN</td>\n",
       "      <td>NaN</td>\n",
       "      <td>NaN</td>\n",
       "      <td>NaN</td>\n",
       "      <td>NaN</td>\n",
       "      <td>...</td>\n",
       "      <td>NaN</td>\n",
       "      <td>NaN</td>\n",
       "      <td>NaN</td>\n",
       "      <td>NaN</td>\n",
       "      <td>NaN</td>\n",
       "      <td>NaN</td>\n",
       "      <td>NaN</td>\n",
       "      <td>2.0</td>\n",
       "      <td>1.0</td>\n",
       "      <td>0</td>\n",
       "    </tr>\n",
       "    <tr>\n",
       "      <th>16</th>\n",
       "      <td>Tr-17</td>\n",
       "      <td>31JAN2038</td>\n",
       "      <td>BYPBSCTQ4I</td>\n",
       "      <td>1288.48</td>\n",
       "      <td>431.31</td>\n",
       "      <td>NaN</td>\n",
       "      <td>NaN</td>\n",
       "      <td>NaN</td>\n",
       "      <td>NaN</td>\n",
       "      <td>NaN</td>\n",
       "      <td>...</td>\n",
       "      <td>0.0053</td>\n",
       "      <td>NaN</td>\n",
       "      <td>NaN</td>\n",
       "      <td>NaN</td>\n",
       "      <td>NaN</td>\n",
       "      <td>1.0</td>\n",
       "      <td>1.0</td>\n",
       "      <td>NaN</td>\n",
       "      <td>3.0</td>\n",
       "      <td>0</td>\n",
       "    </tr>\n",
       "    <tr>\n",
       "      <th>17</th>\n",
       "      <td>Tr-18</td>\n",
       "      <td>31JUN2039</td>\n",
       "      <td>6YHASQPDF65</td>\n",
       "      <td>285633.67</td>\n",
       "      <td>316.85</td>\n",
       "      <td>NaN</td>\n",
       "      <td>NaN</td>\n",
       "      <td>NaN</td>\n",
       "      <td>NaN</td>\n",
       "      <td>NaN</td>\n",
       "      <td>...</td>\n",
       "      <td>NaN</td>\n",
       "      <td>0.92178</td>\n",
       "      <td>2.3933</td>\n",
       "      <td>NaN</td>\n",
       "      <td>NaN</td>\n",
       "      <td>2.0</td>\n",
       "      <td>9.0</td>\n",
       "      <td>3.0</td>\n",
       "      <td>NaN</td>\n",
       "      <td>0</td>\n",
       "    </tr>\n",
       "    <tr>\n",
       "      <th>18</th>\n",
       "      <td>Tr-19</td>\n",
       "      <td>30DEC2038</td>\n",
       "      <td>7I4BSCPSF</td>\n",
       "      <td>NaN</td>\n",
       "      <td>180.60</td>\n",
       "      <td>NaN</td>\n",
       "      <td>NaN</td>\n",
       "      <td>NaN</td>\n",
       "      <td>NaN</td>\n",
       "      <td>NaN</td>\n",
       "      <td>...</td>\n",
       "      <td>NaN</td>\n",
       "      <td>NaN</td>\n",
       "      <td>NaN</td>\n",
       "      <td>NaN</td>\n",
       "      <td>NaN</td>\n",
       "      <td>2.0</td>\n",
       "      <td>1.0</td>\n",
       "      <td>NaN</td>\n",
       "      <td>NaN</td>\n",
       "      <td>0</td>\n",
       "    </tr>\n",
       "    <tr>\n",
       "      <th>19</th>\n",
       "      <td>Tr-20</td>\n",
       "      <td>29MAY2039</td>\n",
       "      <td>6IFBS9HQF</td>\n",
       "      <td>NaN</td>\n",
       "      <td>1572.07</td>\n",
       "      <td>NaN</td>\n",
       "      <td>NaN</td>\n",
       "      <td>NaN</td>\n",
       "      <td>NaN</td>\n",
       "      <td>NaN</td>\n",
       "      <td>...</td>\n",
       "      <td>NaN</td>\n",
       "      <td>NaN</td>\n",
       "      <td>NaN</td>\n",
       "      <td>NaN</td>\n",
       "      <td>NaN</td>\n",
       "      <td>1.0</td>\n",
       "      <td>NaN</td>\n",
       "      <td>NaN</td>\n",
       "      <td>1.0</td>\n",
       "      <td>0</td>\n",
       "    </tr>\n",
       "  </tbody>\n",
       "</table>\n",
       "<p>20 rows × 55 columns</p>\n",
       "</div>"
      ],
      "text/plain": [
       "      UID         V1           V2          V3       V4        V5  V6       V7  \\\n",
       "0    Tr-1  30SEP2038  61P4S1M3GET    10397.75      NaN       NaN NaN      NaN   \n",
       "1    Tr-2  31JAN2038  6NYVS1J3U7M         NaN   606.74       NaN NaN      NaN   \n",
       "2    Tr-3  31APR2038   BLFB1KMS48    87452.89   963.52       NaN NaN  13838.0   \n",
       "3    Tr-4  31NOV2038   MYGB1LCW8P         NaN   393.26  100000.0 NaN      NaN   \n",
       "4    Tr-5  31OCT2038  6UG5S1PQGE5     1100.00   497.20       NaN NaN      NaN   \n",
       "5    Tr-6  31JUN2038   7UFB1CTP1I    60456.00  1936.07       NaN NaN      NaN   \n",
       "6    Tr-7  31APR2038   56FB19KDG9     5194.84   112.36       NaN NaN      NaN   \n",
       "7    Tr-8  31NOV2038   5UBB1BA9R7         NaN   337.08     295.0 NaN      NaN   \n",
       "8    Tr-9  30SEP2038    68CB11P3Q         NaN   876.40       NaN NaN      NaN   \n",
       "9   Tr-10  30SEP2038    71BBS1MS4         NaN      NaN       NaN NaN      NaN   \n",
       "10  Tr-11  30JUL2038    9UYBSOYQM  2155390.00  5804.52       NaN NaN      NaN   \n",
       "11  Tr-12  28MAY2038   56FBS3PQQY         NaN  4870.25       NaN NaN      NaN   \n",
       "12  Tr-13  31MAR2038      7XCH5KC         NaN      NaN       NaN NaN      NaN   \n",
       "13  Tr-14  31JUN2038   6NHESQG9R8         NaN   476.96       NaN NaN      NaN   \n",
       "14  Tr-15  31AUG2038  6YCHSQAJQ7W         NaN   100.00       NaN NaN      NaN   \n",
       "15  Tr-16  31OCT2038  6YB5SQPSU7T         NaN   657.30       NaN NaN      NaN   \n",
       "16  Tr-17  31JAN2038   BYPBSCTQ4I     1288.48   431.31       NaN NaN      NaN   \n",
       "17  Tr-18  31JUN2039  6YHASQPDF65   285633.67   316.85       NaN NaN      NaN   \n",
       "18  Tr-19  30DEC2038    7I4BSCPSF         NaN   180.60       NaN NaN      NaN   \n",
       "19  Tr-20  29MAY2039    6IFBS9HQF         NaN  1572.07       NaN NaN      NaN   \n",
       "\n",
       "    V8   V9    ...        V45      V46     V47  V48      V49   V50   V51  \\\n",
       "0  NaN  NaN    ...        NaN  5.04055     NaN  NaN      NaN   6.0   9.0   \n",
       "1  NaN  NaN    ...        NaN      NaN     NaN  NaN      NaN   1.0   NaN   \n",
       "2  NaN  NaN    ...        NaN      NaN     NaN  NaN      NaN  10.0  10.0   \n",
       "3  NaN  NaN    ...        NaN      NaN     NaN  NaN      NaN   4.0   1.0   \n",
       "4  NaN  0.9    ...        NaN  0.00470     NaN  NaN  0.00007   2.0   3.0   \n",
       "5  NaN  NaN    ...        NaN      NaN     NaN  NaN      NaN   NaN   NaN   \n",
       "6  NaN  NaN    ...        NaN      NaN     NaN  NaN      NaN   1.0   1.0   \n",
       "7  NaN  NaN    ...        NaN      NaN     NaN  NaN      NaN   2.0   2.0   \n",
       "8  NaN  NaN    ...        NaN      NaN     NaN  NaN      NaN   1.0  10.0   \n",
       "9  NaN  NaN    ...        NaN      NaN     NaN  NaN      NaN   2.0   1.0   \n",
       "10 NaN  NaN    ...        NaN      NaN     NaN  NaN      NaN  10.0  16.0   \n",
       "11 NaN  NaN    ...        NaN      NaN     NaN  NaN      NaN  33.0   NaN   \n",
       "12 NaN  NaN    ...        NaN      NaN     NaN  NaN      NaN   NaN   NaN   \n",
       "13 NaN  NaN    ...        NaN      NaN     NaN  NaN      NaN   1.0   3.0   \n",
       "14 NaN  NaN    ...        NaN  0.00004     NaN  NaN      NaN   1.0   1.0   \n",
       "15 NaN  NaN    ...        NaN      NaN     NaN  NaN      NaN   NaN   NaN   \n",
       "16 NaN  NaN    ...     0.0053      NaN     NaN  NaN      NaN   1.0   1.0   \n",
       "17 NaN  NaN    ...        NaN  0.92178  2.3933  NaN      NaN   2.0   9.0   \n",
       "18 NaN  NaN    ...        NaN      NaN     NaN  NaN      NaN   2.0   1.0   \n",
       "19 NaN  NaN    ...        NaN      NaN     NaN  NaN      NaN   1.0   NaN   \n",
       "\n",
       "     V52   V53  bad_flag  \n",
       "0    3.0  10.0         0  \n",
       "1    NaN   NaN         0  \n",
       "2   20.0   1.0         0  \n",
       "3    NaN   2.0         0  \n",
       "4    1.0   2.0         0  \n",
       "5    NaN   NaN         0  \n",
       "6    NaN  20.0         0  \n",
       "7    NaN   2.0         0  \n",
       "8    NaN   NaN         0  \n",
       "9    NaN   1.0         0  \n",
       "10  35.0  17.0         0  \n",
       "11   NaN   4.0         0  \n",
       "12   NaN   NaN         0  \n",
       "13   1.0   3.0         0  \n",
       "14   NaN   1.0         0  \n",
       "15   2.0   1.0         0  \n",
       "16   NaN   3.0         0  \n",
       "17   3.0   NaN         0  \n",
       "18   NaN   NaN         0  \n",
       "19   NaN   1.0         0  \n",
       "\n",
       "[20 rows x 55 columns]"
      ]
     },
     "execution_count": 8,
     "metadata": {},
     "output_type": "execute_result"
    }
   ],
   "source": [
    "df_aggdata_train.head(20)"
   ]
  },
  {
   "cell_type": "code",
   "execution_count": 16,
   "metadata": {
    "collapsed": false
   },
   "outputs": [],
   "source": [
    "# Creating Data audit Report\n",
    "# Use a general function that returns multiple values\n",
    "def var_summary(x):\n",
    "    return pd.Series([x.count(), x.isna().sum(), x.sum(), x.mean(), x.median(),  x.std(), x.var(), x.min(), x.dropna().quantile(0.01), x.dropna().quantile(0.05),x.dropna().quantile(0.10),x.dropna().quantile(0.25),x.dropna().quantile(0.50),x.dropna().quantile(0.75), x.dropna().quantile(0.90),x.dropna().quantile(0.95), x.dropna().quantile(0.99),x.max()], \n",
    "                  index=['N', 'NMISS', 'SUM', 'MEAN','MEDIAN', 'STD', 'VAR', 'MIN', 'P1' , 'P5' ,'P10' ,'P25' ,'P50' ,'P75' ,'P90' ,'P95' ,'P99' ,'MAX'])\n"
   ]
  },
  {
   "cell_type": "code",
   "execution_count": 17,
   "metadata": {
    "collapsed": false
   },
   "outputs": [],
   "source": [
    "\n",
    "df_agg_summary=df_aggdata_train[cols_num].apply(lambda x: var_summary(x)).T"
   ]
  },
  {
   "cell_type": "code",
   "execution_count": 18,
   "metadata": {
    "collapsed": false
   },
   "outputs": [
    {
     "data": {
      "text/html": [
       "<div>\n",
       "<style scoped>\n",
       "    .dataframe tbody tr th:only-of-type {\n",
       "        vertical-align: middle;\n",
       "    }\n",
       "\n",
       "    .dataframe tbody tr th {\n",
       "        vertical-align: top;\n",
       "    }\n",
       "\n",
       "    .dataframe thead th {\n",
       "        text-align: right;\n",
       "    }\n",
       "</style>\n",
       "<table border=\"1\" class=\"dataframe\">\n",
       "  <thead>\n",
       "    <tr style=\"text-align: right;\">\n",
       "      <th></th>\n",
       "      <th>N</th>\n",
       "      <th>NMISS</th>\n",
       "      <th>SUM</th>\n",
       "      <th>MEAN</th>\n",
       "      <th>MEDIAN</th>\n",
       "      <th>STD</th>\n",
       "      <th>VAR</th>\n",
       "      <th>MIN</th>\n",
       "      <th>P1</th>\n",
       "      <th>P5</th>\n",
       "      <th>P10</th>\n",
       "      <th>P25</th>\n",
       "      <th>P50</th>\n",
       "      <th>P75</th>\n",
       "      <th>P90</th>\n",
       "      <th>P95</th>\n",
       "      <th>P99</th>\n",
       "      <th>MAX</th>\n",
       "    </tr>\n",
       "  </thead>\n",
       "  <tbody>\n",
       "    <tr>\n",
       "      <th>V3</th>\n",
       "      <td>10886.0</td>\n",
       "      <td>15889.0</td>\n",
       "      <td>2.270516e+09</td>\n",
       "      <td>2.085721e+05</td>\n",
       "      <td>42617.480000</td>\n",
       "      <td>1.823981e+06</td>\n",
       "      <td>3.326907e+12</td>\n",
       "      <td>0.01000</td>\n",
       "      <td>110.000000</td>\n",
       "      <td>889.647500</td>\n",
       "      <td>2173.000000</td>\n",
       "      <td>10000.000000</td>\n",
       "      <td>42617.480000</td>\n",
       "      <td>1.300000e+05</td>\n",
       "      <td>3.178397e+05</td>\n",
       "      <td>5.476890e+05</td>\n",
       "      <td>2.153817e+06</td>\n",
       "      <td>1.329516e+08</td>\n",
       "    </tr>\n",
       "    <tr>\n",
       "      <th>V4</th>\n",
       "      <td>21079.0</td>\n",
       "      <td>5696.0</td>\n",
       "      <td>3.403413e+08</td>\n",
       "      <td>1.614599e+04</td>\n",
       "      <td>680.970000</td>\n",
       "      <td>1.079490e+06</td>\n",
       "      <td>1.165298e+12</td>\n",
       "      <td>0.87000</td>\n",
       "      <td>5.700000</td>\n",
       "      <td>28.500000</td>\n",
       "      <td>44.960000</td>\n",
       "      <td>194.290000</td>\n",
       "      <td>680.970000</td>\n",
       "      <td>1.874340e+03</td>\n",
       "      <td>4.029788e+03</td>\n",
       "      <td>7.849251e+03</td>\n",
       "      <td>9.593053e+04</td>\n",
       "      <td>1.545023e+08</td>\n",
       "    </tr>\n",
       "    <tr>\n",
       "      <th>V5</th>\n",
       "      <td>755.0</td>\n",
       "      <td>26020.0</td>\n",
       "      <td>4.891654e+08</td>\n",
       "      <td>6.479012e+05</td>\n",
       "      <td>48994.000000</td>\n",
       "      <td>2.253789e+06</td>\n",
       "      <td>5.079566e+12</td>\n",
       "      <td>13.03000</td>\n",
       "      <td>50.904000</td>\n",
       "      <td>240.000000</td>\n",
       "      <td>500.000000</td>\n",
       "      <td>2677.500000</td>\n",
       "      <td>48994.000000</td>\n",
       "      <td>2.670515e+05</td>\n",
       "      <td>1.316129e+06</td>\n",
       "      <td>3.197897e+06</td>\n",
       "      <td>1.058950e+07</td>\n",
       "      <td>3.280601e+07</td>\n",
       "    </tr>\n",
       "    <tr>\n",
       "      <th>V6</th>\n",
       "      <td>1360.0</td>\n",
       "      <td>25415.0</td>\n",
       "      <td>5.649734e+08</td>\n",
       "      <td>4.154216e+05</td>\n",
       "      <td>17987.000000</td>\n",
       "      <td>1.825001e+06</td>\n",
       "      <td>3.330627e+12</td>\n",
       "      <td>1.00000</td>\n",
       "      <td>229.880000</td>\n",
       "      <td>470.000000</td>\n",
       "      <td>500.000000</td>\n",
       "      <td>3000.000000</td>\n",
       "      <td>17987.000000</td>\n",
       "      <td>1.205768e+05</td>\n",
       "      <td>6.483194e+05</td>\n",
       "      <td>1.746918e+06</td>\n",
       "      <td>1.014911e+07</td>\n",
       "      <td>2.538500e+07</td>\n",
       "    </tr>\n",
       "    <tr>\n",
       "      <th>V7</th>\n",
       "      <td>1940.0</td>\n",
       "      <td>24835.0</td>\n",
       "      <td>4.464344e+07</td>\n",
       "      <td>2.301208e+04</td>\n",
       "      <td>3148.500000</td>\n",
       "      <td>1.792111e+05</td>\n",
       "      <td>3.211663e+10</td>\n",
       "      <td>7.42000</td>\n",
       "      <td>58.170000</td>\n",
       "      <td>203.816000</td>\n",
       "      <td>334.790000</td>\n",
       "      <td>857.180000</td>\n",
       "      <td>3148.500000</td>\n",
       "      <td>1.260075e+04</td>\n",
       "      <td>3.746615e+04</td>\n",
       "      <td>7.016005e+04</td>\n",
       "      <td>2.085797e+05</td>\n",
       "      <td>6.686034e+06</td>\n",
       "    </tr>\n",
       "    <tr>\n",
       "      <th>V8</th>\n",
       "      <td>34.0</td>\n",
       "      <td>26741.0</td>\n",
       "      <td>3.144293e+07</td>\n",
       "      <td>9.247922e+05</td>\n",
       "      <td>50931.500000</td>\n",
       "      <td>2.437085e+06</td>\n",
       "      <td>5.939383e+12</td>\n",
       "      <td>739.00000</td>\n",
       "      <td>841.630000</td>\n",
       "      <td>1069.500000</td>\n",
       "      <td>3180.000000</td>\n",
       "      <td>8601.000000</td>\n",
       "      <td>50931.500000</td>\n",
       "      <td>3.039672e+05</td>\n",
       "      <td>2.692755e+06</td>\n",
       "      <td>4.474250e+06</td>\n",
       "      <td>1.036100e+07</td>\n",
       "      <td>1.282665e+07</td>\n",
       "    </tr>\n",
       "    <tr>\n",
       "      <th>V9</th>\n",
       "      <td>406.0</td>\n",
       "      <td>26369.0</td>\n",
       "      <td>3.362700e+07</td>\n",
       "      <td>8.282512e+04</td>\n",
       "      <td>2151.000000</td>\n",
       "      <td>4.212761e+05</td>\n",
       "      <td>1.774735e+11</td>\n",
       "      <td>0.90000</td>\n",
       "      <td>0.900000</td>\n",
       "      <td>1.065000</td>\n",
       "      <td>1.805000</td>\n",
       "      <td>6.172500</td>\n",
       "      <td>2151.000000</td>\n",
       "      <td>2.175025e+04</td>\n",
       "      <td>1.551710e+05</td>\n",
       "      <td>2.977532e+05</td>\n",
       "      <td>1.811141e+06</td>\n",
       "      <td>6.918710e+06</td>\n",
       "    </tr>\n",
       "    <tr>\n",
       "      <th>V10</th>\n",
       "      <td>1805.0</td>\n",
       "      <td>24970.0</td>\n",
       "      <td>1.088100e+09</td>\n",
       "      <td>6.028255e+05</td>\n",
       "      <td>51643.000000</td>\n",
       "      <td>3.306344e+06</td>\n",
       "      <td>1.093191e+13</td>\n",
       "      <td>0.01000</td>\n",
       "      <td>2.043600</td>\n",
       "      <td>140.122000</td>\n",
       "      <td>780.000000</td>\n",
       "      <td>7620.000000</td>\n",
       "      <td>51643.000000</td>\n",
       "      <td>2.544820e+05</td>\n",
       "      <td>1.008301e+06</td>\n",
       "      <td>2.174396e+06</td>\n",
       "      <td>8.926432e+06</td>\n",
       "      <td>7.732733e+07</td>\n",
       "    </tr>\n",
       "    <tr>\n",
       "      <th>V11</th>\n",
       "      <td>3351.0</td>\n",
       "      <td>23424.0</td>\n",
       "      <td>6.027180e+08</td>\n",
       "      <td>1.798621e+05</td>\n",
       "      <td>10900.000000</td>\n",
       "      <td>2.900429e+06</td>\n",
       "      <td>8.412490e+12</td>\n",
       "      <td>0.01000</td>\n",
       "      <td>500.000000</td>\n",
       "      <td>1000.000000</td>\n",
       "      <td>2000.000000</td>\n",
       "      <td>5000.000000</td>\n",
       "      <td>10900.000000</td>\n",
       "      <td>3.000000e+04</td>\n",
       "      <td>1.137990e+05</td>\n",
       "      <td>2.984460e+05</td>\n",
       "      <td>2.627446e+06</td>\n",
       "      <td>1.556410e+08</td>\n",
       "    </tr>\n",
       "    <tr>\n",
       "      <th>V12</th>\n",
       "      <td>932.0</td>\n",
       "      <td>25843.0</td>\n",
       "      <td>1.010584e+09</td>\n",
       "      <td>1.084318e+06</td>\n",
       "      <td>200000.000000</td>\n",
       "      <td>3.244636e+06</td>\n",
       "      <td>1.052766e+13</td>\n",
       "      <td>1.00000</td>\n",
       "      <td>36.550000</td>\n",
       "      <td>622.000000</td>\n",
       "      <td>8789.200000</td>\n",
       "      <td>49444.982500</td>\n",
       "      <td>200000.000000</td>\n",
       "      <td>8.500000e+05</td>\n",
       "      <td>2.597334e+06</td>\n",
       "      <td>4.222500e+06</td>\n",
       "      <td>1.237491e+07</td>\n",
       "      <td>5.000000e+07</td>\n",
       "    </tr>\n",
       "    <tr>\n",
       "      <th>V13</th>\n",
       "      <td>886.0</td>\n",
       "      <td>25889.0</td>\n",
       "      <td>1.078597e+09</td>\n",
       "      <td>1.217378e+06</td>\n",
       "      <td>138873.000000</td>\n",
       "      <td>1.704318e+07</td>\n",
       "      <td>2.904701e+14</td>\n",
       "      <td>570.00000</td>\n",
       "      <td>1000.000000</td>\n",
       "      <td>3000.000000</td>\n",
       "      <td>8218.000000</td>\n",
       "      <td>40000.000000</td>\n",
       "      <td>138873.000000</td>\n",
       "      <td>4.342265e+05</td>\n",
       "      <td>1.376500e+06</td>\n",
       "      <td>2.505456e+06</td>\n",
       "      <td>7.541250e+06</td>\n",
       "      <td>5.000000e+08</td>\n",
       "    </tr>\n",
       "    <tr>\n",
       "      <th>V14</th>\n",
       "      <td>0.0</td>\n",
       "      <td>26775.0</td>\n",
       "      <td>0.000000e+00</td>\n",
       "      <td>NaN</td>\n",
       "      <td>NaN</td>\n",
       "      <td>NaN</td>\n",
       "      <td>NaN</td>\n",
       "      <td>NaN</td>\n",
       "      <td>NaN</td>\n",
       "      <td>NaN</td>\n",
       "      <td>NaN</td>\n",
       "      <td>NaN</td>\n",
       "      <td>NaN</td>\n",
       "      <td>NaN</td>\n",
       "      <td>NaN</td>\n",
       "      <td>NaN</td>\n",
       "      <td>NaN</td>\n",
       "      <td>NaN</td>\n",
       "    </tr>\n",
       "    <tr>\n",
       "      <th>V15</th>\n",
       "      <td>836.0</td>\n",
       "      <td>25939.0</td>\n",
       "      <td>8.224839e+08</td>\n",
       "      <td>9.838324e+05</td>\n",
       "      <td>228454.500000</td>\n",
       "      <td>2.727134e+06</td>\n",
       "      <td>7.437258e+12</td>\n",
       "      <td>1000.00000</td>\n",
       "      <td>1000.000000</td>\n",
       "      <td>5000.000000</td>\n",
       "      <td>5000.000000</td>\n",
       "      <td>47858.750000</td>\n",
       "      <td>228454.500000</td>\n",
       "      <td>7.000000e+05</td>\n",
       "      <td>2.230000e+06</td>\n",
       "      <td>4.000000e+06</td>\n",
       "      <td>1.381750e+07</td>\n",
       "      <td>3.685000e+07</td>\n",
       "    </tr>\n",
       "    <tr>\n",
       "      <th>V16</th>\n",
       "      <td>24308.0</td>\n",
       "      <td>2467.0</td>\n",
       "      <td>1.024640e+11</td>\n",
       "      <td>4.215239e+06</td>\n",
       "      <td>756074.140000</td>\n",
       "      <td>3.253536e+07</td>\n",
       "      <td>1.058549e+15</td>\n",
       "      <td>0.01000</td>\n",
       "      <td>924.429900</td>\n",
       "      <td>14389.250000</td>\n",
       "      <td>46044.354000</td>\n",
       "      <td>194987.597500</td>\n",
       "      <td>756074.140000</td>\n",
       "      <td>2.400602e+06</td>\n",
       "      <td>7.354334e+06</td>\n",
       "      <td>1.477134e+07</td>\n",
       "      <td>5.558906e+07</td>\n",
       "      <td>3.817596e+09</td>\n",
       "    </tr>\n",
       "    <tr>\n",
       "      <th>V17</th>\n",
       "      <td>24012.0</td>\n",
       "      <td>2763.0</td>\n",
       "      <td>9.784762e+10</td>\n",
       "      <td>4.074947e+06</td>\n",
       "      <td>600468.680000</td>\n",
       "      <td>3.251934e+07</td>\n",
       "      <td>1.057508e+15</td>\n",
       "      <td>0.09000</td>\n",
       "      <td>845.190400</td>\n",
       "      <td>11354.752500</td>\n",
       "      <td>36800.612000</td>\n",
       "      <td>154000.000000</td>\n",
       "      <td>600468.680000</td>\n",
       "      <td>2.134287e+06</td>\n",
       "      <td>7.134109e+06</td>\n",
       "      <td>1.450548e+07</td>\n",
       "      <td>5.458477e+07</td>\n",
       "      <td>3.796014e+09</td>\n",
       "    </tr>\n",
       "    <tr>\n",
       "      <th>V18</th>\n",
       "      <td>195.0</td>\n",
       "      <td>26580.0</td>\n",
       "      <td>8.690446e+06</td>\n",
       "      <td>4.456639e+04</td>\n",
       "      <td>7250.000000</td>\n",
       "      <td>1.214384e+05</td>\n",
       "      <td>1.474728e+10</td>\n",
       "      <td>1.00000</td>\n",
       "      <td>1.000000</td>\n",
       "      <td>1.000000</td>\n",
       "      <td>4.200000</td>\n",
       "      <td>200.000000</td>\n",
       "      <td>7250.000000</td>\n",
       "      <td>2.585200e+04</td>\n",
       "      <td>1.071430e+05</td>\n",
       "      <td>2.229000e+05</td>\n",
       "      <td>6.988324e+05</td>\n",
       "      <td>1.029000e+06</td>\n",
       "    </tr>\n",
       "    <tr>\n",
       "      <th>V19</th>\n",
       "      <td>26471.0</td>\n",
       "      <td>304.0</td>\n",
       "      <td>1.223030e+05</td>\n",
       "      <td>4.620264e+00</td>\n",
       "      <td>0.000000</td>\n",
       "      <td>1.340761e+01</td>\n",
       "      <td>1.797639e+02</td>\n",
       "      <td>0.00000</td>\n",
       "      <td>0.000000</td>\n",
       "      <td>0.000000</td>\n",
       "      <td>0.000000</td>\n",
       "      <td>0.000000</td>\n",
       "      <td>0.000000</td>\n",
       "      <td>5.000000e+00</td>\n",
       "      <td>1.300000e+01</td>\n",
       "      <td>2.400000e+01</td>\n",
       "      <td>5.330000e+01</td>\n",
       "      <td>8.860000e+02</td>\n",
       "    </tr>\n",
       "    <tr>\n",
       "      <th>V20</th>\n",
       "      <td>26471.0</td>\n",
       "      <td>304.0</td>\n",
       "      <td>2.277480e+05</td>\n",
       "      <td>8.603679e+00</td>\n",
       "      <td>4.000000</td>\n",
       "      <td>1.595029e+01</td>\n",
       "      <td>2.544116e+02</td>\n",
       "      <td>0.00000</td>\n",
       "      <td>0.000000</td>\n",
       "      <td>0.000000</td>\n",
       "      <td>0.000000</td>\n",
       "      <td>1.000000</td>\n",
       "      <td>4.000000</td>\n",
       "      <td>1.000000e+01</td>\n",
       "      <td>2.100000e+01</td>\n",
       "      <td>3.300000e+01</td>\n",
       "      <td>7.500000e+01</td>\n",
       "      <td>4.180000e+02</td>\n",
       "    </tr>\n",
       "    <tr>\n",
       "      <th>V21</th>\n",
       "      <td>26471.0</td>\n",
       "      <td>304.0</td>\n",
       "      <td>4.368000e+03</td>\n",
       "      <td>1.650108e-01</td>\n",
       "      <td>0.000000</td>\n",
       "      <td>2.829931e+00</td>\n",
       "      <td>8.008509e+00</td>\n",
       "      <td>0.00000</td>\n",
       "      <td>0.000000</td>\n",
       "      <td>0.000000</td>\n",
       "      <td>0.000000</td>\n",
       "      <td>0.000000</td>\n",
       "      <td>0.000000</td>\n",
       "      <td>0.000000e+00</td>\n",
       "      <td>0.000000e+00</td>\n",
       "      <td>0.000000e+00</td>\n",
       "      <td>3.000000e+00</td>\n",
       "      <td>1.950000e+02</td>\n",
       "    </tr>\n",
       "    <tr>\n",
       "      <th>V22</th>\n",
       "      <td>26471.0</td>\n",
       "      <td>304.0</td>\n",
       "      <td>5.766000e+03</td>\n",
       "      <td>2.178233e-01</td>\n",
       "      <td>0.000000</td>\n",
       "      <td>2.904812e+00</td>\n",
       "      <td>8.437931e+00</td>\n",
       "      <td>0.00000</td>\n",
       "      <td>0.000000</td>\n",
       "      <td>0.000000</td>\n",
       "      <td>0.000000</td>\n",
       "      <td>0.000000</td>\n",
       "      <td>0.000000</td>\n",
       "      <td>0.000000e+00</td>\n",
       "      <td>0.000000e+00</td>\n",
       "      <td>1.000000e+00</td>\n",
       "      <td>4.000000e+00</td>\n",
       "      <td>2.630000e+02</td>\n",
       "    </tr>\n",
       "    <tr>\n",
       "      <th>V23</th>\n",
       "      <td>26471.0</td>\n",
       "      <td>304.0</td>\n",
       "      <td>9.868000e+03</td>\n",
       "      <td>3.727853e-01</td>\n",
       "      <td>0.000000</td>\n",
       "      <td>2.843157e+00</td>\n",
       "      <td>8.083542e+00</td>\n",
       "      <td>0.00000</td>\n",
       "      <td>0.000000</td>\n",
       "      <td>0.000000</td>\n",
       "      <td>0.000000</td>\n",
       "      <td>0.000000</td>\n",
       "      <td>0.000000</td>\n",
       "      <td>0.000000e+00</td>\n",
       "      <td>0.000000e+00</td>\n",
       "      <td>1.000000e+00</td>\n",
       "      <td>9.000000e+00</td>\n",
       "      <td>1.910000e+02</td>\n",
       "    </tr>\n",
       "    <tr>\n",
       "      <th>V24</th>\n",
       "      <td>26471.0</td>\n",
       "      <td>304.0</td>\n",
       "      <td>1.060000e+02</td>\n",
       "      <td>4.004382e-03</td>\n",
       "      <td>0.000000</td>\n",
       "      <td>2.151756e-01</td>\n",
       "      <td>4.630055e-02</td>\n",
       "      <td>0.00000</td>\n",
       "      <td>0.000000</td>\n",
       "      <td>0.000000</td>\n",
       "      <td>0.000000</td>\n",
       "      <td>0.000000</td>\n",
       "      <td>0.000000</td>\n",
       "      <td>0.000000e+00</td>\n",
       "      <td>0.000000e+00</td>\n",
       "      <td>0.000000e+00</td>\n",
       "      <td>0.000000e+00</td>\n",
       "      <td>2.400000e+01</td>\n",
       "    </tr>\n",
       "    <tr>\n",
       "      <th>V25</th>\n",
       "      <td>26471.0</td>\n",
       "      <td>304.0</td>\n",
       "      <td>1.030000e+03</td>\n",
       "      <td>3.891051e-02</td>\n",
       "      <td>0.000000</td>\n",
       "      <td>9.184324e-01</td>\n",
       "      <td>8.435180e-01</td>\n",
       "      <td>0.00000</td>\n",
       "      <td>0.000000</td>\n",
       "      <td>0.000000</td>\n",
       "      <td>0.000000</td>\n",
       "      <td>0.000000</td>\n",
       "      <td>0.000000</td>\n",
       "      <td>0.000000e+00</td>\n",
       "      <td>0.000000e+00</td>\n",
       "      <td>0.000000e+00</td>\n",
       "      <td>1.000000e+00</td>\n",
       "      <td>1.130000e+02</td>\n",
       "    </tr>\n",
       "    <tr>\n",
       "      <th>V26</th>\n",
       "      <td>26471.0</td>\n",
       "      <td>304.0</td>\n",
       "      <td>9.068000e+03</td>\n",
       "      <td>3.425636e-01</td>\n",
       "      <td>0.000000</td>\n",
       "      <td>3.040102e+00</td>\n",
       "      <td>9.242223e+00</td>\n",
       "      <td>0.00000</td>\n",
       "      <td>0.000000</td>\n",
       "      <td>0.000000</td>\n",
       "      <td>0.000000</td>\n",
       "      <td>0.000000</td>\n",
       "      <td>0.000000</td>\n",
       "      <td>0.000000e+00</td>\n",
       "      <td>0.000000e+00</td>\n",
       "      <td>1.000000e+00</td>\n",
       "      <td>8.000000e+00</td>\n",
       "      <td>1.750000e+02</td>\n",
       "    </tr>\n",
       "    <tr>\n",
       "      <th>V27</th>\n",
       "      <td>26471.0</td>\n",
       "      <td>304.0</td>\n",
       "      <td>2.288700e+04</td>\n",
       "      <td>8.646066e-01</td>\n",
       "      <td>0.000000</td>\n",
       "      <td>4.124483e+00</td>\n",
       "      <td>1.701136e+01</td>\n",
       "      <td>0.00000</td>\n",
       "      <td>0.000000</td>\n",
       "      <td>0.000000</td>\n",
       "      <td>0.000000</td>\n",
       "      <td>0.000000</td>\n",
       "      <td>0.000000</td>\n",
       "      <td>0.000000e+00</td>\n",
       "      <td>1.000000e+00</td>\n",
       "      <td>6.000000e+00</td>\n",
       "      <td>1.700000e+01</td>\n",
       "      <td>2.950000e+02</td>\n",
       "    </tr>\n",
       "    <tr>\n",
       "      <th>V28</th>\n",
       "      <td>26471.0</td>\n",
       "      <td>304.0</td>\n",
       "      <td>3.063000e+03</td>\n",
       "      <td>1.157115e-01</td>\n",
       "      <td>0.000000</td>\n",
       "      <td>1.216412e+00</td>\n",
       "      <td>1.479659e+00</td>\n",
       "      <td>0.00000</td>\n",
       "      <td>0.000000</td>\n",
       "      <td>0.000000</td>\n",
       "      <td>0.000000</td>\n",
       "      <td>0.000000</td>\n",
       "      <td>0.000000</td>\n",
       "      <td>0.000000e+00</td>\n",
       "      <td>0.000000e+00</td>\n",
       "      <td>0.000000e+00</td>\n",
       "      <td>3.000000e+00</td>\n",
       "      <td>7.600000e+01</td>\n",
       "    </tr>\n",
       "    <tr>\n",
       "      <th>V29</th>\n",
       "      <td>26471.0</td>\n",
       "      <td>304.0</td>\n",
       "      <td>3.340000e+03</td>\n",
       "      <td>1.261758e-01</td>\n",
       "      <td>0.000000</td>\n",
       "      <td>1.086347e+00</td>\n",
       "      <td>1.180150e+00</td>\n",
       "      <td>0.00000</td>\n",
       "      <td>0.000000</td>\n",
       "      <td>0.000000</td>\n",
       "      <td>0.000000</td>\n",
       "      <td>0.000000</td>\n",
       "      <td>0.000000</td>\n",
       "      <td>0.000000e+00</td>\n",
       "      <td>0.000000e+00</td>\n",
       "      <td>0.000000e+00</td>\n",
       "      <td>5.000000e+00</td>\n",
       "      <td>4.600000e+01</td>\n",
       "    </tr>\n",
       "    <tr>\n",
       "      <th>V30</th>\n",
       "      <td>26471.0</td>\n",
       "      <td>304.0</td>\n",
       "      <td>0.000000e+00</td>\n",
       "      <td>0.000000e+00</td>\n",
       "      <td>0.000000</td>\n",
       "      <td>0.000000e+00</td>\n",
       "      <td>0.000000e+00</td>\n",
       "      <td>0.00000</td>\n",
       "      <td>0.000000</td>\n",
       "      <td>0.000000</td>\n",
       "      <td>0.000000</td>\n",
       "      <td>0.000000</td>\n",
       "      <td>0.000000</td>\n",
       "      <td>0.000000e+00</td>\n",
       "      <td>0.000000e+00</td>\n",
       "      <td>0.000000e+00</td>\n",
       "      <td>0.000000e+00</td>\n",
       "      <td>0.000000e+00</td>\n",
       "    </tr>\n",
       "    <tr>\n",
       "      <th>V31</th>\n",
       "      <td>26471.0</td>\n",
       "      <td>304.0</td>\n",
       "      <td>2.083000e+03</td>\n",
       "      <td>7.868989e-02</td>\n",
       "      <td>0.000000</td>\n",
       "      <td>7.606960e-01</td>\n",
       "      <td>5.786584e-01</td>\n",
       "      <td>0.00000</td>\n",
       "      <td>0.000000</td>\n",
       "      <td>0.000000</td>\n",
       "      <td>0.000000</td>\n",
       "      <td>0.000000</td>\n",
       "      <td>0.000000</td>\n",
       "      <td>0.000000e+00</td>\n",
       "      <td>0.000000e+00</td>\n",
       "      <td>0.000000e+00</td>\n",
       "      <td>2.000000e+00</td>\n",
       "      <td>5.500000e+01</td>\n",
       "    </tr>\n",
       "    <tr>\n",
       "      <th>V32</th>\n",
       "      <td>26471.0</td>\n",
       "      <td>304.0</td>\n",
       "      <td>8.963150e+05</td>\n",
       "      <td>3.386026e+01</td>\n",
       "      <td>13.000000</td>\n",
       "      <td>1.065084e+02</td>\n",
       "      <td>1.134404e+04</td>\n",
       "      <td>0.00000</td>\n",
       "      <td>0.000000</td>\n",
       "      <td>0.000000</td>\n",
       "      <td>1.000000</td>\n",
       "      <td>5.000000</td>\n",
       "      <td>13.000000</td>\n",
       "      <td>2.800000e+01</td>\n",
       "      <td>6.500000e+01</td>\n",
       "      <td>1.235000e+02</td>\n",
       "      <td>3.993000e+02</td>\n",
       "      <td>6.412000e+03</td>\n",
       "    </tr>\n",
       "    <tr>\n",
       "      <th>V33</th>\n",
       "      <td>26471.0</td>\n",
       "      <td>304.0</td>\n",
       "      <td>1.311517e+06</td>\n",
       "      <td>4.954543e+01</td>\n",
       "      <td>20.000000</td>\n",
       "      <td>2.100594e+02</td>\n",
       "      <td>4.412494e+04</td>\n",
       "      <td>0.00000</td>\n",
       "      <td>0.000000</td>\n",
       "      <td>0.000000</td>\n",
       "      <td>1.000000</td>\n",
       "      <td>6.000000</td>\n",
       "      <td>20.000000</td>\n",
       "      <td>4.900000e+01</td>\n",
       "      <td>1.080000e+02</td>\n",
       "      <td>1.770000e+02</td>\n",
       "      <td>4.346000e+02</td>\n",
       "      <td>1.989300e+04</td>\n",
       "    </tr>\n",
       "    <tr>\n",
       "      <th>V34</th>\n",
       "      <td>26471.0</td>\n",
       "      <td>304.0</td>\n",
       "      <td>5.390000e+02</td>\n",
       "      <td>2.036191e-02</td>\n",
       "      <td>0.000000</td>\n",
       "      <td>6.313802e-01</td>\n",
       "      <td>3.986409e-01</td>\n",
       "      <td>0.00000</td>\n",
       "      <td>0.000000</td>\n",
       "      <td>0.000000</td>\n",
       "      <td>0.000000</td>\n",
       "      <td>0.000000</td>\n",
       "      <td>0.000000</td>\n",
       "      <td>0.000000e+00</td>\n",
       "      <td>0.000000e+00</td>\n",
       "      <td>0.000000e+00</td>\n",
       "      <td>0.000000e+00</td>\n",
       "      <td>9.000000e+01</td>\n",
       "    </tr>\n",
       "    <tr>\n",
       "      <th>V35</th>\n",
       "      <td>707.0</td>\n",
       "      <td>26068.0</td>\n",
       "      <td>3.128724e+08</td>\n",
       "      <td>4.425353e+05</td>\n",
       "      <td>1495.000000</td>\n",
       "      <td>3.494768e+06</td>\n",
       "      <td>1.221340e+13</td>\n",
       "      <td>1.00000</td>\n",
       "      <td>1.483600</td>\n",
       "      <td>20.000000</td>\n",
       "      <td>147.600000</td>\n",
       "      <td>490.000000</td>\n",
       "      <td>1495.000000</td>\n",
       "      <td>8.575230e+03</td>\n",
       "      <td>5.849754e+04</td>\n",
       "      <td>5.907355e+05</td>\n",
       "      <td>9.947030e+06</td>\n",
       "      <td>5.750812e+07</td>\n",
       "    </tr>\n",
       "    <tr>\n",
       "      <th>V36</th>\n",
       "      <td>302.0</td>\n",
       "      <td>26473.0</td>\n",
       "      <td>4.386000e+07</td>\n",
       "      <td>1.452318e+05</td>\n",
       "      <td>14968.500000</td>\n",
       "      <td>6.032748e+05</td>\n",
       "      <td>3.639405e+11</td>\n",
       "      <td>1.20000</td>\n",
       "      <td>1.509000</td>\n",
       "      <td>7.530000</td>\n",
       "      <td>30.000000</td>\n",
       "      <td>348.505000</td>\n",
       "      <td>14968.500000</td>\n",
       "      <td>9.448775e+04</td>\n",
       "      <td>3.578297e+05</td>\n",
       "      <td>5.533725e+05</td>\n",
       "      <td>1.928663e+06</td>\n",
       "      <td>9.428473e+06</td>\n",
       "    </tr>\n",
       "    <tr>\n",
       "      <th>V37</th>\n",
       "      <td>5096.0</td>\n",
       "      <td>21679.0</td>\n",
       "      <td>2.230590e+09</td>\n",
       "      <td>4.377138e+05</td>\n",
       "      <td>20215.500000</td>\n",
       "      <td>2.388557e+06</td>\n",
       "      <td>5.705204e+12</td>\n",
       "      <td>0.00000</td>\n",
       "      <td>5.810000</td>\n",
       "      <td>30.000000</td>\n",
       "      <td>56.180000</td>\n",
       "      <td>367.465000</td>\n",
       "      <td>20215.500000</td>\n",
       "      <td>2.006010e+05</td>\n",
       "      <td>8.658601e+05</td>\n",
       "      <td>1.762843e+06</td>\n",
       "      <td>6.543559e+06</td>\n",
       "      <td>8.514432e+07</td>\n",
       "    </tr>\n",
       "    <tr>\n",
       "      <th>V38</th>\n",
       "      <td>26471.0</td>\n",
       "      <td>304.0</td>\n",
       "      <td>8.066000e+03</td>\n",
       "      <td>3.047108e-01</td>\n",
       "      <td>0.000000</td>\n",
       "      <td>7.015715e+00</td>\n",
       "      <td>4.922026e+01</td>\n",
       "      <td>0.00000</td>\n",
       "      <td>0.000000</td>\n",
       "      <td>0.000000</td>\n",
       "      <td>0.000000</td>\n",
       "      <td>0.000000</td>\n",
       "      <td>0.000000</td>\n",
       "      <td>0.000000e+00</td>\n",
       "      <td>0.000000e+00</td>\n",
       "      <td>0.000000e+00</td>\n",
       "      <td>2.000000e+00</td>\n",
       "      <td>3.900000e+02</td>\n",
       "    </tr>\n",
       "    <tr>\n",
       "      <th>V39</th>\n",
       "      <td>26471.0</td>\n",
       "      <td>304.0</td>\n",
       "      <td>7.960000e+02</td>\n",
       "      <td>3.007064e-02</td>\n",
       "      <td>0.000000</td>\n",
       "      <td>7.882319e-01</td>\n",
       "      <td>6.213095e-01</td>\n",
       "      <td>0.00000</td>\n",
       "      <td>0.000000</td>\n",
       "      <td>0.000000</td>\n",
       "      <td>0.000000</td>\n",
       "      <td>0.000000</td>\n",
       "      <td>0.000000</td>\n",
       "      <td>0.000000e+00</td>\n",
       "      <td>0.000000e+00</td>\n",
       "      <td>0.000000e+00</td>\n",
       "      <td>1.000000e+00</td>\n",
       "      <td>9.100000e+01</td>\n",
       "    </tr>\n",
       "    <tr>\n",
       "      <th>V40</th>\n",
       "      <td>26471.0</td>\n",
       "      <td>304.0</td>\n",
       "      <td>4.347000e+04</td>\n",
       "      <td>1.642174e+00</td>\n",
       "      <td>0.000000</td>\n",
       "      <td>9.720349e+00</td>\n",
       "      <td>9.448518e+01</td>\n",
       "      <td>0.00000</td>\n",
       "      <td>0.000000</td>\n",
       "      <td>0.000000</td>\n",
       "      <td>0.000000</td>\n",
       "      <td>0.000000</td>\n",
       "      <td>0.000000</td>\n",
       "      <td>0.000000e+00</td>\n",
       "      <td>2.000000e+00</td>\n",
       "      <td>7.000000e+00</td>\n",
       "      <td>3.400000e+01</td>\n",
       "      <td>3.990000e+02</td>\n",
       "    </tr>\n",
       "    <tr>\n",
       "      <th>V41</th>\n",
       "      <td>569.0</td>\n",
       "      <td>26206.0</td>\n",
       "      <td>2.094673e+04</td>\n",
       "      <td>3.681323e+01</td>\n",
       "      <td>1.364700</td>\n",
       "      <td>2.455716e+02</td>\n",
       "      <td>6.030539e+04</td>\n",
       "      <td>0.00003</td>\n",
       "      <td>0.000255</td>\n",
       "      <td>0.006966</td>\n",
       "      <td>0.039762</td>\n",
       "      <td>0.333330</td>\n",
       "      <td>1.364700</td>\n",
       "      <td>6.592620e+00</td>\n",
       "      <td>2.700766e+01</td>\n",
       "      <td>9.553355e+01</td>\n",
       "      <td>6.365624e+02</td>\n",
       "      <td>4.761970e+03</td>\n",
       "    </tr>\n",
       "    <tr>\n",
       "      <th>V42</th>\n",
       "      <td>280.0</td>\n",
       "      <td>26495.0</td>\n",
       "      <td>1.259426e+04</td>\n",
       "      <td>4.497950e+01</td>\n",
       "      <td>0.834390</td>\n",
       "      <td>3.240678e+02</td>\n",
       "      <td>1.050200e+05</td>\n",
       "      <td>0.00013</td>\n",
       "      <td>0.000997</td>\n",
       "      <td>0.007503</td>\n",
       "      <td>0.034544</td>\n",
       "      <td>0.228180</td>\n",
       "      <td>0.834390</td>\n",
       "      <td>3.550070e+00</td>\n",
       "      <td>2.486255e+01</td>\n",
       "      <td>8.717303e+01</td>\n",
       "      <td>9.167725e+02</td>\n",
       "      <td>5.012544e+03</td>\n",
       "    </tr>\n",
       "    <tr>\n",
       "      <th>V43</th>\n",
       "      <td>21079.0</td>\n",
       "      <td>5696.0</td>\n",
       "      <td>1.575355e+05</td>\n",
       "      <td>7.473577e+00</td>\n",
       "      <td>0.090830</td>\n",
       "      <td>2.472142e+01</td>\n",
       "      <td>6.111484e+02</td>\n",
       "      <td>0.00000</td>\n",
       "      <td>0.000380</td>\n",
       "      <td>0.001829</td>\n",
       "      <td>0.004300</td>\n",
       "      <td>0.018375</td>\n",
       "      <td>0.090830</td>\n",
       "      <td>5.088750e-01</td>\n",
       "      <td>5.860430e+00</td>\n",
       "      <td>1.000000e+02</td>\n",
       "      <td>1.000000e+02</td>\n",
       "      <td>1.000000e+02</td>\n",
       "    </tr>\n",
       "    <tr>\n",
       "      <th>V44</th>\n",
       "      <td>1940.0</td>\n",
       "      <td>24835.0</td>\n",
       "      <td>2.021282e+03</td>\n",
       "      <td>1.041898e+00</td>\n",
       "      <td>0.210370</td>\n",
       "      <td>3.616032e+00</td>\n",
       "      <td>1.307569e+01</td>\n",
       "      <td>0.00005</td>\n",
       "      <td>0.001626</td>\n",
       "      <td>0.007475</td>\n",
       "      <td>0.015765</td>\n",
       "      <td>0.052995</td>\n",
       "      <td>0.210370</td>\n",
       "      <td>7.365125e-01</td>\n",
       "      <td>2.198598e+00</td>\n",
       "      <td>4.232165e+00</td>\n",
       "      <td>1.287075e+01</td>\n",
       "      <td>7.349647e+01</td>\n",
       "    </tr>\n",
       "    <tr>\n",
       "      <th>V45</th>\n",
       "      <td>707.0</td>\n",
       "      <td>26068.0</td>\n",
       "      <td>2.247989e+03</td>\n",
       "      <td>3.179617e+00</td>\n",
       "      <td>0.145060</td>\n",
       "      <td>1.124849e+01</td>\n",
       "      <td>1.265286e+02</td>\n",
       "      <td>0.00000</td>\n",
       "      <td>0.000030</td>\n",
       "      <td>0.000916</td>\n",
       "      <td>0.006320</td>\n",
       "      <td>0.036855</td>\n",
       "      <td>0.145060</td>\n",
       "      <td>7.033950e-01</td>\n",
       "      <td>4.747528e+00</td>\n",
       "      <td>1.734563e+01</td>\n",
       "      <td>6.398066e+01</td>\n",
       "      <td>9.825671e+01</td>\n",
       "    </tr>\n",
       "    <tr>\n",
       "      <th>V46</th>\n",
       "      <td>5096.0</td>\n",
       "      <td>21679.0</td>\n",
       "      <td>2.942001e+04</td>\n",
       "      <td>5.773157e+00</td>\n",
       "      <td>0.610545</td>\n",
       "      <td>1.394405e+01</td>\n",
       "      <td>1.944365e+02</td>\n",
       "      <td>0.00000</td>\n",
       "      <td>0.000070</td>\n",
       "      <td>0.001048</td>\n",
       "      <td>0.003420</td>\n",
       "      <td>0.024362</td>\n",
       "      <td>0.610545</td>\n",
       "      <td>4.608212e+00</td>\n",
       "      <td>1.449667e+01</td>\n",
       "      <td>3.016129e+01</td>\n",
       "      <td>7.936205e+01</td>\n",
       "      <td>1.000000e+02</td>\n",
       "    </tr>\n",
       "    <tr>\n",
       "      <th>V47</th>\n",
       "      <td>302.0</td>\n",
       "      <td>26473.0</td>\n",
       "      <td>8.529865e+02</td>\n",
       "      <td>2.824458e+00</td>\n",
       "      <td>0.299835</td>\n",
       "      <td>7.039321e+00</td>\n",
       "      <td>4.955204e+01</td>\n",
       "      <td>0.00011</td>\n",
       "      <td>0.000160</td>\n",
       "      <td>0.000544</td>\n",
       "      <td>0.002185</td>\n",
       "      <td>0.021090</td>\n",
       "      <td>0.299835</td>\n",
       "      <td>2.206612e+00</td>\n",
       "      <td>6.948665e+00</td>\n",
       "      <td>1.448359e+01</td>\n",
       "      <td>3.203228e+01</td>\n",
       "      <td>5.779336e+01</td>\n",
       "    </tr>\n",
       "    <tr>\n",
       "      <th>V48</th>\n",
       "      <td>34.0</td>\n",
       "      <td>26741.0</td>\n",
       "      <td>4.047092e+02</td>\n",
       "      <td>1.190321e+01</td>\n",
       "      <td>2.517895</td>\n",
       "      <td>1.963397e+01</td>\n",
       "      <td>3.854929e+02</td>\n",
       "      <td>0.00334</td>\n",
       "      <td>0.008712</td>\n",
       "      <td>0.040661</td>\n",
       "      <td>0.090844</td>\n",
       "      <td>0.368795</td>\n",
       "      <td>2.517895</td>\n",
       "      <td>1.341822e+01</td>\n",
       "      <td>4.465668e+01</td>\n",
       "      <td>5.464291e+01</td>\n",
       "      <td>6.919150e+01</td>\n",
       "      <td>7.472041e+01</td>\n",
       "    </tr>\n",
       "    <tr>\n",
       "      <th>V49</th>\n",
       "      <td>406.0</td>\n",
       "      <td>26369.0</td>\n",
       "      <td>6.569151e+02</td>\n",
       "      <td>1.618018e+00</td>\n",
       "      <td>0.047180</td>\n",
       "      <td>5.533825e+00</td>\n",
       "      <td>3.062322e+01</td>\n",
       "      <td>0.00000</td>\n",
       "      <td>0.000010</td>\n",
       "      <td>0.000030</td>\n",
       "      <td>0.000060</td>\n",
       "      <td>0.000275</td>\n",
       "      <td>0.047180</td>\n",
       "      <td>6.496575e-01</td>\n",
       "      <td>3.648480e+00</td>\n",
       "      <td>6.594480e+00</td>\n",
       "      <td>2.779209e+01</td>\n",
       "      <td>6.163344e+01</td>\n",
       "    </tr>\n",
       "    <tr>\n",
       "      <th>V50</th>\n",
       "      <td>12936.0</td>\n",
       "      <td>13839.0</td>\n",
       "      <td>7.981600e+04</td>\n",
       "      <td>6.170068e+00</td>\n",
       "      <td>2.000000</td>\n",
       "      <td>2.142772e+01</td>\n",
       "      <td>4.591473e+02</td>\n",
       "      <td>1.00000</td>\n",
       "      <td>1.000000</td>\n",
       "      <td>1.000000</td>\n",
       "      <td>1.000000</td>\n",
       "      <td>1.000000</td>\n",
       "      <td>2.000000</td>\n",
       "      <td>6.000000e+00</td>\n",
       "      <td>1.350000e+01</td>\n",
       "      <td>2.200000e+01</td>\n",
       "      <td>5.600000e+01</td>\n",
       "      <td>1.400000e+03</td>\n",
       "    </tr>\n",
       "    <tr>\n",
       "      <th>V51</th>\n",
       "      <td>14685.0</td>\n",
       "      <td>12090.0</td>\n",
       "      <td>1.099370e+05</td>\n",
       "      <td>7.486347e+00</td>\n",
       "      <td>2.000000</td>\n",
       "      <td>3.000912e+01</td>\n",
       "      <td>9.005473e+02</td>\n",
       "      <td>1.00000</td>\n",
       "      <td>1.000000</td>\n",
       "      <td>1.000000</td>\n",
       "      <td>1.000000</td>\n",
       "      <td>1.000000</td>\n",
       "      <td>2.000000</td>\n",
       "      <td>6.000000e+00</td>\n",
       "      <td>1.400000e+01</td>\n",
       "      <td>2.400000e+01</td>\n",
       "      <td>7.700000e+01</td>\n",
       "      <td>1.400000e+03</td>\n",
       "    </tr>\n",
       "    <tr>\n",
       "      <th>V52</th>\n",
       "      <td>10352.0</td>\n",
       "      <td>16423.0</td>\n",
       "      <td>9.222000e+04</td>\n",
       "      <td>8.908423e+00</td>\n",
       "      <td>3.000000</td>\n",
       "      <td>1.974083e+01</td>\n",
       "      <td>3.897004e+02</td>\n",
       "      <td>1.00000</td>\n",
       "      <td>1.000000</td>\n",
       "      <td>1.000000</td>\n",
       "      <td>1.000000</td>\n",
       "      <td>1.000000</td>\n",
       "      <td>3.000000</td>\n",
       "      <td>1.000000e+01</td>\n",
       "      <td>1.900000e+01</td>\n",
       "      <td>3.200000e+01</td>\n",
       "      <td>9.200000e+01</td>\n",
       "      <td>4.830000e+02</td>\n",
       "    </tr>\n",
       "    <tr>\n",
       "      <th>V53</th>\n",
       "      <td>14481.0</td>\n",
       "      <td>12294.0</td>\n",
       "      <td>1.186750e+05</td>\n",
       "      <td>8.195221e+00</td>\n",
       "      <td>3.000000</td>\n",
       "      <td>2.398661e+01</td>\n",
       "      <td>5.753577e+02</td>\n",
       "      <td>1.00000</td>\n",
       "      <td>1.000000</td>\n",
       "      <td>1.000000</td>\n",
       "      <td>1.000000</td>\n",
       "      <td>1.000000</td>\n",
       "      <td>3.000000</td>\n",
       "      <td>8.000000e+00</td>\n",
       "      <td>1.700000e+01</td>\n",
       "      <td>2.700000e+01</td>\n",
       "      <td>8.400000e+01</td>\n",
       "      <td>1.081000e+03</td>\n",
       "    </tr>\n",
       "  </tbody>\n",
       "</table>\n",
       "</div>"
      ],
      "text/plain": [
       "           N    NMISS           SUM          MEAN         MEDIAN  \\\n",
       "V3   10886.0  15889.0  2.270516e+09  2.085721e+05   42617.480000   \n",
       "V4   21079.0   5696.0  3.403413e+08  1.614599e+04     680.970000   \n",
       "V5     755.0  26020.0  4.891654e+08  6.479012e+05   48994.000000   \n",
       "V6    1360.0  25415.0  5.649734e+08  4.154216e+05   17987.000000   \n",
       "V7    1940.0  24835.0  4.464344e+07  2.301208e+04    3148.500000   \n",
       "V8      34.0  26741.0  3.144293e+07  9.247922e+05   50931.500000   \n",
       "V9     406.0  26369.0  3.362700e+07  8.282512e+04    2151.000000   \n",
       "V10   1805.0  24970.0  1.088100e+09  6.028255e+05   51643.000000   \n",
       "V11   3351.0  23424.0  6.027180e+08  1.798621e+05   10900.000000   \n",
       "V12    932.0  25843.0  1.010584e+09  1.084318e+06  200000.000000   \n",
       "V13    886.0  25889.0  1.078597e+09  1.217378e+06  138873.000000   \n",
       "V14      0.0  26775.0  0.000000e+00           NaN            NaN   \n",
       "V15    836.0  25939.0  8.224839e+08  9.838324e+05  228454.500000   \n",
       "V16  24308.0   2467.0  1.024640e+11  4.215239e+06  756074.140000   \n",
       "V17  24012.0   2763.0  9.784762e+10  4.074947e+06  600468.680000   \n",
       "V18    195.0  26580.0  8.690446e+06  4.456639e+04    7250.000000   \n",
       "V19  26471.0    304.0  1.223030e+05  4.620264e+00       0.000000   \n",
       "V20  26471.0    304.0  2.277480e+05  8.603679e+00       4.000000   \n",
       "V21  26471.0    304.0  4.368000e+03  1.650108e-01       0.000000   \n",
       "V22  26471.0    304.0  5.766000e+03  2.178233e-01       0.000000   \n",
       "V23  26471.0    304.0  9.868000e+03  3.727853e-01       0.000000   \n",
       "V24  26471.0    304.0  1.060000e+02  4.004382e-03       0.000000   \n",
       "V25  26471.0    304.0  1.030000e+03  3.891051e-02       0.000000   \n",
       "V26  26471.0    304.0  9.068000e+03  3.425636e-01       0.000000   \n",
       "V27  26471.0    304.0  2.288700e+04  8.646066e-01       0.000000   \n",
       "V28  26471.0    304.0  3.063000e+03  1.157115e-01       0.000000   \n",
       "V29  26471.0    304.0  3.340000e+03  1.261758e-01       0.000000   \n",
       "V30  26471.0    304.0  0.000000e+00  0.000000e+00       0.000000   \n",
       "V31  26471.0    304.0  2.083000e+03  7.868989e-02       0.000000   \n",
       "V32  26471.0    304.0  8.963150e+05  3.386026e+01      13.000000   \n",
       "V33  26471.0    304.0  1.311517e+06  4.954543e+01      20.000000   \n",
       "V34  26471.0    304.0  5.390000e+02  2.036191e-02       0.000000   \n",
       "V35    707.0  26068.0  3.128724e+08  4.425353e+05    1495.000000   \n",
       "V36    302.0  26473.0  4.386000e+07  1.452318e+05   14968.500000   \n",
       "V37   5096.0  21679.0  2.230590e+09  4.377138e+05   20215.500000   \n",
       "V38  26471.0    304.0  8.066000e+03  3.047108e-01       0.000000   \n",
       "V39  26471.0    304.0  7.960000e+02  3.007064e-02       0.000000   \n",
       "V40  26471.0    304.0  4.347000e+04  1.642174e+00       0.000000   \n",
       "V41    569.0  26206.0  2.094673e+04  3.681323e+01       1.364700   \n",
       "V42    280.0  26495.0  1.259426e+04  4.497950e+01       0.834390   \n",
       "V43  21079.0   5696.0  1.575355e+05  7.473577e+00       0.090830   \n",
       "V44   1940.0  24835.0  2.021282e+03  1.041898e+00       0.210370   \n",
       "V45    707.0  26068.0  2.247989e+03  3.179617e+00       0.145060   \n",
       "V46   5096.0  21679.0  2.942001e+04  5.773157e+00       0.610545   \n",
       "V47    302.0  26473.0  8.529865e+02  2.824458e+00       0.299835   \n",
       "V48     34.0  26741.0  4.047092e+02  1.190321e+01       2.517895   \n",
       "V49    406.0  26369.0  6.569151e+02  1.618018e+00       0.047180   \n",
       "V50  12936.0  13839.0  7.981600e+04  6.170068e+00       2.000000   \n",
       "V51  14685.0  12090.0  1.099370e+05  7.486347e+00       2.000000   \n",
       "V52  10352.0  16423.0  9.222000e+04  8.908423e+00       3.000000   \n",
       "V53  14481.0  12294.0  1.186750e+05  8.195221e+00       3.000000   \n",
       "\n",
       "              STD           VAR         MIN           P1            P5  \\\n",
       "V3   1.823981e+06  3.326907e+12     0.01000   110.000000    889.647500   \n",
       "V4   1.079490e+06  1.165298e+12     0.87000     5.700000     28.500000   \n",
       "V5   2.253789e+06  5.079566e+12    13.03000    50.904000    240.000000   \n",
       "V6   1.825001e+06  3.330627e+12     1.00000   229.880000    470.000000   \n",
       "V7   1.792111e+05  3.211663e+10     7.42000    58.170000    203.816000   \n",
       "V8   2.437085e+06  5.939383e+12   739.00000   841.630000   1069.500000   \n",
       "V9   4.212761e+05  1.774735e+11     0.90000     0.900000      1.065000   \n",
       "V10  3.306344e+06  1.093191e+13     0.01000     2.043600    140.122000   \n",
       "V11  2.900429e+06  8.412490e+12     0.01000   500.000000   1000.000000   \n",
       "V12  3.244636e+06  1.052766e+13     1.00000    36.550000    622.000000   \n",
       "V13  1.704318e+07  2.904701e+14   570.00000  1000.000000   3000.000000   \n",
       "V14           NaN           NaN         NaN          NaN           NaN   \n",
       "V15  2.727134e+06  7.437258e+12  1000.00000  1000.000000   5000.000000   \n",
       "V16  3.253536e+07  1.058549e+15     0.01000   924.429900  14389.250000   \n",
       "V17  3.251934e+07  1.057508e+15     0.09000   845.190400  11354.752500   \n",
       "V18  1.214384e+05  1.474728e+10     1.00000     1.000000      1.000000   \n",
       "V19  1.340761e+01  1.797639e+02     0.00000     0.000000      0.000000   \n",
       "V20  1.595029e+01  2.544116e+02     0.00000     0.000000      0.000000   \n",
       "V21  2.829931e+00  8.008509e+00     0.00000     0.000000      0.000000   \n",
       "V22  2.904812e+00  8.437931e+00     0.00000     0.000000      0.000000   \n",
       "V23  2.843157e+00  8.083542e+00     0.00000     0.000000      0.000000   \n",
       "V24  2.151756e-01  4.630055e-02     0.00000     0.000000      0.000000   \n",
       "V25  9.184324e-01  8.435180e-01     0.00000     0.000000      0.000000   \n",
       "V26  3.040102e+00  9.242223e+00     0.00000     0.000000      0.000000   \n",
       "V27  4.124483e+00  1.701136e+01     0.00000     0.000000      0.000000   \n",
       "V28  1.216412e+00  1.479659e+00     0.00000     0.000000      0.000000   \n",
       "V29  1.086347e+00  1.180150e+00     0.00000     0.000000      0.000000   \n",
       "V30  0.000000e+00  0.000000e+00     0.00000     0.000000      0.000000   \n",
       "V31  7.606960e-01  5.786584e-01     0.00000     0.000000      0.000000   \n",
       "V32  1.065084e+02  1.134404e+04     0.00000     0.000000      0.000000   \n",
       "V33  2.100594e+02  4.412494e+04     0.00000     0.000000      0.000000   \n",
       "V34  6.313802e-01  3.986409e-01     0.00000     0.000000      0.000000   \n",
       "V35  3.494768e+06  1.221340e+13     1.00000     1.483600     20.000000   \n",
       "V36  6.032748e+05  3.639405e+11     1.20000     1.509000      7.530000   \n",
       "V37  2.388557e+06  5.705204e+12     0.00000     5.810000     30.000000   \n",
       "V38  7.015715e+00  4.922026e+01     0.00000     0.000000      0.000000   \n",
       "V39  7.882319e-01  6.213095e-01     0.00000     0.000000      0.000000   \n",
       "V40  9.720349e+00  9.448518e+01     0.00000     0.000000      0.000000   \n",
       "V41  2.455716e+02  6.030539e+04     0.00003     0.000255      0.006966   \n",
       "V42  3.240678e+02  1.050200e+05     0.00013     0.000997      0.007503   \n",
       "V43  2.472142e+01  6.111484e+02     0.00000     0.000380      0.001829   \n",
       "V44  3.616032e+00  1.307569e+01     0.00005     0.001626      0.007475   \n",
       "V45  1.124849e+01  1.265286e+02     0.00000     0.000030      0.000916   \n",
       "V46  1.394405e+01  1.944365e+02     0.00000     0.000070      0.001048   \n",
       "V47  7.039321e+00  4.955204e+01     0.00011     0.000160      0.000544   \n",
       "V48  1.963397e+01  3.854929e+02     0.00334     0.008712      0.040661   \n",
       "V49  5.533825e+00  3.062322e+01     0.00000     0.000010      0.000030   \n",
       "V50  2.142772e+01  4.591473e+02     1.00000     1.000000      1.000000   \n",
       "V51  3.000912e+01  9.005473e+02     1.00000     1.000000      1.000000   \n",
       "V52  1.974083e+01  3.897004e+02     1.00000     1.000000      1.000000   \n",
       "V53  2.398661e+01  5.753577e+02     1.00000     1.000000      1.000000   \n",
       "\n",
       "              P10            P25            P50           P75           P90  \\\n",
       "V3    2173.000000   10000.000000   42617.480000  1.300000e+05  3.178397e+05   \n",
       "V4      44.960000     194.290000     680.970000  1.874340e+03  4.029788e+03   \n",
       "V5     500.000000    2677.500000   48994.000000  2.670515e+05  1.316129e+06   \n",
       "V6     500.000000    3000.000000   17987.000000  1.205768e+05  6.483194e+05   \n",
       "V7     334.790000     857.180000    3148.500000  1.260075e+04  3.746615e+04   \n",
       "V8    3180.000000    8601.000000   50931.500000  3.039672e+05  2.692755e+06   \n",
       "V9       1.805000       6.172500    2151.000000  2.175025e+04  1.551710e+05   \n",
       "V10    780.000000    7620.000000   51643.000000  2.544820e+05  1.008301e+06   \n",
       "V11   2000.000000    5000.000000   10900.000000  3.000000e+04  1.137990e+05   \n",
       "V12   8789.200000   49444.982500  200000.000000  8.500000e+05  2.597334e+06   \n",
       "V13   8218.000000   40000.000000  138873.000000  4.342265e+05  1.376500e+06   \n",
       "V14           NaN            NaN            NaN           NaN           NaN   \n",
       "V15   5000.000000   47858.750000  228454.500000  7.000000e+05  2.230000e+06   \n",
       "V16  46044.354000  194987.597500  756074.140000  2.400602e+06  7.354334e+06   \n",
       "V17  36800.612000  154000.000000  600468.680000  2.134287e+06  7.134109e+06   \n",
       "V18      4.200000     200.000000    7250.000000  2.585200e+04  1.071430e+05   \n",
       "V19      0.000000       0.000000       0.000000  5.000000e+00  1.300000e+01   \n",
       "V20      0.000000       1.000000       4.000000  1.000000e+01  2.100000e+01   \n",
       "V21      0.000000       0.000000       0.000000  0.000000e+00  0.000000e+00   \n",
       "V22      0.000000       0.000000       0.000000  0.000000e+00  0.000000e+00   \n",
       "V23      0.000000       0.000000       0.000000  0.000000e+00  0.000000e+00   \n",
       "V24      0.000000       0.000000       0.000000  0.000000e+00  0.000000e+00   \n",
       "V25      0.000000       0.000000       0.000000  0.000000e+00  0.000000e+00   \n",
       "V26      0.000000       0.000000       0.000000  0.000000e+00  0.000000e+00   \n",
       "V27      0.000000       0.000000       0.000000  0.000000e+00  1.000000e+00   \n",
       "V28      0.000000       0.000000       0.000000  0.000000e+00  0.000000e+00   \n",
       "V29      0.000000       0.000000       0.000000  0.000000e+00  0.000000e+00   \n",
       "V30      0.000000       0.000000       0.000000  0.000000e+00  0.000000e+00   \n",
       "V31      0.000000       0.000000       0.000000  0.000000e+00  0.000000e+00   \n",
       "V32      1.000000       5.000000      13.000000  2.800000e+01  6.500000e+01   \n",
       "V33      1.000000       6.000000      20.000000  4.900000e+01  1.080000e+02   \n",
       "V34      0.000000       0.000000       0.000000  0.000000e+00  0.000000e+00   \n",
       "V35    147.600000     490.000000    1495.000000  8.575230e+03  5.849754e+04   \n",
       "V36     30.000000     348.505000   14968.500000  9.448775e+04  3.578297e+05   \n",
       "V37     56.180000     367.465000   20215.500000  2.006010e+05  8.658601e+05   \n",
       "V38      0.000000       0.000000       0.000000  0.000000e+00  0.000000e+00   \n",
       "V39      0.000000       0.000000       0.000000  0.000000e+00  0.000000e+00   \n",
       "V40      0.000000       0.000000       0.000000  0.000000e+00  2.000000e+00   \n",
       "V41      0.039762       0.333330       1.364700  6.592620e+00  2.700766e+01   \n",
       "V42      0.034544       0.228180       0.834390  3.550070e+00  2.486255e+01   \n",
       "V43      0.004300       0.018375       0.090830  5.088750e-01  5.860430e+00   \n",
       "V44      0.015765       0.052995       0.210370  7.365125e-01  2.198598e+00   \n",
       "V45      0.006320       0.036855       0.145060  7.033950e-01  4.747528e+00   \n",
       "V46      0.003420       0.024362       0.610545  4.608212e+00  1.449667e+01   \n",
       "V47      0.002185       0.021090       0.299835  2.206612e+00  6.948665e+00   \n",
       "V48      0.090844       0.368795       2.517895  1.341822e+01  4.465668e+01   \n",
       "V49      0.000060       0.000275       0.047180  6.496575e-01  3.648480e+00   \n",
       "V50      1.000000       1.000000       2.000000  6.000000e+00  1.350000e+01   \n",
       "V51      1.000000       1.000000       2.000000  6.000000e+00  1.400000e+01   \n",
       "V52      1.000000       1.000000       3.000000  1.000000e+01  1.900000e+01   \n",
       "V53      1.000000       1.000000       3.000000  8.000000e+00  1.700000e+01   \n",
       "\n",
       "              P95           P99           MAX  \n",
       "V3   5.476890e+05  2.153817e+06  1.329516e+08  \n",
       "V4   7.849251e+03  9.593053e+04  1.545023e+08  \n",
       "V5   3.197897e+06  1.058950e+07  3.280601e+07  \n",
       "V6   1.746918e+06  1.014911e+07  2.538500e+07  \n",
       "V7   7.016005e+04  2.085797e+05  6.686034e+06  \n",
       "V8   4.474250e+06  1.036100e+07  1.282665e+07  \n",
       "V9   2.977532e+05  1.811141e+06  6.918710e+06  \n",
       "V10  2.174396e+06  8.926432e+06  7.732733e+07  \n",
       "V11  2.984460e+05  2.627446e+06  1.556410e+08  \n",
       "V12  4.222500e+06  1.237491e+07  5.000000e+07  \n",
       "V13  2.505456e+06  7.541250e+06  5.000000e+08  \n",
       "V14           NaN           NaN           NaN  \n",
       "V15  4.000000e+06  1.381750e+07  3.685000e+07  \n",
       "V16  1.477134e+07  5.558906e+07  3.817596e+09  \n",
       "V17  1.450548e+07  5.458477e+07  3.796014e+09  \n",
       "V18  2.229000e+05  6.988324e+05  1.029000e+06  \n",
       "V19  2.400000e+01  5.330000e+01  8.860000e+02  \n",
       "V20  3.300000e+01  7.500000e+01  4.180000e+02  \n",
       "V21  0.000000e+00  3.000000e+00  1.950000e+02  \n",
       "V22  1.000000e+00  4.000000e+00  2.630000e+02  \n",
       "V23  1.000000e+00  9.000000e+00  1.910000e+02  \n",
       "V24  0.000000e+00  0.000000e+00  2.400000e+01  \n",
       "V25  0.000000e+00  1.000000e+00  1.130000e+02  \n",
       "V26  1.000000e+00  8.000000e+00  1.750000e+02  \n",
       "V27  6.000000e+00  1.700000e+01  2.950000e+02  \n",
       "V28  0.000000e+00  3.000000e+00  7.600000e+01  \n",
       "V29  0.000000e+00  5.000000e+00  4.600000e+01  \n",
       "V30  0.000000e+00  0.000000e+00  0.000000e+00  \n",
       "V31  0.000000e+00  2.000000e+00  5.500000e+01  \n",
       "V32  1.235000e+02  3.993000e+02  6.412000e+03  \n",
       "V33  1.770000e+02  4.346000e+02  1.989300e+04  \n",
       "V34  0.000000e+00  0.000000e+00  9.000000e+01  \n",
       "V35  5.907355e+05  9.947030e+06  5.750812e+07  \n",
       "V36  5.533725e+05  1.928663e+06  9.428473e+06  \n",
       "V37  1.762843e+06  6.543559e+06  8.514432e+07  \n",
       "V38  0.000000e+00  2.000000e+00  3.900000e+02  \n",
       "V39  0.000000e+00  1.000000e+00  9.100000e+01  \n",
       "V40  7.000000e+00  3.400000e+01  3.990000e+02  \n",
       "V41  9.553355e+01  6.365624e+02  4.761970e+03  \n",
       "V42  8.717303e+01  9.167725e+02  5.012544e+03  \n",
       "V43  1.000000e+02  1.000000e+02  1.000000e+02  \n",
       "V44  4.232165e+00  1.287075e+01  7.349647e+01  \n",
       "V45  1.734563e+01  6.398066e+01  9.825671e+01  \n",
       "V46  3.016129e+01  7.936205e+01  1.000000e+02  \n",
       "V47  1.448359e+01  3.203228e+01  5.779336e+01  \n",
       "V48  5.464291e+01  6.919150e+01  7.472041e+01  \n",
       "V49  6.594480e+00  2.779209e+01  6.163344e+01  \n",
       "V50  2.200000e+01  5.600000e+01  1.400000e+03  \n",
       "V51  2.400000e+01  7.700000e+01  1.400000e+03  \n",
       "V52  3.200000e+01  9.200000e+01  4.830000e+02  \n",
       "V53  2.700000e+01  8.400000e+01  1.081000e+03  "
      ]
     },
     "execution_count": 18,
     "metadata": {},
     "output_type": "execute_result"
    }
   ],
   "source": [
    "df_agg_summary"
   ]
  },
  {
   "cell_type": "code",
   "execution_count": 69,
   "metadata": {
    "collapsed": true
   },
   "outputs": [],
   "source": [
    "df_agg_summary.to_csv(\"C:/sandeep_operabackup/Analytics/HackerEarth/HDFC Credit Scoring/AggdataEDD0911.csv\")"
   ]
  },
  {
   "cell_type": "code",
   "execution_count": 43,
   "metadata": {
    "collapsed": true
   },
   "outputs": [],
   "source": [
    "#Create profiling\n",
    "profile_aggdata_train=pandas_profiling.ProfileReport(df_aggdata_train)"
   ]
  },
  {
   "cell_type": "code",
   "execution_count": 35,
   "metadata": {
    "collapsed": true
   },
   "outputs": [],
   "source": [
    "#Detailed profiling using pandas profiling\n",
    "profile_aggdata_train.to_file(outputfile=\"C:/sandeep_operabackup/Analytics/HackerEarth/HDFC Credit Scoring/AggdataProfileSummary0911.html\")"
   ]
  },
  {
   "cell_type": "code",
   "execution_count": 19,
   "metadata": {
    "collapsed": true
   },
   "outputs": [],
   "source": [
    "#save training dataset before further manipulations\n",
    "df_aggdata_train_original = df_aggdata_train\n",
    "#df_aggdata_train = df_aggdata_train_original"
   ]
  },
  {
   "cell_type": "code",
   "execution_count": 20,
   "metadata": {
    "collapsed": false
   },
   "outputs": [],
   "source": [
    "#Based on profiling, drop variables where fill-rate <5% or if variable is highly co-related\n",
    "var_to_drop= ['V12','V13','V14','V15','V17','V18','V35','V36','V42','V44','V45','V47','V48','V49','V5','V9']"
   ]
  },
  {
   "cell_type": "code",
   "execution_count": 21,
   "metadata": {
    "collapsed": false
   },
   "outputs": [],
   "source": [
    "df_aggdata_train=df_aggdata_train.drop(var_to_drop,axis=1)"
   ]
  },
  {
   "cell_type": "code",
   "execution_count": 22,
   "metadata": {
    "collapsed": true
   },
   "outputs": [],
   "source": [
    "df_aggdata_test=df_aggdata_test.drop(var_to_drop,axis=1)"
   ]
  },
  {
   "cell_type": "code",
   "execution_count": 23,
   "metadata": {
    "collapsed": false
   },
   "outputs": [
    {
     "data": {
      "text/plain": [
       "26775"
      ]
     },
     "execution_count": 23,
     "metadata": {},
     "output_type": "execute_result"
    }
   ],
   "source": [
    "df_aggdata_train['UID'].nunique()"
   ]
  },
  {
   "cell_type": "code",
   "execution_count": null,
   "metadata": {
    "collapsed": true
   },
   "outputs": [],
   "source": [
    "skewed_vars = ['V11','V16','V21','V22','V24','V25','V26','V27','V28','V3','V31','V33','V34','V37','V38','V4','V50','V7']"
   ]
  },
  {
   "cell_type": "code",
   "execution_count": 24,
   "metadata": {
    "collapsed": false
   },
   "outputs": [
    {
     "data": {
      "text/plain": [
       "UID             0\n",
       "V1              0\n",
       "V2              0\n",
       "V3          15889\n",
       "V4           5696\n",
       "V6          25415\n",
       "V7          24835\n",
       "V8          26741\n",
       "V10         24970\n",
       "V11         23424\n",
       "V16          2467\n",
       "V19           304\n",
       "V20           304\n",
       "V21           304\n",
       "V22           304\n",
       "V23           304\n",
       "V24           304\n",
       "V25           304\n",
       "V26           304\n",
       "V27           304\n",
       "V28           304\n",
       "V29           304\n",
       "V30           304\n",
       "V31           304\n",
       "V32           304\n",
       "V33           304\n",
       "V34           304\n",
       "V37         21679\n",
       "V38           304\n",
       "V39           304\n",
       "V40           304\n",
       "V41         26206\n",
       "V43          5696\n",
       "V46         21679\n",
       "V50         13839\n",
       "V51         12090\n",
       "V52         16423\n",
       "V53         12294\n",
       "bad_flag        0\n",
       "dtype: int64"
      ]
     },
     "execution_count": 24,
     "metadata": {},
     "output_type": "execute_result"
    }
   ],
   "source": [
    "df_aggdata_train.isnull().sum()"
   ]
  },
  {
   "cell_type": "code",
   "execution_count": 25,
   "metadata": {
    "collapsed": false
   },
   "outputs": [],
   "source": [
    "#Outlier and missing value treatment for all numeric vars\n",
    "df_aggdata_train_num = df_aggdata_train.drop(['UID','V1','V2','bad_flag'],axis=1)"
   ]
  },
  {
   "cell_type": "code",
   "execution_count": 26,
   "metadata": {
    "collapsed": false
   },
   "outputs": [],
   "source": [
    "df_aggdata_test_num = df_aggdata_test.drop(['UID','V1','V2'],axis=1)"
   ]
  },
  {
   "cell_type": "code",
   "execution_count": 27,
   "metadata": {
    "collapsed": false
   },
   "outputs": [],
   "source": [
    "#Handling Outliers\n",
    "def outlier_capping(x):\n",
    "    x = x.clip_upper(x.quantile(0.99))\n",
    "    x = x.clip_lower(x.quantile(0.01))\n",
    "    return x\n",
    "\n",
    "df_aggdata_train_num=df_aggdata_train_num.apply(lambda x: outlier_capping(x))\n",
    "df_aggdata_test_num=df_aggdata_test_num.apply(lambda x: outlier_capping(x))"
   ]
  },
  {
   "cell_type": "code",
   "execution_count": 28,
   "metadata": {
    "collapsed": true
   },
   "outputs": [],
   "source": [
    "#check num var after outlier treatment\n",
    "df_agg_summary=df_aggdata_train_num.apply(lambda x: var_summary(x)).T"
   ]
  },
  {
   "cell_type": "code",
   "execution_count": 76,
   "metadata": {
    "collapsed": true
   },
   "outputs": [],
   "source": [
    "df_agg_summary.to_csv(\"C:/sandeep_operabackup/Analytics/HackerEarth/HDFC Credit Scoring/AggdataNumEDD1011.csv\")"
   ]
  },
  {
   "cell_type": "code",
   "execution_count": 29,
   "metadata": {
    "collapsed": true
   },
   "outputs": [],
   "source": [
    "#Handling missings values\n",
    "def Missing_imputation(x):\n",
    "    x = x.fillna(x.mean())\n",
    "    return x\n",
    "\n",
    "df_aggdata_train_num=df_aggdata_train_num.apply(lambda x: Missing_imputation(x))\n",
    "df_aggdata_test_num=df_aggdata_test_num.apply(lambda x: Missing_imputation(x))"
   ]
  },
  {
   "cell_type": "code",
   "execution_count": 30,
   "metadata": {
    "collapsed": false
   },
   "outputs": [],
   "source": [
    "#check num var after missing value treatment\n",
    "df_agg_summary=df_aggdata_train_num.apply(lambda x: var_summary(x)).T\n",
    "#df_agg_summary.to_csv(\"C:/sandeep_operabackup/Analytics/HackerEarth/HDFC Credit Scoring/AggdataNum_MissingEDD1011.csv\")"
   ]
  },
  {
   "cell_type": "code",
   "execution_count": 79,
   "metadata": {
    "collapsed": true
   },
   "outputs": [],
   "source": [
    "#Create profiling data check\n",
    "#Create profiling\n",
    "profile_aggdata_train_num=pandas_profiling.ProfileReport(df_aggdata_train_num)"
   ]
  },
  {
   "cell_type": "code",
   "execution_count": 80,
   "metadata": {
    "collapsed": true
   },
   "outputs": [],
   "source": [
    "#Detailed profiling using pandas profiling\n",
    "profile_aggdata_train_num.to_file(outputfile=\"C:/sandeep_operabackup/Analytics/HackerEarth/HDFC Credit Scoring/AggdataNumProfileSummary1011.html\")"
   ]
  },
  {
   "cell_type": "code",
   "execution_count": 31,
   "metadata": {
    "collapsed": true
   },
   "outputs": [],
   "source": [
    "#From the profile data, we can see that V24,V30 and V34 can be rejected as all have constant 0 value\n",
    "df_aggdata_train_num_original=df_aggdata_train_num\n",
    "df_aggdata_test_num_original=df_aggdata_test_num"
   ]
  },
  {
   "cell_type": "code",
   "execution_count": 32,
   "metadata": {
    "collapsed": false
   },
   "outputs": [],
   "source": [
    "df_aggdata_train_num=df_aggdata_train_num.drop(['V24','V30','V34'],axis=1)"
   ]
  },
  {
   "cell_type": "code",
   "execution_count": 33,
   "metadata": {
    "collapsed": true
   },
   "outputs": [],
   "source": [
    "df_aggdata_test_num=df_aggdata_test_num.drop(['V24','V30','V34'],axis=1)"
   ]
  },
  {
   "cell_type": "code",
   "execution_count": 34,
   "metadata": {
    "collapsed": false
   },
   "outputs": [
    {
     "name": "stdout",
     "output_type": "stream",
     "text": [
      "<class 'pandas.core.frame.DataFrame'>\n",
      "RangeIndex: 26775 entries, 0 to 26774\n",
      "Data columns (total 32 columns):\n",
      "V3     26775 non-null float64\n",
      "V4     26775 non-null float64\n",
      "V6     26775 non-null float64\n",
      "V7     26775 non-null float64\n",
      "V8     26775 non-null float64\n",
      "V10    26775 non-null float64\n",
      "V11    26775 non-null float64\n",
      "V16    26775 non-null float64\n",
      "V19    26775 non-null float64\n",
      "V20    26775 non-null float64\n",
      "V21    26775 non-null float64\n",
      "V22    26775 non-null float64\n",
      "V23    26775 non-null float64\n",
      "V25    26775 non-null float64\n",
      "V26    26775 non-null float64\n",
      "V27    26775 non-null float64\n",
      "V28    26775 non-null float64\n",
      "V29    26775 non-null float64\n",
      "V31    26775 non-null float64\n",
      "V32    26775 non-null float64\n",
      "V33    26775 non-null float64\n",
      "V37    26775 non-null float64\n",
      "V38    26775 non-null float64\n",
      "V39    26775 non-null float64\n",
      "V40    26775 non-null float64\n",
      "V41    26775 non-null float64\n",
      "V43    26775 non-null float64\n",
      "V46    26775 non-null float64\n",
      "V50    26775 non-null float64\n",
      "V51    26775 non-null float64\n",
      "V52    26775 non-null float64\n",
      "V53    26775 non-null float64\n",
      "dtypes: float64(32)\n",
      "memory usage: 6.5 MB\n"
     ]
    }
   ],
   "source": [
    "df_aggdata_train_num.info()"
   ]
  },
  {
   "cell_type": "code",
   "execution_count": 35,
   "metadata": {
    "collapsed": true
   },
   "outputs": [],
   "source": [
    "\n",
    "df_aggdata_train_count = df_aggdata_train_num.drop(['V3','V4','V6','V7','V8','V10','V11','V16','V37','V41','V43','V46'],axis=1)"
   ]
  },
  {
   "cell_type": "code",
   "execution_count": 36,
   "metadata": {
    "collapsed": true
   },
   "outputs": [],
   "source": [
    "df_aggdata_test_count = df_aggdata_test_num.drop(['V3','V4','V6','V7','V8','V10','V11','V16','V37','V41','V43','V46'],axis=1)"
   ]
  },
  {
   "cell_type": "code",
   "execution_count": 37,
   "metadata": {
    "collapsed": false
   },
   "outputs": [],
   "source": [
    "quantile_list = [0, .25, .5, .75, 1.0]\n",
    "df_quantile=(df_aggdata_train_count.quantile(quantile_list))"
   ]
  },
  {
   "cell_type": "code",
   "execution_count": 38,
   "metadata": {
    "collapsed": true
   },
   "outputs": [],
   "source": [
    "df_quantile_test=(df_aggdata_test_count.quantile(quantile_list))"
   ]
  },
  {
   "cell_type": "code",
   "execution_count": 30,
   "metadata": {
    "collapsed": false
   },
   "outputs": [
    {
     "data": {
      "text/html": [
       "<div>\n",
       "<style scoped>\n",
       "    .dataframe tbody tr th:only-of-type {\n",
       "        vertical-align: middle;\n",
       "    }\n",
       "\n",
       "    .dataframe tbody tr th {\n",
       "        vertical-align: top;\n",
       "    }\n",
       "\n",
       "    .dataframe thead th {\n",
       "        text-align: right;\n",
       "    }\n",
       "</style>\n",
       "<table border=\"1\" class=\"dataframe\">\n",
       "  <thead>\n",
       "    <tr style=\"text-align: right;\">\n",
       "      <th></th>\n",
       "      <th>V19</th>\n",
       "      <th>V20</th>\n",
       "      <th>V21</th>\n",
       "      <th>V22</th>\n",
       "      <th>V23</th>\n",
       "      <th>V25</th>\n",
       "      <th>V26</th>\n",
       "      <th>V27</th>\n",
       "      <th>V28</th>\n",
       "      <th>V29</th>\n",
       "      <th>V31</th>\n",
       "      <th>V32</th>\n",
       "      <th>V33</th>\n",
       "      <th>V38</th>\n",
       "      <th>V39</th>\n",
       "      <th>V40</th>\n",
       "      <th>V50</th>\n",
       "      <th>V51</th>\n",
       "      <th>V52</th>\n",
       "      <th>V53</th>\n",
       "    </tr>\n",
       "  </thead>\n",
       "  <tbody>\n",
       "    <tr>\n",
       "      <th>0</th>\n",
       "      <td>0.0</td>\n",
       "      <td>0.0</td>\n",
       "      <td>0.0</td>\n",
       "      <td>0.0</td>\n",
       "      <td>0.0</td>\n",
       "      <td>0.0</td>\n",
       "      <td>0.0</td>\n",
       "      <td>0.0</td>\n",
       "      <td>0.0</td>\n",
       "      <td>0.0</td>\n",
       "      <td>0.0</td>\n",
       "      <td>0.0</td>\n",
       "      <td>0.0</td>\n",
       "      <td>0.0</td>\n",
       "      <td>0.0</td>\n",
       "      <td>0.0</td>\n",
       "      <td>1.000000</td>\n",
       "      <td>1.000000</td>\n",
       "      <td>1.000000</td>\n",
       "      <td>1.00000</td>\n",
       "    </tr>\n",
       "    <tr>\n",
       "      <th>1</th>\n",
       "      <td>0.0</td>\n",
       "      <td>1.0</td>\n",
       "      <td>0.0</td>\n",
       "      <td>0.0</td>\n",
       "      <td>0.0</td>\n",
       "      <td>0.0</td>\n",
       "      <td>0.0</td>\n",
       "      <td>0.0</td>\n",
       "      <td>0.0</td>\n",
       "      <td>0.0</td>\n",
       "      <td>0.0</td>\n",
       "      <td>5.0</td>\n",
       "      <td>6.0</td>\n",
       "      <td>0.0</td>\n",
       "      <td>0.0</td>\n",
       "      <td>0.0</td>\n",
       "      <td>2.000000</td>\n",
       "      <td>2.000000</td>\n",
       "      <td>6.000000</td>\n",
       "      <td>2.00000</td>\n",
       "    </tr>\n",
       "    <tr>\n",
       "      <th>2</th>\n",
       "      <td>0.0</td>\n",
       "      <td>4.0</td>\n",
       "      <td>0.0</td>\n",
       "      <td>0.0</td>\n",
       "      <td>0.0</td>\n",
       "      <td>0.0</td>\n",
       "      <td>0.0</td>\n",
       "      <td>0.0</td>\n",
       "      <td>0.0</td>\n",
       "      <td>0.0</td>\n",
       "      <td>0.0</td>\n",
       "      <td>13.0</td>\n",
       "      <td>21.0</td>\n",
       "      <td>0.0</td>\n",
       "      <td>0.0</td>\n",
       "      <td>0.0</td>\n",
       "      <td>5.538343</td>\n",
       "      <td>6.356078</td>\n",
       "      <td>8.320421</td>\n",
       "      <td>7.27581</td>\n",
       "    </tr>\n",
       "    <tr>\n",
       "      <th>3</th>\n",
       "      <td>5.0</td>\n",
       "      <td>10.0</td>\n",
       "      <td>0.0</td>\n",
       "      <td>0.0</td>\n",
       "      <td>0.0</td>\n",
       "      <td>0.0</td>\n",
       "      <td>0.0</td>\n",
       "      <td>0.0</td>\n",
       "      <td>0.0</td>\n",
       "      <td>0.0</td>\n",
       "      <td>0.0</td>\n",
       "      <td>29.0</td>\n",
       "      <td>48.5</td>\n",
       "      <td>0.0</td>\n",
       "      <td>0.0</td>\n",
       "      <td>0.0</td>\n",
       "      <td>5.538343</td>\n",
       "      <td>6.356078</td>\n",
       "      <td>8.320421</td>\n",
       "      <td>7.27581</td>\n",
       "    </tr>\n",
       "    <tr>\n",
       "      <th>4</th>\n",
       "      <td>53.3</td>\n",
       "      <td>75.0</td>\n",
       "      <td>3.0</td>\n",
       "      <td>4.0</td>\n",
       "      <td>9.0</td>\n",
       "      <td>1.0</td>\n",
       "      <td>8.0</td>\n",
       "      <td>17.0</td>\n",
       "      <td>3.0</td>\n",
       "      <td>5.0</td>\n",
       "      <td>2.0</td>\n",
       "      <td>399.3</td>\n",
       "      <td>434.6</td>\n",
       "      <td>2.0</td>\n",
       "      <td>1.0</td>\n",
       "      <td>34.0</td>\n",
       "      <td>56.000000</td>\n",
       "      <td>77.000000</td>\n",
       "      <td>92.000000</td>\n",
       "      <td>84.00000</td>\n",
       "    </tr>\n",
       "  </tbody>\n",
       "</table>\n",
       "</div>"
      ],
      "text/plain": [
       "    V19   V20  V21  V22  V23  V25  V26   V27  V28  V29  V31    V32    V33  \\\n",
       "0   0.0   0.0  0.0  0.0  0.0  0.0  0.0   0.0  0.0  0.0  0.0    0.0    0.0   \n",
       "1   0.0   1.0  0.0  0.0  0.0  0.0  0.0   0.0  0.0  0.0  0.0    5.0    6.0   \n",
       "2   0.0   4.0  0.0  0.0  0.0  0.0  0.0   0.0  0.0  0.0  0.0   13.0   21.0   \n",
       "3   5.0  10.0  0.0  0.0  0.0  0.0  0.0   0.0  0.0  0.0  0.0   29.0   48.5   \n",
       "4  53.3  75.0  3.0  4.0  9.0  1.0  8.0  17.0  3.0  5.0  2.0  399.3  434.6   \n",
       "\n",
       "   V38  V39   V40        V50        V51        V52       V53  \n",
       "0  0.0  0.0   0.0   1.000000   1.000000   1.000000   1.00000  \n",
       "1  0.0  0.0   0.0   2.000000   2.000000   6.000000   2.00000  \n",
       "2  0.0  0.0   0.0   5.538343   6.356078   8.320421   7.27581  \n",
       "3  0.0  0.0   0.0   5.538343   6.356078   8.320421   7.27581  \n",
       "4  2.0  1.0  34.0  56.000000  77.000000  92.000000  84.00000  "
      ]
     },
     "execution_count": 30,
     "metadata": {},
     "output_type": "execute_result"
    }
   ],
   "source": [
    "df_quantile.reset_index(drop=True, inplace=False)"
   ]
  },
  {
   "cell_type": "code",
   "execution_count": null,
   "metadata": {
    "collapsed": false
   },
   "outputs": [],
   "source": [
    "df_quantile['V20'].head()"
   ]
  },
  {
   "cell_type": "code",
   "execution_count": null,
   "metadata": {
    "collapsed": false
   },
   "outputs": [],
   "source": [
    "df_aggdata_train_count['V32'].head()"
   ]
  },
  {
   "cell_type": "code",
   "execution_count": 39,
   "metadata": {
    "collapsed": true
   },
   "outputs": [],
   "source": [
    "#bucekting\n",
    "df_aggdata_train_count['V19_Bin'] = df_aggdata_train_count['V19'].apply(lambda x: 0 if 0 <= x < 5 else 1)\n",
    "df_aggdata_train_count['V20_Bin'] = df_aggdata_train_count['V20'].apply(lambda x: 0 if 0 <= x < 4 else 1)\n",
    "df_aggdata_train_count['V21_Bin'] = df_aggdata_train_count['V21'].apply(lambda x: 0 if 0 <= x < 3 else 1)\n",
    "df_aggdata_train_count['V22_Bin'] = df_aggdata_train_count['V22'].apply(lambda x: 0 if 0 <= x < 4 else 1)\n",
    "df_aggdata_train_count['V23_Bin'] = df_aggdata_train_count['V23'].apply(lambda x: 0 if 0 <= x < 9 else 1)\n",
    "df_aggdata_train_count['V25_Bin'] = df_aggdata_train_count['V25'].apply(lambda x: 0 if 0 <= x < 1 else 1)\n",
    "df_aggdata_train_count['V26_Bin'] = df_aggdata_train_count['V26'].apply(lambda x: 0 if 0 <= x < 8 else 1)\n",
    "df_aggdata_train_count['V27_Bin'] = df_aggdata_train_count['V27'].apply(lambda x: 0 if 0 <= x < 17 else 1)\n",
    "df_aggdata_train_count['V28_Bin'] = df_aggdata_train_count['V28'].apply(lambda x: 0 if 0 <= x < 3 else 1)\n",
    "df_aggdata_train_count['V29_Bin'] = df_aggdata_train_count['V29'].apply(lambda x: 0 if 0 <= x < 5 else 1)\n",
    "df_aggdata_train_count['V31_Bin'] = df_aggdata_train_count['V31'].apply(lambda x: 0 if 0 <= x < 2 else 1)\n",
    "df_aggdata_train_count['V38_Bin'] = df_aggdata_train_count['V38'].apply(lambda x: 0 if 0 <= x < 2 else 1)\n",
    "df_aggdata_train_count['V39_Bin'] = df_aggdata_train_count['V39'].apply(lambda x: 0 if 0 <= x < 1 else 1)\n",
    "df_aggdata_train_count['V40_Bin'] = df_aggdata_train_count['V40'].apply(lambda x: 0 if 0 <= x < 34 else 1)\n",
    "df_aggdata_train_count['V50_Bin'] = df_aggdata_train_count['V50'].apply(lambda x: 0 if 0 <= x < 6 else 1)\n",
    "df_aggdata_train_count['V51_Bin'] = df_aggdata_train_count['V51'].apply(lambda x: 0 if 0 <= x < 7 else 1)\n",
    "df_aggdata_train_count['V52_Bin'] = df_aggdata_train_count['V52'].apply(lambda x: 0 if 0 <= x < 9 else 1)\n",
    "df_aggdata_train_count['V53_Bin'] = df_aggdata_train_count['V53'].apply(lambda x: 0 if 0 <= x < 8 else 1)"
   ]
  },
  {
   "cell_type": "code",
   "execution_count": 40,
   "metadata": {
    "collapsed": true
   },
   "outputs": [],
   "source": [
    "#bucekting\n",
    "df_aggdata_test_count['V19_Bin'] = df_aggdata_test_count['V19'].apply(lambda x: 0 if 0 <= x < 5 else 1)\n",
    "df_aggdata_test_count['V20_Bin'] = df_aggdata_test_count['V20'].apply(lambda x: 0 if 0 <= x < 4 else 1)\n",
    "df_aggdata_test_count['V21_Bin'] = df_aggdata_test_count['V21'].apply(lambda x: 0 if 0 <= x < 3 else 1)\n",
    "df_aggdata_test_count['V22_Bin'] = df_aggdata_test_count['V22'].apply(lambda x: 0 if 0 <= x < 4 else 1)\n",
    "df_aggdata_test_count['V23_Bin'] = df_aggdata_test_count['V23'].apply(lambda x: 0 if 0 <= x < 9 else 1)\n",
    "df_aggdata_test_count['V25_Bin'] = df_aggdata_test_count['V25'].apply(lambda x: 0 if 0 <= x < 1 else 1)\n",
    "df_aggdata_test_count['V26_Bin'] = df_aggdata_test_count['V26'].apply(lambda x: 0 if 0 <= x < 8 else 1)\n",
    "df_aggdata_test_count['V27_Bin'] = df_aggdata_test_count['V27'].apply(lambda x: 0 if 0 <= x < 17 else 1)\n",
    "df_aggdata_test_count['V28_Bin'] = df_aggdata_test_count['V28'].apply(lambda x: 0 if 0 <= x < 3 else 1)\n",
    "df_aggdata_test_count['V29_Bin'] = df_aggdata_test_count['V29'].apply(lambda x: 0 if 0 <= x < 5 else 1)\n",
    "df_aggdata_test_count['V31_Bin'] = df_aggdata_test_count['V31'].apply(lambda x: 0 if 0 <= x < 2 else 1)\n",
    "df_aggdata_test_count['V38_Bin'] = df_aggdata_test_count['V38'].apply(lambda x: 0 if 0 <= x < 2 else 1)\n",
    "df_aggdata_test_count['V39_Bin'] = df_aggdata_test_count['V39'].apply(lambda x: 0 if 0 <= x < 1 else 1)\n",
    "df_aggdata_test_count['V40_Bin'] = df_aggdata_test_count['V40'].apply(lambda x: 0 if 0 <= x < 34 else 1)\n",
    "df_aggdata_test_count['V50_Bin'] = df_aggdata_test_count['V50'].apply(lambda x: 0 if 0 <= x < 6 else 1)\n",
    "df_aggdata_test_count['V51_Bin'] = df_aggdata_test_count['V51'].apply(lambda x: 0 if 0 <= x < 7 else 1)\n",
    "df_aggdata_test_count['V52_Bin'] = df_aggdata_test_count['V52'].apply(lambda x: 0 if 0 <= x < 9 else 1)\n",
    "df_aggdata_test_count['V53_Bin'] = df_aggdata_test_count['V53'].apply(lambda x: 0 if 0 <= x < 8 else 1)"
   ]
  },
  {
   "cell_type": "code",
   "execution_count": 41,
   "metadata": {
    "collapsed": true
   },
   "outputs": [],
   "source": [
    "#for the remaining vars, we will use quantile bucketing\n",
    "#We are now left with total of 32 vars, out of which 9 are amounts, 20 are counts and 3 are ratio/proportion vars\n",
    "#Raw count values do not make much sense, hence will use binning technique to put these vars into bins\n",
    "#We will use quartile based adaptive binning approach\n",
    "\n",
    "def binning_var(x):\n",
    "    quantile_list = [0, .25, .5, .75, 1.0]\n",
    "    quantile_labels = [0,1,2,3]\n",
    "    x_header = list(x)\n",
    "    x= pd.qcut(x,q=4,labels=quantile_labels,duplicates='drop')\n",
    "    return(x)"
   ]
  },
  {
   "cell_type": "code",
   "execution_count": 42,
   "metadata": {
    "collapsed": false
   },
   "outputs": [],
   "source": [
    "df_aggdata_train_count['V32_Bin']=binning_var(df_aggdata_train_count['V32'])\n",
    "df_aggdata_train_count['V33_Bin']=binning_var(df_aggdata_train_count['V33'])"
   ]
  },
  {
   "cell_type": "code",
   "execution_count": 43,
   "metadata": {
    "collapsed": true
   },
   "outputs": [],
   "source": [
    "df_aggdata_test_count['V32_Bin']=binning_var(df_aggdata_test_count['V32'])\n",
    "df_aggdata_test_count['V33_Bin']=binning_var(df_aggdata_test_count['V33'])"
   ]
  },
  {
   "cell_type": "code",
   "execution_count": 36,
   "metadata": {
    "collapsed": false
   },
   "outputs": [
    {
     "name": "stdout",
     "output_type": "stream",
     "text": [
      "<class 'pandas.core.frame.DataFrame'>\n",
      "RangeIndex: 26775 entries, 0 to 26774\n",
      "Data columns (total 40 columns):\n",
      "V19        26775 non-null float64\n",
      "V20        26775 non-null float64\n",
      "V21        26775 non-null float64\n",
      "V22        26775 non-null float64\n",
      "V23        26775 non-null float64\n",
      "V25        26775 non-null float64\n",
      "V26        26775 non-null float64\n",
      "V27        26775 non-null float64\n",
      "V28        26775 non-null float64\n",
      "V29        26775 non-null float64\n",
      "V31        26775 non-null float64\n",
      "V32        26775 non-null float64\n",
      "V33        26775 non-null float64\n",
      "V38        26775 non-null float64\n",
      "V39        26775 non-null float64\n",
      "V40        26775 non-null float64\n",
      "V50        26775 non-null float64\n",
      "V51        26775 non-null float64\n",
      "V52        26775 non-null float64\n",
      "V53        26775 non-null float64\n",
      "V19_Bin    26775 non-null int64\n",
      "V20_Bin    26775 non-null int64\n",
      "V21_Bin    26775 non-null int64\n",
      "V22_Bin    26775 non-null int64\n",
      "V23_Bin    26775 non-null int64\n",
      "V25_Bin    26775 non-null int64\n",
      "V26_Bin    26775 non-null int64\n",
      "V27_Bin    26775 non-null int64\n",
      "V28_Bin    26775 non-null int64\n",
      "V29_Bin    26775 non-null int64\n",
      "V31_Bin    26775 non-null int64\n",
      "V38_Bin    26775 non-null int64\n",
      "V39_Bin    26775 non-null int64\n",
      "V40_Bin    26775 non-null int64\n",
      "V50_Bin    26775 non-null int64\n",
      "V51_Bin    26775 non-null int64\n",
      "V52_Bin    26775 non-null int64\n",
      "V53_Bin    26775 non-null int64\n",
      "V32_Bin    26775 non-null category\n",
      "V33_Bin    26775 non-null category\n",
      "dtypes: category(2), float64(20), int64(18)\n",
      "memory usage: 7.8 MB\n"
     ]
    }
   ],
   "source": [
    "df_aggdata_train_count.info()"
   ]
  },
  {
   "cell_type": "code",
   "execution_count": 44,
   "metadata": {
    "collapsed": false
   },
   "outputs": [],
   "source": [
    "#Merge the bins to agg train dataset\n",
    "df_aggdata_train_count1=df_aggdata_train_count.drop(df_aggdata_train_count.columns[0:20],axis=1)"
   ]
  },
  {
   "cell_type": "code",
   "execution_count": 45,
   "metadata": {
    "collapsed": true
   },
   "outputs": [],
   "source": [
    "df_aggdata_test_count1=df_aggdata_test_count.drop(df_aggdata_test_count.columns[0:20],axis=1)"
   ]
  },
  {
   "cell_type": "code",
   "execution_count": 39,
   "metadata": {
    "collapsed": false
   },
   "outputs": [
    {
     "name": "stdout",
     "output_type": "stream",
     "text": [
      "<class 'pandas.core.frame.DataFrame'>\n",
      "RangeIndex: 26775 entries, 0 to 26774\n",
      "Data columns (total 20 columns):\n",
      "V19_Bin    26775 non-null int64\n",
      "V20_Bin    26775 non-null int64\n",
      "V21_Bin    26775 non-null int64\n",
      "V22_Bin    26775 non-null int64\n",
      "V23_Bin    26775 non-null int64\n",
      "V25_Bin    26775 non-null int64\n",
      "V26_Bin    26775 non-null int64\n",
      "V27_Bin    26775 non-null int64\n",
      "V28_Bin    26775 non-null int64\n",
      "V29_Bin    26775 non-null int64\n",
      "V31_Bin    26775 non-null int64\n",
      "V38_Bin    26775 non-null int64\n",
      "V39_Bin    26775 non-null int64\n",
      "V40_Bin    26775 non-null int64\n",
      "V50_Bin    26775 non-null int64\n",
      "V51_Bin    26775 non-null int64\n",
      "V52_Bin    26775 non-null int64\n",
      "V53_Bin    26775 non-null int64\n",
      "V32_Bin    26775 non-null category\n",
      "V33_Bin    26775 non-null category\n",
      "dtypes: category(2), int64(18)\n",
      "memory usage: 3.7 MB\n"
     ]
    }
   ],
   "source": [
    "df_aggdata_train_count1.info()"
   ]
  },
  {
   "cell_type": "code",
   "execution_count": 46,
   "metadata": {
    "collapsed": false
   },
   "outputs": [],
   "source": [
    "#create dummy vars for each bin\n",
    "df_aggdata_train_count2=pd.get_dummies(df_aggdata_train_count1)"
   ]
  },
  {
   "cell_type": "code",
   "execution_count": 47,
   "metadata": {
    "collapsed": true
   },
   "outputs": [],
   "source": [
    "df_aggdata_test_count2=pd.get_dummies(df_aggdata_test_count1)"
   ]
  },
  {
   "cell_type": "code",
   "execution_count": 42,
   "metadata": {
    "collapsed": false
   },
   "outputs": [
    {
     "name": "stdout",
     "output_type": "stream",
     "text": [
      "<class 'pandas.core.frame.DataFrame'>\n",
      "RangeIndex: 26775 entries, 0 to 26774\n",
      "Data columns (total 20 columns):\n",
      "V19_Bin    26775 non-null int64\n",
      "V20_Bin    26775 non-null int64\n",
      "V21_Bin    26775 non-null int64\n",
      "V22_Bin    26775 non-null int64\n",
      "V23_Bin    26775 non-null int64\n",
      "V25_Bin    26775 non-null int64\n",
      "V26_Bin    26775 non-null int64\n",
      "V27_Bin    26775 non-null int64\n",
      "V28_Bin    26775 non-null int64\n",
      "V29_Bin    26775 non-null int64\n",
      "V31_Bin    26775 non-null int64\n",
      "V38_Bin    26775 non-null int64\n",
      "V39_Bin    26775 non-null int64\n",
      "V40_Bin    26775 non-null int64\n",
      "V50_Bin    26775 non-null int64\n",
      "V51_Bin    26775 non-null int64\n",
      "V52_Bin    26775 non-null int64\n",
      "V53_Bin    26775 non-null int64\n",
      "V32_Bin    26775 non-null category\n",
      "V33_Bin    26775 non-null category\n",
      "dtypes: category(2), int64(18)\n",
      "memory usage: 3.7 MB\n"
     ]
    }
   ],
   "source": [
    "df_aggdata_train_count1.info()"
   ]
  },
  {
   "cell_type": "code",
   "execution_count": 43,
   "metadata": {
    "collapsed": false
   },
   "outputs": [
    {
     "name": "stdout",
     "output_type": "stream",
     "text": [
      "<class 'pandas.core.frame.DataFrame'>\n",
      "RangeIndex: 26775 entries, 0 to 26774\n",
      "Data columns (total 26 columns):\n",
      "V19_Bin      26775 non-null int64\n",
      "V20_Bin      26775 non-null int64\n",
      "V21_Bin      26775 non-null int64\n",
      "V22_Bin      26775 non-null int64\n",
      "V23_Bin      26775 non-null int64\n",
      "V25_Bin      26775 non-null int64\n",
      "V26_Bin      26775 non-null int64\n",
      "V27_Bin      26775 non-null int64\n",
      "V28_Bin      26775 non-null int64\n",
      "V29_Bin      26775 non-null int64\n",
      "V31_Bin      26775 non-null int64\n",
      "V38_Bin      26775 non-null int64\n",
      "V39_Bin      26775 non-null int64\n",
      "V40_Bin      26775 non-null int64\n",
      "V50_Bin      26775 non-null int64\n",
      "V51_Bin      26775 non-null int64\n",
      "V52_Bin      26775 non-null int64\n",
      "V53_Bin      26775 non-null int64\n",
      "V32_Bin_0    26775 non-null uint8\n",
      "V32_Bin_1    26775 non-null uint8\n",
      "V32_Bin_2    26775 non-null uint8\n",
      "V32_Bin_3    26775 non-null uint8\n",
      "V33_Bin_0    26775 non-null uint8\n",
      "V33_Bin_1    26775 non-null uint8\n",
      "V33_Bin_2    26775 non-null uint8\n",
      "V33_Bin_3    26775 non-null uint8\n",
      "dtypes: int64(18), uint8(8)\n",
      "memory usage: 3.9 MB\n"
     ]
    }
   ],
   "source": [
    "df_aggdata_train_count2.info()"
   ]
  },
  {
   "cell_type": "code",
   "execution_count": 44,
   "metadata": {
    "collapsed": false
   },
   "outputs": [
    {
     "name": "stdout",
     "output_type": "stream",
     "text": [
      "<class 'pandas.core.frame.DataFrame'>\n",
      "RangeIndex: 26775 entries, 0 to 26774\n",
      "Data columns (total 32 columns):\n",
      "V3     26775 non-null float64\n",
      "V4     26775 non-null float64\n",
      "V6     26775 non-null float64\n",
      "V7     26775 non-null float64\n",
      "V8     26775 non-null float64\n",
      "V10    26775 non-null float64\n",
      "V11    26775 non-null float64\n",
      "V16    26775 non-null float64\n",
      "V19    26775 non-null float64\n",
      "V20    26775 non-null float64\n",
      "V21    26775 non-null float64\n",
      "V22    26775 non-null float64\n",
      "V23    26775 non-null float64\n",
      "V25    26775 non-null float64\n",
      "V26    26775 non-null float64\n",
      "V27    26775 non-null float64\n",
      "V28    26775 non-null float64\n",
      "V29    26775 non-null float64\n",
      "V31    26775 non-null float64\n",
      "V32    26775 non-null float64\n",
      "V33    26775 non-null float64\n",
      "V37    26775 non-null float64\n",
      "V38    26775 non-null float64\n",
      "V39    26775 non-null float64\n",
      "V40    26775 non-null float64\n",
      "V41    26775 non-null float64\n",
      "V43    26775 non-null float64\n",
      "V46    26775 non-null float64\n",
      "V50    26775 non-null float64\n",
      "V51    26775 non-null float64\n",
      "V52    26775 non-null float64\n",
      "V53    26775 non-null float64\n",
      "dtypes: float64(32)\n",
      "memory usage: 6.5 MB\n"
     ]
    }
   ],
   "source": [
    "df_aggdata_train_num.info()"
   ]
  },
  {
   "cell_type": "code",
   "execution_count": 48,
   "metadata": {
    "collapsed": false
   },
   "outputs": [],
   "source": [
    "#Merge agg_data train with dummy values\n",
    "df_aggdata_train_num1=pd.concat((df_aggdata_train_num,df_aggdata_train_count2),axis=1)"
   ]
  },
  {
   "cell_type": "code",
   "execution_count": 49,
   "metadata": {
    "collapsed": true
   },
   "outputs": [],
   "source": [
    "df_aggdata_test_num1=pd.concat((df_aggdata_test_num,df_aggdata_test_count2),axis=1)"
   ]
  },
  {
   "cell_type": "code",
   "execution_count": 47,
   "metadata": {
    "collapsed": false
   },
   "outputs": [
    {
     "name": "stdout",
     "output_type": "stream",
     "text": [
      "<class 'pandas.core.frame.DataFrame'>\n",
      "RangeIndex: 26775 entries, 0 to 26774\n",
      "Data columns (total 58 columns):\n",
      "V3           26775 non-null float64\n",
      "V4           26775 non-null float64\n",
      "V6           26775 non-null float64\n",
      "V7           26775 non-null float64\n",
      "V8           26775 non-null float64\n",
      "V10          26775 non-null float64\n",
      "V11          26775 non-null float64\n",
      "V16          26775 non-null float64\n",
      "V19          26775 non-null float64\n",
      "V20          26775 non-null float64\n",
      "V21          26775 non-null float64\n",
      "V22          26775 non-null float64\n",
      "V23          26775 non-null float64\n",
      "V25          26775 non-null float64\n",
      "V26          26775 non-null float64\n",
      "V27          26775 non-null float64\n",
      "V28          26775 non-null float64\n",
      "V29          26775 non-null float64\n",
      "V31          26775 non-null float64\n",
      "V32          26775 non-null float64\n",
      "V33          26775 non-null float64\n",
      "V37          26775 non-null float64\n",
      "V38          26775 non-null float64\n",
      "V39          26775 non-null float64\n",
      "V40          26775 non-null float64\n",
      "V41          26775 non-null float64\n",
      "V43          26775 non-null float64\n",
      "V46          26775 non-null float64\n",
      "V50          26775 non-null float64\n",
      "V51          26775 non-null float64\n",
      "V52          26775 non-null float64\n",
      "V53          26775 non-null float64\n",
      "V19_Bin      26775 non-null int64\n",
      "V20_Bin      26775 non-null int64\n",
      "V21_Bin      26775 non-null int64\n",
      "V22_Bin      26775 non-null int64\n",
      "V23_Bin      26775 non-null int64\n",
      "V25_Bin      26775 non-null int64\n",
      "V26_Bin      26775 non-null int64\n",
      "V27_Bin      26775 non-null int64\n",
      "V28_Bin      26775 non-null int64\n",
      "V29_Bin      26775 non-null int64\n",
      "V31_Bin      26775 non-null int64\n",
      "V38_Bin      26775 non-null int64\n",
      "V39_Bin      26775 non-null int64\n",
      "V40_Bin      26775 non-null int64\n",
      "V50_Bin      26775 non-null int64\n",
      "V51_Bin      26775 non-null int64\n",
      "V52_Bin      26775 non-null int64\n",
      "V53_Bin      26775 non-null int64\n",
      "V32_Bin_0    26775 non-null uint8\n",
      "V32_Bin_1    26775 non-null uint8\n",
      "V32_Bin_2    26775 non-null uint8\n",
      "V32_Bin_3    26775 non-null uint8\n",
      "V33_Bin_0    26775 non-null uint8\n",
      "V33_Bin_1    26775 non-null uint8\n",
      "V33_Bin_2    26775 non-null uint8\n",
      "V33_Bin_3    26775 non-null uint8\n",
      "dtypes: float64(32), int64(18), uint8(8)\n",
      "memory usage: 10.4 MB\n"
     ]
    }
   ],
   "source": [
    "df_aggdata_train_num1.info()"
   ]
  },
  {
   "cell_type": "code",
   "execution_count": 50,
   "metadata": {
    "collapsed": true
   },
   "outputs": [],
   "source": [
    "df_aggdata_train_final=df_aggdata_train[['UID','V1','V2']]"
   ]
  },
  {
   "cell_type": "code",
   "execution_count": 51,
   "metadata": {
    "collapsed": true
   },
   "outputs": [],
   "source": [
    "df_aggdata_test_final=df_aggdata_test[['UID','V1','V2']]"
   ]
  },
  {
   "cell_type": "code",
   "execution_count": 52,
   "metadata": {
    "collapsed": false
   },
   "outputs": [],
   "source": [
    "df_aggdata_train_final=pd.concat((df_aggdata_train_final,df_aggdata_train_num1),axis=1)"
   ]
  },
  {
   "cell_type": "code",
   "execution_count": 53,
   "metadata": {
    "collapsed": true
   },
   "outputs": [],
   "source": [
    "df_aggdata_test_final=pd.concat((df_aggdata_test_final,df_aggdata_test_num1),axis=1)"
   ]
  },
  {
   "cell_type": "code",
   "execution_count": 52,
   "metadata": {
    "collapsed": false
   },
   "outputs": [
    {
     "name": "stdout",
     "output_type": "stream",
     "text": [
      "<class 'pandas.core.frame.DataFrame'>\n",
      "RangeIndex: 26775 entries, 0 to 26774\n",
      "Data columns (total 61 columns):\n",
      "UID          26775 non-null object\n",
      "V1           26775 non-null object\n",
      "V2           26775 non-null object\n",
      "V3           26775 non-null float64\n",
      "V4           26775 non-null float64\n",
      "V6           26775 non-null float64\n",
      "V7           26775 non-null float64\n",
      "V8           26775 non-null float64\n",
      "V10          26775 non-null float64\n",
      "V11          26775 non-null float64\n",
      "V16          26775 non-null float64\n",
      "V19          26775 non-null float64\n",
      "V20          26775 non-null float64\n",
      "V21          26775 non-null float64\n",
      "V22          26775 non-null float64\n",
      "V23          26775 non-null float64\n",
      "V25          26775 non-null float64\n",
      "V26          26775 non-null float64\n",
      "V27          26775 non-null float64\n",
      "V28          26775 non-null float64\n",
      "V29          26775 non-null float64\n",
      "V31          26775 non-null float64\n",
      "V32          26775 non-null float64\n",
      "V33          26775 non-null float64\n",
      "V37          26775 non-null float64\n",
      "V38          26775 non-null float64\n",
      "V39          26775 non-null float64\n",
      "V40          26775 non-null float64\n",
      "V41          26775 non-null float64\n",
      "V43          26775 non-null float64\n",
      "V46          26775 non-null float64\n",
      "V50          26775 non-null float64\n",
      "V51          26775 non-null float64\n",
      "V52          26775 non-null float64\n",
      "V53          26775 non-null float64\n",
      "V19_Bin      26775 non-null int64\n",
      "V20_Bin      26775 non-null int64\n",
      "V21_Bin      26775 non-null int64\n",
      "V22_Bin      26775 non-null int64\n",
      "V23_Bin      26775 non-null int64\n",
      "V25_Bin      26775 non-null int64\n",
      "V26_Bin      26775 non-null int64\n",
      "V27_Bin      26775 non-null int64\n",
      "V28_Bin      26775 non-null int64\n",
      "V29_Bin      26775 non-null int64\n",
      "V31_Bin      26775 non-null int64\n",
      "V38_Bin      26775 non-null int64\n",
      "V39_Bin      26775 non-null int64\n",
      "V40_Bin      26775 non-null int64\n",
      "V50_Bin      26775 non-null int64\n",
      "V51_Bin      26775 non-null int64\n",
      "V52_Bin      26775 non-null int64\n",
      "V53_Bin      26775 non-null int64\n",
      "V32_Bin_0    26775 non-null uint8\n",
      "V32_Bin_1    26775 non-null uint8\n",
      "V32_Bin_2    26775 non-null uint8\n",
      "V32_Bin_3    26775 non-null uint8\n",
      "V33_Bin_0    26775 non-null uint8\n",
      "V33_Bin_1    26775 non-null uint8\n",
      "V33_Bin_2    26775 non-null uint8\n",
      "V33_Bin_3    26775 non-null uint8\n",
      "dtypes: float64(32), int64(18), object(3), uint8(8)\n",
      "memory usage: 11.0+ MB\n"
     ]
    }
   ],
   "source": [
    "df_aggdata_train_final.info()"
   ]
  },
  {
   "cell_type": "code",
   "execution_count": 54,
   "metadata": {
    "collapsed": true
   },
   "outputs": [],
   "source": [
    "df_aggdata_train_final1=df_aggdata_train_final.drop(df_aggdata_train_final.columns[11:24],axis=1)"
   ]
  },
  {
   "cell_type": "code",
   "execution_count": 55,
   "metadata": {
    "collapsed": false
   },
   "outputs": [],
   "source": [
    "df_aggdata_train_final1=df_aggdata_train_final1.drop(['V38','V39','V40','V50','V51','V52','V53'],axis=1)"
   ]
  },
  {
   "cell_type": "code",
   "execution_count": 56,
   "metadata": {
    "collapsed": true
   },
   "outputs": [],
   "source": [
    "df_aggdata_test_final1=df_aggdata_test_final.drop(df_aggdata_test_final.columns[11:24],axis=1)\n",
    "df_aggdata_test_final1=df_aggdata_test_final1.drop(['V38','V39','V40','V50','V51','V52','V53'],axis=1)"
   ]
  },
  {
   "cell_type": "code",
   "execution_count": 56,
   "metadata": {
    "collapsed": false
   },
   "outputs": [
    {
     "name": "stdout",
     "output_type": "stream",
     "text": [
      "<class 'pandas.core.frame.DataFrame'>\n",
      "RangeIndex: 26775 entries, 0 to 26774\n",
      "Data columns (total 41 columns):\n",
      "UID          26775 non-null object\n",
      "V1           26775 non-null object\n",
      "V2           26775 non-null object\n",
      "V3           26775 non-null float64\n",
      "V4           26775 non-null float64\n",
      "V6           26775 non-null float64\n",
      "V7           26775 non-null float64\n",
      "V8           26775 non-null float64\n",
      "V10          26775 non-null float64\n",
      "V11          26775 non-null float64\n",
      "V16          26775 non-null float64\n",
      "V37          26775 non-null float64\n",
      "V41          26775 non-null float64\n",
      "V43          26775 non-null float64\n",
      "V46          26775 non-null float64\n",
      "V19_Bin      26775 non-null int64\n",
      "V20_Bin      26775 non-null int64\n",
      "V21_Bin      26775 non-null int64\n",
      "V22_Bin      26775 non-null int64\n",
      "V23_Bin      26775 non-null int64\n",
      "V25_Bin      26775 non-null int64\n",
      "V26_Bin      26775 non-null int64\n",
      "V27_Bin      26775 non-null int64\n",
      "V28_Bin      26775 non-null int64\n",
      "V29_Bin      26775 non-null int64\n",
      "V31_Bin      26775 non-null int64\n",
      "V38_Bin      26775 non-null int64\n",
      "V39_Bin      26775 non-null int64\n",
      "V40_Bin      26775 non-null int64\n",
      "V50_Bin      26775 non-null int64\n",
      "V51_Bin      26775 non-null int64\n",
      "V52_Bin      26775 non-null int64\n",
      "V53_Bin      26775 non-null int64\n",
      "V32_Bin_0    26775 non-null uint8\n",
      "V32_Bin_1    26775 non-null uint8\n",
      "V32_Bin_2    26775 non-null uint8\n",
      "V32_Bin_3    26775 non-null uint8\n",
      "V33_Bin_0    26775 non-null uint8\n",
      "V33_Bin_1    26775 non-null uint8\n",
      "V33_Bin_2    26775 non-null uint8\n",
      "V33_Bin_3    26775 non-null uint8\n",
      "dtypes: float64(12), int64(18), object(3), uint8(8)\n",
      "memory usage: 6.9+ MB\n"
     ]
    }
   ],
   "source": [
    "df_aggdata_train_final1.info()"
   ]
  },
  {
   "cell_type": "code",
   "execution_count": 57,
   "metadata": {
    "collapsed": false
   },
   "outputs": [],
   "source": [
    "df_aggdata_train_final=df_aggdata_train_final1"
   ]
  },
  {
   "cell_type": "code",
   "execution_count": 58,
   "metadata": {
    "collapsed": true
   },
   "outputs": [],
   "source": [
    "df_aggdata_test_final=df_aggdata_test_final1"
   ]
  },
  {
   "cell_type": "code",
   "execution_count": 59,
   "metadata": {
    "collapsed": false
   },
   "outputs": [
    {
     "name": "stdout",
     "output_type": "stream",
     "text": [
      "<class 'pandas.core.frame.DataFrame'>\n",
      "RangeIndex: 26775 entries, 0 to 26774\n",
      "Data columns (total 41 columns):\n",
      "UID          26775 non-null object\n",
      "V1           26775 non-null object\n",
      "V2           26775 non-null object\n",
      "V3           26775 non-null float64\n",
      "V4           26775 non-null float64\n",
      "V6           26775 non-null float64\n",
      "V7           26775 non-null float64\n",
      "V8           26775 non-null float64\n",
      "V10          26775 non-null float64\n",
      "V11          26775 non-null float64\n",
      "V16          26775 non-null float64\n",
      "V37          26775 non-null float64\n",
      "V41          26775 non-null float64\n",
      "V43          26775 non-null float64\n",
      "V46          26775 non-null float64\n",
      "V19_Bin      26775 non-null int64\n",
      "V20_Bin      26775 non-null int64\n",
      "V21_Bin      26775 non-null int64\n",
      "V22_Bin      26775 non-null int64\n",
      "V23_Bin      26775 non-null int64\n",
      "V25_Bin      26775 non-null int64\n",
      "V26_Bin      26775 non-null int64\n",
      "V27_Bin      26775 non-null int64\n",
      "V28_Bin      26775 non-null int64\n",
      "V29_Bin      26775 non-null int64\n",
      "V31_Bin      26775 non-null int64\n",
      "V38_Bin      26775 non-null int64\n",
      "V39_Bin      26775 non-null int64\n",
      "V40_Bin      26775 non-null int64\n",
      "V50_Bin      26775 non-null int64\n",
      "V51_Bin      26775 non-null int64\n",
      "V52_Bin      26775 non-null int64\n",
      "V53_Bin      26775 non-null int64\n",
      "V32_Bin_0    26775 non-null uint8\n",
      "V32_Bin_1    26775 non-null uint8\n",
      "V32_Bin_2    26775 non-null uint8\n",
      "V32_Bin_3    26775 non-null uint8\n",
      "V33_Bin_0    26775 non-null uint8\n",
      "V33_Bin_1    26775 non-null uint8\n",
      "V33_Bin_2    26775 non-null uint8\n",
      "V33_Bin_3    26775 non-null uint8\n",
      "dtypes: float64(12), int64(18), object(3), uint8(8)\n",
      "memory usage: 6.9+ MB\n"
     ]
    }
   ],
   "source": [
    "df_aggdata_train_final.info()"
   ]
  },
  {
   "cell_type": "code",
   "execution_count": 379,
   "metadata": {
    "collapsed": false
   },
   "outputs": [],
   "source": [
    "#Step3: - Now all proceed with data treatment of transaction data\n"
   ]
  },
  {
   "cell_type": "code",
   "execution_count": 59,
   "metadata": {
    "collapsed": false
   },
   "outputs": [
    {
     "name": "stdout",
     "output_type": "stream",
     "text": [
      "Numeric Variables: ['C12']\n",
      "Categorical Variables: ['C2', 'C3', 'C4', 'C5', 'C6', 'C8', 'C9', 'C10']\n"
     ]
    }
   ],
   "source": [
    "#Get the array of numeric and categorical variables list\n",
    "numeric_var_names_txn=[key for key in dict(df_txndata_train.dtypes) if dict(df_txndata_train.dtypes)[key] in ['float64', 'int64', 'float32', 'int32']]\n",
    "cat_var_names_txn=[key for key in dict(df_txndata_train.dtypes) if dict(df_txndata_train.dtypes)[key] in ['object']]\n",
    "print(\"Numeric Variables:\", numeric_var_names_txn)\n",
    "print(\"Categorical Variables:\", cat_var_names_txn)"
   ]
  },
  {
   "cell_type": "code",
   "execution_count": 60,
   "metadata": {
    "collapsed": false
   },
   "outputs": [
    {
     "data": {
      "text/html": [
       "<div>\n",
       "<style scoped>\n",
       "    .dataframe tbody tr th:only-of-type {\n",
       "        vertical-align: middle;\n",
       "    }\n",
       "\n",
       "    .dataframe tbody tr th {\n",
       "        vertical-align: top;\n",
       "    }\n",
       "\n",
       "    .dataframe thead th {\n",
       "        text-align: right;\n",
       "    }\n",
       "</style>\n",
       "<table border=\"1\" class=\"dataframe\">\n",
       "  <thead>\n",
       "    <tr style=\"text-align: right;\">\n",
       "      <th></th>\n",
       "      <th>C12</th>\n",
       "    </tr>\n",
       "  </thead>\n",
       "  <tbody>\n",
       "    <tr>\n",
       "      <th>0</th>\n",
       "      <td>22000.0</td>\n",
       "    </tr>\n",
       "    <tr>\n",
       "      <th>1</th>\n",
       "      <td>8183.0</td>\n",
       "    </tr>\n",
       "    <tr>\n",
       "      <th>2</th>\n",
       "      <td>48900.0</td>\n",
       "    </tr>\n",
       "    <tr>\n",
       "      <th>3</th>\n",
       "      <td>1500.0</td>\n",
       "    </tr>\n",
       "    <tr>\n",
       "      <th>4</th>\n",
       "      <td>10000.0</td>\n",
       "    </tr>\n",
       "  </tbody>\n",
       "</table>\n",
       "</div>"
      ],
      "text/plain": [
       "       C12\n",
       "0  22000.0\n",
       "1   8183.0\n",
       "2  48900.0\n",
       "3   1500.0\n",
       "4  10000.0"
      ]
     },
     "execution_count": 60,
     "metadata": {},
     "output_type": "execute_result"
    }
   ],
   "source": [
    "df_txndata_train_num=df_txndata_train[numeric_var_names_txn]\n",
    "df_txndata_train_num.head(5)"
   ]
  },
  {
   "cell_type": "code",
   "execution_count": 61,
   "metadata": {
    "collapsed": false
   },
   "outputs": [
    {
     "data": {
      "text/html": [
       "<div>\n",
       "<style scoped>\n",
       "    .dataframe tbody tr th:only-of-type {\n",
       "        vertical-align: middle;\n",
       "    }\n",
       "\n",
       "    .dataframe tbody tr th {\n",
       "        vertical-align: top;\n",
       "    }\n",
       "\n",
       "    .dataframe thead th {\n",
       "        text-align: right;\n",
       "    }\n",
       "</style>\n",
       "<table border=\"1\" class=\"dataframe\">\n",
       "  <thead>\n",
       "    <tr style=\"text-align: right;\">\n",
       "      <th></th>\n",
       "      <th>C12</th>\n",
       "    </tr>\n",
       "  </thead>\n",
       "  <tbody>\n",
       "    <tr>\n",
       "      <th>0</th>\n",
       "      <td>1000.00</td>\n",
       "    </tr>\n",
       "    <tr>\n",
       "      <th>1</th>\n",
       "      <td>10000.00</td>\n",
       "    </tr>\n",
       "    <tr>\n",
       "      <th>2</th>\n",
       "      <td>23591.24</td>\n",
       "    </tr>\n",
       "    <tr>\n",
       "      <th>3</th>\n",
       "      <td>24000.00</td>\n",
       "    </tr>\n",
       "    <tr>\n",
       "      <th>4</th>\n",
       "      <td>4076.00</td>\n",
       "    </tr>\n",
       "  </tbody>\n",
       "</table>\n",
       "</div>"
      ],
      "text/plain": [
       "        C12\n",
       "0   1000.00\n",
       "1  10000.00\n",
       "2  23591.24\n",
       "3  24000.00\n",
       "4   4076.00"
      ]
     },
     "execution_count": 61,
     "metadata": {},
     "output_type": "execute_result"
    }
   ],
   "source": [
    "df_txndata_test_num=df_txndata_test[numeric_var_names_txn]\n",
    "df_txndata_test_num.head(5)"
   ]
  },
  {
   "cell_type": "code",
   "execution_count": 62,
   "metadata": {
    "collapsed": false
   },
   "outputs": [
    {
     "data": {
      "text/html": [
       "<div>\n",
       "<style scoped>\n",
       "    .dataframe tbody tr th:only-of-type {\n",
       "        vertical-align: middle;\n",
       "    }\n",
       "\n",
       "    .dataframe tbody tr th {\n",
       "        vertical-align: top;\n",
       "    }\n",
       "\n",
       "    .dataframe thead th {\n",
       "        text-align: right;\n",
       "    }\n",
       "</style>\n",
       "<table border=\"1\" class=\"dataframe\">\n",
       "  <thead>\n",
       "    <tr style=\"text-align: right;\">\n",
       "      <th></th>\n",
       "      <th>C12</th>\n",
       "    </tr>\n",
       "  </thead>\n",
       "  <tbody>\n",
       "    <tr>\n",
       "      <th>count</th>\n",
       "      <td>3.343745e+06</td>\n",
       "    </tr>\n",
       "    <tr>\n",
       "      <th>mean</th>\n",
       "      <td>7.135120e+04</td>\n",
       "    </tr>\n",
       "    <tr>\n",
       "      <th>std</th>\n",
       "      <td>5.869443e+05</td>\n",
       "    </tr>\n",
       "    <tr>\n",
       "      <th>min</th>\n",
       "      <td>-3.509258e+05</td>\n",
       "    </tr>\n",
       "    <tr>\n",
       "      <th>25%</th>\n",
       "      <td>2.000000e+03</td>\n",
       "    </tr>\n",
       "    <tr>\n",
       "      <th>50%</th>\n",
       "      <td>1.000000e+04</td>\n",
       "    </tr>\n",
       "    <tr>\n",
       "      <th>75%</th>\n",
       "      <td>3.500000e+04</td>\n",
       "    </tr>\n",
       "    <tr>\n",
       "      <th>max</th>\n",
       "      <td>5.000000e+08</td>\n",
       "    </tr>\n",
       "  </tbody>\n",
       "</table>\n",
       "</div>"
      ],
      "text/plain": [
       "                C12\n",
       "count  3.343745e+06\n",
       "mean   7.135120e+04\n",
       "std    5.869443e+05\n",
       "min   -3.509258e+05\n",
       "25%    2.000000e+03\n",
       "50%    1.000000e+04\n",
       "75%    3.500000e+04\n",
       "max    5.000000e+08"
      ]
     },
     "execution_count": 62,
     "metadata": {},
     "output_type": "execute_result"
    }
   ],
   "source": [
    "df_txndata_train_num.describe()"
   ]
  },
  {
   "cell_type": "code",
   "execution_count": 63,
   "metadata": {
    "collapsed": true
   },
   "outputs": [],
   "source": [
    "#Handling Outliers\n",
    "def outlier_capping(x):\n",
    "    x = x.clip_upper(x.quantile(0.99))\n",
    "    x = x.clip_lower(x.quantile(0.01))\n",
    "    return x\n",
    "\n",
    "df_txndata_train_num=df_txndata_train_num.apply(lambda x: outlier_capping(x))\n",
    "df_txndata_test_num=df_txndata_test_num.apply(lambda x: outlier_capping(x))"
   ]
  },
  {
   "cell_type": "code",
   "execution_count": 64,
   "metadata": {
    "collapsed": false
   },
   "outputs": [
    {
     "data": {
      "text/html": [
       "<div>\n",
       "<style scoped>\n",
       "    .dataframe tbody tr th:only-of-type {\n",
       "        vertical-align: middle;\n",
       "    }\n",
       "\n",
       "    .dataframe tbody tr th {\n",
       "        vertical-align: top;\n",
       "    }\n",
       "\n",
       "    .dataframe thead th {\n",
       "        text-align: right;\n",
       "    }\n",
       "</style>\n",
       "<table border=\"1\" class=\"dataframe\">\n",
       "  <thead>\n",
       "    <tr style=\"text-align: right;\">\n",
       "      <th></th>\n",
       "      <th>C2</th>\n",
       "      <th>C3</th>\n",
       "      <th>C4</th>\n",
       "      <th>C5</th>\n",
       "      <th>C6</th>\n",
       "      <th>C8</th>\n",
       "      <th>C9</th>\n",
       "      <th>C10</th>\n",
       "    </tr>\n",
       "  </thead>\n",
       "  <tbody>\n",
       "    <tr>\n",
       "      <th>0</th>\n",
       "      <td>6UGH4BMM1Y6P</td>\n",
       "      <td>6YPV4HMP1V5EWID</td>\n",
       "      <td>06JUL38:17:31:02</td>\n",
       "      <td>D</td>\n",
       "      <td>IAD</td>\n",
       "      <td>2038-12-30</td>\n",
       "      <td>30JUL38:00:00:00</td>\n",
       "      <td>OTHER</td>\n",
       "    </tr>\n",
       "    <tr>\n",
       "      <th>1</th>\n",
       "      <td>9Y46ZBCWRP9</td>\n",
       "      <td>61CE41JD5YMP329</td>\n",
       "      <td>05MAY38:16:46:36</td>\n",
       "      <td>D</td>\n",
       "      <td>STD</td>\n",
       "      <td>2039-06-31</td>\n",
       "      <td>28MAY38:00:00:00</td>\n",
       "      <td>FT</td>\n",
       "    </tr>\n",
       "    <tr>\n",
       "      <th>2</th>\n",
       "      <td>6Z4F3BPVME6</td>\n",
       "      <td>6UQA3CP9F95BOBD</td>\n",
       "      <td>08FEB37:15:55:28</td>\n",
       "      <td>C</td>\n",
       "      <td>OCD</td>\n",
       "      <td>2038-04-31</td>\n",
       "      <td>30FEB37:00:00:00</td>\n",
       "      <td>CHQ</td>\n",
       "    </tr>\n",
       "    <tr>\n",
       "      <th>3</th>\n",
       "      <td>6UYF21TDMPPT</td>\n",
       "      <td>BZF6Z3AJQ55MAM</td>\n",
       "      <td>24NOV38:09:48:37</td>\n",
       "      <td>D</td>\n",
       "      <td>EAW</td>\n",
       "      <td>2039-05-29</td>\n",
       "      <td>31NOV38:00:00:00</td>\n",
       "      <td>ATM</td>\n",
       "    </tr>\n",
       "    <tr>\n",
       "      <th>4</th>\n",
       "      <td>5N5ASLGMMPM</td>\n",
       "      <td>6IPA43AM4Y613SX</td>\n",
       "      <td>26OCT38:18:54:06</td>\n",
       "      <td>D</td>\n",
       "      <td>ATW</td>\n",
       "      <td>2038-03-31</td>\n",
       "      <td>31OCT38:00:00:00</td>\n",
       "      <td>ATM</td>\n",
       "    </tr>\n",
       "  </tbody>\n",
       "</table>\n",
       "</div>"
      ],
      "text/plain": [
       "             C2               C3                C4 C5   C6          C8  \\\n",
       "0  6UGH4BMM1Y6P  6YPV4HMP1V5EWID  06JUL38:17:31:02  D  IAD  2038-12-30   \n",
       "1   9Y46ZBCWRP9  61CE41JD5YMP329  05MAY38:16:46:36  D  STD  2039-06-31   \n",
       "2   6Z4F3BPVME6  6UQA3CP9F95BOBD  08FEB37:15:55:28  C  OCD  2038-04-31   \n",
       "3  6UYF21TDMPPT   BZF6Z3AJQ55MAM  24NOV38:09:48:37  D  EAW  2039-05-29   \n",
       "4   5N5ASLGMMPM  6IPA43AM4Y613SX  26OCT38:18:54:06  D  ATW  2038-03-31   \n",
       "\n",
       "                 C9    C10  \n",
       "0  30JUL38:00:00:00  OTHER  \n",
       "1  28MAY38:00:00:00     FT  \n",
       "2  30FEB37:00:00:00    CHQ  \n",
       "3  31NOV38:00:00:00    ATM  \n",
       "4  31OCT38:00:00:00    ATM  "
      ]
     },
     "execution_count": 64,
     "metadata": {},
     "output_type": "execute_result"
    }
   ],
   "source": [
    "df_txndata_train_cat = df_txndata_train[cat_var_names_txn]\n",
    "df_txndata_train_cat.head(5)"
   ]
  },
  {
   "cell_type": "code",
   "execution_count": 65,
   "metadata": {
    "collapsed": false
   },
   "outputs": [
    {
     "data": {
      "text/html": [
       "<div>\n",
       "<style scoped>\n",
       "    .dataframe tbody tr th:only-of-type {\n",
       "        vertical-align: middle;\n",
       "    }\n",
       "\n",
       "    .dataframe tbody tr th {\n",
       "        vertical-align: top;\n",
       "    }\n",
       "\n",
       "    .dataframe thead th {\n",
       "        text-align: right;\n",
       "    }\n",
       "</style>\n",
       "<table border=\"1\" class=\"dataframe\">\n",
       "  <thead>\n",
       "    <tr style=\"text-align: right;\">\n",
       "      <th></th>\n",
       "      <th>C2</th>\n",
       "      <th>C3</th>\n",
       "      <th>C4</th>\n",
       "      <th>C5</th>\n",
       "      <th>C6</th>\n",
       "      <th>C8</th>\n",
       "      <th>C9</th>\n",
       "      <th>C10</th>\n",
       "    </tr>\n",
       "  </thead>\n",
       "  <tbody>\n",
       "    <tr>\n",
       "      <th>0</th>\n",
       "      <td>IYH6EOT91IN</td>\n",
       "      <td>6I5V3CKDUVTER3U</td>\n",
       "      <td>16JAN37:23:42:31</td>\n",
       "      <td>D</td>\n",
       "      <td>RDD</td>\n",
       "      <td>2038-02-30</td>\n",
       "      <td>31JAN37:00:00:00</td>\n",
       "      <td>SWEEP</td>\n",
       "    </tr>\n",
       "    <tr>\n",
       "      <th>1</th>\n",
       "      <td>6NF44HKS8VNP</td>\n",
       "      <td>68BV39T3U86732X</td>\n",
       "      <td>01MAR37:10:24:25</td>\n",
       "      <td>D</td>\n",
       "      <td>NWD</td>\n",
       "      <td>2038-12-30</td>\n",
       "      <td>31MAR37:00:00:00</td>\n",
       "      <td>ATM</td>\n",
       "    </tr>\n",
       "    <tr>\n",
       "      <th>2</th>\n",
       "      <td>6LFE2QYJ56TM</td>\n",
       "      <td>6UHW3BHJGEWE93X</td>\n",
       "      <td>23APR38:09:33:09</td>\n",
       "      <td>C</td>\n",
       "      <td>MCR</td>\n",
       "      <td>2038-07-30</td>\n",
       "      <td>31APR38:00:00:00</td>\n",
       "      <td>OTHER</td>\n",
       "    </tr>\n",
       "    <tr>\n",
       "      <th>3</th>\n",
       "      <td>61QE4KT94V5N</td>\n",
       "      <td>6XBA4KPWF94NEBQ</td>\n",
       "      <td>30SEP38:17:30:56</td>\n",
       "      <td>D</td>\n",
       "      <td>ETD</td>\n",
       "      <td>2039-05-29</td>\n",
       "      <td>30SEP38:00:00:00</td>\n",
       "      <td>OTHER</td>\n",
       "    </tr>\n",
       "    <tr>\n",
       "      <th>4</th>\n",
       "      <td>6XGA3KPVR7WH</td>\n",
       "      <td>5NFF4KADUV41J</td>\n",
       "      <td>23DEC37:19:37:08</td>\n",
       "      <td>C</td>\n",
       "      <td>OCD</td>\n",
       "      <td>2038-01-31</td>\n",
       "      <td>30DEC37:00:00:00</td>\n",
       "      <td>CHQ</td>\n",
       "    </tr>\n",
       "  </tbody>\n",
       "</table>\n",
       "</div>"
      ],
      "text/plain": [
       "             C2               C3                C4 C5   C6          C8  \\\n",
       "0   IYH6EOT91IN  6I5V3CKDUVTER3U  16JAN37:23:42:31  D  RDD  2038-02-30   \n",
       "1  6NF44HKS8VNP  68BV39T3U86732X  01MAR37:10:24:25  D  NWD  2038-12-30   \n",
       "2  6LFE2QYJ56TM  6UHW3BHJGEWE93X  23APR38:09:33:09  C  MCR  2038-07-30   \n",
       "3  61QE4KT94V5N  6XBA4KPWF94NEBQ  30SEP38:17:30:56  D  ETD  2039-05-29   \n",
       "4  6XGA3KPVR7WH    5NFF4KADUV41J  23DEC37:19:37:08  C  OCD  2038-01-31   \n",
       "\n",
       "                 C9    C10  \n",
       "0  31JAN37:00:00:00  SWEEP  \n",
       "1  31MAR37:00:00:00    ATM  \n",
       "2  31APR38:00:00:00  OTHER  \n",
       "3  30SEP38:00:00:00  OTHER  \n",
       "4  30DEC37:00:00:00    CHQ  "
      ]
     },
     "execution_count": 65,
     "metadata": {},
     "output_type": "execute_result"
    }
   ],
   "source": [
    "df_txndata_test_cat = df_txndata_test[cat_var_names_txn]\n",
    "df_txndata_test_cat.head(5)"
   ]
  },
  {
   "cell_type": "code",
   "execution_count": 66,
   "metadata": {
    "collapsed": true
   },
   "outputs": [],
   "source": [
    "num_summary_txn=df_txndata_train_num.apply(lambda x: var_summary(x)).T"
   ]
  },
  {
   "cell_type": "code",
   "execution_count": 67,
   "metadata": {
    "collapsed": true
   },
   "outputs": [],
   "source": [
    "num_summary_txn_test=df_txndata_test_num.apply(lambda x: var_summary(x)).T"
   ]
  },
  {
   "cell_type": "code",
   "execution_count": 67,
   "metadata": {
    "collapsed": false
   },
   "outputs": [
    {
     "data": {
      "text/html": [
       "<div>\n",
       "<style scoped>\n",
       "    .dataframe tbody tr th:only-of-type {\n",
       "        vertical-align: middle;\n",
       "    }\n",
       "\n",
       "    .dataframe tbody tr th {\n",
       "        vertical-align: top;\n",
       "    }\n",
       "\n",
       "    .dataframe thead th {\n",
       "        text-align: right;\n",
       "    }\n",
       "</style>\n",
       "<table border=\"1\" class=\"dataframe\">\n",
       "  <thead>\n",
       "    <tr style=\"text-align: right;\">\n",
       "      <th></th>\n",
       "      <th>N</th>\n",
       "      <th>NMISS</th>\n",
       "      <th>SUM</th>\n",
       "      <th>MEAN</th>\n",
       "      <th>MEDIAN</th>\n",
       "      <th>STD</th>\n",
       "      <th>VAR</th>\n",
       "      <th>MIN</th>\n",
       "      <th>P1</th>\n",
       "      <th>P5</th>\n",
       "      <th>P10</th>\n",
       "      <th>P25</th>\n",
       "      <th>P50</th>\n",
       "      <th>P75</th>\n",
       "      <th>P90</th>\n",
       "      <th>P95</th>\n",
       "      <th>P99</th>\n",
       "      <th>MAX</th>\n",
       "    </tr>\n",
       "  </thead>\n",
       "  <tbody>\n",
       "    <tr>\n",
       "      <th>C12</th>\n",
       "      <td>3343745.0</td>\n",
       "      <td>0.0</td>\n",
       "      <td>1.821048e+11</td>\n",
       "      <td>54461.321702</td>\n",
       "      <td>10000.0</td>\n",
       "      <td>142955.210177</td>\n",
       "      <td>2.043619e+10</td>\n",
       "      <td>5.62</td>\n",
       "      <td>5.62</td>\n",
       "      <td>28.09</td>\n",
       "      <td>206.1</td>\n",
       "      <td>2000.0</td>\n",
       "      <td>10000.0</td>\n",
       "      <td>35000.0</td>\n",
       "      <td>116000.0</td>\n",
       "      <td>265000.0</td>\n",
       "      <td>1000000.0</td>\n",
       "      <td>1000000.0</td>\n",
       "    </tr>\n",
       "  </tbody>\n",
       "</table>\n",
       "</div>"
      ],
      "text/plain": [
       "             N  NMISS           SUM          MEAN   MEDIAN            STD  \\\n",
       "C12  3343745.0    0.0  1.821048e+11  54461.321702  10000.0  142955.210177   \n",
       "\n",
       "              VAR   MIN    P1     P5    P10     P25      P50      P75  \\\n",
       "C12  2.043619e+10  5.62  5.62  28.09  206.1  2000.0  10000.0  35000.0   \n",
       "\n",
       "          P90       P95        P99        MAX  \n",
       "C12  116000.0  265000.0  1000000.0  1000000.0  "
      ]
     },
     "execution_count": 67,
     "metadata": {},
     "output_type": "execute_result"
    }
   ],
   "source": [
    "num_summary_txn"
   ]
  },
  {
   "cell_type": "code",
   "execution_count": 215,
   "metadata": {
    "collapsed": false
   },
   "outputs": [],
   "source": [
    "#Detailed profiling using pandas profiling\n",
    "profile_txndata_train=pandas_profiling.ProfileReport(df_txndata_train)\n"
   ]
  },
  {
   "cell_type": "code",
   "execution_count": 216,
   "metadata": {
    "collapsed": true
   },
   "outputs": [],
   "source": [
    "profile_txndata_train.to_file(outputfile = \"C:/sandeep_operabackup/Analytics/HackerEarth/HDFC Credit Scoring/Txndata_train_profile1111.html\")"
   ]
  },
  {
   "cell_type": "code",
   "execution_count": 68,
   "metadata": {
    "collapsed": true
   },
   "outputs": [],
   "source": [
    "df_txndata_train_original = df_txndata_train"
   ]
  },
  {
   "cell_type": "code",
   "execution_count": 69,
   "metadata": {
    "collapsed": true
   },
   "outputs": [],
   "source": [
    "df_txndata_test_original = df_txndata_test"
   ]
  },
  {
   "cell_type": "code",
   "execution_count": 70,
   "metadata": {
    "collapsed": false
   },
   "outputs": [
    {
     "data": {
      "text/plain": [
       "25673"
      ]
     },
     "execution_count": 70,
     "metadata": {},
     "output_type": "execute_result"
    }
   ],
   "source": [
    "df_txndata_train['C2'].nunique()"
   ]
  },
  {
   "cell_type": "code",
   "execution_count": 71,
   "metadata": {
    "collapsed": false
   },
   "outputs": [
    {
     "data": {
      "text/plain": [
       "25719"
      ]
     },
     "execution_count": 71,
     "metadata": {},
     "output_type": "execute_result"
    }
   ],
   "source": [
    "df_txndata_test['C2'].nunique()"
   ]
  },
  {
   "cell_type": "code",
   "execution_count": 71,
   "metadata": {
    "collapsed": false
   },
   "outputs": [
    {
     "data": {
      "text/plain": [
       "25673"
      ]
     },
     "execution_count": 71,
     "metadata": {},
     "output_type": "execute_result"
    }
   ],
   "source": [
    "df_aggdata_train_final['V2'].nunique()"
   ]
  },
  {
   "cell_type": "code",
   "execution_count": 273,
   "metadata": {
    "collapsed": false
   },
   "outputs": [],
   "source": [
    "#df_aggdata_train_final_new=df_aggdata_train_final.groupby(['V2'],as_index=False)[['V4', 'V16', 'V19', 'V20', 'V21', 'V22', 'V23', 'V24', 'V25', 'V26', 'V27', 'V28', 'V29', 'V30', 'V31', 'V32', 'V33', 'V34', 'V38', 'V39', 'V40', 'V43', 'V51', 'V53']].sum()"
   ]
  },
  {
   "cell_type": "code",
   "execution_count": 274,
   "metadata": {
    "collapsed": false
   },
   "outputs": [
    {
     "data": {
      "text/html": [
       "<div>\n",
       "<style scoped>\n",
       "    .dataframe tbody tr th:only-of-type {\n",
       "        vertical-align: middle;\n",
       "    }\n",
       "\n",
       "    .dataframe tbody tr th {\n",
       "        vertical-align: top;\n",
       "    }\n",
       "\n",
       "    .dataframe thead th {\n",
       "        text-align: right;\n",
       "    }\n",
       "</style>\n",
       "<table border=\"1\" class=\"dataframe\">\n",
       "  <thead>\n",
       "    <tr style=\"text-align: right;\">\n",
       "      <th></th>\n",
       "      <th>V2</th>\n",
       "      <th>V4</th>\n",
       "      <th>V16</th>\n",
       "      <th>V19</th>\n",
       "      <th>V20</th>\n",
       "      <th>V21</th>\n",
       "      <th>V22</th>\n",
       "      <th>V23</th>\n",
       "      <th>V24</th>\n",
       "      <th>V25</th>\n",
       "      <th>...</th>\n",
       "      <th>V31</th>\n",
       "      <th>V32</th>\n",
       "      <th>V33</th>\n",
       "      <th>V34</th>\n",
       "      <th>V38</th>\n",
       "      <th>V39</th>\n",
       "      <th>V40</th>\n",
       "      <th>V43</th>\n",
       "      <th>V51</th>\n",
       "      <th>V53</th>\n",
       "    </tr>\n",
       "  </thead>\n",
       "  <tbody>\n",
       "    <tr>\n",
       "      <th>0</th>\n",
       "      <td>01444BK345</td>\n",
       "      <td>3008.654726</td>\n",
       "      <td>197374.00</td>\n",
       "      <td>6.0</td>\n",
       "      <td>0.0</td>\n",
       "      <td>0.0</td>\n",
       "      <td>0.0</td>\n",
       "      <td>0.0</td>\n",
       "      <td>0.0</td>\n",
       "      <td>0.0</td>\n",
       "      <td>...</td>\n",
       "      <td>0.0</td>\n",
       "      <td>16.0</td>\n",
       "      <td>2.0</td>\n",
       "      <td>0.0</td>\n",
       "      <td>0.0</td>\n",
       "      <td>0.0</td>\n",
       "      <td>0.0</td>\n",
       "      <td>7.473579</td>\n",
       "      <td>1.000000</td>\n",
       "      <td>8.00000</td>\n",
       "    </tr>\n",
       "    <tr>\n",
       "      <th>1</th>\n",
       "      <td>01451CHSFI</td>\n",
       "      <td>22182.680000</td>\n",
       "      <td>25837032.77</td>\n",
       "      <td>0.0</td>\n",
       "      <td>13.0</td>\n",
       "      <td>0.0</td>\n",
       "      <td>0.0</td>\n",
       "      <td>0.0</td>\n",
       "      <td>0.0</td>\n",
       "      <td>0.0</td>\n",
       "      <td>...</td>\n",
       "      <td>0.0</td>\n",
       "      <td>52.0</td>\n",
       "      <td>434.6</td>\n",
       "      <td>0.0</td>\n",
       "      <td>0.0</td>\n",
       "      <td>0.0</td>\n",
       "      <td>4.0</td>\n",
       "      <td>0.071500</td>\n",
       "      <td>3.000000</td>\n",
       "      <td>7.27581</td>\n",
       "    </tr>\n",
       "    <tr>\n",
       "      <th>2</th>\n",
       "      <td>01453CCPF6G</td>\n",
       "      <td>222.140000</td>\n",
       "      <td>2498916.00</td>\n",
       "      <td>53.3</td>\n",
       "      <td>16.0</td>\n",
       "      <td>0.0</td>\n",
       "      <td>0.0</td>\n",
       "      <td>0.0</td>\n",
       "      <td>0.0</td>\n",
       "      <td>0.0</td>\n",
       "      <td>...</td>\n",
       "      <td>0.0</td>\n",
       "      <td>45.0</td>\n",
       "      <td>126.0</td>\n",
       "      <td>0.0</td>\n",
       "      <td>0.0</td>\n",
       "      <td>0.0</td>\n",
       "      <td>0.0</td>\n",
       "      <td>0.009460</td>\n",
       "      <td>4.000000</td>\n",
       "      <td>1.00000</td>\n",
       "    </tr>\n",
       "    <tr>\n",
       "      <th>3</th>\n",
       "      <td>0145EKTVGVT</td>\n",
       "      <td>3008.654726</td>\n",
       "      <td>16200.00</td>\n",
       "      <td>0.0</td>\n",
       "      <td>0.0</td>\n",
       "      <td>0.0</td>\n",
       "      <td>0.0</td>\n",
       "      <td>0.0</td>\n",
       "      <td>0.0</td>\n",
       "      <td>0.0</td>\n",
       "      <td>...</td>\n",
       "      <td>0.0</td>\n",
       "      <td>2.0</td>\n",
       "      <td>2.0</td>\n",
       "      <td>0.0</td>\n",
       "      <td>0.0</td>\n",
       "      <td>0.0</td>\n",
       "      <td>0.0</td>\n",
       "      <td>7.473579</td>\n",
       "      <td>6.356078</td>\n",
       "      <td>7.27581</td>\n",
       "    </tr>\n",
       "    <tr>\n",
       "      <th>4</th>\n",
       "      <td>0145S3AS46</td>\n",
       "      <td>267.420000</td>\n",
       "      <td>2928646.15</td>\n",
       "      <td>0.0</td>\n",
       "      <td>5.0</td>\n",
       "      <td>0.0</td>\n",
       "      <td>0.0</td>\n",
       "      <td>0.0</td>\n",
       "      <td>0.0</td>\n",
       "      <td>0.0</td>\n",
       "      <td>...</td>\n",
       "      <td>0.0</td>\n",
       "      <td>25.0</td>\n",
       "      <td>109.0</td>\n",
       "      <td>0.0</td>\n",
       "      <td>0.0</td>\n",
       "      <td>0.0</td>\n",
       "      <td>2.0</td>\n",
       "      <td>0.008790</td>\n",
       "      <td>6.356078</td>\n",
       "      <td>1.00000</td>\n",
       "    </tr>\n",
       "  </tbody>\n",
       "</table>\n",
       "<p>5 rows × 25 columns</p>\n",
       "</div>"
      ],
      "text/plain": [
       "            V2            V4          V16   V19   V20  V21  V22  V23  V24  \\\n",
       "0   01444BK345   3008.654726    197374.00   6.0   0.0  0.0  0.0  0.0  0.0   \n",
       "1   01451CHSFI  22182.680000  25837032.77   0.0  13.0  0.0  0.0  0.0  0.0   \n",
       "2  01453CCPF6G    222.140000   2498916.00  53.3  16.0  0.0  0.0  0.0  0.0   \n",
       "3  0145EKTVGVT   3008.654726     16200.00   0.0   0.0  0.0  0.0  0.0  0.0   \n",
       "4   0145S3AS46    267.420000   2928646.15   0.0   5.0  0.0  0.0  0.0  0.0   \n",
       "\n",
       "   V25   ...     V31   V32    V33  V34  V38  V39  V40       V43       V51  \\\n",
       "0  0.0   ...     0.0  16.0    2.0  0.0  0.0  0.0  0.0  7.473579  1.000000   \n",
       "1  0.0   ...     0.0  52.0  434.6  0.0  0.0  0.0  4.0  0.071500  3.000000   \n",
       "2  0.0   ...     0.0  45.0  126.0  0.0  0.0  0.0  0.0  0.009460  4.000000   \n",
       "3  0.0   ...     0.0   2.0    2.0  0.0  0.0  0.0  0.0  7.473579  6.356078   \n",
       "4  0.0   ...     0.0  25.0  109.0  0.0  0.0  0.0  2.0  0.008790  6.356078   \n",
       "\n",
       "       V53  \n",
       "0  8.00000  \n",
       "1  7.27581  \n",
       "2  1.00000  \n",
       "3  7.27581  \n",
       "4  1.00000  \n",
       "\n",
       "[5 rows x 25 columns]"
      ]
     },
     "execution_count": 274,
     "metadata": {},
     "output_type": "execute_result"
    }
   ],
   "source": [
    "##Now we have Agg data rolled up to UID level and in a state to carry out EDA\n",
    "#df_aggdata_train_final_new.head()"
   ]
  },
  {
   "cell_type": "code",
   "execution_count": 54,
   "metadata": {
    "collapsed": false
   },
   "outputs": [
    {
     "data": {
      "text/html": [
       "<div>\n",
       "<style scoped>\n",
       "    .dataframe tbody tr th:only-of-type {\n",
       "        vertical-align: middle;\n",
       "    }\n",
       "\n",
       "    .dataframe tbody tr th {\n",
       "        vertical-align: top;\n",
       "    }\n",
       "\n",
       "    .dataframe thead th {\n",
       "        text-align: right;\n",
       "    }\n",
       "</style>\n",
       "<table border=\"1\" class=\"dataframe\">\n",
       "  <thead>\n",
       "    <tr style=\"text-align: right;\">\n",
       "      <th></th>\n",
       "      <th>C2</th>\n",
       "      <th>C3</th>\n",
       "      <th>C4</th>\n",
       "      <th>C5</th>\n",
       "      <th>C6</th>\n",
       "      <th>C8</th>\n",
       "      <th>C9</th>\n",
       "      <th>C10</th>\n",
       "      <th>C12</th>\n",
       "    </tr>\n",
       "  </thead>\n",
       "  <tbody>\n",
       "    <tr>\n",
       "      <th>0</th>\n",
       "      <td>6UGH4BMM1Y6P</td>\n",
       "      <td>6YPV4HMP1V5EWID</td>\n",
       "      <td>06JUL38:17:31:02</td>\n",
       "      <td>D</td>\n",
       "      <td>IAD</td>\n",
       "      <td>2038-12-30</td>\n",
       "      <td>30JUL38:00:00:00</td>\n",
       "      <td>OTHER</td>\n",
       "      <td>22000.0</td>\n",
       "    </tr>\n",
       "    <tr>\n",
       "      <th>1</th>\n",
       "      <td>9Y46ZBCWRP9</td>\n",
       "      <td>61CE41JD5YMP329</td>\n",
       "      <td>05MAY38:16:46:36</td>\n",
       "      <td>D</td>\n",
       "      <td>STD</td>\n",
       "      <td>2039-06-31</td>\n",
       "      <td>28MAY38:00:00:00</td>\n",
       "      <td>FT</td>\n",
       "      <td>8183.0</td>\n",
       "    </tr>\n",
       "    <tr>\n",
       "      <th>2</th>\n",
       "      <td>6Z4F3BPVME6</td>\n",
       "      <td>6UQA3CP9F95BOBD</td>\n",
       "      <td>08FEB37:15:55:28</td>\n",
       "      <td>C</td>\n",
       "      <td>OCD</td>\n",
       "      <td>2038-04-31</td>\n",
       "      <td>30FEB37:00:00:00</td>\n",
       "      <td>CHQ</td>\n",
       "      <td>48900.0</td>\n",
       "    </tr>\n",
       "    <tr>\n",
       "      <th>3</th>\n",
       "      <td>6UYF21TDMPPT</td>\n",
       "      <td>BZF6Z3AJQ55MAM</td>\n",
       "      <td>24NOV38:09:48:37</td>\n",
       "      <td>D</td>\n",
       "      <td>EAW</td>\n",
       "      <td>2039-05-29</td>\n",
       "      <td>31NOV38:00:00:00</td>\n",
       "      <td>ATM</td>\n",
       "      <td>1500.0</td>\n",
       "    </tr>\n",
       "    <tr>\n",
       "      <th>4</th>\n",
       "      <td>5N5ASLGMMPM</td>\n",
       "      <td>6IPA43AM4Y613SX</td>\n",
       "      <td>26OCT38:18:54:06</td>\n",
       "      <td>D</td>\n",
       "      <td>ATW</td>\n",
       "      <td>2038-03-31</td>\n",
       "      <td>31OCT38:00:00:00</td>\n",
       "      <td>ATM</td>\n",
       "      <td>10000.0</td>\n",
       "    </tr>\n",
       "  </tbody>\n",
       "</table>\n",
       "</div>"
      ],
      "text/plain": [
       "             C2               C3                C4 C5   C6          C8  \\\n",
       "0  6UGH4BMM1Y6P  6YPV4HMP1V5EWID  06JUL38:17:31:02  D  IAD  2038-12-30   \n",
       "1   9Y46ZBCWRP9  61CE41JD5YMP329  05MAY38:16:46:36  D  STD  2039-06-31   \n",
       "2   6Z4F3BPVME6  6UQA3CP9F95BOBD  08FEB37:15:55:28  C  OCD  2038-04-31   \n",
       "3  6UYF21TDMPPT   BZF6Z3AJQ55MAM  24NOV38:09:48:37  D  EAW  2039-05-29   \n",
       "4   5N5ASLGMMPM  6IPA43AM4Y613SX  26OCT38:18:54:06  D  ATW  2038-03-31   \n",
       "\n",
       "                 C9    C10      C12  \n",
       "0  30JUL38:00:00:00  OTHER  22000.0  \n",
       "1  28MAY38:00:00:00     FT   8183.0  \n",
       "2  30FEB37:00:00:00    CHQ  48900.0  \n",
       "3  31NOV38:00:00:00    ATM   1500.0  \n",
       "4  31OCT38:00:00:00    ATM  10000.0  "
      ]
     },
     "execution_count": 54,
     "metadata": {},
     "output_type": "execute_result"
    }
   ],
   "source": [
    "df_txndata_train.head()"
   ]
  },
  {
   "cell_type": "code",
   "execution_count": 54,
   "metadata": {
    "collapsed": false
   },
   "outputs": [
    {
     "name": "stdout",
     "output_type": "stream",
     "text": [
      "<class 'pandas.core.frame.DataFrame'>\n",
      "RangeIndex: 3343745 entries, 0 to 3343744\n",
      "Data columns (total 9 columns):\n",
      "C2     object\n",
      "C3     object\n",
      "C4     object\n",
      "C5     object\n",
      "C6     object\n",
      "C8     object\n",
      "C9     object\n",
      "C10    object\n",
      "C12    float64\n",
      "dtypes: float64(1), object(8)\n",
      "memory usage: 229.6+ MB\n"
     ]
    }
   ],
   "source": [
    "df_txndata_train.info()"
   ]
  },
  {
   "cell_type": "code",
   "execution_count": 55,
   "metadata": {
    "collapsed": false
   },
   "outputs": [
    {
     "data": {
      "text/html": [
       "<div>\n",
       "<style scoped>\n",
       "    .dataframe tbody tr th:only-of-type {\n",
       "        vertical-align: middle;\n",
       "    }\n",
       "\n",
       "    .dataframe tbody tr th {\n",
       "        vertical-align: top;\n",
       "    }\n",
       "\n",
       "    .dataframe thead th {\n",
       "        text-align: right;\n",
       "    }\n",
       "</style>\n",
       "<table border=\"1\" class=\"dataframe\">\n",
       "  <thead>\n",
       "    <tr style=\"text-align: right;\">\n",
       "      <th></th>\n",
       "      <th>C2</th>\n",
       "      <th>C3</th>\n",
       "      <th>C4</th>\n",
       "      <th>C5</th>\n",
       "      <th>C6</th>\n",
       "      <th>C8</th>\n",
       "      <th>C9</th>\n",
       "      <th>C10</th>\n",
       "      <th>C12</th>\n",
       "    </tr>\n",
       "  </thead>\n",
       "  <tbody>\n",
       "    <tr>\n",
       "      <th>0</th>\n",
       "      <td>6UGH4BMM1Y6P</td>\n",
       "      <td>6YPV4HMP1V5EWID</td>\n",
       "      <td>06JUL38:17:31:02</td>\n",
       "      <td>D</td>\n",
       "      <td>IAD</td>\n",
       "      <td>2038-12-30</td>\n",
       "      <td>30JUL38:00:00:00</td>\n",
       "      <td>OTHER</td>\n",
       "      <td>22000.0</td>\n",
       "    </tr>\n",
       "    <tr>\n",
       "      <th>1</th>\n",
       "      <td>9Y46ZBCWRP9</td>\n",
       "      <td>61CE41JD5YMP329</td>\n",
       "      <td>05MAY38:16:46:36</td>\n",
       "      <td>D</td>\n",
       "      <td>STD</td>\n",
       "      <td>2039-06-31</td>\n",
       "      <td>28MAY38:00:00:00</td>\n",
       "      <td>FT</td>\n",
       "      <td>8183.0</td>\n",
       "    </tr>\n",
       "    <tr>\n",
       "      <th>2</th>\n",
       "      <td>6Z4F3BPVME6</td>\n",
       "      <td>6UQA3CP9F95BOBD</td>\n",
       "      <td>08FEB37:15:55:28</td>\n",
       "      <td>C</td>\n",
       "      <td>OCD</td>\n",
       "      <td>2038-04-31</td>\n",
       "      <td>30FEB37:00:00:00</td>\n",
       "      <td>CHQ</td>\n",
       "      <td>48900.0</td>\n",
       "    </tr>\n",
       "    <tr>\n",
       "      <th>3</th>\n",
       "      <td>6UYF21TDMPPT</td>\n",
       "      <td>BZF6Z3AJQ55MAM</td>\n",
       "      <td>24NOV38:09:48:37</td>\n",
       "      <td>D</td>\n",
       "      <td>EAW</td>\n",
       "      <td>2039-05-29</td>\n",
       "      <td>31NOV38:00:00:00</td>\n",
       "      <td>ATM</td>\n",
       "      <td>1500.0</td>\n",
       "    </tr>\n",
       "    <tr>\n",
       "      <th>4</th>\n",
       "      <td>5N5ASLGMMPM</td>\n",
       "      <td>6IPA43AM4Y613SX</td>\n",
       "      <td>26OCT38:18:54:06</td>\n",
       "      <td>D</td>\n",
       "      <td>ATW</td>\n",
       "      <td>2038-03-31</td>\n",
       "      <td>31OCT38:00:00:00</td>\n",
       "      <td>ATM</td>\n",
       "      <td>10000.0</td>\n",
       "    </tr>\n",
       "  </tbody>\n",
       "</table>\n",
       "</div>"
      ],
      "text/plain": [
       "             C2               C3                C4 C5   C6          C8  \\\n",
       "0  6UGH4BMM1Y6P  6YPV4HMP1V5EWID  06JUL38:17:31:02  D  IAD  2038-12-30   \n",
       "1   9Y46ZBCWRP9  61CE41JD5YMP329  05MAY38:16:46:36  D  STD  2039-06-31   \n",
       "2   6Z4F3BPVME6  6UQA3CP9F95BOBD  08FEB37:15:55:28  C  OCD  2038-04-31   \n",
       "3  6UYF21TDMPPT   BZF6Z3AJQ55MAM  24NOV38:09:48:37  D  EAW  2039-05-29   \n",
       "4   5N5ASLGMMPM  6IPA43AM4Y613SX  26OCT38:18:54:06  D  ATW  2038-03-31   \n",
       "\n",
       "                 C9    C10      C12  \n",
       "0  30JUL38:00:00:00  OTHER  22000.0  \n",
       "1  28MAY38:00:00:00     FT   8183.0  \n",
       "2  30FEB37:00:00:00    CHQ  48900.0  \n",
       "3  31NOV38:00:00:00    ATM   1500.0  \n",
       "4  31OCT38:00:00:00    ATM  10000.0  "
      ]
     },
     "execution_count": 55,
     "metadata": {},
     "output_type": "execute_result"
    }
   ],
   "source": [
    "df_txndata_train.head()"
   ]
  },
  {
   "cell_type": "code",
   "execution_count": 72,
   "metadata": {
    "collapsed": false
   },
   "outputs": [],
   "source": [
    "df_txndata_train['Txndate'] = df_txndata_train['C4'].astype(str).str[0:2]+'-'+df_txndata_train['C4'].astype(str).str[2:5]+'-'+'20'+df_txndata_train['C4'].astype(str).str[5:7]"
   ]
  },
  {
   "cell_type": "code",
   "execution_count": 73,
   "metadata": {
    "collapsed": true
   },
   "outputs": [],
   "source": [
    "df_txndata_train['TxnEOMdate'] = df_txndata_train['C9'].astype(str).str[0:2]+'-'+df_txndata_train['C9'].astype(str).str[2:5]+'-'+'20'+df_txndata_train['C9'].astype(str).str[5:7]"
   ]
  },
  {
   "cell_type": "code",
   "execution_count": 74,
   "metadata": {
    "collapsed": true
   },
   "outputs": [],
   "source": [
    "df_txndata_test['Txndate'] = df_txndata_test['C4'].astype(str).str[0:2]+'-'+df_txndata_test['C4'].astype(str).str[2:5]+'-'+'20'+df_txndata_test['C4'].astype(str).str[5:7]"
   ]
  },
  {
   "cell_type": "code",
   "execution_count": 75,
   "metadata": {
    "collapsed": true
   },
   "outputs": [],
   "source": [
    "df_txndata_test['TxnEOMdate'] = df_txndata_test['C9'].astype(str).str[0:2]+'-'+df_txndata_test['C9'].astype(str).str[2:5]+'-'+'20'+df_txndata_test['C9'].astype(str).str[5:7]"
   ]
  },
  {
   "cell_type": "code",
   "execution_count": 76,
   "metadata": {
    "collapsed": true
   },
   "outputs": [],
   "source": [
    "from datetime import datetime\n"
   ]
  },
  {
   "cell_type": "code",
   "execution_count": 80,
   "metadata": {
    "collapsed": false
   },
   "outputs": [
    {
     "data": {
      "text/html": [
       "<div>\n",
       "<style scoped>\n",
       "    .dataframe tbody tr th:only-of-type {\n",
       "        vertical-align: middle;\n",
       "    }\n",
       "\n",
       "    .dataframe tbody tr th {\n",
       "        vertical-align: top;\n",
       "    }\n",
       "\n",
       "    .dataframe thead th {\n",
       "        text-align: right;\n",
       "    }\n",
       "</style>\n",
       "<table border=\"1\" class=\"dataframe\">\n",
       "  <thead>\n",
       "    <tr style=\"text-align: right;\">\n",
       "      <th></th>\n",
       "      <th>C2</th>\n",
       "      <th>C3</th>\n",
       "      <th>C4</th>\n",
       "      <th>C5</th>\n",
       "      <th>C6</th>\n",
       "      <th>C8</th>\n",
       "      <th>C9</th>\n",
       "      <th>C10</th>\n",
       "      <th>C12</th>\n",
       "      <th>Txndate</th>\n",
       "      <th>TxnEOMdate</th>\n",
       "    </tr>\n",
       "  </thead>\n",
       "  <tbody>\n",
       "    <tr>\n",
       "      <th>0</th>\n",
       "      <td>6UGH4BMM1Y6P</td>\n",
       "      <td>6YPV4HMP1V5EWID</td>\n",
       "      <td>06JUL38:17:31:02</td>\n",
       "      <td>D</td>\n",
       "      <td>IAD</td>\n",
       "      <td>2038-12-30</td>\n",
       "      <td>30JUL38:00:00:00</td>\n",
       "      <td>OTHER</td>\n",
       "      <td>22000.0</td>\n",
       "      <td>06-JUL-2038</td>\n",
       "      <td>30-JUL-2038</td>\n",
       "    </tr>\n",
       "    <tr>\n",
       "      <th>1</th>\n",
       "      <td>9Y46ZBCWRP9</td>\n",
       "      <td>61CE41JD5YMP329</td>\n",
       "      <td>05MAY38:16:46:36</td>\n",
       "      <td>D</td>\n",
       "      <td>STD</td>\n",
       "      <td>2039-06-31</td>\n",
       "      <td>28MAY38:00:00:00</td>\n",
       "      <td>FT</td>\n",
       "      <td>8183.0</td>\n",
       "      <td>05-MAY-2038</td>\n",
       "      <td>28-MAY-2038</td>\n",
       "    </tr>\n",
       "    <tr>\n",
       "      <th>2</th>\n",
       "      <td>6Z4F3BPVME6</td>\n",
       "      <td>6UQA3CP9F95BOBD</td>\n",
       "      <td>08FEB37:15:55:28</td>\n",
       "      <td>C</td>\n",
       "      <td>OCD</td>\n",
       "      <td>2038-04-31</td>\n",
       "      <td>30FEB37:00:00:00</td>\n",
       "      <td>CHQ</td>\n",
       "      <td>48900.0</td>\n",
       "      <td>08-FEB-2037</td>\n",
       "      <td>30-FEB-2037</td>\n",
       "    </tr>\n",
       "    <tr>\n",
       "      <th>3</th>\n",
       "      <td>6UYF21TDMPPT</td>\n",
       "      <td>BZF6Z3AJQ55MAM</td>\n",
       "      <td>24NOV38:09:48:37</td>\n",
       "      <td>D</td>\n",
       "      <td>EAW</td>\n",
       "      <td>2039-05-29</td>\n",
       "      <td>31NOV38:00:00:00</td>\n",
       "      <td>ATM</td>\n",
       "      <td>1500.0</td>\n",
       "      <td>24-NOV-2038</td>\n",
       "      <td>31-NOV-2038</td>\n",
       "    </tr>\n",
       "    <tr>\n",
       "      <th>4</th>\n",
       "      <td>5N5ASLGMMPM</td>\n",
       "      <td>6IPA43AM4Y613SX</td>\n",
       "      <td>26OCT38:18:54:06</td>\n",
       "      <td>D</td>\n",
       "      <td>ATW</td>\n",
       "      <td>2038-03-31</td>\n",
       "      <td>31OCT38:00:00:00</td>\n",
       "      <td>ATM</td>\n",
       "      <td>10000.0</td>\n",
       "      <td>26-OCT-2038</td>\n",
       "      <td>31-OCT-2038</td>\n",
       "    </tr>\n",
       "  </tbody>\n",
       "</table>\n",
       "</div>"
      ],
      "text/plain": [
       "             C2               C3                C4 C5   C6          C8  \\\n",
       "0  6UGH4BMM1Y6P  6YPV4HMP1V5EWID  06JUL38:17:31:02  D  IAD  2038-12-30   \n",
       "1   9Y46ZBCWRP9  61CE41JD5YMP329  05MAY38:16:46:36  D  STD  2039-06-31   \n",
       "2   6Z4F3BPVME6  6UQA3CP9F95BOBD  08FEB37:15:55:28  C  OCD  2038-04-31   \n",
       "3  6UYF21TDMPPT   BZF6Z3AJQ55MAM  24NOV38:09:48:37  D  EAW  2039-05-29   \n",
       "4   5N5ASLGMMPM  6IPA43AM4Y613SX  26OCT38:18:54:06  D  ATW  2038-03-31   \n",
       "\n",
       "                 C9    C10      C12      Txndate   TxnEOMdate  \n",
       "0  30JUL38:00:00:00  OTHER  22000.0  06-JUL-2038  30-JUL-2038  \n",
       "1  28MAY38:00:00:00     FT   8183.0  05-MAY-2038  28-MAY-2038  \n",
       "2  30FEB37:00:00:00    CHQ  48900.0  08-FEB-2037  30-FEB-2037  \n",
       "3  31NOV38:00:00:00    ATM   1500.0  24-NOV-2038  31-NOV-2038  \n",
       "4  31OCT38:00:00:00    ATM  10000.0  26-OCT-2038  31-OCT-2038  "
      ]
     },
     "execution_count": 80,
     "metadata": {},
     "output_type": "execute_result"
    }
   ],
   "source": [
    "df_txndata_train.head()"
   ]
  },
  {
   "cell_type": "code",
   "execution_count": 79,
   "metadata": {
    "collapsed": false
   },
   "outputs": [
    {
     "data": {
      "text/html": [
       "<div>\n",
       "<style scoped>\n",
       "    .dataframe tbody tr th:only-of-type {\n",
       "        vertical-align: middle;\n",
       "    }\n",
       "\n",
       "    .dataframe tbody tr th {\n",
       "        vertical-align: top;\n",
       "    }\n",
       "\n",
       "    .dataframe thead th {\n",
       "        text-align: right;\n",
       "    }\n",
       "</style>\n",
       "<table border=\"1\" class=\"dataframe\">\n",
       "  <thead>\n",
       "    <tr style=\"text-align: right;\">\n",
       "      <th></th>\n",
       "      <th>C2</th>\n",
       "      <th>C3</th>\n",
       "      <th>C4</th>\n",
       "      <th>C5</th>\n",
       "      <th>C6</th>\n",
       "      <th>C8</th>\n",
       "      <th>C9</th>\n",
       "      <th>C10</th>\n",
       "      <th>C12</th>\n",
       "      <th>Txndate</th>\n",
       "      <th>TxnEOMdate</th>\n",
       "    </tr>\n",
       "  </thead>\n",
       "  <tbody>\n",
       "    <tr>\n",
       "      <th>0</th>\n",
       "      <td>IYH6EOT91IN</td>\n",
       "      <td>6I5V3CKDUVTER3U</td>\n",
       "      <td>16JAN37:23:42:31</td>\n",
       "      <td>D</td>\n",
       "      <td>RDD</td>\n",
       "      <td>2038-02-30</td>\n",
       "      <td>31JAN37:00:00:00</td>\n",
       "      <td>SWEEP</td>\n",
       "      <td>1000.00</td>\n",
       "      <td>16-JAN-2037</td>\n",
       "      <td>31-JAN-2037</td>\n",
       "    </tr>\n",
       "    <tr>\n",
       "      <th>1</th>\n",
       "      <td>6NF44HKS8VNP</td>\n",
       "      <td>68BV39T3U86732X</td>\n",
       "      <td>01MAR37:10:24:25</td>\n",
       "      <td>D</td>\n",
       "      <td>NWD</td>\n",
       "      <td>2038-12-30</td>\n",
       "      <td>31MAR37:00:00:00</td>\n",
       "      <td>ATM</td>\n",
       "      <td>10000.00</td>\n",
       "      <td>01-MAR-2037</td>\n",
       "      <td>31-MAR-2037</td>\n",
       "    </tr>\n",
       "    <tr>\n",
       "      <th>2</th>\n",
       "      <td>6LFE2QYJ56TM</td>\n",
       "      <td>6UHW3BHJGEWE93X</td>\n",
       "      <td>23APR38:09:33:09</td>\n",
       "      <td>C</td>\n",
       "      <td>MCR</td>\n",
       "      <td>2038-07-30</td>\n",
       "      <td>31APR38:00:00:00</td>\n",
       "      <td>OTHER</td>\n",
       "      <td>23591.24</td>\n",
       "      <td>23-APR-2038</td>\n",
       "      <td>31-APR-2038</td>\n",
       "    </tr>\n",
       "    <tr>\n",
       "      <th>3</th>\n",
       "      <td>61QE4KT94V5N</td>\n",
       "      <td>6XBA4KPWF94NEBQ</td>\n",
       "      <td>30SEP38:17:30:56</td>\n",
       "      <td>D</td>\n",
       "      <td>ETD</td>\n",
       "      <td>2039-05-29</td>\n",
       "      <td>30SEP38:00:00:00</td>\n",
       "      <td>OTHER</td>\n",
       "      <td>24000.00</td>\n",
       "      <td>30-SEP-2038</td>\n",
       "      <td>30-SEP-2038</td>\n",
       "    </tr>\n",
       "    <tr>\n",
       "      <th>4</th>\n",
       "      <td>6XGA3KPVR7WH</td>\n",
       "      <td>5NFF4KADUV41J</td>\n",
       "      <td>23DEC37:19:37:08</td>\n",
       "      <td>C</td>\n",
       "      <td>OCD</td>\n",
       "      <td>2038-01-31</td>\n",
       "      <td>30DEC37:00:00:00</td>\n",
       "      <td>CHQ</td>\n",
       "      <td>4076.00</td>\n",
       "      <td>23-DEC-2037</td>\n",
       "      <td>30-DEC-2037</td>\n",
       "    </tr>\n",
       "  </tbody>\n",
       "</table>\n",
       "</div>"
      ],
      "text/plain": [
       "             C2               C3                C4 C5   C6          C8  \\\n",
       "0   IYH6EOT91IN  6I5V3CKDUVTER3U  16JAN37:23:42:31  D  RDD  2038-02-30   \n",
       "1  6NF44HKS8VNP  68BV39T3U86732X  01MAR37:10:24:25  D  NWD  2038-12-30   \n",
       "2  6LFE2QYJ56TM  6UHW3BHJGEWE93X  23APR38:09:33:09  C  MCR  2038-07-30   \n",
       "3  61QE4KT94V5N  6XBA4KPWF94NEBQ  30SEP38:17:30:56  D  ETD  2039-05-29   \n",
       "4  6XGA3KPVR7WH    5NFF4KADUV41J  23DEC37:19:37:08  C  OCD  2038-01-31   \n",
       "\n",
       "                 C9    C10       C12      Txndate   TxnEOMdate  \n",
       "0  31JAN37:00:00:00  SWEEP   1000.00  16-JAN-2037  31-JAN-2037  \n",
       "1  31MAR37:00:00:00    ATM  10000.00  01-MAR-2037  31-MAR-2037  \n",
       "2  31APR38:00:00:00  OTHER  23591.24  23-APR-2038  31-APR-2038  \n",
       "3  30SEP38:00:00:00  OTHER  24000.00  30-SEP-2038  30-SEP-2038  \n",
       "4  30DEC37:00:00:00    CHQ   4076.00  23-DEC-2037  30-DEC-2037  "
      ]
     },
     "execution_count": 79,
     "metadata": {},
     "output_type": "execute_result"
    }
   ],
   "source": [
    "df_txndata_test.head()"
   ]
  },
  {
   "cell_type": "code",
   "execution_count": 81,
   "metadata": {
    "collapsed": false
   },
   "outputs": [],
   "source": [
    "#drop datetime and keep just date to generate signals\n",
    "df_txndata_train_1 = df_txndata_train.drop(['C4','C9'],axis=1)"
   ]
  },
  {
   "cell_type": "code",
   "execution_count": 82,
   "metadata": {
    "collapsed": false
   },
   "outputs": [],
   "source": [
    "df_txndata_train_1.rename(columns={'Date_Col':'Date'}, inplace=True)"
   ]
  },
  {
   "cell_type": "code",
   "execution_count": 83,
   "metadata": {
    "collapsed": true
   },
   "outputs": [],
   "source": [
    "df_txndata_test_1 = df_txndata_test.drop(['C4','C9'],axis=1)\n",
    "df_txndata_test_1.rename(columns={'Date_Col':'Date'}, inplace=True)"
   ]
  },
  {
   "cell_type": "code",
   "execution_count": 84,
   "metadata": {
    "collapsed": false,
    "scrolled": true
   },
   "outputs": [
    {
     "data": {
      "text/html": [
       "<div>\n",
       "<style scoped>\n",
       "    .dataframe tbody tr th:only-of-type {\n",
       "        vertical-align: middle;\n",
       "    }\n",
       "\n",
       "    .dataframe tbody tr th {\n",
       "        vertical-align: top;\n",
       "    }\n",
       "\n",
       "    .dataframe thead th {\n",
       "        text-align: right;\n",
       "    }\n",
       "</style>\n",
       "<table border=\"1\" class=\"dataframe\">\n",
       "  <thead>\n",
       "    <tr style=\"text-align: right;\">\n",
       "      <th></th>\n",
       "      <th>C2</th>\n",
       "      <th>C3</th>\n",
       "      <th>C5</th>\n",
       "      <th>C6</th>\n",
       "      <th>C8</th>\n",
       "      <th>C10</th>\n",
       "      <th>C12</th>\n",
       "      <th>Txndate</th>\n",
       "      <th>TxnEOMdate</th>\n",
       "    </tr>\n",
       "  </thead>\n",
       "  <tbody>\n",
       "    <tr>\n",
       "      <th>0</th>\n",
       "      <td>6UGH4BMM1Y6P</td>\n",
       "      <td>6YPV4HMP1V5EWID</td>\n",
       "      <td>D</td>\n",
       "      <td>IAD</td>\n",
       "      <td>2038-12-30</td>\n",
       "      <td>OTHER</td>\n",
       "      <td>22000.0</td>\n",
       "      <td>06-JUL-2038</td>\n",
       "      <td>30-JUL-2038</td>\n",
       "    </tr>\n",
       "    <tr>\n",
       "      <th>1</th>\n",
       "      <td>9Y46ZBCWRP9</td>\n",
       "      <td>61CE41JD5YMP329</td>\n",
       "      <td>D</td>\n",
       "      <td>STD</td>\n",
       "      <td>2039-06-31</td>\n",
       "      <td>FT</td>\n",
       "      <td>8183.0</td>\n",
       "      <td>05-MAY-2038</td>\n",
       "      <td>28-MAY-2038</td>\n",
       "    </tr>\n",
       "    <tr>\n",
       "      <th>2</th>\n",
       "      <td>6Z4F3BPVME6</td>\n",
       "      <td>6UQA3CP9F95BOBD</td>\n",
       "      <td>C</td>\n",
       "      <td>OCD</td>\n",
       "      <td>2038-04-31</td>\n",
       "      <td>CHQ</td>\n",
       "      <td>48900.0</td>\n",
       "      <td>08-FEB-2037</td>\n",
       "      <td>30-FEB-2037</td>\n",
       "    </tr>\n",
       "    <tr>\n",
       "      <th>3</th>\n",
       "      <td>6UYF21TDMPPT</td>\n",
       "      <td>BZF6Z3AJQ55MAM</td>\n",
       "      <td>D</td>\n",
       "      <td>EAW</td>\n",
       "      <td>2039-05-29</td>\n",
       "      <td>ATM</td>\n",
       "      <td>1500.0</td>\n",
       "      <td>24-NOV-2038</td>\n",
       "      <td>31-NOV-2038</td>\n",
       "    </tr>\n",
       "    <tr>\n",
       "      <th>4</th>\n",
       "      <td>5N5ASLGMMPM</td>\n",
       "      <td>6IPA43AM4Y613SX</td>\n",
       "      <td>D</td>\n",
       "      <td>ATW</td>\n",
       "      <td>2038-03-31</td>\n",
       "      <td>ATM</td>\n",
       "      <td>10000.0</td>\n",
       "      <td>26-OCT-2038</td>\n",
       "      <td>31-OCT-2038</td>\n",
       "    </tr>\n",
       "  </tbody>\n",
       "</table>\n",
       "</div>"
      ],
      "text/plain": [
       "             C2               C3 C5   C6          C8    C10      C12  \\\n",
       "0  6UGH4BMM1Y6P  6YPV4HMP1V5EWID  D  IAD  2038-12-30  OTHER  22000.0   \n",
       "1   9Y46ZBCWRP9  61CE41JD5YMP329  D  STD  2039-06-31     FT   8183.0   \n",
       "2   6Z4F3BPVME6  6UQA3CP9F95BOBD  C  OCD  2038-04-31    CHQ  48900.0   \n",
       "3  6UYF21TDMPPT   BZF6Z3AJQ55MAM  D  EAW  2039-05-29    ATM   1500.0   \n",
       "4   5N5ASLGMMPM  6IPA43AM4Y613SX  D  ATW  2038-03-31    ATM  10000.0   \n",
       "\n",
       "       Txndate   TxnEOMdate  \n",
       "0  06-JUL-2038  30-JUL-2038  \n",
       "1  05-MAY-2038  28-MAY-2038  \n",
       "2  08-FEB-2037  30-FEB-2037  \n",
       "3  24-NOV-2038  31-NOV-2038  \n",
       "4  26-OCT-2038  31-OCT-2038  "
      ]
     },
     "execution_count": 84,
     "metadata": {},
     "output_type": "execute_result"
    }
   ],
   "source": [
    "df_txndata_train_1.head()"
   ]
  },
  {
   "cell_type": "code",
   "execution_count": 85,
   "metadata": {
    "collapsed": true
   },
   "outputs": [],
   "source": [
    "df_txndata_train_2=df_txndata_train_1.groupby(['C2','TxnEOMdate'],as_index=False)[['C3']].count()"
   ]
  },
  {
   "cell_type": "code",
   "execution_count": 86,
   "metadata": {
    "collapsed": true
   },
   "outputs": [],
   "source": [
    "df_txndata_test_2=df_txndata_test_1.groupby(['C2','TxnEOMdate'],as_index=False)[['C3']].count()"
   ]
  },
  {
   "cell_type": "code",
   "execution_count": 87,
   "metadata": {
    "collapsed": false
   },
   "outputs": [
    {
     "name": "stdout",
     "output_type": "stream",
     "text": [
      "<class 'pandas.core.frame.DataFrame'>\n",
      "Int64Index: 202056 entries, 0 to 202055\n",
      "Data columns (total 3 columns):\n",
      "C2            202056 non-null object\n",
      "TxnEOMdate    202056 non-null object\n",
      "C3            202056 non-null int64\n",
      "dtypes: int64(1), object(2)\n",
      "memory usage: 6.2+ MB\n"
     ]
    }
   ],
   "source": [
    "df_txndata_train_2.info()"
   ]
  },
  {
   "cell_type": "code",
   "execution_count": 88,
   "metadata": {
    "collapsed": false
   },
   "outputs": [],
   "source": [
    "df_txndata_train_3=df_txndata_train_2.groupby(['C2'],as_index=False)[['C3']].mean()"
   ]
  },
  {
   "cell_type": "code",
   "execution_count": 89,
   "metadata": {
    "collapsed": true
   },
   "outputs": [],
   "source": [
    "df_txndata_test_3=df_txndata_test_2.groupby(['C2'],as_index=False)[['C3']].mean()"
   ]
  },
  {
   "cell_type": "code",
   "execution_count": 90,
   "metadata": {
    "collapsed": false
   },
   "outputs": [
    {
     "data": {
      "text/html": [
       "<div>\n",
       "<style scoped>\n",
       "    .dataframe tbody tr th:only-of-type {\n",
       "        vertical-align: middle;\n",
       "    }\n",
       "\n",
       "    .dataframe tbody tr th {\n",
       "        vertical-align: top;\n",
       "    }\n",
       "\n",
       "    .dataframe thead th {\n",
       "        text-align: right;\n",
       "    }\n",
       "</style>\n",
       "<table border=\"1\" class=\"dataframe\">\n",
       "  <thead>\n",
       "    <tr style=\"text-align: right;\">\n",
       "      <th></th>\n",
       "      <th>C2</th>\n",
       "      <th>C3</th>\n",
       "    </tr>\n",
       "  </thead>\n",
       "  <tbody>\n",
       "    <tr>\n",
       "      <th>0</th>\n",
       "      <td>01444BK345</td>\n",
       "      <td>6.600000</td>\n",
       "    </tr>\n",
       "    <tr>\n",
       "      <th>1</th>\n",
       "      <td>01451CHSFI</td>\n",
       "      <td>451.714286</td>\n",
       "    </tr>\n",
       "    <tr>\n",
       "      <th>2</th>\n",
       "      <td>01453CCPF6G</td>\n",
       "      <td>33.300000</td>\n",
       "    </tr>\n",
       "    <tr>\n",
       "      <th>3</th>\n",
       "      <td>0145EKTVGVT</td>\n",
       "      <td>1.750000</td>\n",
       "    </tr>\n",
       "    <tr>\n",
       "      <th>4</th>\n",
       "      <td>0145S3AS46</td>\n",
       "      <td>22.750000</td>\n",
       "    </tr>\n",
       "  </tbody>\n",
       "</table>\n",
       "</div>"
      ],
      "text/plain": [
       "            C2          C3\n",
       "0   01444BK345    6.600000\n",
       "1   01451CHSFI  451.714286\n",
       "2  01453CCPF6G   33.300000\n",
       "3  0145EKTVGVT    1.750000\n",
       "4   0145S3AS46   22.750000"
      ]
     },
     "execution_count": 90,
     "metadata": {},
     "output_type": "execute_result"
    }
   ],
   "source": [
    "df_txndata_train_3.head()"
   ]
  },
  {
   "cell_type": "code",
   "execution_count": 91,
   "metadata": {
    "collapsed": false
   },
   "outputs": [],
   "source": [
    "df_txndata_train_3=df_txndata_train_3.rename(columns={'C3':'AvgMTxnCnt'})"
   ]
  },
  {
   "cell_type": "code",
   "execution_count": 92,
   "metadata": {
    "collapsed": false
   },
   "outputs": [],
   "source": [
    "#Merge avgmontxncnt with original df\n",
    "df_txndata_train_4 = pd.merge(left=df_txndata_train_1,right=df_txndata_train_3,left_on='C2',right_on='C2')"
   ]
  },
  {
   "cell_type": "code",
   "execution_count": 93,
   "metadata": {
    "collapsed": true
   },
   "outputs": [],
   "source": [
    "df_txndata_test_3=df_txndata_test_3.rename(columns={'C3':'AvgMTxnCnt'})\n",
    "df_txndata_test_4 = pd.merge(left=df_txndata_test_1,right=df_txndata_test_3,left_on='C2',right_on='C2')"
   ]
  },
  {
   "cell_type": "code",
   "execution_count": 94,
   "metadata": {
    "collapsed": false
   },
   "outputs": [
    {
     "data": {
      "text/html": [
       "<div>\n",
       "<style scoped>\n",
       "    .dataframe tbody tr th:only-of-type {\n",
       "        vertical-align: middle;\n",
       "    }\n",
       "\n",
       "    .dataframe tbody tr th {\n",
       "        vertical-align: top;\n",
       "    }\n",
       "\n",
       "    .dataframe thead th {\n",
       "        text-align: right;\n",
       "    }\n",
       "</style>\n",
       "<table border=\"1\" class=\"dataframe\">\n",
       "  <thead>\n",
       "    <tr style=\"text-align: right;\">\n",
       "      <th></th>\n",
       "      <th>C2</th>\n",
       "      <th>C3</th>\n",
       "      <th>C5</th>\n",
       "      <th>C6</th>\n",
       "      <th>C8</th>\n",
       "      <th>C10</th>\n",
       "      <th>C12</th>\n",
       "      <th>Txndate</th>\n",
       "      <th>TxnEOMdate</th>\n",
       "      <th>AvgMTxnCnt</th>\n",
       "    </tr>\n",
       "  </thead>\n",
       "  <tbody>\n",
       "    <tr>\n",
       "      <th>575517</th>\n",
       "      <td>01451CHSFI</td>\n",
       "      <td>66FW4HM319T6RIK</td>\n",
       "      <td>D</td>\n",
       "      <td>CHQ</td>\n",
       "      <td>2038-09-30</td>\n",
       "      <td>CHQ</td>\n",
       "      <td>1517.0</td>\n",
       "      <td>07-JUL-2038</td>\n",
       "      <td>30-JUL-2038</td>\n",
       "      <td>451.714286</td>\n",
       "    </tr>\n",
       "    <tr>\n",
       "      <th>575518</th>\n",
       "      <td>01451CHSFI</td>\n",
       "      <td>6IBA4QJSR5679QD</td>\n",
       "      <td>D</td>\n",
       "      <td>CHQ</td>\n",
       "      <td>2038-09-30</td>\n",
       "      <td>CHQ</td>\n",
       "      <td>4658.0</td>\n",
       "      <td>09-JUN-2038</td>\n",
       "      <td>31-JUN-2038</td>\n",
       "      <td>451.714286</td>\n",
       "    </tr>\n",
       "    <tr>\n",
       "      <th>575519</th>\n",
       "      <td>01451CHSFI</td>\n",
       "      <td>61GV4HM91546JSK</td>\n",
       "      <td>D</td>\n",
       "      <td>CHQ</td>\n",
       "      <td>2038-09-30</td>\n",
       "      <td>CHQ</td>\n",
       "      <td>2231.0</td>\n",
       "      <td>08-JUL-2038</td>\n",
       "      <td>30-JUL-2038</td>\n",
       "      <td>451.714286</td>\n",
       "    </tr>\n",
       "    <tr>\n",
       "      <th>575520</th>\n",
       "      <td>01451CHSFI</td>\n",
       "      <td>BXP6DHTPUYGMCH</td>\n",
       "      <td>D</td>\n",
       "      <td>CHQ</td>\n",
       "      <td>2038-09-30</td>\n",
       "      <td>CHQ</td>\n",
       "      <td>1320.0</td>\n",
       "      <td>07-JUL-2038</td>\n",
       "      <td>30-JUL-2038</td>\n",
       "      <td>451.714286</td>\n",
       "    </tr>\n",
       "    <tr>\n",
       "      <th>575521</th>\n",
       "      <td>01451CHSFI</td>\n",
       "      <td>6L55COKJMY413A</td>\n",
       "      <td>D</td>\n",
       "      <td>CHQ</td>\n",
       "      <td>2038-09-30</td>\n",
       "      <td>CHQ</td>\n",
       "      <td>8524.0</td>\n",
       "      <td>31-MAR-2037</td>\n",
       "      <td>31-MAR-2037</td>\n",
       "      <td>451.714286</td>\n",
       "    </tr>\n",
       "  </tbody>\n",
       "</table>\n",
       "</div>"
      ],
      "text/plain": [
       "                C2               C3 C5   C6          C8  C10     C12  \\\n",
       "575517  01451CHSFI  66FW4HM319T6RIK  D  CHQ  2038-09-30  CHQ  1517.0   \n",
       "575518  01451CHSFI  6IBA4QJSR5679QD  D  CHQ  2038-09-30  CHQ  4658.0   \n",
       "575519  01451CHSFI  61GV4HM91546JSK  D  CHQ  2038-09-30  CHQ  2231.0   \n",
       "575520  01451CHSFI   BXP6DHTPUYGMCH  D  CHQ  2038-09-30  CHQ  1320.0   \n",
       "575521  01451CHSFI   6L55COKJMY413A  D  CHQ  2038-09-30  CHQ  8524.0   \n",
       "\n",
       "            Txndate   TxnEOMdate  AvgMTxnCnt  \n",
       "575517  07-JUL-2038  30-JUL-2038  451.714286  \n",
       "575518  09-JUN-2038  31-JUN-2038  451.714286  \n",
       "575519  08-JUL-2038  30-JUL-2038  451.714286  \n",
       "575520  07-JUL-2038  30-JUL-2038  451.714286  \n",
       "575521  31-MAR-2037  31-MAR-2037  451.714286  "
      ]
     },
     "execution_count": 94,
     "metadata": {},
     "output_type": "execute_result"
    }
   ],
   "source": [
    "#check results by filtering on one id\n",
    "df_txndata_train_4.loc[df_txndata_train_4['C2']=='01451CHSFI'].head()"
   ]
  },
  {
   "cell_type": "code",
   "execution_count": 95,
   "metadata": {
    "collapsed": false
   },
   "outputs": [],
   "source": [
    "#make debit amounts -ve and credit amounts +ve\n",
    "df_txndata_train_4.loc[ ( df_txndata_train_1.C5 == 'D' ), 'C12' ] *= -1"
   ]
  },
  {
   "cell_type": "code",
   "execution_count": 96,
   "metadata": {
    "collapsed": true
   },
   "outputs": [],
   "source": [
    "df_txndata_test_4.loc[ ( df_txndata_test_1.C5 == 'D' ), 'C12' ] *= -1"
   ]
  },
  {
   "cell_type": "code",
   "execution_count": 97,
   "metadata": {
    "collapsed": false
   },
   "outputs": [
    {
     "data": {
      "text/html": [
       "<div>\n",
       "<style scoped>\n",
       "    .dataframe tbody tr th:only-of-type {\n",
       "        vertical-align: middle;\n",
       "    }\n",
       "\n",
       "    .dataframe tbody tr th {\n",
       "        vertical-align: top;\n",
       "    }\n",
       "\n",
       "    .dataframe thead th {\n",
       "        text-align: right;\n",
       "    }\n",
       "</style>\n",
       "<table border=\"1\" class=\"dataframe\">\n",
       "  <thead>\n",
       "    <tr style=\"text-align: right;\">\n",
       "      <th></th>\n",
       "      <th>C2</th>\n",
       "      <th>C3</th>\n",
       "      <th>C5</th>\n",
       "      <th>C6</th>\n",
       "      <th>C8</th>\n",
       "      <th>C10</th>\n",
       "      <th>C12</th>\n",
       "      <th>Txndate</th>\n",
       "      <th>TxnEOMdate</th>\n",
       "      <th>AvgMTxnCnt</th>\n",
       "    </tr>\n",
       "  </thead>\n",
       "  <tbody>\n",
       "    <tr>\n",
       "      <th>0</th>\n",
       "      <td>6UGH4BMM1Y6P</td>\n",
       "      <td>6YPV4HMP1V5EWID</td>\n",
       "      <td>D</td>\n",
       "      <td>IAD</td>\n",
       "      <td>2038-12-30</td>\n",
       "      <td>OTHER</td>\n",
       "      <td>-22000.00</td>\n",
       "      <td>06-JUL-2038</td>\n",
       "      <td>30-JUL-2038</td>\n",
       "      <td>40.363636</td>\n",
       "    </tr>\n",
       "    <tr>\n",
       "      <th>1</th>\n",
       "      <td>6UGH4BMM1Y6P</td>\n",
       "      <td>MIF63BADM85NWM</td>\n",
       "      <td>C</td>\n",
       "      <td>TPC</td>\n",
       "      <td>2038-12-30</td>\n",
       "      <td>OTHER</td>\n",
       "      <td>-14600.00</td>\n",
       "      <td>03-SEP-2038</td>\n",
       "      <td>30-SEP-2038</td>\n",
       "      <td>40.363636</td>\n",
       "    </tr>\n",
       "    <tr>\n",
       "      <th>2</th>\n",
       "      <td>6UGH4BMM1Y6P</td>\n",
       "      <td>78H62QYVU9P69H</td>\n",
       "      <td>C</td>\n",
       "      <td>IPM</td>\n",
       "      <td>2038-12-30</td>\n",
       "      <td>NEFT</td>\n",
       "      <td>121199.00</td>\n",
       "      <td>09-OCT-2038</td>\n",
       "      <td>31-OCT-2038</td>\n",
       "      <td>40.363636</td>\n",
       "    </tr>\n",
       "    <tr>\n",
       "      <th>3</th>\n",
       "      <td>6UGH4BMM1Y6P</td>\n",
       "      <td>MXG64HY35E9E9S</td>\n",
       "      <td>D</td>\n",
       "      <td>RCD</td>\n",
       "      <td>2038-12-30</td>\n",
       "      <td>CHG</td>\n",
       "      <td>-5.62</td>\n",
       "      <td>10-SEP-2038</td>\n",
       "      <td>30-SEP-2038</td>\n",
       "      <td>40.363636</td>\n",
       "    </tr>\n",
       "    <tr>\n",
       "      <th>4</th>\n",
       "      <td>6UGH4BMM1Y6P</td>\n",
       "      <td>5XB6D3KVUIN7OH</td>\n",
       "      <td>C</td>\n",
       "      <td>TPC</td>\n",
       "      <td>2038-12-30</td>\n",
       "      <td>OTHER</td>\n",
       "      <td>-12603.30</td>\n",
       "      <td>16-JUL-2038</td>\n",
       "      <td>30-JUL-2038</td>\n",
       "      <td>40.363636</td>\n",
       "    </tr>\n",
       "  </tbody>\n",
       "</table>\n",
       "</div>"
      ],
      "text/plain": [
       "             C2               C3 C5   C6          C8    C10        C12  \\\n",
       "0  6UGH4BMM1Y6P  6YPV4HMP1V5EWID  D  IAD  2038-12-30  OTHER  -22000.00   \n",
       "1  6UGH4BMM1Y6P   MIF63BADM85NWM  C  TPC  2038-12-30  OTHER  -14600.00   \n",
       "2  6UGH4BMM1Y6P   78H62QYVU9P69H  C  IPM  2038-12-30   NEFT  121199.00   \n",
       "3  6UGH4BMM1Y6P   MXG64HY35E9E9S  D  RCD  2038-12-30    CHG      -5.62   \n",
       "4  6UGH4BMM1Y6P   5XB6D3KVUIN7OH  C  TPC  2038-12-30  OTHER  -12603.30   \n",
       "\n",
       "       Txndate   TxnEOMdate  AvgMTxnCnt  \n",
       "0  06-JUL-2038  30-JUL-2038   40.363636  \n",
       "1  03-SEP-2038  30-SEP-2038   40.363636  \n",
       "2  09-OCT-2038  31-OCT-2038   40.363636  \n",
       "3  10-SEP-2038  30-SEP-2038   40.363636  \n",
       "4  16-JUL-2038  30-JUL-2038   40.363636  "
      ]
     },
     "execution_count": 97,
     "metadata": {},
     "output_type": "execute_result"
    }
   ],
   "source": [
    "df_txndata_train_4.head()\n",
    "        "
   ]
  },
  {
   "cell_type": "code",
   "execution_count": 98,
   "metadata": {
    "collapsed": true
   },
   "outputs": [],
   "source": [
    "#Sum txn amounts id-wise\n",
    "df_txndata_train_5=df_txndata_train_4.filter(['C2','TxnEOMdate','C12'],axis=1)\n"
   ]
  },
  {
   "cell_type": "code",
   "execution_count": 99,
   "metadata": {
    "collapsed": true
   },
   "outputs": [],
   "source": [
    "df_txndata_test_5=df_txndata_test_4.filter(['C2','TxnEOMdate','C12'],axis=1)"
   ]
  },
  {
   "cell_type": "code",
   "execution_count": 100,
   "metadata": {
    "collapsed": false
   },
   "outputs": [
    {
     "data": {
      "text/html": [
       "<div>\n",
       "<style scoped>\n",
       "    .dataframe tbody tr th:only-of-type {\n",
       "        vertical-align: middle;\n",
       "    }\n",
       "\n",
       "    .dataframe tbody tr th {\n",
       "        vertical-align: top;\n",
       "    }\n",
       "\n",
       "    .dataframe thead th {\n",
       "        text-align: right;\n",
       "    }\n",
       "</style>\n",
       "<table border=\"1\" class=\"dataframe\">\n",
       "  <thead>\n",
       "    <tr style=\"text-align: right;\">\n",
       "      <th></th>\n",
       "      <th>C2</th>\n",
       "      <th>TxnEOMdate</th>\n",
       "      <th>C12</th>\n",
       "    </tr>\n",
       "  </thead>\n",
       "  <tbody>\n",
       "    <tr>\n",
       "      <th>0</th>\n",
       "      <td>6UGH4BMM1Y6P</td>\n",
       "      <td>30-JUL-2038</td>\n",
       "      <td>-22000.00</td>\n",
       "    </tr>\n",
       "    <tr>\n",
       "      <th>1</th>\n",
       "      <td>6UGH4BMM1Y6P</td>\n",
       "      <td>30-SEP-2038</td>\n",
       "      <td>-14600.00</td>\n",
       "    </tr>\n",
       "    <tr>\n",
       "      <th>2</th>\n",
       "      <td>6UGH4BMM1Y6P</td>\n",
       "      <td>31-OCT-2038</td>\n",
       "      <td>121199.00</td>\n",
       "    </tr>\n",
       "    <tr>\n",
       "      <th>3</th>\n",
       "      <td>6UGH4BMM1Y6P</td>\n",
       "      <td>30-SEP-2038</td>\n",
       "      <td>-5.62</td>\n",
       "    </tr>\n",
       "    <tr>\n",
       "      <th>4</th>\n",
       "      <td>6UGH4BMM1Y6P</td>\n",
       "      <td>30-JUL-2038</td>\n",
       "      <td>-12603.30</td>\n",
       "    </tr>\n",
       "  </tbody>\n",
       "</table>\n",
       "</div>"
      ],
      "text/plain": [
       "             C2   TxnEOMdate        C12\n",
       "0  6UGH4BMM1Y6P  30-JUL-2038  -22000.00\n",
       "1  6UGH4BMM1Y6P  30-SEP-2038  -14600.00\n",
       "2  6UGH4BMM1Y6P  31-OCT-2038  121199.00\n",
       "3  6UGH4BMM1Y6P  30-SEP-2038      -5.62\n",
       "4  6UGH4BMM1Y6P  30-JUL-2038  -12603.30"
      ]
     },
     "execution_count": 100,
     "metadata": {},
     "output_type": "execute_result"
    }
   ],
   "source": [
    "df_txndata_train_5.head()"
   ]
  },
  {
   "cell_type": "code",
   "execution_count": 101,
   "metadata": {
    "collapsed": true
   },
   "outputs": [],
   "source": [
    "#Get monthly transactional balance amount\n",
    "df_txndata_train_6=df_txndata_train_5.groupby(['C2','TxnEOMdate'],as_index=False)[['C12']].sum()"
   ]
  },
  {
   "cell_type": "code",
   "execution_count": 102,
   "metadata": {
    "collapsed": true
   },
   "outputs": [],
   "source": [
    "df_txndata_test_6=df_txndata_test_5.groupby(['C2','TxnEOMdate'],as_index=False)[['C12']].sum()"
   ]
  },
  {
   "cell_type": "code",
   "execution_count": 103,
   "metadata": {
    "collapsed": false
   },
   "outputs": [
    {
     "data": {
      "text/html": [
       "<div>\n",
       "<style scoped>\n",
       "    .dataframe tbody tr th:only-of-type {\n",
       "        vertical-align: middle;\n",
       "    }\n",
       "\n",
       "    .dataframe tbody tr th {\n",
       "        vertical-align: top;\n",
       "    }\n",
       "\n",
       "    .dataframe thead th {\n",
       "        text-align: right;\n",
       "    }\n",
       "</style>\n",
       "<table border=\"1\" class=\"dataframe\">\n",
       "  <thead>\n",
       "    <tr style=\"text-align: right;\">\n",
       "      <th></th>\n",
       "      <th>C2</th>\n",
       "      <th>TxnEOMdate</th>\n",
       "      <th>C12</th>\n",
       "    </tr>\n",
       "  </thead>\n",
       "  <tbody>\n",
       "    <tr>\n",
       "      <th>0</th>\n",
       "      <td>01444BK345</td>\n",
       "      <td>30-DEC-2037</td>\n",
       "      <td>2931.0</td>\n",
       "    </tr>\n",
       "    <tr>\n",
       "      <th>1</th>\n",
       "      <td>01444BK345</td>\n",
       "      <td>30-FEB-2037</td>\n",
       "      <td>-145391.0</td>\n",
       "    </tr>\n",
       "    <tr>\n",
       "      <th>2</th>\n",
       "      <td>01444BK345</td>\n",
       "      <td>31-JAN-2037</td>\n",
       "      <td>-11231.0</td>\n",
       "    </tr>\n",
       "    <tr>\n",
       "      <th>3</th>\n",
       "      <td>01444BK345</td>\n",
       "      <td>31-MAR-2037</td>\n",
       "      <td>34655.0</td>\n",
       "    </tr>\n",
       "    <tr>\n",
       "      <th>4</th>\n",
       "      <td>01444BK345</td>\n",
       "      <td>31-NOV-2037</td>\n",
       "      <td>19317.0</td>\n",
       "    </tr>\n",
       "  </tbody>\n",
       "</table>\n",
       "</div>"
      ],
      "text/plain": [
       "           C2   TxnEOMdate       C12\n",
       "0  01444BK345  30-DEC-2037    2931.0\n",
       "1  01444BK345  30-FEB-2037 -145391.0\n",
       "2  01444BK345  31-JAN-2037  -11231.0\n",
       "3  01444BK345  31-MAR-2037   34655.0\n",
       "4  01444BK345  31-NOV-2037   19317.0"
      ]
     },
     "execution_count": 103,
     "metadata": {},
     "output_type": "execute_result"
    }
   ],
   "source": [
    "df_txndata_train_6.head()"
   ]
  },
  {
   "cell_type": "code",
   "execution_count": 104,
   "metadata": {
    "collapsed": false
   },
   "outputs": [],
   "source": [
    "#Avg monthly balance amount\n",
    "df_txndata_train_7=df_txndata_train_6.groupby(['C2'],as_index=False)[['C12']].mean()"
   ]
  },
  {
   "cell_type": "code",
   "execution_count": 105,
   "metadata": {
    "collapsed": true
   },
   "outputs": [],
   "source": [
    "df_txndata_test_7=df_txndata_test_6.groupby(['C2'],as_index=False)[['C12']].mean()"
   ]
  },
  {
   "cell_type": "code",
   "execution_count": 106,
   "metadata": {
    "collapsed": false
   },
   "outputs": [
    {
     "data": {
      "text/html": [
       "<div>\n",
       "<style scoped>\n",
       "    .dataframe tbody tr th:only-of-type {\n",
       "        vertical-align: middle;\n",
       "    }\n",
       "\n",
       "    .dataframe tbody tr th {\n",
       "        vertical-align: top;\n",
       "    }\n",
       "\n",
       "    .dataframe thead th {\n",
       "        text-align: right;\n",
       "    }\n",
       "</style>\n",
       "<table border=\"1\" class=\"dataframe\">\n",
       "  <thead>\n",
       "    <tr style=\"text-align: right;\">\n",
       "      <th></th>\n",
       "      <th>C2</th>\n",
       "      <th>C12</th>\n",
       "    </tr>\n",
       "  </thead>\n",
       "  <tbody>\n",
       "    <tr>\n",
       "      <th>0</th>\n",
       "      <td>01444BK345</td>\n",
       "      <td>-1.994380e+04</td>\n",
       "    </tr>\n",
       "    <tr>\n",
       "      <th>1</th>\n",
       "      <td>01451CHSFI</td>\n",
       "      <td>-1.716873e+06</td>\n",
       "    </tr>\n",
       "    <tr>\n",
       "      <th>2</th>\n",
       "      <td>01453CCPF6G</td>\n",
       "      <td>-6.740898e+04</td>\n",
       "    </tr>\n",
       "    <tr>\n",
       "      <th>3</th>\n",
       "      <td>0145EKTVGVT</td>\n",
       "      <td>1.022450e+04</td>\n",
       "    </tr>\n",
       "    <tr>\n",
       "      <th>4</th>\n",
       "      <td>0145S3AS46</td>\n",
       "      <td>-2.487480e+05</td>\n",
       "    </tr>\n",
       "  </tbody>\n",
       "</table>\n",
       "</div>"
      ],
      "text/plain": [
       "            C2           C12\n",
       "0   01444BK345 -1.994380e+04\n",
       "1   01451CHSFI -1.716873e+06\n",
       "2  01453CCPF6G -6.740898e+04\n",
       "3  0145EKTVGVT  1.022450e+04\n",
       "4   0145S3AS46 -2.487480e+05"
      ]
     },
     "execution_count": 106,
     "metadata": {},
     "output_type": "execute_result"
    }
   ],
   "source": [
    "df_txndata_train_7.head()"
   ]
  },
  {
   "cell_type": "code",
   "execution_count": 107,
   "metadata": {
    "collapsed": true
   },
   "outputs": [],
   "source": [
    "df_txndata_train_7.rename(columns={'C12':'AvgMonBalanceAmt'}, \n",
    "                 inplace=True)"
   ]
  },
  {
   "cell_type": "code",
   "execution_count": 108,
   "metadata": {
    "collapsed": true
   },
   "outputs": [],
   "source": [
    "df_txndata_test_7.rename(columns={'C12':'AvgMonBalanceAmt'}, \n",
    "                 inplace=True)"
   ]
  },
  {
   "cell_type": "code",
   "execution_count": 109,
   "metadata": {
    "collapsed": true
   },
   "outputs": [],
   "source": [
    "#Create final txn table after merging intermediate data\n",
    "df_txndata_train_final=pd.merge(left=df_txndata_train_4,right=df_txndata_train_7,how='left',left_on='C2',right_on='C2')"
   ]
  },
  {
   "cell_type": "code",
   "execution_count": 110,
   "metadata": {
    "collapsed": true
   },
   "outputs": [],
   "source": [
    "df_txndata_test_final=pd.merge(left=df_txndata_test_4,right=df_txndata_test_7,how='left',left_on='C2',right_on='C2')"
   ]
  },
  {
   "cell_type": "code",
   "execution_count": 111,
   "metadata": {
    "collapsed": false
   },
   "outputs": [
    {
     "data": {
      "text/html": [
       "<div>\n",
       "<style scoped>\n",
       "    .dataframe tbody tr th:only-of-type {\n",
       "        vertical-align: middle;\n",
       "    }\n",
       "\n",
       "    .dataframe tbody tr th {\n",
       "        vertical-align: top;\n",
       "    }\n",
       "\n",
       "    .dataframe thead th {\n",
       "        text-align: right;\n",
       "    }\n",
       "</style>\n",
       "<table border=\"1\" class=\"dataframe\">\n",
       "  <thead>\n",
       "    <tr style=\"text-align: right;\">\n",
       "      <th></th>\n",
       "      <th>C2</th>\n",
       "      <th>C3</th>\n",
       "      <th>C5</th>\n",
       "      <th>C6</th>\n",
       "      <th>C8</th>\n",
       "      <th>C10</th>\n",
       "      <th>C12</th>\n",
       "      <th>Txndate</th>\n",
       "      <th>TxnEOMdate</th>\n",
       "      <th>AvgMTxnCnt</th>\n",
       "      <th>AvgMonBalanceAmt</th>\n",
       "    </tr>\n",
       "  </thead>\n",
       "  <tbody>\n",
       "    <tr>\n",
       "      <th>0</th>\n",
       "      <td>6UGH4BMM1Y6P</td>\n",
       "      <td>6YPV4HMP1V5EWID</td>\n",
       "      <td>D</td>\n",
       "      <td>IAD</td>\n",
       "      <td>2038-12-30</td>\n",
       "      <td>OTHER</td>\n",
       "      <td>-22000.00</td>\n",
       "      <td>06-JUL-2038</td>\n",
       "      <td>30-JUL-2038</td>\n",
       "      <td>40.363636</td>\n",
       "      <td>-539054.603636</td>\n",
       "    </tr>\n",
       "    <tr>\n",
       "      <th>1</th>\n",
       "      <td>6UGH4BMM1Y6P</td>\n",
       "      <td>MIF63BADM85NWM</td>\n",
       "      <td>C</td>\n",
       "      <td>TPC</td>\n",
       "      <td>2038-12-30</td>\n",
       "      <td>OTHER</td>\n",
       "      <td>-14600.00</td>\n",
       "      <td>03-SEP-2038</td>\n",
       "      <td>30-SEP-2038</td>\n",
       "      <td>40.363636</td>\n",
       "      <td>-539054.603636</td>\n",
       "    </tr>\n",
       "    <tr>\n",
       "      <th>2</th>\n",
       "      <td>6UGH4BMM1Y6P</td>\n",
       "      <td>78H62QYVU9P69H</td>\n",
       "      <td>C</td>\n",
       "      <td>IPM</td>\n",
       "      <td>2038-12-30</td>\n",
       "      <td>NEFT</td>\n",
       "      <td>121199.00</td>\n",
       "      <td>09-OCT-2038</td>\n",
       "      <td>31-OCT-2038</td>\n",
       "      <td>40.363636</td>\n",
       "      <td>-539054.603636</td>\n",
       "    </tr>\n",
       "    <tr>\n",
       "      <th>3</th>\n",
       "      <td>6UGH4BMM1Y6P</td>\n",
       "      <td>MXG64HY35E9E9S</td>\n",
       "      <td>D</td>\n",
       "      <td>RCD</td>\n",
       "      <td>2038-12-30</td>\n",
       "      <td>CHG</td>\n",
       "      <td>-5.62</td>\n",
       "      <td>10-SEP-2038</td>\n",
       "      <td>30-SEP-2038</td>\n",
       "      <td>40.363636</td>\n",
       "      <td>-539054.603636</td>\n",
       "    </tr>\n",
       "    <tr>\n",
       "      <th>4</th>\n",
       "      <td>6UGH4BMM1Y6P</td>\n",
       "      <td>5XB6D3KVUIN7OH</td>\n",
       "      <td>C</td>\n",
       "      <td>TPC</td>\n",
       "      <td>2038-12-30</td>\n",
       "      <td>OTHER</td>\n",
       "      <td>-12603.30</td>\n",
       "      <td>16-JUL-2038</td>\n",
       "      <td>30-JUL-2038</td>\n",
       "      <td>40.363636</td>\n",
       "      <td>-539054.603636</td>\n",
       "    </tr>\n",
       "  </tbody>\n",
       "</table>\n",
       "</div>"
      ],
      "text/plain": [
       "             C2               C3 C5   C6          C8    C10        C12  \\\n",
       "0  6UGH4BMM1Y6P  6YPV4HMP1V5EWID  D  IAD  2038-12-30  OTHER  -22000.00   \n",
       "1  6UGH4BMM1Y6P   MIF63BADM85NWM  C  TPC  2038-12-30  OTHER  -14600.00   \n",
       "2  6UGH4BMM1Y6P   78H62QYVU9P69H  C  IPM  2038-12-30   NEFT  121199.00   \n",
       "3  6UGH4BMM1Y6P   MXG64HY35E9E9S  D  RCD  2038-12-30    CHG      -5.62   \n",
       "4  6UGH4BMM1Y6P   5XB6D3KVUIN7OH  C  TPC  2038-12-30  OTHER  -12603.30   \n",
       "\n",
       "       Txndate   TxnEOMdate  AvgMTxnCnt  AvgMonBalanceAmt  \n",
       "0  06-JUL-2038  30-JUL-2038   40.363636    -539054.603636  \n",
       "1  03-SEP-2038  30-SEP-2038   40.363636    -539054.603636  \n",
       "2  09-OCT-2038  31-OCT-2038   40.363636    -539054.603636  \n",
       "3  10-SEP-2038  30-SEP-2038   40.363636    -539054.603636  \n",
       "4  16-JUL-2038  30-JUL-2038   40.363636    -539054.603636  "
      ]
     },
     "execution_count": 111,
     "metadata": {},
     "output_type": "execute_result"
    }
   ],
   "source": [
    "df_txndata_train_final.head()"
   ]
  },
  {
   "cell_type": "code",
   "execution_count": 112,
   "metadata": {
    "collapsed": false
   },
   "outputs": [],
   "source": [
    "df_txndata_train_final['AvgMTxnCnt']=df_txndata_train_final.apply(lambda row: round(row['AvgMTxnCnt']),axis=1)"
   ]
  },
  {
   "cell_type": "code",
   "execution_count": 113,
   "metadata": {
    "collapsed": true
   },
   "outputs": [],
   "source": [
    "df_txndata_test_final['AvgMTxnCnt']=df_txndata_test_final.apply(lambda row: round(row['AvgMTxnCnt']),axis=1)"
   ]
  },
  {
   "cell_type": "code",
   "execution_count": 114,
   "metadata": {
    "collapsed": false
   },
   "outputs": [
    {
     "data": {
      "text/html": [
       "<div>\n",
       "<style scoped>\n",
       "    .dataframe tbody tr th:only-of-type {\n",
       "        vertical-align: middle;\n",
       "    }\n",
       "\n",
       "    .dataframe tbody tr th {\n",
       "        vertical-align: top;\n",
       "    }\n",
       "\n",
       "    .dataframe thead th {\n",
       "        text-align: right;\n",
       "    }\n",
       "</style>\n",
       "<table border=\"1\" class=\"dataframe\">\n",
       "  <thead>\n",
       "    <tr style=\"text-align: right;\">\n",
       "      <th></th>\n",
       "      <th>C2</th>\n",
       "      <th>C3</th>\n",
       "      <th>C5</th>\n",
       "      <th>C6</th>\n",
       "      <th>C8</th>\n",
       "      <th>C10</th>\n",
       "      <th>C12</th>\n",
       "      <th>Txndate</th>\n",
       "      <th>TxnEOMdate</th>\n",
       "      <th>AvgMTxnCnt</th>\n",
       "      <th>AvgMonBalanceAmt</th>\n",
       "    </tr>\n",
       "  </thead>\n",
       "  <tbody>\n",
       "    <tr>\n",
       "      <th>0</th>\n",
       "      <td>IYH6EOT91IN</td>\n",
       "      <td>6I5V3CKDUVTER3U</td>\n",
       "      <td>D</td>\n",
       "      <td>RDD</td>\n",
       "      <td>2038-02-30</td>\n",
       "      <td>SWEEP</td>\n",
       "      <td>-1000.0</td>\n",
       "      <td>16-JAN-2037</td>\n",
       "      <td>31-JAN-2037</td>\n",
       "      <td>1</td>\n",
       "      <td>-174.4</td>\n",
       "    </tr>\n",
       "    <tr>\n",
       "      <th>1</th>\n",
       "      <td>IYH6EOT91IN</td>\n",
       "      <td>M8P5C9KW1VTN3H</td>\n",
       "      <td>D</td>\n",
       "      <td>RDD</td>\n",
       "      <td>2038-02-30</td>\n",
       "      <td>SWEEP</td>\n",
       "      <td>-1000.0</td>\n",
       "      <td>16-APR-2038</td>\n",
       "      <td>31-APR-2038</td>\n",
       "      <td>1</td>\n",
       "      <td>-174.4</td>\n",
       "    </tr>\n",
       "    <tr>\n",
       "      <th>2</th>\n",
       "      <td>IYH6EOT91IN</td>\n",
       "      <td>6XQ64LJ94E67RA5</td>\n",
       "      <td>D</td>\n",
       "      <td>RDD</td>\n",
       "      <td>2038-02-30</td>\n",
       "      <td>SWEEP</td>\n",
       "      <td>1000.0</td>\n",
       "      <td>18-NOV-2038</td>\n",
       "      <td>31-NOV-2038</td>\n",
       "      <td>1</td>\n",
       "      <td>-174.4</td>\n",
       "    </tr>\n",
       "    <tr>\n",
       "      <th>3</th>\n",
       "      <td>IYH6EOT91IN</td>\n",
       "      <td>6YQW41PM4V96A4X</td>\n",
       "      <td>D</td>\n",
       "      <td>RDD</td>\n",
       "      <td>2038-02-30</td>\n",
       "      <td>SWEEP</td>\n",
       "      <td>-1000.0</td>\n",
       "      <td>16-MAY-2038</td>\n",
       "      <td>28-MAY-2038</td>\n",
       "      <td>1</td>\n",
       "      <td>-174.4</td>\n",
       "    </tr>\n",
       "    <tr>\n",
       "      <th>4</th>\n",
       "      <td>IYH6EOT91IN</td>\n",
       "      <td>7X46E9MJFPP6OQ</td>\n",
       "      <td>C</td>\n",
       "      <td>CIN</td>\n",
       "      <td>2038-02-30</td>\n",
       "      <td>Interest</td>\n",
       "      <td>2128.0</td>\n",
       "      <td>01-JAN-2038</td>\n",
       "      <td>30-DEC-2038</td>\n",
       "      <td>1</td>\n",
       "      <td>-174.4</td>\n",
       "    </tr>\n",
       "  </tbody>\n",
       "</table>\n",
       "</div>"
      ],
      "text/plain": [
       "            C2               C3 C5   C6          C8       C10     C12  \\\n",
       "0  IYH6EOT91IN  6I5V3CKDUVTER3U  D  RDD  2038-02-30     SWEEP -1000.0   \n",
       "1  IYH6EOT91IN   M8P5C9KW1VTN3H  D  RDD  2038-02-30     SWEEP -1000.0   \n",
       "2  IYH6EOT91IN  6XQ64LJ94E67RA5  D  RDD  2038-02-30     SWEEP  1000.0   \n",
       "3  IYH6EOT91IN  6YQW41PM4V96A4X  D  RDD  2038-02-30     SWEEP -1000.0   \n",
       "4  IYH6EOT91IN   7X46E9MJFPP6OQ  C  CIN  2038-02-30  Interest  2128.0   \n",
       "\n",
       "       Txndate   TxnEOMdate  AvgMTxnCnt  AvgMonBalanceAmt  \n",
       "0  16-JAN-2037  31-JAN-2037           1            -174.4  \n",
       "1  16-APR-2038  31-APR-2038           1            -174.4  \n",
       "2  18-NOV-2038  31-NOV-2038           1            -174.4  \n",
       "3  16-MAY-2038  28-MAY-2038           1            -174.4  \n",
       "4  01-JAN-2038  30-DEC-2038           1            -174.4  "
      ]
     },
     "execution_count": 114,
     "metadata": {},
     "output_type": "execute_result"
    }
   ],
   "source": [
    "df_txndata_test_final.head()"
   ]
  },
  {
   "cell_type": "code",
   "execution_count": 115,
   "metadata": {
    "collapsed": false
   },
   "outputs": [],
   "source": [
    "#Keep only relevant txn data fields\n",
    "df_txndata_trainfinal = df_txndata_train_final.drop(['C3','C5','C6','C8','C10','C12','Txndate','TxnEOMdate'],axis=1)"
   ]
  },
  {
   "cell_type": "code",
   "execution_count": 116,
   "metadata": {
    "collapsed": true
   },
   "outputs": [],
   "source": [
    "df_txndata_testfinal = df_txndata_test_final.drop(['C3','C5','C6','C8','C10','C12','Txndate','TxnEOMdate'],axis=1)"
   ]
  },
  {
   "cell_type": "code",
   "execution_count": 116,
   "metadata": {
    "collapsed": false
   },
   "outputs": [
    {
     "data": {
      "text/html": [
       "<div>\n",
       "<style scoped>\n",
       "    .dataframe tbody tr th:only-of-type {\n",
       "        vertical-align: middle;\n",
       "    }\n",
       "\n",
       "    .dataframe tbody tr th {\n",
       "        vertical-align: top;\n",
       "    }\n",
       "\n",
       "    .dataframe thead th {\n",
       "        text-align: right;\n",
       "    }\n",
       "</style>\n",
       "<table border=\"1\" class=\"dataframe\">\n",
       "  <thead>\n",
       "    <tr style=\"text-align: right;\">\n",
       "      <th></th>\n",
       "      <th>UID</th>\n",
       "      <th>V1</th>\n",
       "      <th>V2</th>\n",
       "      <th>V3</th>\n",
       "      <th>V4</th>\n",
       "      <th>V6</th>\n",
       "      <th>V7</th>\n",
       "      <th>V8</th>\n",
       "      <th>V10</th>\n",
       "      <th>V11</th>\n",
       "      <th>...</th>\n",
       "      <th>V52_Bin</th>\n",
       "      <th>V53_Bin</th>\n",
       "      <th>V32_Bin_0</th>\n",
       "      <th>V32_Bin_1</th>\n",
       "      <th>V32_Bin_2</th>\n",
       "      <th>V32_Bin_3</th>\n",
       "      <th>V33_Bin_0</th>\n",
       "      <th>V33_Bin_1</th>\n",
       "      <th>V33_Bin_2</th>\n",
       "      <th>V33_Bin_3</th>\n",
       "    </tr>\n",
       "  </thead>\n",
       "  <tbody>\n",
       "    <tr>\n",
       "      <th>0</th>\n",
       "      <td>Tr-1</td>\n",
       "      <td>30SEP2038</td>\n",
       "      <td>61P4S1M3GET</td>\n",
       "      <td>10397.750000</td>\n",
       "      <td>3008.654726</td>\n",
       "      <td>358691.120083</td>\n",
       "      <td>14641.803902</td>\n",
       "      <td>852276.268235</td>\n",
       "      <td>197186.680000</td>\n",
       "      <td>82750.418893</td>\n",
       "      <td>...</td>\n",
       "      <td>0</td>\n",
       "      <td>1</td>\n",
       "      <td>0</td>\n",
       "      <td>0</td>\n",
       "      <td>0</td>\n",
       "      <td>1</td>\n",
       "      <td>0</td>\n",
       "      <td>0</td>\n",
       "      <td>0</td>\n",
       "      <td>1</td>\n",
       "    </tr>\n",
       "    <tr>\n",
       "      <th>1</th>\n",
       "      <td>Tr-2</td>\n",
       "      <td>31JAN2038</td>\n",
       "      <td>6NYVS1J3U7M</td>\n",
       "      <td>136493.078565</td>\n",
       "      <td>606.740000</td>\n",
       "      <td>358691.120083</td>\n",
       "      <td>14641.803902</td>\n",
       "      <td>852276.268235</td>\n",
       "      <td>438389.277171</td>\n",
       "      <td>82750.418893</td>\n",
       "      <td>...</td>\n",
       "      <td>0</td>\n",
       "      <td>0</td>\n",
       "      <td>0</td>\n",
       "      <td>0</td>\n",
       "      <td>1</td>\n",
       "      <td>0</td>\n",
       "      <td>0</td>\n",
       "      <td>1</td>\n",
       "      <td>0</td>\n",
       "      <td>0</td>\n",
       "    </tr>\n",
       "    <tr>\n",
       "      <th>2</th>\n",
       "      <td>Tr-3</td>\n",
       "      <td>31APR2038</td>\n",
       "      <td>BLFB1KMS48</td>\n",
       "      <td>87452.890000</td>\n",
       "      <td>963.520000</td>\n",
       "      <td>358691.120083</td>\n",
       "      <td>13838.000000</td>\n",
       "      <td>852276.268235</td>\n",
       "      <td>1081.250000</td>\n",
       "      <td>6000.000000</td>\n",
       "      <td>...</td>\n",
       "      <td>1</td>\n",
       "      <td>0</td>\n",
       "      <td>0</td>\n",
       "      <td>0</td>\n",
       "      <td>0</td>\n",
       "      <td>1</td>\n",
       "      <td>0</td>\n",
       "      <td>0</td>\n",
       "      <td>0</td>\n",
       "      <td>1</td>\n",
       "    </tr>\n",
       "    <tr>\n",
       "      <th>3</th>\n",
       "      <td>Tr-4</td>\n",
       "      <td>31NOV2038</td>\n",
       "      <td>MYGB1LCW8P</td>\n",
       "      <td>136493.078565</td>\n",
       "      <td>393.260000</td>\n",
       "      <td>358691.120083</td>\n",
       "      <td>14641.803902</td>\n",
       "      <td>852276.268235</td>\n",
       "      <td>438389.277171</td>\n",
       "      <td>82750.418893</td>\n",
       "      <td>...</td>\n",
       "      <td>0</td>\n",
       "      <td>0</td>\n",
       "      <td>0</td>\n",
       "      <td>1</td>\n",
       "      <td>0</td>\n",
       "      <td>0</td>\n",
       "      <td>0</td>\n",
       "      <td>1</td>\n",
       "      <td>0</td>\n",
       "      <td>0</td>\n",
       "    </tr>\n",
       "    <tr>\n",
       "      <th>4</th>\n",
       "      <td>Tr-5</td>\n",
       "      <td>31OCT2038</td>\n",
       "      <td>6UG5S1PQGE5</td>\n",
       "      <td>1100.000000</td>\n",
       "      <td>497.200000</td>\n",
       "      <td>358691.120083</td>\n",
       "      <td>14641.803902</td>\n",
       "      <td>852276.268235</td>\n",
       "      <td>18640.000000</td>\n",
       "      <td>82750.418893</td>\n",
       "      <td>...</td>\n",
       "      <td>0</td>\n",
       "      <td>0</td>\n",
       "      <td>0</td>\n",
       "      <td>0</td>\n",
       "      <td>0</td>\n",
       "      <td>1</td>\n",
       "      <td>0</td>\n",
       "      <td>0</td>\n",
       "      <td>0</td>\n",
       "      <td>1</td>\n",
       "    </tr>\n",
       "  </tbody>\n",
       "</table>\n",
       "<p>5 rows × 41 columns</p>\n",
       "</div>"
      ],
      "text/plain": [
       "    UID         V1           V2             V3           V4             V6  \\\n",
       "0  Tr-1  30SEP2038  61P4S1M3GET   10397.750000  3008.654726  358691.120083   \n",
       "1  Tr-2  31JAN2038  6NYVS1J3U7M  136493.078565   606.740000  358691.120083   \n",
       "2  Tr-3  31APR2038   BLFB1KMS48   87452.890000   963.520000  358691.120083   \n",
       "3  Tr-4  31NOV2038   MYGB1LCW8P  136493.078565   393.260000  358691.120083   \n",
       "4  Tr-5  31OCT2038  6UG5S1PQGE5    1100.000000   497.200000  358691.120083   \n",
       "\n",
       "             V7             V8            V10           V11    ...      \\\n",
       "0  14641.803902  852276.268235  197186.680000  82750.418893    ...       \n",
       "1  14641.803902  852276.268235  438389.277171  82750.418893    ...       \n",
       "2  13838.000000  852276.268235    1081.250000   6000.000000    ...       \n",
       "3  14641.803902  852276.268235  438389.277171  82750.418893    ...       \n",
       "4  14641.803902  852276.268235   18640.000000  82750.418893    ...       \n",
       "\n",
       "   V52_Bin  V53_Bin  V32_Bin_0  V32_Bin_1  V32_Bin_2  V32_Bin_3  V33_Bin_0  \\\n",
       "0        0        1          0          0          0          1          0   \n",
       "1        0        0          0          0          1          0          0   \n",
       "2        1        0          0          0          0          1          0   \n",
       "3        0        0          0          1          0          0          0   \n",
       "4        0        0          0          0          0          1          0   \n",
       "\n",
       "   V33_Bin_1  V33_Bin_2  V33_Bin_3  \n",
       "0          0          0          1  \n",
       "1          1          0          0  \n",
       "2          0          0          1  \n",
       "3          1          0          0  \n",
       "4          0          0          1  \n",
       "\n",
       "[5 rows x 41 columns]"
      ]
     },
     "execution_count": 116,
     "metadata": {},
     "output_type": "execute_result"
    }
   ],
   "source": [
    "df_aggdata_train_final.head()"
   ]
  },
  {
   "cell_type": "code",
   "execution_count": 85,
   "metadata": {
    "collapsed": false,
    "scrolled": true
   },
   "outputs": [
    {
     "data": {
      "text/html": [
       "<div>\n",
       "<style scoped>\n",
       "    .dataframe tbody tr th:only-of-type {\n",
       "        vertical-align: middle;\n",
       "    }\n",
       "\n",
       "    .dataframe tbody tr th {\n",
       "        vertical-align: top;\n",
       "    }\n",
       "\n",
       "    .dataframe thead th {\n",
       "        text-align: right;\n",
       "    }\n",
       "</style>\n",
       "<table border=\"1\" class=\"dataframe\">\n",
       "  <thead>\n",
       "    <tr style=\"text-align: right;\">\n",
       "      <th></th>\n",
       "      <th>C2</th>\n",
       "      <th>AvgMTxnCnt</th>\n",
       "      <th>AvgMonBalanceAmt</th>\n",
       "    </tr>\n",
       "  </thead>\n",
       "  <tbody>\n",
       "    <tr>\n",
       "      <th>0</th>\n",
       "      <td>6UGH4BMM1Y6P</td>\n",
       "      <td>40</td>\n",
       "      <td>-539054.603636</td>\n",
       "    </tr>\n",
       "    <tr>\n",
       "      <th>1</th>\n",
       "      <td>6UGH4BMM1Y6P</td>\n",
       "      <td>40</td>\n",
       "      <td>-539054.603636</td>\n",
       "    </tr>\n",
       "    <tr>\n",
       "      <th>2</th>\n",
       "      <td>6UGH4BMM1Y6P</td>\n",
       "      <td>40</td>\n",
       "      <td>-539054.603636</td>\n",
       "    </tr>\n",
       "    <tr>\n",
       "      <th>3</th>\n",
       "      <td>6UGH4BMM1Y6P</td>\n",
       "      <td>40</td>\n",
       "      <td>-539054.603636</td>\n",
       "    </tr>\n",
       "    <tr>\n",
       "      <th>4</th>\n",
       "      <td>6UGH4BMM1Y6P</td>\n",
       "      <td>40</td>\n",
       "      <td>-539054.603636</td>\n",
       "    </tr>\n",
       "  </tbody>\n",
       "</table>\n",
       "</div>"
      ],
      "text/plain": [
       "             C2  AvgMTxnCnt  AvgMonBalanceAmt\n",
       "0  6UGH4BMM1Y6P          40    -539054.603636\n",
       "1  6UGH4BMM1Y6P          40    -539054.603636\n",
       "2  6UGH4BMM1Y6P          40    -539054.603636\n",
       "3  6UGH4BMM1Y6P          40    -539054.603636\n",
       "4  6UGH4BMM1Y6P          40    -539054.603636"
      ]
     },
     "execution_count": 85,
     "metadata": {},
     "output_type": "execute_result"
    }
   ],
   "source": [
    "df_txndata_trainfinal.head()"
   ]
  },
  {
   "cell_type": "code",
   "execution_count": 117,
   "metadata": {
    "collapsed": false
   },
   "outputs": [],
   "source": [
    "#delete duplicates and keep one record per id\n",
    "df_txndata_trainfinal.drop_duplicates(inplace=True)"
   ]
  },
  {
   "cell_type": "code",
   "execution_count": 118,
   "metadata": {
    "collapsed": true
   },
   "outputs": [],
   "source": [
    "df_txndata_testfinal.drop_duplicates(inplace=True)"
   ]
  },
  {
   "cell_type": "code",
   "execution_count": 118,
   "metadata": {
    "collapsed": false
   },
   "outputs": [
    {
     "data": {
      "text/html": [
       "<div>\n",
       "<style scoped>\n",
       "    .dataframe tbody tr th:only-of-type {\n",
       "        vertical-align: middle;\n",
       "    }\n",
       "\n",
       "    .dataframe tbody tr th {\n",
       "        vertical-align: top;\n",
       "    }\n",
       "\n",
       "    .dataframe thead th {\n",
       "        text-align: right;\n",
       "    }\n",
       "</style>\n",
       "<table border=\"1\" class=\"dataframe\">\n",
       "  <thead>\n",
       "    <tr style=\"text-align: right;\">\n",
       "      <th></th>\n",
       "      <th>C2</th>\n",
       "      <th>AvgMTxnCnt</th>\n",
       "      <th>AvgMonBalanceAmt</th>\n",
       "    </tr>\n",
       "  </thead>\n",
       "  <tbody>\n",
       "    <tr>\n",
       "      <th>0</th>\n",
       "      <td>6UGH4BMM1Y6P</td>\n",
       "      <td>40.363636</td>\n",
       "      <td>-5.390546e+05</td>\n",
       "    </tr>\n",
       "    <tr>\n",
       "      <th>444</th>\n",
       "      <td>9Y46ZBCWRP9</td>\n",
       "      <td>2871.142857</td>\n",
       "      <td>-2.720067e+07</td>\n",
       "    </tr>\n",
       "    <tr>\n",
       "      <th>20542</th>\n",
       "      <td>6Z4F3BPVME6</td>\n",
       "      <td>34.500000</td>\n",
       "      <td>-1.354276e+06</td>\n",
       "    </tr>\n",
       "    <tr>\n",
       "      <th>20680</th>\n",
       "      <td>6UYF21TDMPPT</td>\n",
       "      <td>15.625000</td>\n",
       "      <td>-5.374623e+04</td>\n",
       "    </tr>\n",
       "    <tr>\n",
       "      <th>20805</th>\n",
       "      <td>5N5ASLGMMPM</td>\n",
       "      <td>13.800000</td>\n",
       "      <td>-3.633097e+04</td>\n",
       "    </tr>\n",
       "  </tbody>\n",
       "</table>\n",
       "</div>"
      ],
      "text/plain": [
       "                 C2   AvgMTxnCnt  AvgMonBalanceAmt\n",
       "0      6UGH4BMM1Y6P    40.363636     -5.390546e+05\n",
       "444     9Y46ZBCWRP9  2871.142857     -2.720067e+07\n",
       "20542   6Z4F3BPVME6    34.500000     -1.354276e+06\n",
       "20680  6UYF21TDMPPT    15.625000     -5.374623e+04\n",
       "20805   5N5ASLGMMPM    13.800000     -3.633097e+04"
      ]
     },
     "execution_count": 118,
     "metadata": {},
     "output_type": "execute_result"
    }
   ],
   "source": [
    "df_txndata_trainfinal.head()"
   ]
  },
  {
   "cell_type": "code",
   "execution_count": 128,
   "metadata": {
    "collapsed": true
   },
   "outputs": [],
   "source": [
    "#final train dataframe\n",
    "train_data_final = pd.merge(left=df_aggdata_train_final,right=df_txndata_trainfinal,how='left',left_on='V2',right_on='C2')\n"
   ]
  },
  {
   "cell_type": "code",
   "execution_count": 129,
   "metadata": {
    "collapsed": true
   },
   "outputs": [],
   "source": [
    "#final test data\n",
    "test_data_final = pd.merge(left=df_aggdata_test_final,right=df_txndata_testfinal,how='left',left_on='V2',right_on='C2')"
   ]
  },
  {
   "cell_type": "code",
   "execution_count": 130,
   "metadata": {
    "collapsed": false
   },
   "outputs": [],
   "source": [
    "df_response_var=df_aggdata_train.filter(items=['bad_flag'])"
   ]
  },
  {
   "cell_type": "code",
   "execution_count": 123,
   "metadata": {
    "collapsed": false
   },
   "outputs": [
    {
     "data": {
      "text/html": [
       "<div>\n",
       "<style scoped>\n",
       "    .dataframe tbody tr th:only-of-type {\n",
       "        vertical-align: middle;\n",
       "    }\n",
       "\n",
       "    .dataframe tbody tr th {\n",
       "        vertical-align: top;\n",
       "    }\n",
       "\n",
       "    .dataframe thead th {\n",
       "        text-align: right;\n",
       "    }\n",
       "</style>\n",
       "<table border=\"1\" class=\"dataframe\">\n",
       "  <thead>\n",
       "    <tr style=\"text-align: right;\">\n",
       "      <th></th>\n",
       "      <th>bad_flag</th>\n",
       "    </tr>\n",
       "  </thead>\n",
       "  <tbody>\n",
       "    <tr>\n",
       "      <th>0</th>\n",
       "      <td>0</td>\n",
       "    </tr>\n",
       "    <tr>\n",
       "      <th>1</th>\n",
       "      <td>0</td>\n",
       "    </tr>\n",
       "    <tr>\n",
       "      <th>2</th>\n",
       "      <td>0</td>\n",
       "    </tr>\n",
       "    <tr>\n",
       "      <th>3</th>\n",
       "      <td>0</td>\n",
       "    </tr>\n",
       "    <tr>\n",
       "      <th>4</th>\n",
       "      <td>0</td>\n",
       "    </tr>\n",
       "  </tbody>\n",
       "</table>\n",
       "</div>"
      ],
      "text/plain": [
       "   bad_flag\n",
       "0         0\n",
       "1         0\n",
       "2         0\n",
       "3         0\n",
       "4         0"
      ]
     },
     "execution_count": 123,
     "metadata": {},
     "output_type": "execute_result"
    }
   ],
   "source": [
    "df_response_var.head()"
   ]
  },
  {
   "cell_type": "code",
   "execution_count": 131,
   "metadata": {
    "collapsed": false
   },
   "outputs": [],
   "source": [
    "#Final train data with response variable\n",
    "train_data_final = pd.concat([train_data_final,df_response_var],axis=1)"
   ]
  },
  {
   "cell_type": "code",
   "execution_count": 125,
   "metadata": {
    "collapsed": false
   },
   "outputs": [
    {
     "data": {
      "text/html": [
       "<div>\n",
       "<style scoped>\n",
       "    .dataframe tbody tr th:only-of-type {\n",
       "        vertical-align: middle;\n",
       "    }\n",
       "\n",
       "    .dataframe tbody tr th {\n",
       "        vertical-align: top;\n",
       "    }\n",
       "\n",
       "    .dataframe thead th {\n",
       "        text-align: right;\n",
       "    }\n",
       "</style>\n",
       "<table border=\"1\" class=\"dataframe\">\n",
       "  <thead>\n",
       "    <tr style=\"text-align: right;\">\n",
       "      <th></th>\n",
       "      <th>UID</th>\n",
       "      <th>V1</th>\n",
       "      <th>V2</th>\n",
       "      <th>V3</th>\n",
       "      <th>V4</th>\n",
       "      <th>V6</th>\n",
       "      <th>V7</th>\n",
       "      <th>V8</th>\n",
       "      <th>V10</th>\n",
       "      <th>V11</th>\n",
       "      <th>...</th>\n",
       "      <th>V32_Bin_1</th>\n",
       "      <th>V32_Bin_2</th>\n",
       "      <th>V32_Bin_3</th>\n",
       "      <th>V33_Bin_0</th>\n",
       "      <th>V33_Bin_1</th>\n",
       "      <th>V33_Bin_2</th>\n",
       "      <th>V33_Bin_3</th>\n",
       "      <th>C2</th>\n",
       "      <th>AvgMTxnCnt</th>\n",
       "      <th>AvgMonBalanceAmt</th>\n",
       "    </tr>\n",
       "  </thead>\n",
       "  <tbody>\n",
       "    <tr>\n",
       "      <th>0</th>\n",
       "      <td>Te-1</td>\n",
       "      <td>30SEP2038</td>\n",
       "      <td>61P4S1M3GET</td>\n",
       "      <td>10397.750000</td>\n",
       "      <td>3097.780373</td>\n",
       "      <td>372364.131864</td>\n",
       "      <td>14539.785973</td>\n",
       "      <td>720291.106032</td>\n",
       "      <td>197186.680000</td>\n",
       "      <td>84646.126661</td>\n",
       "      <td>...</td>\n",
       "      <td>0</td>\n",
       "      <td>0</td>\n",
       "      <td>1</td>\n",
       "      <td>0</td>\n",
       "      <td>0</td>\n",
       "      <td>0</td>\n",
       "      <td>1</td>\n",
       "      <td>61P4S1M3GET</td>\n",
       "      <td>30</td>\n",
       "      <td>-288540.502500</td>\n",
       "    </tr>\n",
       "    <tr>\n",
       "      <th>1</th>\n",
       "      <td>Te-2</td>\n",
       "      <td>31JAN2038</td>\n",
       "      <td>6NYVS1J3U7M</td>\n",
       "      <td>136777.588133</td>\n",
       "      <td>606.740000</td>\n",
       "      <td>372364.131864</td>\n",
       "      <td>14539.785973</td>\n",
       "      <td>720291.106032</td>\n",
       "      <td>429745.828173</td>\n",
       "      <td>84646.126661</td>\n",
       "      <td>...</td>\n",
       "      <td>0</td>\n",
       "      <td>1</td>\n",
       "      <td>0</td>\n",
       "      <td>1</td>\n",
       "      <td>0</td>\n",
       "      <td>0</td>\n",
       "      <td>0</td>\n",
       "      <td>6NYVS1J3U7M</td>\n",
       "      <td>3</td>\n",
       "      <td>-3134.134167</td>\n",
       "    </tr>\n",
       "    <tr>\n",
       "      <th>2</th>\n",
       "      <td>Te-3</td>\n",
       "      <td>31APR2038</td>\n",
       "      <td>BLFB1KMS48</td>\n",
       "      <td>87452.890000</td>\n",
       "      <td>963.520000</td>\n",
       "      <td>372364.131864</td>\n",
       "      <td>13838.000000</td>\n",
       "      <td>720291.106032</td>\n",
       "      <td>1081.250000</td>\n",
       "      <td>6000.000000</td>\n",
       "      <td>...</td>\n",
       "      <td>0</td>\n",
       "      <td>0</td>\n",
       "      <td>1</td>\n",
       "      <td>0</td>\n",
       "      <td>0</td>\n",
       "      <td>0</td>\n",
       "      <td>1</td>\n",
       "      <td>BLFB1KMS48</td>\n",
       "      <td>23</td>\n",
       "      <td>-100465.798333</td>\n",
       "    </tr>\n",
       "    <tr>\n",
       "      <th>3</th>\n",
       "      <td>Te-4</td>\n",
       "      <td>31NOV2038</td>\n",
       "      <td>MYGB1LCW8P</td>\n",
       "      <td>136777.588133</td>\n",
       "      <td>393.260000</td>\n",
       "      <td>372364.131864</td>\n",
       "      <td>14539.785973</td>\n",
       "      <td>720291.106032</td>\n",
       "      <td>429745.828173</td>\n",
       "      <td>84646.126661</td>\n",
       "      <td>...</td>\n",
       "      <td>1</td>\n",
       "      <td>0</td>\n",
       "      <td>0</td>\n",
       "      <td>0</td>\n",
       "      <td>1</td>\n",
       "      <td>0</td>\n",
       "      <td>0</td>\n",
       "      <td>MYGB1LCW8P</td>\n",
       "      <td>2</td>\n",
       "      <td>-48824.572222</td>\n",
       "    </tr>\n",
       "    <tr>\n",
       "      <th>4</th>\n",
       "      <td>Te-5</td>\n",
       "      <td>31OCT2038</td>\n",
       "      <td>6UG5S1PQGE5</td>\n",
       "      <td>1100.000000</td>\n",
       "      <td>497.200000</td>\n",
       "      <td>372364.131864</td>\n",
       "      <td>14539.785973</td>\n",
       "      <td>720291.106032</td>\n",
       "      <td>18640.000000</td>\n",
       "      <td>84646.126661</td>\n",
       "      <td>...</td>\n",
       "      <td>0</td>\n",
       "      <td>0</td>\n",
       "      <td>1</td>\n",
       "      <td>0</td>\n",
       "      <td>0</td>\n",
       "      <td>0</td>\n",
       "      <td>1</td>\n",
       "      <td>6UG5S1PQGE5</td>\n",
       "      <td>12</td>\n",
       "      <td>-65135.379167</td>\n",
       "    </tr>\n",
       "  </tbody>\n",
       "</table>\n",
       "<p>5 rows × 44 columns</p>\n",
       "</div>"
      ],
      "text/plain": [
       "    UID         V1           V2             V3           V4             V6  \\\n",
       "0  Te-1  30SEP2038  61P4S1M3GET   10397.750000  3097.780373  372364.131864   \n",
       "1  Te-2  31JAN2038  6NYVS1J3U7M  136777.588133   606.740000  372364.131864   \n",
       "2  Te-3  31APR2038   BLFB1KMS48   87452.890000   963.520000  372364.131864   \n",
       "3  Te-4  31NOV2038   MYGB1LCW8P  136777.588133   393.260000  372364.131864   \n",
       "4  Te-5  31OCT2038  6UG5S1PQGE5    1100.000000   497.200000  372364.131864   \n",
       "\n",
       "             V7             V8            V10           V11        ...         \\\n",
       "0  14539.785973  720291.106032  197186.680000  84646.126661        ...          \n",
       "1  14539.785973  720291.106032  429745.828173  84646.126661        ...          \n",
       "2  13838.000000  720291.106032    1081.250000   6000.000000        ...          \n",
       "3  14539.785973  720291.106032  429745.828173  84646.126661        ...          \n",
       "4  14539.785973  720291.106032   18640.000000  84646.126661        ...          \n",
       "\n",
       "   V32_Bin_1  V32_Bin_2  V32_Bin_3  V33_Bin_0  V33_Bin_1  V33_Bin_2  \\\n",
       "0          0          0          1          0          0          0   \n",
       "1          0          1          0          1          0          0   \n",
       "2          0          0          1          0          0          0   \n",
       "3          1          0          0          0          1          0   \n",
       "4          0          0          1          0          0          0   \n",
       "\n",
       "   V33_Bin_3           C2  AvgMTxnCnt  AvgMonBalanceAmt  \n",
       "0          1  61P4S1M3GET          30    -288540.502500  \n",
       "1          0  6NYVS1J3U7M           3      -3134.134167  \n",
       "2          1   BLFB1KMS48          23    -100465.798333  \n",
       "3          0   MYGB1LCW8P           2     -48824.572222  \n",
       "4          1  6UG5S1PQGE5          12     -65135.379167  \n",
       "\n",
       "[5 rows x 44 columns]"
      ]
     },
     "execution_count": 125,
     "metadata": {},
     "output_type": "execute_result"
    }
   ],
   "source": [
    "test_data_final.head()"
   ]
  },
  {
   "cell_type": "code",
   "execution_count": 132,
   "metadata": {
    "collapsed": false
   },
   "outputs": [],
   "source": [
    "#Drop C2\n",
    "train_data_final=train_data_final.drop(['C2'],axis=1)\n",
    "test_data_final=test_data_final.drop(['C2'],axis=1)"
   ]
  },
  {
   "cell_type": "code",
   "execution_count": 133,
   "metadata": {
    "collapsed": false
   },
   "outputs": [
    {
     "data": {
      "text/html": [
       "<div>\n",
       "<style scoped>\n",
       "    .dataframe tbody tr th:only-of-type {\n",
       "        vertical-align: middle;\n",
       "    }\n",
       "\n",
       "    .dataframe tbody tr th {\n",
       "        vertical-align: top;\n",
       "    }\n",
       "\n",
       "    .dataframe thead th {\n",
       "        text-align: right;\n",
       "    }\n",
       "</style>\n",
       "<table border=\"1\" class=\"dataframe\">\n",
       "  <thead>\n",
       "    <tr style=\"text-align: right;\">\n",
       "      <th></th>\n",
       "      <th>UID</th>\n",
       "      <th>V1</th>\n",
       "      <th>V2</th>\n",
       "      <th>V3</th>\n",
       "      <th>V4</th>\n",
       "      <th>V6</th>\n",
       "      <th>V7</th>\n",
       "      <th>V8</th>\n",
       "      <th>V10</th>\n",
       "      <th>V11</th>\n",
       "      <th>...</th>\n",
       "      <th>V32_Bin_1</th>\n",
       "      <th>V32_Bin_2</th>\n",
       "      <th>V32_Bin_3</th>\n",
       "      <th>V33_Bin_0</th>\n",
       "      <th>V33_Bin_1</th>\n",
       "      <th>V33_Bin_2</th>\n",
       "      <th>V33_Bin_3</th>\n",
       "      <th>AvgMTxnCnt</th>\n",
       "      <th>AvgMonBalanceAmt</th>\n",
       "      <th>bad_flag</th>\n",
       "    </tr>\n",
       "  </thead>\n",
       "  <tbody>\n",
       "    <tr>\n",
       "      <th>0</th>\n",
       "      <td>Tr-1</td>\n",
       "      <td>30SEP2038</td>\n",
       "      <td>61P4S1M3GET</td>\n",
       "      <td>10397.750000</td>\n",
       "      <td>3008.654726</td>\n",
       "      <td>358691.120083</td>\n",
       "      <td>14641.803902</td>\n",
       "      <td>852276.268235</td>\n",
       "      <td>197186.680000</td>\n",
       "      <td>82750.418893</td>\n",
       "      <td>...</td>\n",
       "      <td>0</td>\n",
       "      <td>0</td>\n",
       "      <td>1</td>\n",
       "      <td>0</td>\n",
       "      <td>0</td>\n",
       "      <td>0</td>\n",
       "      <td>1</td>\n",
       "      <td>47</td>\n",
       "      <td>-191682.068889</td>\n",
       "      <td>0</td>\n",
       "    </tr>\n",
       "    <tr>\n",
       "      <th>1</th>\n",
       "      <td>Tr-2</td>\n",
       "      <td>31JAN2038</td>\n",
       "      <td>6NYVS1J3U7M</td>\n",
       "      <td>136493.078565</td>\n",
       "      <td>606.740000</td>\n",
       "      <td>358691.120083</td>\n",
       "      <td>14641.803902</td>\n",
       "      <td>852276.268235</td>\n",
       "      <td>438389.277171</td>\n",
       "      <td>82750.418893</td>\n",
       "      <td>...</td>\n",
       "      <td>0</td>\n",
       "      <td>1</td>\n",
       "      <td>0</td>\n",
       "      <td>0</td>\n",
       "      <td>1</td>\n",
       "      <td>0</td>\n",
       "      <td>0</td>\n",
       "      <td>6</td>\n",
       "      <td>2874.148333</td>\n",
       "      <td>0</td>\n",
       "    </tr>\n",
       "    <tr>\n",
       "      <th>2</th>\n",
       "      <td>Tr-3</td>\n",
       "      <td>31APR2038</td>\n",
       "      <td>BLFB1KMS48</td>\n",
       "      <td>87452.890000</td>\n",
       "      <td>963.520000</td>\n",
       "      <td>358691.120083</td>\n",
       "      <td>13838.000000</td>\n",
       "      <td>852276.268235</td>\n",
       "      <td>1081.250000</td>\n",
       "      <td>6000.000000</td>\n",
       "      <td>...</td>\n",
       "      <td>0</td>\n",
       "      <td>0</td>\n",
       "      <td>1</td>\n",
       "      <td>0</td>\n",
       "      <td>0</td>\n",
       "      <td>0</td>\n",
       "      <td>1</td>\n",
       "      <td>32</td>\n",
       "      <td>-174057.320000</td>\n",
       "      <td>0</td>\n",
       "    </tr>\n",
       "    <tr>\n",
       "      <th>3</th>\n",
       "      <td>Tr-4</td>\n",
       "      <td>31NOV2038</td>\n",
       "      <td>MYGB1LCW8P</td>\n",
       "      <td>136493.078565</td>\n",
       "      <td>393.260000</td>\n",
       "      <td>358691.120083</td>\n",
       "      <td>14641.803902</td>\n",
       "      <td>852276.268235</td>\n",
       "      <td>438389.277171</td>\n",
       "      <td>82750.418893</td>\n",
       "      <td>...</td>\n",
       "      <td>1</td>\n",
       "      <td>0</td>\n",
       "      <td>0</td>\n",
       "      <td>0</td>\n",
       "      <td>1</td>\n",
       "      <td>0</td>\n",
       "      <td>0</td>\n",
       "      <td>4</td>\n",
       "      <td>-17427.596364</td>\n",
       "      <td>0</td>\n",
       "    </tr>\n",
       "    <tr>\n",
       "      <th>4</th>\n",
       "      <td>Tr-5</td>\n",
       "      <td>31OCT2038</td>\n",
       "      <td>6UG5S1PQGE5</td>\n",
       "      <td>1100.000000</td>\n",
       "      <td>497.200000</td>\n",
       "      <td>358691.120083</td>\n",
       "      <td>14641.803902</td>\n",
       "      <td>852276.268235</td>\n",
       "      <td>18640.000000</td>\n",
       "      <td>82750.418893</td>\n",
       "      <td>...</td>\n",
       "      <td>0</td>\n",
       "      <td>0</td>\n",
       "      <td>1</td>\n",
       "      <td>0</td>\n",
       "      <td>0</td>\n",
       "      <td>0</td>\n",
       "      <td>1</td>\n",
       "      <td>22</td>\n",
       "      <td>-128131.985000</td>\n",
       "      <td>0</td>\n",
       "    </tr>\n",
       "  </tbody>\n",
       "</table>\n",
       "<p>5 rows × 44 columns</p>\n",
       "</div>"
      ],
      "text/plain": [
       "    UID         V1           V2             V3           V4             V6  \\\n",
       "0  Tr-1  30SEP2038  61P4S1M3GET   10397.750000  3008.654726  358691.120083   \n",
       "1  Tr-2  31JAN2038  6NYVS1J3U7M  136493.078565   606.740000  358691.120083   \n",
       "2  Tr-3  31APR2038   BLFB1KMS48   87452.890000   963.520000  358691.120083   \n",
       "3  Tr-4  31NOV2038   MYGB1LCW8P  136493.078565   393.260000  358691.120083   \n",
       "4  Tr-5  31OCT2038  6UG5S1PQGE5    1100.000000   497.200000  358691.120083   \n",
       "\n",
       "             V7             V8            V10           V11    ...     \\\n",
       "0  14641.803902  852276.268235  197186.680000  82750.418893    ...      \n",
       "1  14641.803902  852276.268235  438389.277171  82750.418893    ...      \n",
       "2  13838.000000  852276.268235    1081.250000   6000.000000    ...      \n",
       "3  14641.803902  852276.268235  438389.277171  82750.418893    ...      \n",
       "4  14641.803902  852276.268235   18640.000000  82750.418893    ...      \n",
       "\n",
       "   V32_Bin_1  V32_Bin_2  V32_Bin_3  V33_Bin_0  V33_Bin_1  V33_Bin_2  \\\n",
       "0          0          0          1          0          0          0   \n",
       "1          0          1          0          0          1          0   \n",
       "2          0          0          1          0          0          0   \n",
       "3          1          0          0          0          1          0   \n",
       "4          0          0          1          0          0          0   \n",
       "\n",
       "   V33_Bin_3  AvgMTxnCnt  AvgMonBalanceAmt  bad_flag  \n",
       "0          1          47    -191682.068889         0  \n",
       "1          0           6       2874.148333         0  \n",
       "2          1          32    -174057.320000         0  \n",
       "3          0           4     -17427.596364         0  \n",
       "4          1          22    -128131.985000         0  \n",
       "\n",
       "[5 rows x 44 columns]"
      ]
     },
     "execution_count": 133,
     "metadata": {},
     "output_type": "execute_result"
    }
   ],
   "source": [
    "train_data_final.head()"
   ]
  },
  {
   "cell_type": "code",
   "execution_count": 206,
   "metadata": {
    "collapsed": false
   },
   "outputs": [
    {
     "name": "stdout",
     "output_type": "stream",
     "text": [
      "<class 'pandas.core.frame.DataFrame'>\n",
      "Int64Index: 48434 entries, 0 to 48433\n",
      "Data columns (total 43 columns):\n",
      "UID                 48434 non-null object\n",
      "V1                  48434 non-null object\n",
      "V2                  48434 non-null object\n",
      "V3                  48434 non-null float64\n",
      "V4                  48434 non-null float64\n",
      "V6                  48434 non-null float64\n",
      "V7                  48434 non-null float64\n",
      "V8                  48434 non-null float64\n",
      "V10                 48434 non-null float64\n",
      "V11                 48434 non-null float64\n",
      "V16                 48434 non-null float64\n",
      "V37                 48434 non-null float64\n",
      "V41                 48434 non-null float64\n",
      "V43                 48434 non-null float64\n",
      "V46                 48434 non-null float64\n",
      "V19_Bin             48434 non-null int64\n",
      "V20_Bin             48434 non-null int64\n",
      "V21_Bin             48434 non-null int64\n",
      "V22_Bin             48434 non-null int64\n",
      "V23_Bin             48434 non-null int64\n",
      "V25_Bin             48434 non-null int64\n",
      "V26_Bin             48434 non-null int64\n",
      "V27_Bin             48434 non-null int64\n",
      "V28_Bin             48434 non-null int64\n",
      "V29_Bin             48434 non-null int64\n",
      "V31_Bin             48434 non-null int64\n",
      "V38_Bin             48434 non-null int64\n",
      "V39_Bin             48434 non-null int64\n",
      "V40_Bin             48434 non-null int64\n",
      "V50_Bin             48434 non-null int64\n",
      "V51_Bin             48434 non-null int64\n",
      "V52_Bin             48434 non-null int64\n",
      "V53_Bin             48434 non-null int64\n",
      "V32_Bin_0           48434 non-null uint8\n",
      "V32_Bin_1           48434 non-null uint8\n",
      "V32_Bin_2           48434 non-null uint8\n",
      "V32_Bin_3           48434 non-null uint8\n",
      "V33_Bin_0           48434 non-null uint8\n",
      "V33_Bin_1           48434 non-null uint8\n",
      "V33_Bin_2           48434 non-null uint8\n",
      "V33_Bin_3           48434 non-null uint8\n",
      "AvgMTxnCnt          48434 non-null int64\n",
      "AvgMonBalanceAmt    48434 non-null float64\n",
      "dtypes: float64(13), int64(19), object(3), uint8(8)\n",
      "memory usage: 14.9+ MB\n"
     ]
    }
   ],
   "source": [
    "test_data_final.info()"
   ]
  },
  {
   "cell_type": "markdown",
   "metadata": {},
   "source": [
    "Step 4 : #We can now proceed with variable selection"
   ]
  },
  {
   "cell_type": "code",
   "execution_count": null,
   "metadata": {
    "collapsed": true
   },
   "outputs": [],
   "source": []
  },
  {
   "cell_type": "code",
   "execution_count": null,
   "metadata": {
    "collapsed": true
   },
   "outputs": [],
   "source": []
  },
  {
   "cell_type": "code",
   "execution_count": null,
   "metadata": {
    "collapsed": true
   },
   "outputs": [],
   "source": []
  },
  {
   "cell_type": "code",
   "execution_count": null,
   "metadata": {
    "collapsed": true
   },
   "outputs": [],
   "source": []
  },
  {
   "cell_type": "code",
   "execution_count": null,
   "metadata": {
    "collapsed": true
   },
   "outputs": [],
   "source": []
  },
  {
   "cell_type": "code",
   "execution_count": null,
   "metadata": {
    "collapsed": true
   },
   "outputs": [],
   "source": [
    "#EDA now"
   ]
  },
  {
   "cell_type": "code",
   "execution_count": 137,
   "metadata": {
    "collapsed": false
   },
   "outputs": [
    {
     "name": "stdout",
     "output_type": "stream",
     "text": [
      "Numeric Variables: ['V3', 'V4', 'V6', 'V7', 'V8', 'V10', 'V11', 'V16', 'V37', 'V41', 'V43', 'V46', 'V19_Bin', 'V20_Bin', 'V21_Bin', 'V22_Bin', 'V23_Bin', 'V25_Bin', 'V26_Bin', 'V27_Bin', 'V28_Bin', 'V29_Bin', 'V31_Bin', 'V38_Bin', 'V39_Bin', 'V40_Bin', 'V50_Bin', 'V51_Bin', 'V52_Bin', 'V53_Bin', 'AvgMTxnCnt', 'AvgMonBalanceAmt', 'bad_flag']\n",
      "Categorical Variables: ['UID', 'V1', 'V2']\n"
     ]
    }
   ],
   "source": [
    "numeric_var_names_final=[key for key in dict(train_data_final.dtypes) if dict(train_data_final.dtypes)[key] in ['float64', 'int64', 'float32', 'int32']]\n",
    "cat_var_names_final=[key for key in dict(train_data_final.dtypes) if dict(train_data_final.dtypes)[key] in ['object']]\n",
    "print(\"Numeric Variables:\", numeric_var_names_final)\n",
    "print(\"Categorical Variables:\", cat_var_names_final)\n"
   ]
  },
  {
   "cell_type": "code",
   "execution_count": 139,
   "metadata": {
    "collapsed": false
   },
   "outputs": [
    {
     "name": "stdout",
     "output_type": "stream",
     "text": [
      "Numeric Variables: ['V3', 'V4', 'V6', 'V7', 'V8', 'V10', 'V11', 'V16', 'V37', 'V41', 'V43', 'V46', 'V19_Bin', 'V20_Bin', 'V21_Bin', 'V22_Bin', 'V23_Bin', 'V25_Bin', 'V26_Bin', 'V27_Bin', 'V28_Bin', 'V29_Bin', 'V31_Bin', 'V38_Bin', 'V39_Bin', 'V40_Bin', 'V50_Bin', 'V51_Bin', 'V52_Bin', 'V53_Bin', 'AvgMTxnCnt', 'AvgMonBalanceAmt']\n",
      "Categorical Variables: ['UID', 'V1', 'V2']\n"
     ]
    }
   ],
   "source": [
    "numeric_var_names_final_test=[key for key in dict(test_data_final.dtypes) if dict(test_data_final.dtypes)[key] in ['float64', 'int64', 'float32', 'int32']]\n",
    "cat_var_names_final_test=[key for key in dict(test_data_final.dtypes) if dict(test_data_final.dtypes)[key] in ['object']]\n",
    "print(\"Numeric Variables:\", numeric_var_names_final_test)\n",
    "print(\"Categorical Variables:\", cat_var_names_final_test)"
   ]
  },
  {
   "cell_type": "code",
   "execution_count": 142,
   "metadata": {
    "collapsed": true
   },
   "outputs": [],
   "source": [
    "train_data_final_num=train_data_final[numeric_var_names_final]\n",
    "train_data_final_cat=train_data_final[cat_var_names_final]\n",
    "\n",
    "test_data_final_num=test_data_final[numeric_var_names_final_test]\n",
    "test_data_final_cat=test_data_final[cat_var_names_final_test]"
   ]
  },
  {
   "cell_type": "code",
   "execution_count": 143,
   "metadata": {
    "collapsed": false
   },
   "outputs": [
    {
     "data": {
      "text/html": [
       "<div>\n",
       "<style scoped>\n",
       "    .dataframe tbody tr th:only-of-type {\n",
       "        vertical-align: middle;\n",
       "    }\n",
       "\n",
       "    .dataframe tbody tr th {\n",
       "        vertical-align: top;\n",
       "    }\n",
       "\n",
       "    .dataframe thead th {\n",
       "        text-align: right;\n",
       "    }\n",
       "</style>\n",
       "<table border=\"1\" class=\"dataframe\">\n",
       "  <thead>\n",
       "    <tr style=\"text-align: right;\">\n",
       "      <th></th>\n",
       "      <th>V3</th>\n",
       "      <th>V4</th>\n",
       "      <th>V6</th>\n",
       "      <th>V7</th>\n",
       "      <th>V8</th>\n",
       "      <th>V10</th>\n",
       "      <th>V11</th>\n",
       "      <th>V16</th>\n",
       "      <th>V37</th>\n",
       "      <th>V41</th>\n",
       "      <th>...</th>\n",
       "      <th>V38_Bin</th>\n",
       "      <th>V39_Bin</th>\n",
       "      <th>V40_Bin</th>\n",
       "      <th>V50_Bin</th>\n",
       "      <th>V51_Bin</th>\n",
       "      <th>V52_Bin</th>\n",
       "      <th>V53_Bin</th>\n",
       "      <th>AvgMTxnCnt</th>\n",
       "      <th>AvgMonBalanceAmt</th>\n",
       "      <th>bad_flag</th>\n",
       "    </tr>\n",
       "  </thead>\n",
       "  <tbody>\n",
       "    <tr>\n",
       "      <th>0</th>\n",
       "      <td>10397.750000</td>\n",
       "      <td>3008.654726</td>\n",
       "      <td>358691.120083</td>\n",
       "      <td>14641.803902</td>\n",
       "      <td>852276.268235</td>\n",
       "      <td>197186.680000</td>\n",
       "      <td>82750.418893</td>\n",
       "      <td>1548544.10</td>\n",
       "      <td>87170.000000</td>\n",
       "      <td>24.104107</td>\n",
       "      <td>...</td>\n",
       "      <td>0</td>\n",
       "      <td>0</td>\n",
       "      <td>0</td>\n",
       "      <td>1</td>\n",
       "      <td>1</td>\n",
       "      <td>0</td>\n",
       "      <td>1</td>\n",
       "      <td>47</td>\n",
       "      <td>-191682.068889</td>\n",
       "      <td>0</td>\n",
       "    </tr>\n",
       "    <tr>\n",
       "      <th>1</th>\n",
       "      <td>136493.078565</td>\n",
       "      <td>606.740000</td>\n",
       "      <td>358691.120083</td>\n",
       "      <td>14641.803902</td>\n",
       "      <td>852276.268235</td>\n",
       "      <td>438389.277171</td>\n",
       "      <td>82750.418893</td>\n",
       "      <td>80820.81</td>\n",
       "      <td>343141.868693</td>\n",
       "      <td>24.104107</td>\n",
       "      <td>...</td>\n",
       "      <td>0</td>\n",
       "      <td>0</td>\n",
       "      <td>0</td>\n",
       "      <td>0</td>\n",
       "      <td>0</td>\n",
       "      <td>0</td>\n",
       "      <td>0</td>\n",
       "      <td>6</td>\n",
       "      <td>2874.148333</td>\n",
       "      <td>0</td>\n",
       "    </tr>\n",
       "    <tr>\n",
       "      <th>2</th>\n",
       "      <td>87452.890000</td>\n",
       "      <td>963.520000</td>\n",
       "      <td>358691.120083</td>\n",
       "      <td>13838.000000</td>\n",
       "      <td>852276.268235</td>\n",
       "      <td>1081.250000</td>\n",
       "      <td>6000.000000</td>\n",
       "      <td>1076394.14</td>\n",
       "      <td>343141.868693</td>\n",
       "      <td>0.180210</td>\n",
       "      <td>...</td>\n",
       "      <td>0</td>\n",
       "      <td>0</td>\n",
       "      <td>0</td>\n",
       "      <td>1</td>\n",
       "      <td>1</td>\n",
       "      <td>1</td>\n",
       "      <td>0</td>\n",
       "      <td>32</td>\n",
       "      <td>-174057.320000</td>\n",
       "      <td>0</td>\n",
       "    </tr>\n",
       "    <tr>\n",
       "      <th>3</th>\n",
       "      <td>136493.078565</td>\n",
       "      <td>393.260000</td>\n",
       "      <td>358691.120083</td>\n",
       "      <td>14641.803902</td>\n",
       "      <td>852276.268235</td>\n",
       "      <td>438389.277171</td>\n",
       "      <td>82750.418893</td>\n",
       "      <td>61815.28</td>\n",
       "      <td>343141.868693</td>\n",
       "      <td>24.104107</td>\n",
       "      <td>...</td>\n",
       "      <td>0</td>\n",
       "      <td>0</td>\n",
       "      <td>0</td>\n",
       "      <td>0</td>\n",
       "      <td>0</td>\n",
       "      <td>0</td>\n",
       "      <td>0</td>\n",
       "      <td>4</td>\n",
       "      <td>-17427.596364</td>\n",
       "      <td>0</td>\n",
       "    </tr>\n",
       "    <tr>\n",
       "      <th>4</th>\n",
       "      <td>1100.000000</td>\n",
       "      <td>497.200000</td>\n",
       "      <td>358691.120083</td>\n",
       "      <td>14641.803902</td>\n",
       "      <td>852276.268235</td>\n",
       "      <td>18640.000000</td>\n",
       "      <td>82750.418893</td>\n",
       "      <td>1326452.17</td>\n",
       "      <td>60.900000</td>\n",
       "      <td>24.104107</td>\n",
       "      <td>...</td>\n",
       "      <td>0</td>\n",
       "      <td>0</td>\n",
       "      <td>0</td>\n",
       "      <td>0</td>\n",
       "      <td>0</td>\n",
       "      <td>0</td>\n",
       "      <td>0</td>\n",
       "      <td>22</td>\n",
       "      <td>-128131.985000</td>\n",
       "      <td>0</td>\n",
       "    </tr>\n",
       "  </tbody>\n",
       "</table>\n",
       "<p>5 rows × 33 columns</p>\n",
       "</div>"
      ],
      "text/plain": [
       "              V3           V4             V6            V7             V8  \\\n",
       "0   10397.750000  3008.654726  358691.120083  14641.803902  852276.268235   \n",
       "1  136493.078565   606.740000  358691.120083  14641.803902  852276.268235   \n",
       "2   87452.890000   963.520000  358691.120083  13838.000000  852276.268235   \n",
       "3  136493.078565   393.260000  358691.120083  14641.803902  852276.268235   \n",
       "4    1100.000000   497.200000  358691.120083  14641.803902  852276.268235   \n",
       "\n",
       "             V10           V11         V16            V37        V41  \\\n",
       "0  197186.680000  82750.418893  1548544.10   87170.000000  24.104107   \n",
       "1  438389.277171  82750.418893    80820.81  343141.868693  24.104107   \n",
       "2    1081.250000   6000.000000  1076394.14  343141.868693   0.180210   \n",
       "3  438389.277171  82750.418893    61815.28  343141.868693  24.104107   \n",
       "4   18640.000000  82750.418893  1326452.17      60.900000  24.104107   \n",
       "\n",
       "     ...     V38_Bin  V39_Bin  V40_Bin  V50_Bin  V51_Bin  V52_Bin  V53_Bin  \\\n",
       "0    ...           0        0        0        1        1        0        1   \n",
       "1    ...           0        0        0        0        0        0        0   \n",
       "2    ...           0        0        0        1        1        1        0   \n",
       "3    ...           0        0        0        0        0        0        0   \n",
       "4    ...           0        0        0        0        0        0        0   \n",
       "\n",
       "   AvgMTxnCnt  AvgMonBalanceAmt  bad_flag  \n",
       "0          47    -191682.068889         0  \n",
       "1           6       2874.148333         0  \n",
       "2          32    -174057.320000         0  \n",
       "3           4     -17427.596364         0  \n",
       "4          22    -128131.985000         0  \n",
       "\n",
       "[5 rows x 33 columns]"
      ]
     },
     "execution_count": 143,
     "metadata": {},
     "output_type": "execute_result"
    }
   ],
   "source": [
    "train_data_final_num.head()"
   ]
  },
  {
   "cell_type": "code",
   "execution_count": 128,
   "metadata": {
    "collapsed": false
   },
   "outputs": [
    {
     "data": {
      "text/plain": [
       "<matplotlib.axes._subplots.AxesSubplot at 0x639ecda0>"
      ]
     },
     "execution_count": 128,
     "metadata": {},
     "output_type": "execute_result"
    },
    {
     "data": {
      "image/png": "[encoded data removed]",
      "text/plain": [
       "<matplotlib.figure.Figure at 0x639ec630>"
      ]
     },
     "metadata": {},
     "output_type": "display_data"
    }
   ],
   "source": [
    "# visualize correlation matrix in Seaborn using a heatmap\n",
    "sns.heatmap(train_data_final_num.corr())"
   ]
  },
  {
   "cell_type": "code",
   "execution_count": 133,
   "metadata": {
    "collapsed": false
   },
   "outputs": [
    {
     "name": "stderr",
     "output_type": "stream",
     "text": [
      "C:\\Users\\sandeep.ram\\AppData\\Local\\Continuum\\Anaconda3\\lib\\site-packages\\seaborn\\categorical.py:1428: FutureWarning: remove_na is deprecated and is a private function. Do not use.\n",
      "  stat_data = remove_na(group_data)\n"
     ]
    },
    {
     "data": {
      "text/plain": [
       "<matplotlib.axes._subplots.AxesSubplot at 0x6d969518>"
      ]
     },
     "execution_count": 133,
     "metadata": {},
     "output_type": "execute_result"
    },
    {
     "data": {
      "image/png": "[encoded data removed]",
      "text/plain": [
       "<matplotlib.figure.Figure at 0x4ce6ee10>"
      ]
     },
     "metadata": {},
     "output_type": "display_data"
    }
   ],
   "source": [
    "#Check bad_flag response variable for distribution\n",
    "sns.countplot(train_data_final['bad_flag'])"
   ]
  },
  {
   "cell_type": "code",
   "execution_count": 144,
   "metadata": {
    "collapsed": false
   },
   "outputs": [
    {
     "name": "stdout",
     "output_type": "stream",
     "text": [
      "percentage of no bad flag is 90.5060690943044\n",
      "percentage of bad flag 9.493930905695612\n"
     ]
    }
   ],
   "source": [
    "count_no_badflag = len(train_data_final[train_data_final['bad_flag']==0])\n",
    "count_badflag = len(train_data_final[train_data_final['bad_flag']==1])\n",
    "pct_of_no_badflag = count_no_badflag/(count_no_badflag+count_badflag)\n",
    "print(\"percentage of no bad flag is\", pct_of_no_badflag*100)\n",
    "pct_of_badflag = count_badflag/(count_no_badflag+count_badflag)\n",
    "print(\"percentage of bad flag\", pct_of_badflag*100)"
   ]
  },
  {
   "cell_type": "code",
   "execution_count": 145,
   "metadata": {
    "collapsed": false
   },
   "outputs": [],
   "source": [
    "train_data_final_os=train_data_final.drop(['UID','V1','V2'],axis=1)"
   ]
  },
  {
   "cell_type": "code",
   "execution_count": 147,
   "metadata": {
    "collapsed": false
   },
   "outputs": [
    {
     "data": {
      "text/html": [
       "<div>\n",
       "<style scoped>\n",
       "    .dataframe tbody tr th:only-of-type {\n",
       "        vertical-align: middle;\n",
       "    }\n",
       "\n",
       "    .dataframe tbody tr th {\n",
       "        vertical-align: top;\n",
       "    }\n",
       "\n",
       "    .dataframe thead th {\n",
       "        text-align: right;\n",
       "    }\n",
       "</style>\n",
       "<table border=\"1\" class=\"dataframe\">\n",
       "  <thead>\n",
       "    <tr style=\"text-align: right;\">\n",
       "      <th></th>\n",
       "      <th>V3</th>\n",
       "      <th>V4</th>\n",
       "      <th>V6</th>\n",
       "      <th>V7</th>\n",
       "      <th>V8</th>\n",
       "      <th>V10</th>\n",
       "      <th>V11</th>\n",
       "      <th>V16</th>\n",
       "      <th>V37</th>\n",
       "      <th>V41</th>\n",
       "      <th>...</th>\n",
       "      <th>V32_Bin_1</th>\n",
       "      <th>V32_Bin_2</th>\n",
       "      <th>V32_Bin_3</th>\n",
       "      <th>V33_Bin_0</th>\n",
       "      <th>V33_Bin_1</th>\n",
       "      <th>V33_Bin_2</th>\n",
       "      <th>V33_Bin_3</th>\n",
       "      <th>AvgMTxnCnt</th>\n",
       "      <th>AvgMonBalanceAmt</th>\n",
       "      <th>bad_flag</th>\n",
       "    </tr>\n",
       "  </thead>\n",
       "  <tbody>\n",
       "    <tr>\n",
       "      <th>0</th>\n",
       "      <td>10397.750000</td>\n",
       "      <td>3008.654726</td>\n",
       "      <td>358691.120083</td>\n",
       "      <td>14641.803902</td>\n",
       "      <td>852276.268235</td>\n",
       "      <td>197186.680000</td>\n",
       "      <td>82750.418893</td>\n",
       "      <td>1548544.10</td>\n",
       "      <td>87170.000000</td>\n",
       "      <td>24.104107</td>\n",
       "      <td>...</td>\n",
       "      <td>0</td>\n",
       "      <td>0</td>\n",
       "      <td>1</td>\n",
       "      <td>0</td>\n",
       "      <td>0</td>\n",
       "      <td>0</td>\n",
       "      <td>1</td>\n",
       "      <td>47</td>\n",
       "      <td>-191682.068889</td>\n",
       "      <td>0</td>\n",
       "    </tr>\n",
       "    <tr>\n",
       "      <th>1</th>\n",
       "      <td>136493.078565</td>\n",
       "      <td>606.740000</td>\n",
       "      <td>358691.120083</td>\n",
       "      <td>14641.803902</td>\n",
       "      <td>852276.268235</td>\n",
       "      <td>438389.277171</td>\n",
       "      <td>82750.418893</td>\n",
       "      <td>80820.81</td>\n",
       "      <td>343141.868693</td>\n",
       "      <td>24.104107</td>\n",
       "      <td>...</td>\n",
       "      <td>0</td>\n",
       "      <td>1</td>\n",
       "      <td>0</td>\n",
       "      <td>0</td>\n",
       "      <td>1</td>\n",
       "      <td>0</td>\n",
       "      <td>0</td>\n",
       "      <td>6</td>\n",
       "      <td>2874.148333</td>\n",
       "      <td>0</td>\n",
       "    </tr>\n",
       "    <tr>\n",
       "      <th>2</th>\n",
       "      <td>87452.890000</td>\n",
       "      <td>963.520000</td>\n",
       "      <td>358691.120083</td>\n",
       "      <td>13838.000000</td>\n",
       "      <td>852276.268235</td>\n",
       "      <td>1081.250000</td>\n",
       "      <td>6000.000000</td>\n",
       "      <td>1076394.14</td>\n",
       "      <td>343141.868693</td>\n",
       "      <td>0.180210</td>\n",
       "      <td>...</td>\n",
       "      <td>0</td>\n",
       "      <td>0</td>\n",
       "      <td>1</td>\n",
       "      <td>0</td>\n",
       "      <td>0</td>\n",
       "      <td>0</td>\n",
       "      <td>1</td>\n",
       "      <td>32</td>\n",
       "      <td>-174057.320000</td>\n",
       "      <td>0</td>\n",
       "    </tr>\n",
       "    <tr>\n",
       "      <th>3</th>\n",
       "      <td>136493.078565</td>\n",
       "      <td>393.260000</td>\n",
       "      <td>358691.120083</td>\n",
       "      <td>14641.803902</td>\n",
       "      <td>852276.268235</td>\n",
       "      <td>438389.277171</td>\n",
       "      <td>82750.418893</td>\n",
       "      <td>61815.28</td>\n",
       "      <td>343141.868693</td>\n",
       "      <td>24.104107</td>\n",
       "      <td>...</td>\n",
       "      <td>1</td>\n",
       "      <td>0</td>\n",
       "      <td>0</td>\n",
       "      <td>0</td>\n",
       "      <td>1</td>\n",
       "      <td>0</td>\n",
       "      <td>0</td>\n",
       "      <td>4</td>\n",
       "      <td>-17427.596364</td>\n",
       "      <td>0</td>\n",
       "    </tr>\n",
       "    <tr>\n",
       "      <th>4</th>\n",
       "      <td>1100.000000</td>\n",
       "      <td>497.200000</td>\n",
       "      <td>358691.120083</td>\n",
       "      <td>14641.803902</td>\n",
       "      <td>852276.268235</td>\n",
       "      <td>18640.000000</td>\n",
       "      <td>82750.418893</td>\n",
       "      <td>1326452.17</td>\n",
       "      <td>60.900000</td>\n",
       "      <td>24.104107</td>\n",
       "      <td>...</td>\n",
       "      <td>0</td>\n",
       "      <td>0</td>\n",
       "      <td>1</td>\n",
       "      <td>0</td>\n",
       "      <td>0</td>\n",
       "      <td>0</td>\n",
       "      <td>1</td>\n",
       "      <td>22</td>\n",
       "      <td>-128131.985000</td>\n",
       "      <td>0</td>\n",
       "    </tr>\n",
       "  </tbody>\n",
       "</table>\n",
       "<p>5 rows × 41 columns</p>\n",
       "</div>"
      ],
      "text/plain": [
       "              V3           V4             V6            V7             V8  \\\n",
       "0   10397.750000  3008.654726  358691.120083  14641.803902  852276.268235   \n",
       "1  136493.078565   606.740000  358691.120083  14641.803902  852276.268235   \n",
       "2   87452.890000   963.520000  358691.120083  13838.000000  852276.268235   \n",
       "3  136493.078565   393.260000  358691.120083  14641.803902  852276.268235   \n",
       "4    1100.000000   497.200000  358691.120083  14641.803902  852276.268235   \n",
       "\n",
       "             V10           V11         V16            V37        V41  \\\n",
       "0  197186.680000  82750.418893  1548544.10   87170.000000  24.104107   \n",
       "1  438389.277171  82750.418893    80820.81  343141.868693  24.104107   \n",
       "2    1081.250000   6000.000000  1076394.14  343141.868693   0.180210   \n",
       "3  438389.277171  82750.418893    61815.28  343141.868693  24.104107   \n",
       "4   18640.000000  82750.418893  1326452.17      60.900000  24.104107   \n",
       "\n",
       "     ...     V32_Bin_1  V32_Bin_2  V32_Bin_3  V33_Bin_0  V33_Bin_1  V33_Bin_2  \\\n",
       "0    ...             0          0          1          0          0          0   \n",
       "1    ...             0          1          0          0          1          0   \n",
       "2    ...             0          0          1          0          0          0   \n",
       "3    ...             1          0          0          0          1          0   \n",
       "4    ...             0          0          1          0          0          0   \n",
       "\n",
       "   V33_Bin_3  AvgMTxnCnt  AvgMonBalanceAmt  bad_flag  \n",
       "0          1          47    -191682.068889         0  \n",
       "1          0           6       2874.148333         0  \n",
       "2          1          32    -174057.320000         0  \n",
       "3          0           4     -17427.596364         0  \n",
       "4          1          22    -128131.985000         0  \n",
       "\n",
       "[5 rows x 41 columns]"
      ]
     },
     "execution_count": 147,
     "metadata": {},
     "output_type": "execute_result"
    }
   ],
   "source": [
    "train_data_final_os.head()"
   ]
  },
  {
   "cell_type": "code",
   "execution_count": 148,
   "metadata": {
    "collapsed": false
   },
   "outputs": [
    {
     "name": "stderr",
     "output_type": "stream",
     "text": [
      "C:\\Users\\sandeep.ram\\AppData\\Local\\Continuum\\Anaconda3\\lib\\site-packages\\sklearn\\cross_validation.py:41: DeprecationWarning: This module was deprecated in version 0.18 in favor of the model_selection module into which all the refactored classes and functions are moved. Also note that the interface of the new CV iterators are different from that of this module. This module will be removed in 0.20.\n",
      "  \"This module will be removed in 0.20.\", DeprecationWarning)\n"
     ]
    }
   ],
   "source": [
    "#From above,we can see that the classes are highly imbalanced with ratio of no_badflag to badflag beig ~10:1. We need to balance\n",
    "#the classes.\n",
    "#We will use Over-sampling using SMOTE\n",
    "from sklearn import preprocessing\n",
    "from sklearn.linear_model import LogisticRegression\n",
    "from sklearn.cross_validation import train_test_split"
   ]
  },
  {
   "cell_type": "code",
   "execution_count": 149,
   "metadata": {
    "collapsed": false
   },
   "outputs": [
    {
     "name": "stderr",
     "output_type": "stream",
     "text": [
      "C:\\Users\\sandeep.ram\\AppData\\Local\\Continuum\\Anaconda3\\lib\\site-packages\\sklearn\\utils\\validation.py:578: DataConversionWarning: A column-vector y was passed when a 1d array was expected. Please change the shape of y to (n_samples, ), for example using ravel().\n",
      "  y = column_or_1d(y, warn=True)\n"
     ]
    },
    {
     "name": "stdout",
     "output_type": "stream",
     "text": [
      "length of oversampled data is  33896\n",
      "Number of no badflag in oversampled data 16948\n",
      "Number of badflag  16948\n",
      "Proportion of no badflag data in oversampled data is  0.5\n",
      "Proportion of badflag data in oversampled data is  0.5\n"
     ]
    }
   ],
   "source": [
    "X = train_data_final_os.loc[:, train_data_final_os.columns != 'bad_flag']\n",
    "y = train_data_final_os.loc[:, train_data_final_os.columns == 'bad_flag']\n",
    "from imblearn.over_sampling import SMOTE\n",
    "os = SMOTE(random_state=0)\n",
    "X_train, X_test, y_train, y_test = train_test_split(X, y, test_size=0.3, random_state=0)\n",
    "columns = X_train.columns\n",
    "os_data_X,os_data_y=os.fit_sample(X_train, y_train)\n",
    "os_data_X = pd.DataFrame(data=os_data_X,columns=columns )\n",
    "os_data_y= pd.DataFrame(data=os_data_y,columns=['bad_flag'])\n",
    "# we can Check the numbers of our data\n",
    "print(\"length of oversampled data is \",len(os_data_X))\n",
    "print(\"Number of no badflag in oversampled data\",len(os_data_y[os_data_y['bad_flag']==0]))\n",
    "print(\"Number of badflag \",len(os_data_y[os_data_y['bad_flag']==1]))\n",
    "print(\"Proportion of no badflag data in oversampled data is \",len(os_data_y[os_data_y['bad_flag']==0])/len(os_data_X))\n",
    "print(\"Proportion of badflag data in oversampled data is \",len(os_data_y[os_data_y['bad_flag']==1])/len(os_data_X))"
   ]
  },
  {
   "cell_type": "markdown",
   "metadata": {},
   "source": [
    "Now we have a perfect balanced data.Over-sampling was carried only on the training data, because by oversampling only on the training data, none of the information in the test data is being used to create synthetic observations, therefore, no information will bleed from test data into the model training."
   ]
  },
  {
   "cell_type": "code",
   "execution_count": 150,
   "metadata": {
    "collapsed": false
   },
   "outputs": [
    {
     "name": "stdout",
     "output_type": "stream",
     "text": [
      "[False False False False False False False False False False False False\n",
      "  True  True False False False False  True  True False  True  True  True\n",
      " False  True False False False False  True False False False  True False\n",
      " False False False False]\n",
      "[16 15 19 14 18 21 20 23 17 13 11 10  1  1 26 24 28 31  1  1 27  1  1  1\n",
      " 30  1  2  8  7  9  1 25  6  5  1  3  4 29 12 22]\n"
     ]
    }
   ],
   "source": [
    "#Recursive Feature Elimination\n",
    "data_final_vars=train_data_final_os.columns.values.tolist()\n",
    "y=['y']\n",
    "X=[i for i in data_final_vars if i not in y]\n",
    "from sklearn.feature_selection import RFE\n",
    "from sklearn.linear_model import LogisticRegression\n",
    "logreg = LogisticRegression()\n",
    "rfe = RFE(logreg, 10)\n",
    "rfe = rfe.fit(os_data_X, os_data_y.values.ravel())\n",
    "print(rfe.support_)\n",
    "print(rfe.ranking_)"
   ]
  },
  {
   "cell_type": "code",
   "execution_count": 151,
   "metadata": {
    "collapsed": false
   },
   "outputs": [
    {
     "data": {
      "text/plain": [
       "array(['V3', 'V4', 'V6', 'V7', 'V8', 'V10', 'V11', 'V16', 'V37', 'V41',\n",
       "       'V43', 'V46', 'V19_Bin', 'V20_Bin', 'V21_Bin', 'V22_Bin',\n",
       "       'V23_Bin', 'V25_Bin', 'V26_Bin', 'V27_Bin', 'V28_Bin', 'V29_Bin',\n",
       "       'V31_Bin', 'V38_Bin', 'V39_Bin', 'V40_Bin', 'V50_Bin', 'V51_Bin',\n",
       "       'V52_Bin', 'V53_Bin', 'V32_Bin_0', 'V32_Bin_1', 'V32_Bin_2',\n",
       "       'V32_Bin_3', 'V33_Bin_0', 'V33_Bin_1', 'V33_Bin_2', 'V33_Bin_3',\n",
       "       'AvgMTxnCnt', 'AvgMonBalanceAmt', 'bad_flag'], dtype=object)"
      ]
     },
     "execution_count": 151,
     "metadata": {},
     "output_type": "execute_result"
    }
   ],
   "source": [
    "train_data_final_os.columns.values"
   ]
  },
  {
   "cell_type": "code",
   "execution_count": 152,
   "metadata": {
    "collapsed": true
   },
   "outputs": [],
   "source": [
    "#Selected variables\n",
    "cols_selected=['V19_Bin','V20_Bin','V26_Bin','V27_Bin','V29_Bin','V31_Bin','V38_Bin','V40_Bin','V32_Bin_0','V33_Bin_0']\n",
    "X=os_data_X[cols_selected]\n",
    "y=os_data_y['bad_flag']"
   ]
  },
  {
   "cell_type": "code",
   "execution_count": 153,
   "metadata": {
    "collapsed": true
   },
   "outputs": [],
   "source": [
    "from sklearn.metrics import accuracy_score"
   ]
  },
  {
   "cell_type": "code",
   "execution_count": 154,
   "metadata": {
    "collapsed": false
   },
   "outputs": [
    {
     "name": "stdout",
     "output_type": "stream",
     "text": [
      "\n",
      "1 of kfold 5\n",
      "train_index [    0     1     2 ... 33893 33894 33895]\n",
      "test_index [    4     5     6 ... 33882 33890 33892]\n",
      "accuracy_score 0.5504424778761062\n",
      "\n",
      "2 of kfold 5\n",
      "train_index [    0     1     2 ... 33892 33894 33895]\n",
      "test_index [    7    12    39 ... 33888 33889 33893]\n",
      "accuracy_score 0.5566371681415929\n",
      "\n",
      "3 of kfold 5\n",
      "train_index [    0     2     4 ... 33893 33894 33895]\n",
      "test_index [    1     3    10 ... 33885 33886 33891]\n",
      "accuracy_score 0.5492625368731563\n",
      "\n",
      "4 of kfold 5\n",
      "train_index [    0     1     2 ... 33892 33893 33894]\n",
      "test_index [    8     9    13 ... 33878 33887 33895]\n",
      "accuracy_score 0.5559161994688698\n",
      "\n",
      "5 of kfold 5\n",
      "train_index [    1     3     4 ... 33892 33893 33895]\n",
      "test_index [    0     2    14 ... 33881 33884 33894]\n",
      "accuracy_score 0.5427854824431986\n"
     ]
    }
   ],
   "source": [
    "#Now let’s make a cross validation logistic model with stratified 5 folds and make predictions for test dataset\n",
    "from sklearn.model_selection import StratifiedKFold\n",
    "i=1\n",
    "kf = StratifiedKFold(n_splits=5,random_state=1,shuffle=True)\n",
    "for train_index,test_index in kf.split(X,y):\n",
    "     print('\\n{} of kfold {}'.format(i,kf.n_splits))\n",
    "     print('train_index',train_index)\n",
    "     print('test_index',test_index)\n",
    "     xtr,xvl = X.loc[train_index],X.loc[test_index]\n",
    "     ytr,yvl = y[train_index],y[test_index]\n",
    "    \n",
    "     model = LogisticRegression(random_state=1)\n",
    "     model.fit(xtr, ytr)\n",
    "     pred_test = model.predict(xvl)\n",
    "     score = accuracy_score(yvl,pred_test)\n",
    "     print('accuracy_score',score)\n",
    "     i+=1\n"
   ]
  },
  {
   "cell_type": "code",
   "execution_count": 155,
   "metadata": {
    "collapsed": true
   },
   "outputs": [],
   "source": [
    "pred=model.predict_proba(xvl)[:,1]"
   ]
  },
  {
   "cell_type": "code",
   "execution_count": 156,
   "metadata": {
    "collapsed": false
   },
   "outputs": [
    {
     "data": {
      "image/png": "[encoded data removed]",
      "text/plain": [
       "<matplotlib.figure.Figure at 0x62655a20>"
      ]
     },
     "metadata": {},
     "output_type": "display_data"
    }
   ],
   "source": [
    "#Let us visualize the roc curve\n",
    "from sklearn import metrics\n",
    "fpr, tpr, _ = metrics.roc_curve(yvl,pred_test)\n",
    "auc = metrics.roc_auc_score(yvl, pred_test)\n",
    "plt.figure(figsize=(12,8))\n",
    "plt.plot(fpr,tpr,label=\"validation, auc=\"+str(auc))\n",
    "plt.xlabel('False Positive Rate')\n",
    "plt.ylabel('True Positive Rate')\n",
    "plt.legend(loc=4)\n",
    "plt.show()"
   ]
  },
  {
   "cell_type": "code",
   "execution_count": 157,
   "metadata": {
    "collapsed": false
   },
   "outputs": [
    {
     "name": "stderr",
     "output_type": "stream",
     "text": [
      "C:\\Users\\sandeep.ram\\AppData\\Local\\Continuum\\Anaconda3\\lib\\site-packages\\sklearn\\ensemble\\weight_boosting.py:29: DeprecationWarning: numpy.core.umath_tests is an internal NumPy module and should not be imported. It will be removed in a future NumPy release.\n",
      "  from numpy.core.umath_tests import inner1d\n"
     ]
    },
    {
     "name": "stdout",
     "output_type": "stream",
     "text": [
      "\n",
      "1 of kfold 5\n",
      "accuracy_score 0.8028023598820059\n",
      "\n",
      "2 of kfold 5\n",
      "accuracy_score 0.815929203539823\n",
      "\n",
      "3 of kfold 5\n",
      "accuracy_score 0.8112094395280236\n",
      "\n",
      "4 of kfold 5\n",
      "accuracy_score 0.8154322809088227\n",
      "\n",
      "5 of kfold 5\n",
      "accuracy_score 0.8138093832989083\n"
     ]
    }
   ],
   "source": [
    "from sklearn.ensemble import RandomForestClassifier\n",
    "i=1\n",
    "kf = StratifiedKFold(n_splits=5,random_state=1,shuffle=True)\n",
    "for train_index,test_index in kf.split(X,y):\n",
    "     print('\\n{} of kfold {}'.format(i,kf.n_splits))\n",
    "     xtr,xvl = X.loc[train_index],X.loc[test_index]\n",
    "     ytr,yvl = y[train_index],y[test_index]\n",
    "    \n",
    "     model = RandomForestClassifier(random_state=1, max_depth=10)\n",
    "     model.fit(xtr, ytr)\n",
    "     pred_test = model.predict(xvl)\n",
    "     score = accuracy_score(yvl,pred_test)\n",
    "     print('accuracy_score',score)\n",
    "     i+=1\n",
    "#pred_test = model.predict(test_data)"
   ]
  },
  {
   "cell_type": "code",
   "execution_count": null,
   "metadata": {
    "collapsed": true
   },
   "outputs": [],
   "source": [
    "#We will try to improve the accuracy by tuning the hyperparameters for this model. \n",
    "#We will use grid search to get the optimized values of hyper parameters. \n",
    "#Grid-search is a way to select the best of a family of hyper parameters, parametrized by a grid of parameters.\n",
    "#We will tune the max_depth and n_estimators parameters. max_depth decides the maximum depth of the tree \n",
    "#and n_estimators decides the number of trees that will be used in random forest model"
   ]
  },
  {
   "cell_type": "code",
   "execution_count": 158,
   "metadata": {
    "collapsed": true
   },
   "outputs": [],
   "source": [
    "from sklearn.model_selection import GridSearchCV"
   ]
  },
  {
   "cell_type": "code",
   "execution_count": 159,
   "metadata": {
    "collapsed": true
   },
   "outputs": [],
   "source": [
    "# Provide range for max_depth from 1 to 20 with an interval of 2 and from 1 to 200 with an interval of 20 for n_estimators\n",
    "paramgrid = {'max_depth': list(range(1, 20, 2)), 'n_estimators': list(range(1, 200, 20))}"
   ]
  },
  {
   "cell_type": "code",
   "execution_count": 160,
   "metadata": {
    "collapsed": true
   },
   "outputs": [],
   "source": [
    "grid_search=GridSearchCV(RandomForestClassifier(random_state=1),paramgrid)"
   ]
  },
  {
   "cell_type": "code",
   "execution_count": 164,
   "metadata": {
    "collapsed": true
   },
   "outputs": [],
   "source": [
    "from sklearn.model_selection import train_test_split\n",
    "x_train, x_cv, y_train, y_cv = train_test_split(X,y, test_size =0.3, random_state=1)"
   ]
  },
  {
   "cell_type": "code",
   "execution_count": 165,
   "metadata": {
    "collapsed": false
   },
   "outputs": [
    {
     "data": {
      "text/plain": [
       "GridSearchCV(cv=None, error_score='raise',\n",
       "       estimator=RandomForestClassifier(bootstrap=True, class_weight=None, criterion='gini',\n",
       "            max_depth=None, max_features='auto', max_leaf_nodes=None,\n",
       "            min_impurity_decrease=0.0, min_impurity_split=None,\n",
       "            min_samples_leaf=1, min_samples_split=2,\n",
       "            min_weight_fraction_leaf=0.0, n_estimators=10, n_jobs=1,\n",
       "            oob_score=False, random_state=1, verbose=0, warm_start=False),\n",
       "       fit_params=None, iid=True, n_jobs=1,\n",
       "       param_grid={'max_depth': [1, 3, 5, 7, 9, 11, 13, 15, 17, 19], 'n_estimators': [1, 21, 41, 61, 81, 101, 121, 141, 161, 181]},\n",
       "       pre_dispatch='2*n_jobs', refit=True, return_train_score='warn',\n",
       "       scoring=None, verbose=0)"
      ]
     },
     "execution_count": 165,
     "metadata": {},
     "output_type": "execute_result"
    }
   ],
   "source": [
    "# Fit the grid search model\n",
    "grid_search.fit(x_train,y_train)"
   ]
  },
  {
   "cell_type": "code",
   "execution_count": 166,
   "metadata": {
    "collapsed": false
   },
   "outputs": [
    {
     "data": {
      "text/plain": [
       "RandomForestClassifier(bootstrap=True, class_weight=None, criterion='gini',\n",
       "            max_depth=19, max_features='auto', max_leaf_nodes=None,\n",
       "            min_impurity_decrease=0.0, min_impurity_split=None,\n",
       "            min_samples_leaf=1, min_samples_split=2,\n",
       "            min_weight_fraction_leaf=0.0, n_estimators=81, n_jobs=1,\n",
       "            oob_score=False, random_state=1, verbose=0, warm_start=False)"
      ]
     },
     "execution_count": 166,
     "metadata": {},
     "output_type": "execute_result"
    }
   ],
   "source": [
    "# Estimating the optimized value\n",
    "grid_search.best_estimator_"
   ]
  },
  {
   "cell_type": "code",
   "execution_count": 167,
   "metadata": {
    "collapsed": true
   },
   "outputs": [],
   "source": [
    "#Try random forest and XGBoost\n",
    "from xgboost import XGBClassifier"
   ]
  },
  {
   "cell_type": "code",
   "execution_count": 235,
   "metadata": {
    "collapsed": false
   },
   "outputs": [
    {
     "name": "stdout",
     "output_type": "stream",
     "text": [
      "\n",
      "1 of kfold 5\n"
     ]
    },
    {
     "name": "stderr",
     "output_type": "stream",
     "text": [
      "C:\\Users\\sandeep.ram\\AppData\\Local\\Continuum\\Anaconda3\\lib\\site-packages\\sklearn\\preprocessing\\label.py:151: DeprecationWarning: The truth value of an empty array is ambiguous. Returning False, but in future this will result in an error. Use `array.size > 0` to check that an array is not empty.\n",
      "  if diff:\n"
     ]
    },
    {
     "name": "stdout",
     "output_type": "stream",
     "text": [
      "accuracy_score 0.8057522123893806\n",
      "\n",
      "2 of kfold 5\n"
     ]
    },
    {
     "name": "stderr",
     "output_type": "stream",
     "text": [
      "C:\\Users\\sandeep.ram\\AppData\\Local\\Continuum\\Anaconda3\\lib\\site-packages\\sklearn\\preprocessing\\label.py:151: DeprecationWarning: The truth value of an empty array is ambiguous. Returning False, but in future this will result in an error. Use `array.size > 0` to check that an array is not empty.\n",
      "  if diff:\n"
     ]
    },
    {
     "name": "stdout",
     "output_type": "stream",
     "text": [
      "accuracy_score 0.8162241887905605\n",
      "\n",
      "3 of kfold 5\n"
     ]
    },
    {
     "name": "stderr",
     "output_type": "stream",
     "text": [
      "C:\\Users\\sandeep.ram\\AppData\\Local\\Continuum\\Anaconda3\\lib\\site-packages\\sklearn\\preprocessing\\label.py:151: DeprecationWarning: The truth value of an empty array is ambiguous. Returning False, but in future this will result in an error. Use `array.size > 0` to check that an array is not empty.\n",
      "  if diff:\n"
     ]
    },
    {
     "name": "stdout",
     "output_type": "stream",
     "text": [
      "accuracy_score 0.8131268436578171\n",
      "\n",
      "4 of kfold 5\n"
     ]
    },
    {
     "name": "stderr",
     "output_type": "stream",
     "text": [
      "C:\\Users\\sandeep.ram\\AppData\\Local\\Continuum\\Anaconda3\\lib\\site-packages\\sklearn\\preprocessing\\label.py:151: DeprecationWarning: The truth value of an empty array is ambiguous. Returning False, but in future this will result in an error. Use `array.size > 0` to check that an array is not empty.\n",
      "  if diff:\n"
     ]
    },
    {
     "name": "stdout",
     "output_type": "stream",
     "text": [
      "accuracy_score 0.8169076423723812\n",
      "\n",
      "5 of kfold 5\n",
      "accuracy_score 0.813956919445264\n"
     ]
    },
    {
     "name": "stderr",
     "output_type": "stream",
     "text": [
      "C:\\Users\\sandeep.ram\\AppData\\Local\\Continuum\\Anaconda3\\lib\\site-packages\\sklearn\\preprocessing\\label.py:151: DeprecationWarning: The truth value of an empty array is ambiguous. Returning False, but in future this will result in an error. Use `array.size > 0` to check that an array is not empty.\n",
      "  if diff:\n"
     ]
    }
   ],
   "source": [
    "i=1\n",
    "kf = StratifiedKFold(n_splits=5,random_state=1,shuffle=True)\n",
    "for train_index,test_index in kf.split(X,y):\n",
    "     print('\\n{} of kfold {}'.format(i,kf.n_splits))\n",
    "     xtr,xvl = X.loc[train_index],X.loc[test_index]\n",
    "     ytr,yvl = y[train_index],y[test_index]\n",
    "    \n",
    "     model = XGBClassifier(n_estimators=50, max_depth=4,metrics='aucpr')\n",
    "     model.fit(xtr, ytr,eval_metric='aucpr')\n",
    "     pred_test = model.predict(xvl)\n",
    "     score = accuracy_score(yvl,pred_test)\n",
    "     print('accuracy_score',score)\n",
    "     \n",
    "     i+=1"
   ]
  },
  {
   "cell_type": "code",
   "execution_count": 230,
   "metadata": {
    "collapsed": false
   },
   "outputs": [
    {
     "name": "stdout",
     "output_type": "stream",
     "text": [
      "[[3389    0]\n",
      " [1261 2128]]\n"
     ]
    }
   ],
   "source": [
    "#Confusion Matrix\n",
    "from sklearn.metrics import confusion_matrix\n",
    "confusion_matrix = confusion_matrix(yvl,pred_test)\n",
    "print(confusion_matrix)"
   ]
  },
  {
   "cell_type": "code",
   "execution_count": 232,
   "metadata": {
    "collapsed": false
   },
   "outputs": [
    {
     "ename": "IndentationError",
     "evalue": "unexpected indent (<ipython-input-232-57d235ab7ad0>, line 2)",
     "output_type": "error",
     "traceback": [
      "\u001b[0;36m  File \u001b[0;32m\"<ipython-input-232-57d235ab7ad0>\"\u001b[0;36m, line \u001b[0;32m2\u001b[0m\n\u001b[0;31m    fpr, tpr, _ = roc_curve(yvl.values, check)\u001b[0m\n\u001b[0m    ^\u001b[0m\n\u001b[0;31mIndentationError\u001b[0m\u001b[0;31m:\u001b[0m unexpected indent\n"
     ]
    }
   ],
   "source": [
    "# Compute micro-average ROC curve and ROC area\n",
    "    fpr, tpr, _ = roc_curve(yvl.values, check)\n",
    "    roc_auc = auc(fpr, tpr)\n",
    "    #xgb.plot_importance(gbm)\n",
    "    #plt.show()\n",
    "    plt.figure()\n",
    "    lw = 2\n",
    "    plt.plot(fpr, tpr, color='darkorange',\n",
    "             lw=lw, label='ROC curve (area = %0.2f)' % roc_auc)\n",
    "    plt.plot([0, 1], [0, 1], color='navy', lw=lw, linestyle='--')\n",
    "    plt.xlim([-0.02, 1.0])\n",
    "    plt.ylim([0.0, 1.05])\n",
    "    plt.xlabel('False Positive Rate')\n",
    "    plt.ylabel('True Positive Rate')\n",
    "    plt.title('ROC curve')\n",
    "    plt.legend(loc=\"lower right\")\n",
    "    plt.show()\n",
    "    ##################################################"
   ]
  },
  {
   "cell_type": "code",
   "execution_count": 169,
   "metadata": {
    "collapsed": false,
    "scrolled": true
   },
   "outputs": [
    {
     "data": {
      "text/html": [
       "<div>\n",
       "<style scoped>\n",
       "    .dataframe tbody tr th:only-of-type {\n",
       "        vertical-align: middle;\n",
       "    }\n",
       "\n",
       "    .dataframe tbody tr th {\n",
       "        vertical-align: top;\n",
       "    }\n",
       "\n",
       "    .dataframe thead th {\n",
       "        text-align: right;\n",
       "    }\n",
       "</style>\n",
       "<table border=\"1\" class=\"dataframe\">\n",
       "  <thead>\n",
       "    <tr style=\"text-align: right;\">\n",
       "      <th></th>\n",
       "      <th>V19_Bin</th>\n",
       "      <th>V20_Bin</th>\n",
       "      <th>V26_Bin</th>\n",
       "      <th>V27_Bin</th>\n",
       "      <th>V29_Bin</th>\n",
       "      <th>V31_Bin</th>\n",
       "      <th>V38_Bin</th>\n",
       "      <th>V40_Bin</th>\n",
       "      <th>V32_Bin_0</th>\n",
       "      <th>V33_Bin_0</th>\n",
       "    </tr>\n",
       "  </thead>\n",
       "  <tbody>\n",
       "    <tr>\n",
       "      <th>0</th>\n",
       "      <td>0.0</td>\n",
       "      <td>0.0</td>\n",
       "      <td>0.0</td>\n",
       "      <td>0.0</td>\n",
       "      <td>0.0</td>\n",
       "      <td>0.0</td>\n",
       "      <td>0.0</td>\n",
       "      <td>0.0</td>\n",
       "      <td>0.0</td>\n",
       "      <td>0.0</td>\n",
       "    </tr>\n",
       "    <tr>\n",
       "      <th>1</th>\n",
       "      <td>0.0</td>\n",
       "      <td>0.0</td>\n",
       "      <td>0.0</td>\n",
       "      <td>0.0</td>\n",
       "      <td>0.0</td>\n",
       "      <td>0.0</td>\n",
       "      <td>0.0</td>\n",
       "      <td>0.0</td>\n",
       "      <td>0.0</td>\n",
       "      <td>0.0</td>\n",
       "    </tr>\n",
       "    <tr>\n",
       "      <th>2</th>\n",
       "      <td>0.0</td>\n",
       "      <td>0.0</td>\n",
       "      <td>0.0</td>\n",
       "      <td>0.0</td>\n",
       "      <td>0.0</td>\n",
       "      <td>0.0</td>\n",
       "      <td>0.0</td>\n",
       "      <td>0.0</td>\n",
       "      <td>1.0</td>\n",
       "      <td>1.0</td>\n",
       "    </tr>\n",
       "    <tr>\n",
       "      <th>3</th>\n",
       "      <td>0.0</td>\n",
       "      <td>0.0</td>\n",
       "      <td>0.0</td>\n",
       "      <td>0.0</td>\n",
       "      <td>0.0</td>\n",
       "      <td>0.0</td>\n",
       "      <td>0.0</td>\n",
       "      <td>0.0</td>\n",
       "      <td>1.0</td>\n",
       "      <td>1.0</td>\n",
       "    </tr>\n",
       "    <tr>\n",
       "      <th>4</th>\n",
       "      <td>0.0</td>\n",
       "      <td>1.0</td>\n",
       "      <td>0.0</td>\n",
       "      <td>0.0</td>\n",
       "      <td>0.0</td>\n",
       "      <td>0.0</td>\n",
       "      <td>0.0</td>\n",
       "      <td>0.0</td>\n",
       "      <td>0.0</td>\n",
       "      <td>0.0</td>\n",
       "    </tr>\n",
       "  </tbody>\n",
       "</table>\n",
       "</div>"
      ],
      "text/plain": [
       "   V19_Bin  V20_Bin  V26_Bin  V27_Bin  V29_Bin  V31_Bin  V38_Bin  V40_Bin  \\\n",
       "0      0.0      0.0      0.0      0.0      0.0      0.0      0.0      0.0   \n",
       "1      0.0      0.0      0.0      0.0      0.0      0.0      0.0      0.0   \n",
       "2      0.0      0.0      0.0      0.0      0.0      0.0      0.0      0.0   \n",
       "3      0.0      0.0      0.0      0.0      0.0      0.0      0.0      0.0   \n",
       "4      0.0      1.0      0.0      0.0      0.0      0.0      0.0      0.0   \n",
       "\n",
       "   V32_Bin_0  V33_Bin_0  \n",
       "0        0.0        0.0  \n",
       "1        0.0        0.0  \n",
       "2        1.0        1.0  \n",
       "3        1.0        1.0  \n",
       "4        0.0        0.0  "
      ]
     },
     "execution_count": 169,
     "metadata": {},
     "output_type": "execute_result"
    }
   ],
   "source": [
    "X.head()"
   ]
  },
  {
   "cell_type": "code",
   "execution_count": 184,
   "metadata": {
    "collapsed": false,
    "scrolled": true
   },
   "outputs": [
    {
     "data": {
      "text/plain": [
       "<matplotlib.axes._subplots.AxesSubplot at 0x626a7240>"
      ]
     },
     "execution_count": 184,
     "metadata": {},
     "output_type": "execute_result"
    },
    {
     "data": {
      "image/png": "[encoded data removed]",
      "text/plain": [
       "<matplotlib.figure.Figure at 0x627344a8>"
      ]
     },
     "metadata": {},
     "output_type": "display_data"
    }
   ],
   "source": [
    "#Let us find the feature importance now, i.e. which features are most important for this problem. \n",
    "#We will use feature_importances_ attribute of sklearn to do so.\n",
    "importances=pd.Series(model.feature_importances_, index=X.columns)\n",
    "importances.plot(kind='barh', figsize=(12,8))"
   ]
  },
  {
   "cell_type": "code",
   "execution_count": 170,
   "metadata": {
    "collapsed": false
   },
   "outputs": [
    {
     "data": {
      "text/html": [
       "<div>\n",
       "<style scoped>\n",
       "    .dataframe tbody tr th:only-of-type {\n",
       "        vertical-align: middle;\n",
       "    }\n",
       "\n",
       "    .dataframe tbody tr th {\n",
       "        vertical-align: top;\n",
       "    }\n",
       "\n",
       "    .dataframe thead th {\n",
       "        text-align: right;\n",
       "    }\n",
       "</style>\n",
       "<table border=\"1\" class=\"dataframe\">\n",
       "  <thead>\n",
       "    <tr style=\"text-align: right;\">\n",
       "      <th></th>\n",
       "      <th>UID</th>\n",
       "      <th>V1</th>\n",
       "      <th>V2</th>\n",
       "      <th>V3</th>\n",
       "      <th>V4</th>\n",
       "      <th>V6</th>\n",
       "      <th>V7</th>\n",
       "      <th>V8</th>\n",
       "      <th>V10</th>\n",
       "      <th>V11</th>\n",
       "      <th>...</th>\n",
       "      <th>V32_Bin_0</th>\n",
       "      <th>V32_Bin_1</th>\n",
       "      <th>V32_Bin_2</th>\n",
       "      <th>V32_Bin_3</th>\n",
       "      <th>V33_Bin_0</th>\n",
       "      <th>V33_Bin_1</th>\n",
       "      <th>V33_Bin_2</th>\n",
       "      <th>V33_Bin_3</th>\n",
       "      <th>AvgMTxnCnt</th>\n",
       "      <th>AvgMonBalanceAmt</th>\n",
       "    </tr>\n",
       "  </thead>\n",
       "  <tbody>\n",
       "    <tr>\n",
       "      <th>0</th>\n",
       "      <td>Te-1</td>\n",
       "      <td>30SEP2038</td>\n",
       "      <td>61P4S1M3GET</td>\n",
       "      <td>10397.750000</td>\n",
       "      <td>3097.780373</td>\n",
       "      <td>372364.131864</td>\n",
       "      <td>14539.785973</td>\n",
       "      <td>720291.106032</td>\n",
       "      <td>197186.680000</td>\n",
       "      <td>84646.126661</td>\n",
       "      <td>...</td>\n",
       "      <td>0</td>\n",
       "      <td>0</td>\n",
       "      <td>0</td>\n",
       "      <td>1</td>\n",
       "      <td>0</td>\n",
       "      <td>0</td>\n",
       "      <td>0</td>\n",
       "      <td>1</td>\n",
       "      <td>30</td>\n",
       "      <td>-288540.502500</td>\n",
       "    </tr>\n",
       "    <tr>\n",
       "      <th>1</th>\n",
       "      <td>Te-2</td>\n",
       "      <td>31JAN2038</td>\n",
       "      <td>6NYVS1J3U7M</td>\n",
       "      <td>136777.588133</td>\n",
       "      <td>606.740000</td>\n",
       "      <td>372364.131864</td>\n",
       "      <td>14539.785973</td>\n",
       "      <td>720291.106032</td>\n",
       "      <td>429745.828173</td>\n",
       "      <td>84646.126661</td>\n",
       "      <td>...</td>\n",
       "      <td>0</td>\n",
       "      <td>0</td>\n",
       "      <td>1</td>\n",
       "      <td>0</td>\n",
       "      <td>1</td>\n",
       "      <td>0</td>\n",
       "      <td>0</td>\n",
       "      <td>0</td>\n",
       "      <td>3</td>\n",
       "      <td>-3134.134167</td>\n",
       "    </tr>\n",
       "    <tr>\n",
       "      <th>2</th>\n",
       "      <td>Te-3</td>\n",
       "      <td>31APR2038</td>\n",
       "      <td>BLFB1KMS48</td>\n",
       "      <td>87452.890000</td>\n",
       "      <td>963.520000</td>\n",
       "      <td>372364.131864</td>\n",
       "      <td>13838.000000</td>\n",
       "      <td>720291.106032</td>\n",
       "      <td>1081.250000</td>\n",
       "      <td>6000.000000</td>\n",
       "      <td>...</td>\n",
       "      <td>0</td>\n",
       "      <td>0</td>\n",
       "      <td>0</td>\n",
       "      <td>1</td>\n",
       "      <td>0</td>\n",
       "      <td>0</td>\n",
       "      <td>0</td>\n",
       "      <td>1</td>\n",
       "      <td>23</td>\n",
       "      <td>-100465.798333</td>\n",
       "    </tr>\n",
       "    <tr>\n",
       "      <th>3</th>\n",
       "      <td>Te-4</td>\n",
       "      <td>31NOV2038</td>\n",
       "      <td>MYGB1LCW8P</td>\n",
       "      <td>136777.588133</td>\n",
       "      <td>393.260000</td>\n",
       "      <td>372364.131864</td>\n",
       "      <td>14539.785973</td>\n",
       "      <td>720291.106032</td>\n",
       "      <td>429745.828173</td>\n",
       "      <td>84646.126661</td>\n",
       "      <td>...</td>\n",
       "      <td>0</td>\n",
       "      <td>1</td>\n",
       "      <td>0</td>\n",
       "      <td>0</td>\n",
       "      <td>0</td>\n",
       "      <td>1</td>\n",
       "      <td>0</td>\n",
       "      <td>0</td>\n",
       "      <td>2</td>\n",
       "      <td>-48824.572222</td>\n",
       "    </tr>\n",
       "    <tr>\n",
       "      <th>4</th>\n",
       "      <td>Te-5</td>\n",
       "      <td>31OCT2038</td>\n",
       "      <td>6UG5S1PQGE5</td>\n",
       "      <td>1100.000000</td>\n",
       "      <td>497.200000</td>\n",
       "      <td>372364.131864</td>\n",
       "      <td>14539.785973</td>\n",
       "      <td>720291.106032</td>\n",
       "      <td>18640.000000</td>\n",
       "      <td>84646.126661</td>\n",
       "      <td>...</td>\n",
       "      <td>0</td>\n",
       "      <td>0</td>\n",
       "      <td>0</td>\n",
       "      <td>1</td>\n",
       "      <td>0</td>\n",
       "      <td>0</td>\n",
       "      <td>0</td>\n",
       "      <td>1</td>\n",
       "      <td>12</td>\n",
       "      <td>-65135.379167</td>\n",
       "    </tr>\n",
       "  </tbody>\n",
       "</table>\n",
       "<p>5 rows × 43 columns</p>\n",
       "</div>"
      ],
      "text/plain": [
       "    UID         V1           V2             V3           V4             V6  \\\n",
       "0  Te-1  30SEP2038  61P4S1M3GET   10397.750000  3097.780373  372364.131864   \n",
       "1  Te-2  31JAN2038  6NYVS1J3U7M  136777.588133   606.740000  372364.131864   \n",
       "2  Te-3  31APR2038   BLFB1KMS48   87452.890000   963.520000  372364.131864   \n",
       "3  Te-4  31NOV2038   MYGB1LCW8P  136777.588133   393.260000  372364.131864   \n",
       "4  Te-5  31OCT2038  6UG5S1PQGE5    1100.000000   497.200000  372364.131864   \n",
       "\n",
       "             V7             V8            V10           V11        ...         \\\n",
       "0  14539.785973  720291.106032  197186.680000  84646.126661        ...          \n",
       "1  14539.785973  720291.106032  429745.828173  84646.126661        ...          \n",
       "2  13838.000000  720291.106032    1081.250000   6000.000000        ...          \n",
       "3  14539.785973  720291.106032  429745.828173  84646.126661        ...          \n",
       "4  14539.785973  720291.106032   18640.000000  84646.126661        ...          \n",
       "\n",
       "   V32_Bin_0  V32_Bin_1  V32_Bin_2  V32_Bin_3  V33_Bin_0  V33_Bin_1  \\\n",
       "0          0          0          0          1          0          0   \n",
       "1          0          0          1          0          1          0   \n",
       "2          0          0          0          1          0          0   \n",
       "3          0          1          0          0          0          1   \n",
       "4          0          0          0          1          0          0   \n",
       "\n",
       "   V33_Bin_2  V33_Bin_3  AvgMTxnCnt  AvgMonBalanceAmt  \n",
       "0          0          1          30    -288540.502500  \n",
       "1          0          0           3      -3134.134167  \n",
       "2          0          1          23    -100465.798333  \n",
       "3          0          0           2     -48824.572222  \n",
       "4          0          1          12     -65135.379167  \n",
       "\n",
       "[5 rows x 43 columns]"
      ]
     },
     "execution_count": 170,
     "metadata": {},
     "output_type": "execute_result"
    }
   ],
   "source": [
    "test_data_final.head()"
   ]
  },
  {
   "cell_type": "code",
   "execution_count": 173,
   "metadata": {
    "collapsed": true
   },
   "outputs": [],
   "source": [
    "test_data_pred=test_data_final[cols_selected]"
   ]
  },
  {
   "cell_type": "code",
   "execution_count": 183,
   "metadata": {
    "collapsed": false
   },
   "outputs": [
    {
     "data": {
      "text/plain": [
       "V19_Bin      48434\n",
       "V20_Bin      48434\n",
       "V26_Bin      48434\n",
       "V27_Bin      48434\n",
       "V29_Bin      48434\n",
       "V31_Bin      48434\n",
       "V38_Bin      48434\n",
       "V40_Bin      48434\n",
       "V32_Bin_0    48434\n",
       "V33_Bin_0    48434\n",
       "dtype: int64"
      ]
     },
     "execution_count": 183,
     "metadata": {},
     "output_type": "execute_result"
    }
   ],
   "source": [
    "test_data_pred.count()"
   ]
  },
  {
   "cell_type": "code",
   "execution_count": 175,
   "metadata": {
    "collapsed": false
   },
   "outputs": [
    {
     "name": "stderr",
     "output_type": "stream",
     "text": [
      "C:\\Users\\sandeep.ram\\AppData\\Local\\Continuum\\Anaconda3\\lib\\site-packages\\sklearn\\preprocessing\\label.py:151: DeprecationWarning: The truth value of an empty array is ambiguous. Returning False, but in future this will result in an error. Use `array.size > 0` to check that an array is not empty.\n",
      "  if diff:\n"
     ]
    }
   ],
   "source": [
    "pred_test = model.predict(test_data)"
   ]
  },
  {
   "cell_type": "code",
   "execution_count": 182,
   "metadata": {
    "collapsed": false
   },
   "outputs": [
    {
     "data": {
      "text/plain": [
       "48434"
      ]
     },
     "execution_count": 182,
     "metadata": {},
     "output_type": "execute_result"
    }
   ],
   "source": [
    "len(pred_test)"
   ]
  },
  {
   "cell_type": "code",
   "execution_count": 208,
   "metadata": {
    "collapsed": true
   },
   "outputs": [],
   "source": [
    "pred3=model.predict_proba(test_data)[:,1]"
   ]
  },
  {
   "cell_type": "code",
   "execution_count": 209,
   "metadata": {
    "collapsed": false
   },
   "outputs": [
    {
     "data": {
      "text/plain": [
       "array([0.10927702, 0.2891475 , 0.19447155, 0.40798104, 0.2891475 ,\n",
       "       0.16135055, 0.10927702, 0.40798104, 0.13328172], dtype=float32)"
      ]
     },
     "execution_count": 209,
     "metadata": {},
     "output_type": "execute_result"
    }
   ],
   "source": [
    "pred3[1:10]"
   ]
  },
  {
   "cell_type": "code",
   "execution_count": 187,
   "metadata": {
    "collapsed": false
   },
   "outputs": [
    {
     "data": {
      "text/plain": [
       "array([0, 0, 0, 0, 0, 0, 0, 0, 0], dtype=int64)"
      ]
     },
     "execution_count": 187,
     "metadata": {},
     "output_type": "execute_result"
    }
   ],
   "source": [
    "pred_test[1:10]"
   ]
  },
  {
   "cell_type": "code",
   "execution_count": 212,
   "metadata": {
    "collapsed": true
   },
   "outputs": [],
   "source": [
    "submission=pd.DataFrame(test_data_final)"
   ]
  },
  {
   "cell_type": "code",
   "execution_count": 220,
   "metadata": {
    "collapsed": true
   },
   "outputs": [],
   "source": [
    "submission['bad_flag']=pred_test"
   ]
  },
  {
   "cell_type": "code",
   "execution_count": 221,
   "metadata": {
    "collapsed": false
   },
   "outputs": [],
   "source": [
    "submission['bad_flag_prob']=pred3"
   ]
  },
  {
   "cell_type": "code",
   "execution_count": 222,
   "metadata": {
    "collapsed": false
   },
   "outputs": [
    {
     "data": {
      "text/html": [
       "<div>\n",
       "<style scoped>\n",
       "    .dataframe tbody tr th:only-of-type {\n",
       "        vertical-align: middle;\n",
       "    }\n",
       "\n",
       "    .dataframe tbody tr th {\n",
       "        vertical-align: top;\n",
       "    }\n",
       "\n",
       "    .dataframe thead th {\n",
       "        text-align: right;\n",
       "    }\n",
       "</style>\n",
       "<table border=\"1\" class=\"dataframe\">\n",
       "  <thead>\n",
       "    <tr style=\"text-align: right;\">\n",
       "      <th></th>\n",
       "      <th>UID</th>\n",
       "      <th>V1</th>\n",
       "      <th>V2</th>\n",
       "      <th>V3</th>\n",
       "      <th>V4</th>\n",
       "      <th>V6</th>\n",
       "      <th>V7</th>\n",
       "      <th>V8</th>\n",
       "      <th>V10</th>\n",
       "      <th>V11</th>\n",
       "      <th>...</th>\n",
       "      <th>V32_Bin_2</th>\n",
       "      <th>V32_Bin_3</th>\n",
       "      <th>V33_Bin_0</th>\n",
       "      <th>V33_Bin_1</th>\n",
       "      <th>V33_Bin_2</th>\n",
       "      <th>V33_Bin_3</th>\n",
       "      <th>AvgMTxnCnt</th>\n",
       "      <th>AvgMonBalanceAmt</th>\n",
       "      <th>bad_flag</th>\n",
       "      <th>bad_flag_prob</th>\n",
       "    </tr>\n",
       "  </thead>\n",
       "  <tbody>\n",
       "    <tr>\n",
       "      <th>0</th>\n",
       "      <td>Te-1</td>\n",
       "      <td>30SEP2038</td>\n",
       "      <td>61P4S1M3GET</td>\n",
       "      <td>10397.750000</td>\n",
       "      <td>3097.780373</td>\n",
       "      <td>372364.131864</td>\n",
       "      <td>14539.785973</td>\n",
       "      <td>720291.106032</td>\n",
       "      <td>197186.680000</td>\n",
       "      <td>84646.126661</td>\n",
       "      <td>...</td>\n",
       "      <td>0</td>\n",
       "      <td>1</td>\n",
       "      <td>0</td>\n",
       "      <td>0</td>\n",
       "      <td>0</td>\n",
       "      <td>1</td>\n",
       "      <td>30</td>\n",
       "      <td>-288540.502500</td>\n",
       "      <td>0</td>\n",
       "      <td>0.161351</td>\n",
       "    </tr>\n",
       "    <tr>\n",
       "      <th>1</th>\n",
       "      <td>Te-2</td>\n",
       "      <td>31JAN2038</td>\n",
       "      <td>6NYVS1J3U7M</td>\n",
       "      <td>136777.588133</td>\n",
       "      <td>606.740000</td>\n",
       "      <td>372364.131864</td>\n",
       "      <td>14539.785973</td>\n",
       "      <td>720291.106032</td>\n",
       "      <td>429745.828173</td>\n",
       "      <td>84646.126661</td>\n",
       "      <td>...</td>\n",
       "      <td>1</td>\n",
       "      <td>0</td>\n",
       "      <td>1</td>\n",
       "      <td>0</td>\n",
       "      <td>0</td>\n",
       "      <td>0</td>\n",
       "      <td>3</td>\n",
       "      <td>-3134.134167</td>\n",
       "      <td>0</td>\n",
       "      <td>0.109277</td>\n",
       "    </tr>\n",
       "    <tr>\n",
       "      <th>2</th>\n",
       "      <td>Te-3</td>\n",
       "      <td>31APR2038</td>\n",
       "      <td>BLFB1KMS48</td>\n",
       "      <td>87452.890000</td>\n",
       "      <td>963.520000</td>\n",
       "      <td>372364.131864</td>\n",
       "      <td>13838.000000</td>\n",
       "      <td>720291.106032</td>\n",
       "      <td>1081.250000</td>\n",
       "      <td>6000.000000</td>\n",
       "      <td>...</td>\n",
       "      <td>0</td>\n",
       "      <td>1</td>\n",
       "      <td>0</td>\n",
       "      <td>0</td>\n",
       "      <td>0</td>\n",
       "      <td>1</td>\n",
       "      <td>23</td>\n",
       "      <td>-100465.798333</td>\n",
       "      <td>0</td>\n",
       "      <td>0.289147</td>\n",
       "    </tr>\n",
       "    <tr>\n",
       "      <th>3</th>\n",
       "      <td>Te-4</td>\n",
       "      <td>31NOV2038</td>\n",
       "      <td>MYGB1LCW8P</td>\n",
       "      <td>136777.588133</td>\n",
       "      <td>393.260000</td>\n",
       "      <td>372364.131864</td>\n",
       "      <td>14539.785973</td>\n",
       "      <td>720291.106032</td>\n",
       "      <td>429745.828173</td>\n",
       "      <td>84646.126661</td>\n",
       "      <td>...</td>\n",
       "      <td>0</td>\n",
       "      <td>0</td>\n",
       "      <td>0</td>\n",
       "      <td>1</td>\n",
       "      <td>0</td>\n",
       "      <td>0</td>\n",
       "      <td>2</td>\n",
       "      <td>-48824.572222</td>\n",
       "      <td>0</td>\n",
       "      <td>0.194472</td>\n",
       "    </tr>\n",
       "    <tr>\n",
       "      <th>4</th>\n",
       "      <td>Te-5</td>\n",
       "      <td>31OCT2038</td>\n",
       "      <td>6UG5S1PQGE5</td>\n",
       "      <td>1100.000000</td>\n",
       "      <td>497.200000</td>\n",
       "      <td>372364.131864</td>\n",
       "      <td>14539.785973</td>\n",
       "      <td>720291.106032</td>\n",
       "      <td>18640.000000</td>\n",
       "      <td>84646.126661</td>\n",
       "      <td>...</td>\n",
       "      <td>0</td>\n",
       "      <td>1</td>\n",
       "      <td>0</td>\n",
       "      <td>0</td>\n",
       "      <td>0</td>\n",
       "      <td>1</td>\n",
       "      <td>12</td>\n",
       "      <td>-65135.379167</td>\n",
       "      <td>0</td>\n",
       "      <td>0.407981</td>\n",
       "    </tr>\n",
       "  </tbody>\n",
       "</table>\n",
       "<p>5 rows × 45 columns</p>\n",
       "</div>"
      ],
      "text/plain": [
       "    UID         V1           V2             V3           V4             V6  \\\n",
       "0  Te-1  30SEP2038  61P4S1M3GET   10397.750000  3097.780373  372364.131864   \n",
       "1  Te-2  31JAN2038  6NYVS1J3U7M  136777.588133   606.740000  372364.131864   \n",
       "2  Te-3  31APR2038   BLFB1KMS48   87452.890000   963.520000  372364.131864   \n",
       "3  Te-4  31NOV2038   MYGB1LCW8P  136777.588133   393.260000  372364.131864   \n",
       "4  Te-5  31OCT2038  6UG5S1PQGE5    1100.000000   497.200000  372364.131864   \n",
       "\n",
       "             V7             V8            V10           V11      ...        \\\n",
       "0  14539.785973  720291.106032  197186.680000  84646.126661      ...         \n",
       "1  14539.785973  720291.106032  429745.828173  84646.126661      ...         \n",
       "2  13838.000000  720291.106032    1081.250000   6000.000000      ...         \n",
       "3  14539.785973  720291.106032  429745.828173  84646.126661      ...         \n",
       "4  14539.785973  720291.106032   18640.000000  84646.126661      ...         \n",
       "\n",
       "   V32_Bin_2  V32_Bin_3  V33_Bin_0  V33_Bin_1  V33_Bin_2  V33_Bin_3  \\\n",
       "0          0          1          0          0          0          1   \n",
       "1          1          0          1          0          0          0   \n",
       "2          0          1          0          0          0          1   \n",
       "3          0          0          0          1          0          0   \n",
       "4          0          1          0          0          0          1   \n",
       "\n",
       "   AvgMTxnCnt  AvgMonBalanceAmt  bad_flag  bad_flag_prob  \n",
       "0          30    -288540.502500         0       0.161351  \n",
       "1           3      -3134.134167         0       0.109277  \n",
       "2          23    -100465.798333         0       0.289147  \n",
       "3           2     -48824.572222         0       0.194472  \n",
       "4          12     -65135.379167         0       0.407981  \n",
       "\n",
       "[5 rows x 45 columns]"
      ]
     },
     "execution_count": 222,
     "metadata": {},
     "output_type": "execute_result"
    }
   ],
   "source": [
    "submission.head()"
   ]
  },
  {
   "cell_type": "code",
   "execution_count": 223,
   "metadata": {
    "collapsed": false
   },
   "outputs": [],
   "source": [
    "final_submission=submission.filter(['UID','bad_flag','bad_flag_prob'],axis=1)"
   ]
  },
  {
   "cell_type": "code",
   "execution_count": 224,
   "metadata": {
    "collapsed": false
   },
   "outputs": [
    {
     "data": {
      "text/html": [
       "<div>\n",
       "<style scoped>\n",
       "    .dataframe tbody tr th:only-of-type {\n",
       "        vertical-align: middle;\n",
       "    }\n",
       "\n",
       "    .dataframe tbody tr th {\n",
       "        vertical-align: top;\n",
       "    }\n",
       "\n",
       "    .dataframe thead th {\n",
       "        text-align: right;\n",
       "    }\n",
       "</style>\n",
       "<table border=\"1\" class=\"dataframe\">\n",
       "  <thead>\n",
       "    <tr style=\"text-align: right;\">\n",
       "      <th></th>\n",
       "      <th>UID</th>\n",
       "      <th>bad_flag</th>\n",
       "      <th>bad_flag_prob</th>\n",
       "    </tr>\n",
       "  </thead>\n",
       "  <tbody>\n",
       "    <tr>\n",
       "      <th>0</th>\n",
       "      <td>Te-1</td>\n",
       "      <td>0</td>\n",
       "      <td>0.161351</td>\n",
       "    </tr>\n",
       "    <tr>\n",
       "      <th>1</th>\n",
       "      <td>Te-2</td>\n",
       "      <td>0</td>\n",
       "      <td>0.109277</td>\n",
       "    </tr>\n",
       "    <tr>\n",
       "      <th>2</th>\n",
       "      <td>Te-3</td>\n",
       "      <td>0</td>\n",
       "      <td>0.289147</td>\n",
       "    </tr>\n",
       "    <tr>\n",
       "      <th>3</th>\n",
       "      <td>Te-4</td>\n",
       "      <td>0</td>\n",
       "      <td>0.194472</td>\n",
       "    </tr>\n",
       "    <tr>\n",
       "      <th>4</th>\n",
       "      <td>Te-5</td>\n",
       "      <td>0</td>\n",
       "      <td>0.407981</td>\n",
       "    </tr>\n",
       "  </tbody>\n",
       "</table>\n",
       "</div>"
      ],
      "text/plain": [
       "    UID  bad_flag  bad_flag_prob\n",
       "0  Te-1         0       0.161351\n",
       "1  Te-2         0       0.109277\n",
       "2  Te-3         0       0.289147\n",
       "3  Te-4         0       0.194472\n",
       "4  Te-5         0       0.407981"
      ]
     },
     "execution_count": 224,
     "metadata": {},
     "output_type": "execute_result"
    }
   ],
   "source": [
    "final_submission.head()"
   ]
  },
  {
   "cell_type": "code",
   "execution_count": 227,
   "metadata": {
    "collapsed": true
   },
   "outputs": [],
   "source": [
    "pd.DataFrame(final_submission).to_csv('Final Submission.csv')"
   ]
  },
  {
   "cell_type": "code",
   "execution_count": null,
   "metadata": {
    "collapsed": true
   },
   "outputs": [],
   "source": []
  },
  {
   "cell_type": "code",
   "execution_count": null,
   "metadata": {
    "collapsed": true
   },
   "outputs": [],
   "source": []
  },
  {
   "cell_type": "code",
   "execution_count": null,
   "metadata": {
    "collapsed": true
   },
   "outputs": [],
   "source": []
  },
  {
   "cell_type": "code",
   "execution_count": null,
   "metadata": {
    "collapsed": true
   },
   "outputs": [],
   "source": []
  },
  {
   "cell_type": "code",
   "execution_count": null,
   "metadata": {
    "collapsed": true
   },
   "outputs": [],
   "source": []
  },
  {
   "cell_type": "code",
   "execution_count": null,
   "metadata": {
    "collapsed": true
   },
   "outputs": [],
   "source": []
  },
  {
   "cell_type": "code",
   "execution_count": 136,
   "metadata": {
    "collapsed": true
   },
   "outputs": [],
   "source": [
    "X = train_data_final_os.loc[:, train_data_final_os.columns != 'bad_flag']\n",
    "y = train_data_final_os.loc[:, train_data_final_os.columns == 'bad_flag']"
   ]
  },
  {
   "cell_type": "code",
   "execution_count": 137,
   "metadata": {
    "collapsed": false
   },
   "outputs": [],
   "source": [
    "X=X.filter(items=['V19_Bin','V20_Bin','V26_Bin','V27_Bin','V29_Bin','V31_Bin','V38_Bin','V40_Bin','V32_Bin_0','V33_Bin_0'])"
   ]
  },
  {
   "cell_type": "code",
   "execution_count": 139,
   "metadata": {
    "collapsed": false,
    "scrolled": false
   },
   "outputs": [
    {
     "data": {
      "text/html": [
       "<div>\n",
       "<style scoped>\n",
       "    .dataframe tbody tr th:only-of-type {\n",
       "        vertical-align: middle;\n",
       "    }\n",
       "\n",
       "    .dataframe tbody tr th {\n",
       "        vertical-align: top;\n",
       "    }\n",
       "\n",
       "    .dataframe thead th {\n",
       "        text-align: right;\n",
       "    }\n",
       "</style>\n",
       "<table border=\"1\" class=\"dataframe\">\n",
       "  <thead>\n",
       "    <tr style=\"text-align: right;\">\n",
       "      <th></th>\n",
       "      <th>V19_Bin</th>\n",
       "      <th>V20_Bin</th>\n",
       "      <th>V26_Bin</th>\n",
       "      <th>V27_Bin</th>\n",
       "      <th>V29_Bin</th>\n",
       "      <th>V31_Bin</th>\n",
       "      <th>V38_Bin</th>\n",
       "      <th>V40_Bin</th>\n",
       "      <th>V32_Bin_0</th>\n",
       "      <th>V33_Bin_0</th>\n",
       "    </tr>\n",
       "  </thead>\n",
       "  <tbody>\n",
       "    <tr>\n",
       "      <th>0</th>\n",
       "      <td>0.0</td>\n",
       "      <td>0.0</td>\n",
       "      <td>0.0</td>\n",
       "      <td>0.0</td>\n",
       "      <td>0.0</td>\n",
       "      <td>0.0</td>\n",
       "      <td>0.0</td>\n",
       "      <td>0.0</td>\n",
       "      <td>0.0</td>\n",
       "      <td>0.0</td>\n",
       "    </tr>\n",
       "    <tr>\n",
       "      <th>1</th>\n",
       "      <td>0.0</td>\n",
       "      <td>0.0</td>\n",
       "      <td>0.0</td>\n",
       "      <td>0.0</td>\n",
       "      <td>0.0</td>\n",
       "      <td>0.0</td>\n",
       "      <td>0.0</td>\n",
       "      <td>0.0</td>\n",
       "      <td>0.0</td>\n",
       "      <td>0.0</td>\n",
       "    </tr>\n",
       "    <tr>\n",
       "      <th>2</th>\n",
       "      <td>0.0</td>\n",
       "      <td>0.0</td>\n",
       "      <td>0.0</td>\n",
       "      <td>0.0</td>\n",
       "      <td>0.0</td>\n",
       "      <td>0.0</td>\n",
       "      <td>0.0</td>\n",
       "      <td>0.0</td>\n",
       "      <td>1.0</td>\n",
       "      <td>1.0</td>\n",
       "    </tr>\n",
       "    <tr>\n",
       "      <th>3</th>\n",
       "      <td>0.0</td>\n",
       "      <td>0.0</td>\n",
       "      <td>0.0</td>\n",
       "      <td>0.0</td>\n",
       "      <td>0.0</td>\n",
       "      <td>0.0</td>\n",
       "      <td>0.0</td>\n",
       "      <td>0.0</td>\n",
       "      <td>1.0</td>\n",
       "      <td>1.0</td>\n",
       "    </tr>\n",
       "    <tr>\n",
       "      <th>4</th>\n",
       "      <td>0.0</td>\n",
       "      <td>1.0</td>\n",
       "      <td>0.0</td>\n",
       "      <td>0.0</td>\n",
       "      <td>0.0</td>\n",
       "      <td>0.0</td>\n",
       "      <td>0.0</td>\n",
       "      <td>0.0</td>\n",
       "      <td>0.0</td>\n",
       "      <td>0.0</td>\n",
       "    </tr>\n",
       "  </tbody>\n",
       "</table>\n",
       "</div>"
      ],
      "text/plain": [
       "   V19_Bin  V20_Bin  V26_Bin  V27_Bin  V29_Bin  V31_Bin  V38_Bin  V40_Bin  \\\n",
       "0      0.0      0.0      0.0      0.0      0.0      0.0      0.0      0.0   \n",
       "1      0.0      0.0      0.0      0.0      0.0      0.0      0.0      0.0   \n",
       "2      0.0      0.0      0.0      0.0      0.0      0.0      0.0      0.0   \n",
       "3      0.0      0.0      0.0      0.0      0.0      0.0      0.0      0.0   \n",
       "4      0.0      1.0      0.0      0.0      0.0      0.0      0.0      0.0   \n",
       "\n",
       "   V32_Bin_0  V33_Bin_0  \n",
       "0        0.0        0.0  \n",
       "1        0.0        0.0  \n",
       "2        1.0        1.0  \n",
       "3        1.0        1.0  \n",
       "4        0.0        0.0  "
      ]
     },
     "execution_count": 139,
     "metadata": {},
     "output_type": "execute_result"
    }
   ],
   "source": [
    "X.head()"
   ]
  },
  {
   "cell_type": "code",
   "execution_count": 138,
   "metadata": {
    "collapsed": false
   },
   "outputs": [
    {
     "name": "stderr",
     "output_type": "stream",
     "text": [
      "C:\\Users\\sandeep.ram\\AppData\\Local\\Continuum\\Anaconda3\\lib\\site-packages\\statsmodels\\compat\\pandas.py:56: FutureWarning: The pandas.core.datetools module is deprecated and will be removed in a future version. Please use the pandas.tseries module instead.\n",
      "  from pandas.core import datetools\n"
     ]
    },
    {
     "name": "stdout",
     "output_type": "stream",
     "text": [
      "Optimization terminated successfully.\n",
      "         Current function value: 0.416529\n",
      "         Iterations 8\n",
      "                         Results: Logit\n",
      "=================================================================\n",
      "Model:              Logit            No. Iterations:   8.0000    \n",
      "Dependent Variable: bad_flag         Pseudo R-squared: -0.327    \n",
      "Date:               2018-11-21 00:45 AIC:              22325.1045\n",
      "No. Observations:   26775            BIC:              22407.0567\n",
      "Df Model:           9                Log-Likelihood:   -11153.   \n",
      "Df Residuals:       26765            LL-Null:          -8402.5   \n",
      "Converged:          1.0000           Scale:            1.0000    \n",
      "------------------------------------------------------------------\n",
      "              Coef.   Std.Err.     z      P>|z|    [0.025   0.975]\n",
      "------------------------------------------------------------------\n",
      "V19_Bin      -1.4169    0.0470  -30.1475  0.0000  -1.5091  -1.3248\n",
      "V20_Bin      -1.4699    0.0293  -50.2483  0.0000  -1.5272  -1.4125\n",
      "V26_Bin      -1.4141    0.2937   -4.8145  0.0000  -1.9897  -0.8384\n",
      "V27_Bin      -1.8057    0.2735   -6.6021  0.0000  -2.3418  -1.2696\n",
      "V29_Bin      -1.4686    0.2534   -5.7943  0.0000  -1.9653  -0.9718\n",
      "V31_Bin      -1.7380    0.2568   -6.7677  0.0000  -2.2413  -1.2347\n",
      "V38_Bin      -0.9027    0.2598   -3.4746  0.0005  -1.4118  -0.3935\n",
      "V40_Bin      -1.7384    0.3486   -4.9873  0.0000  -2.4216  -1.0552\n",
      "V32_Bin_0    -0.9926    0.0526  -18.8861  0.0000  -1.0956  -0.8896\n",
      "V33_Bin_0    -1.1745    0.0546  -21.4971  0.0000  -1.2816  -1.0674\n",
      "=================================================================\n",
      "\n"
     ]
    }
   ],
   "source": [
    "#Implement the logistics model\n",
    "import statsmodels.api as sm\n",
    "logit_model=sm.Logit(y,X)\n",
    "result=logit_model.fit()\n",
    "print(result.summary2())"
   ]
  },
  {
   "cell_type": "code",
   "execution_count": 139,
   "metadata": {
    "collapsed": false
   },
   "outputs": [
    {
     "name": "stderr",
     "output_type": "stream",
     "text": [
      "C:\\Users\\sandeep.ram\\AppData\\Local\\Continuum\\Anaconda3\\lib\\site-packages\\sklearn\\utils\\validation.py:578: DataConversionWarning: A column-vector y was passed when a 1d array was expected. Please change the shape of y to (n_samples, ), for example using ravel().\n",
      "  y = column_or_1d(y, warn=True)\n"
     ]
    },
    {
     "data": {
      "text/plain": [
       "LogisticRegression(C=1.0, class_weight=None, dual=False, fit_intercept=True,\n",
       "          intercept_scaling=1, max_iter=100, multi_class='ovr', n_jobs=1,\n",
       "          penalty='l2', random_state=None, solver='liblinear', tol=0.0001,\n",
       "          verbose=0, warm_start=False)"
      ]
     },
     "execution_count": 139,
     "metadata": {},
     "output_type": "execute_result"
    }
   ],
   "source": [
    "#Since all the variables have p < 0.05, hence all the variables are significant.\n",
    "#We will now fit the model\n",
    "from sklearn.linear_model import LogisticRegression\n",
    "from sklearn import metrics\n",
    "X_train, X_test, y_train, y_test = train_test_split(X, y, test_size=0.3, random_state=0)\n",
    "logreg = LogisticRegression()\n",
    "logreg.fit(X_train, y_train)"
   ]
  },
  {
   "cell_type": "code",
   "execution_count": 140,
   "metadata": {
    "collapsed": false
   },
   "outputs": [
    {
     "name": "stdout",
     "output_type": "stream",
     "text": [
      "Accuracy of logistic regression classifier on test set: 0.91\n"
     ]
    }
   ],
   "source": [
    "#predict test results\n",
    "y_pred = logreg.predict(X_test)\n",
    "print('Accuracy of logistic regression classifier on test set: {:.2f}'.format(logreg.score(X_test, y_test)))"
   ]
  },
  {
   "cell_type": "code",
   "execution_count": 141,
   "metadata": {
    "collapsed": false
   },
   "outputs": [
    {
     "name": "stdout",
     "output_type": "stream",
     "text": [
      "[[7285    0]\n",
      " [ 748    0]]\n"
     ]
    }
   ],
   "source": [
    "#Confusion Matrix\n",
    "from sklearn.metrics import confusion_matrix\n",
    "confusion_matrix = confusion_matrix(y_test, y_pred)\n",
    "print(confusion_matrix)"
   ]
  },
  {
   "cell_type": "code",
   "execution_count": 142,
   "metadata": {
    "collapsed": false
   },
   "outputs": [
    {
     "name": "stdout",
     "output_type": "stream",
     "text": [
      "             precision    recall  f1-score   support\n",
      "\n",
      "          0       0.91      1.00      0.95      7285\n",
      "          1       0.00      0.00      0.00       748\n",
      "\n",
      "avg / total       0.82      0.91      0.86      8033\n",
      "\n"
     ]
    },
    {
     "name": "stderr",
     "output_type": "stream",
     "text": [
      "C:\\Users\\sandeep.ram\\AppData\\Local\\Continuum\\Anaconda3\\lib\\site-packages\\sklearn\\metrics\\classification.py:1135: UndefinedMetricWarning: Precision and F-score are ill-defined and being set to 0.0 in labels with no predicted samples.\n",
      "  'precision', 'predicted', average, warn_for)\n"
     ]
    }
   ],
   "source": [
    "#Precision,Recall and Support\n",
    "from sklearn.metrics import classification_report\n",
    "print(classification_report(y_test, y_pred))"
   ]
  },
  {
   "cell_type": "code",
   "execution_count": 145,
   "metadata": {
    "collapsed": false
   },
   "outputs": [
    {
     "data": {
      "image/png": "[encoded data removed]",
      "text/plain": [
       "<matplotlib.figure.Figure at 0x6d95d278>"
      ]
     },
     "metadata": {},
     "output_type": "display_data"
    }
   ],
   "source": [
    "#ROC\n",
    "from sklearn.metrics import roc_auc_score\n",
    "from sklearn.metrics import roc_curve\n",
    "logit_roc_auc = roc_auc_score(y_test, logreg.predict(X_test))\n",
    "fpr, tpr, thresholds = roc_curve(y_test, logreg.predict_proba(X_test)[:,1])\n",
    "plt.figure()\n",
    "plt.plot(fpr, tpr, label='Logistic Regression (area = %0.2f)' % logit_roc_auc)\n",
    "plt.plot([0, 1], [0, 1],'r--')\n",
    "plt.xlim([0.0, 1.0])\n",
    "plt.ylim([0.0, 1.05])\n",
    "plt.xlabel('False Positive Rate')\n",
    "plt.ylabel('True Positive Rate')\n",
    "plt.title('Receiver operating characteristic')\n",
    "plt.legend(loc=\"lower right\")\n",
    "plt.savefig('Log_ROC')\n",
    "plt.show()"
   ]
  },
  {
   "cell_type": "code",
   "execution_count": 101,
   "metadata": {
    "collapsed": true
   },
   "outputs": [],
   "source": [
    "#3rd attempt\n",
    "X = train_data_final_os.loc[:, train_data_final_os.columns != 'bad_flag']\n",
    "y = train_data_final_os.loc[:, train_data_final_os.columns == 'bad_flag']"
   ]
  },
  {
   "cell_type": "code",
   "execution_count": 121,
   "metadata": {
    "collapsed": true
   },
   "outputs": [],
   "source": [
    "#We will use the train_test_split function from sklearn to divide our train dataset. So, first let us import train_test_split.\n",
    "from sklearn.model_selection import train_test_split\n",
    "x_train,x_cv,y_train,y_cv=train_test_split(X,y,test_size=0.2)"
   ]
  },
  {
   "cell_type": "code",
   "execution_count": 122,
   "metadata": {
    "collapsed": true
   },
   "outputs": [],
   "source": [
    "from sklearn.linear_model import LogisticRegression\n",
    "from sklearn.metrics import accuracy_score"
   ]
  },
  {
   "cell_type": "code",
   "execution_count": 123,
   "metadata": {
    "collapsed": false
   },
   "outputs": [
    {
     "name": "stderr",
     "output_type": "stream",
     "text": [
      "C:\\Users\\sandeep.ram\\AppData\\Local\\Continuum\\Anaconda3\\lib\\site-packages\\sklearn\\utils\\validation.py:578: DataConversionWarning: A column-vector y was passed when a 1d array was expected. Please change the shape of y to (n_samples, ), for example using ravel().\n",
      "  y = column_or_1d(y, warn=True)\n"
     ]
    },
    {
     "data": {
      "text/plain": [
       "LogisticRegression(C=1.0, class_weight=None, dual=False, fit_intercept=True,\n",
       "          intercept_scaling=1, max_iter=100, multi_class='ovr', n_jobs=1,\n",
       "          penalty='l2', random_state=None, solver='liblinear', tol=0.0001,\n",
       "          verbose=0, warm_start=False)"
      ]
     },
     "execution_count": 123,
     "metadata": {},
     "output_type": "execute_result"
    }
   ],
   "source": [
    "model = LogisticRegression()\n",
    "model.fit(x_train,y_train)"
   ]
  },
  {
   "cell_type": "code",
   "execution_count": 124,
   "metadata": {
    "collapsed": true
   },
   "outputs": [],
   "source": [
    "#Let’s predict the Loan_Status for validation set and calculate its accuracy.\n",
    "pred_cv=model.predict(x_cv)"
   ]
  },
  {
   "cell_type": "code",
   "execution_count": 120,
   "metadata": {
    "collapsed": false
   },
   "outputs": [
    {
     "data": {
      "text/plain": [
       "26775"
      ]
     },
     "execution_count": 120,
     "metadata": {},
     "output_type": "execute_result"
    }
   ],
   "source": [
    "len(X)"
   ]
  },
  {
   "cell_type": "code",
   "execution_count": 125,
   "metadata": {
    "collapsed": false
   },
   "outputs": [
    {
     "data": {
      "text/plain": [
       "0.9096171802054155"
      ]
     },
     "execution_count": 125,
     "metadata": {},
     "output_type": "execute_result"
    }
   ],
   "source": [
    "#Let us calculate how accurate our predictions are by calculating the accuracy.\n",
    "accuracy_score(y_cv,pred_cv)"
   ]
  },
  {
   "cell_type": "code",
   "execution_count": 109,
   "metadata": {
    "collapsed": true
   },
   "outputs": [],
   "source": [
    "pred=model.predict_proba(xvl)[:,1]"
   ]
  },
  {
   "cell_type": "code",
   "execution_count": 126,
   "metadata": {
    "collapsed": false
   },
   "outputs": [
    {
     "data": {
      "image/png": "[encoded data removed]",
      "text/plain": [
       "<matplotlib.figure.Figure at 0x44e29dd8>"
      ]
     },
     "metadata": {},
     "output_type": "display_data"
    }
   ],
   "source": [
    "#Let us visualize the roc curve\n",
    "from sklearn import metrics\n",
    "fpr, tpr, _ = metrics.roc_curve(y_cv,pred_cv)\n",
    "auc = metrics.roc_auc_score(y_cv, pred_cv)\n",
    "plt.figure(figsize=(12,8))\n",
    "plt.plot(fpr,tpr,label=\"validation, auc=\"+str(auc))\n",
    "plt.xlabel('False Positive Rate')\n",
    "plt.ylabel('True Positive Rate')\n",
    "plt.legend(loc=4)\n",
    "plt.show()"
   ]
  },
  {
   "cell_type": "code",
   "execution_count": 134,
   "metadata": {
    "collapsed": false
   },
   "outputs": [
    {
     "data": {
      "text/plain": [
       "V3                  26775\n",
       "V4                  26775\n",
       "V6                  26775\n",
       "V7                  26775\n",
       "V8                  26775\n",
       "V10                 26775\n",
       "V11                 26775\n",
       "V16                 26775\n",
       "V37                 26775\n",
       "V41                 26775\n",
       "V43                 26775\n",
       "V46                 26775\n",
       "V19_Bin             26775\n",
       "V20_Bin             26775\n",
       "V21_Bin             26775\n",
       "V22_Bin             26775\n",
       "V23_Bin             26775\n",
       "V25_Bin             26775\n",
       "V26_Bin             26775\n",
       "V27_Bin             26775\n",
       "V28_Bin             26775\n",
       "V29_Bin             26775\n",
       "V31_Bin             26775\n",
       "V38_Bin             26775\n",
       "V39_Bin             26775\n",
       "V40_Bin             26775\n",
       "V50_Bin             26775\n",
       "V51_Bin             26775\n",
       "V52_Bin             26775\n",
       "V53_Bin             26775\n",
       "V32_Bin_0           26775\n",
       "V32_Bin_1           26775\n",
       "V32_Bin_2           26775\n",
       "V32_Bin_3           26775\n",
       "V33_Bin_0           26775\n",
       "V33_Bin_1           26775\n",
       "V33_Bin_2           26775\n",
       "V33_Bin_3           26775\n",
       "AvgMTxnCnt          26775\n",
       "AvgMonBalanceAmt    26775\n",
       "dtype: int64"
      ]
     },
     "execution_count": 134,
     "metadata": {},
     "output_type": "execute_result"
    }
   ],
   "source": [
    "X.count()"
   ]
  },
  {
   "cell_type": "code",
   "execution_count": 143,
   "metadata": {
    "collapsed": false
   },
   "outputs": [
    {
     "name": "stdout",
     "output_type": "stream",
     "text": [
      "\n",
      "1 of kfold 5\n",
      "train_index [    1     3     5 ... 26772 26773 26774]\n",
      "test_index [    0     2     4 ... 26753 26760 26761]\n"
     ]
    },
    {
     "ename": "KeyError",
     "evalue": "'[    1     3     5 ... 26772 26773 26774] not in index'",
     "output_type": "error",
     "traceback": [
      "\u001b[0;31m---------------------------------------------------------------------------\u001b[0m",
      "\u001b[0;31mKeyError\u001b[0m                                  Traceback (most recent call last)",
      "\u001b[0;32m<ipython-input-143-8dd18537e9de>\u001b[0m in \u001b[0;36m<module>\u001b[0;34m()\u001b[0m\n\u001b[1;32m      8\u001b[0m      \u001b[0mprint\u001b[0m\u001b[1;33m(\u001b[0m\u001b[1;34m'test_index'\u001b[0m\u001b[1;33m,\u001b[0m\u001b[0mtest_index\u001b[0m\u001b[1;33m)\u001b[0m\u001b[1;33m\u001b[0m\u001b[0m\n\u001b[1;32m      9\u001b[0m      \u001b[0mxtr\u001b[0m\u001b[1;33m,\u001b[0m\u001b[0mxvl\u001b[0m \u001b[1;33m=\u001b[0m \u001b[0mX\u001b[0m\u001b[1;33m.\u001b[0m\u001b[0mloc\u001b[0m\u001b[1;33m[\u001b[0m\u001b[0mtrain_index\u001b[0m\u001b[1;33m]\u001b[0m\u001b[1;33m,\u001b[0m\u001b[0mX\u001b[0m\u001b[1;33m.\u001b[0m\u001b[0mloc\u001b[0m\u001b[1;33m[\u001b[0m\u001b[0mtest_index\u001b[0m\u001b[1;33m]\u001b[0m\u001b[1;33m\u001b[0m\u001b[0m\n\u001b[0;32m---> 10\u001b[0;31m      \u001b[0mytr\u001b[0m\u001b[1;33m,\u001b[0m\u001b[0myvl\u001b[0m \u001b[1;33m=\u001b[0m \u001b[0my\u001b[0m\u001b[1;33m[\u001b[0m\u001b[0mtrain_index\u001b[0m\u001b[1;33m]\u001b[0m\u001b[1;33m,\u001b[0m\u001b[0my\u001b[0m\u001b[1;33m[\u001b[0m\u001b[0mtest_index\u001b[0m\u001b[1;33m]\u001b[0m\u001b[1;33m\u001b[0m\u001b[0m\n\u001b[0m\u001b[1;32m     11\u001b[0m \u001b[1;33m\u001b[0m\u001b[0m\n\u001b[1;32m     12\u001b[0m      \u001b[0mmodel\u001b[0m \u001b[1;33m=\u001b[0m \u001b[0mLogisticRegression\u001b[0m\u001b[1;33m(\u001b[0m\u001b[0mrandom_state\u001b[0m\u001b[1;33m=\u001b[0m\u001b[1;36m1\u001b[0m\u001b[1;33m)\u001b[0m\u001b[1;33m\u001b[0m\u001b[0m\n",
      "\u001b[0;32mC:\\Users\\sandeep.ram\\AppData\\Local\\Continuum\\Anaconda3\\lib\\site-packages\\pandas\\core\\frame.py\u001b[0m in \u001b[0;36m__getitem__\u001b[0;34m(self, key)\u001b[0m\n\u001b[1;32m   2680\u001b[0m         \u001b[1;32mif\u001b[0m \u001b[0misinstance\u001b[0m\u001b[1;33m(\u001b[0m\u001b[0mkey\u001b[0m\u001b[1;33m,\u001b[0m \u001b[1;33m(\u001b[0m\u001b[0mSeries\u001b[0m\u001b[1;33m,\u001b[0m \u001b[0mnp\u001b[0m\u001b[1;33m.\u001b[0m\u001b[0mndarray\u001b[0m\u001b[1;33m,\u001b[0m \u001b[0mIndex\u001b[0m\u001b[1;33m,\u001b[0m \u001b[0mlist\u001b[0m\u001b[1;33m)\u001b[0m\u001b[1;33m)\u001b[0m\u001b[1;33m:\u001b[0m\u001b[1;33m\u001b[0m\u001b[0m\n\u001b[1;32m   2681\u001b[0m             \u001b[1;31m# either boolean or fancy integer index\u001b[0m\u001b[1;33m\u001b[0m\u001b[1;33m\u001b[0m\u001b[0m\n\u001b[0;32m-> 2682\u001b[0;31m             \u001b[1;32mreturn\u001b[0m \u001b[0mself\u001b[0m\u001b[1;33m.\u001b[0m\u001b[0m_getitem_array\u001b[0m\u001b[1;33m(\u001b[0m\u001b[0mkey\u001b[0m\u001b[1;33m)\u001b[0m\u001b[1;33m\u001b[0m\u001b[0m\n\u001b[0m\u001b[1;32m   2683\u001b[0m         \u001b[1;32melif\u001b[0m \u001b[0misinstance\u001b[0m\u001b[1;33m(\u001b[0m\u001b[0mkey\u001b[0m\u001b[1;33m,\u001b[0m \u001b[0mDataFrame\u001b[0m\u001b[1;33m)\u001b[0m\u001b[1;33m:\u001b[0m\u001b[1;33m\u001b[0m\u001b[0m\n\u001b[1;32m   2684\u001b[0m             \u001b[1;32mreturn\u001b[0m \u001b[0mself\u001b[0m\u001b[1;33m.\u001b[0m\u001b[0m_getitem_frame\u001b[0m\u001b[1;33m(\u001b[0m\u001b[0mkey\u001b[0m\u001b[1;33m)\u001b[0m\u001b[1;33m\u001b[0m\u001b[0m\n",
      "\u001b[0;32mC:\\Users\\sandeep.ram\\AppData\\Local\\Continuum\\Anaconda3\\lib\\site-packages\\pandas\\core\\frame.py\u001b[0m in \u001b[0;36m_getitem_array\u001b[0;34m(self, key)\u001b[0m\n\u001b[1;32m   2724\u001b[0m             \u001b[1;32mreturn\u001b[0m \u001b[0mself\u001b[0m\u001b[1;33m.\u001b[0m\u001b[0m_take\u001b[0m\u001b[1;33m(\u001b[0m\u001b[0mindexer\u001b[0m\u001b[1;33m,\u001b[0m \u001b[0maxis\u001b[0m\u001b[1;33m=\u001b[0m\u001b[1;36m0\u001b[0m\u001b[1;33m)\u001b[0m\u001b[1;33m\u001b[0m\u001b[0m\n\u001b[1;32m   2725\u001b[0m         \u001b[1;32melse\u001b[0m\u001b[1;33m:\u001b[0m\u001b[1;33m\u001b[0m\u001b[0m\n\u001b[0;32m-> 2726\u001b[0;31m             \u001b[0mindexer\u001b[0m \u001b[1;33m=\u001b[0m \u001b[0mself\u001b[0m\u001b[1;33m.\u001b[0m\u001b[0mloc\u001b[0m\u001b[1;33m.\u001b[0m\u001b[0m_convert_to_indexer\u001b[0m\u001b[1;33m(\u001b[0m\u001b[0mkey\u001b[0m\u001b[1;33m,\u001b[0m \u001b[0maxis\u001b[0m\u001b[1;33m=\u001b[0m\u001b[1;36m1\u001b[0m\u001b[1;33m)\u001b[0m\u001b[1;33m\u001b[0m\u001b[0m\n\u001b[0m\u001b[1;32m   2727\u001b[0m             \u001b[1;32mreturn\u001b[0m \u001b[0mself\u001b[0m\u001b[1;33m.\u001b[0m\u001b[0m_take\u001b[0m\u001b[1;33m(\u001b[0m\u001b[0mindexer\u001b[0m\u001b[1;33m,\u001b[0m \u001b[0maxis\u001b[0m\u001b[1;33m=\u001b[0m\u001b[1;36m1\u001b[0m\u001b[1;33m)\u001b[0m\u001b[1;33m\u001b[0m\u001b[0m\n\u001b[1;32m   2728\u001b[0m \u001b[1;33m\u001b[0m\u001b[0m\n",
      "\u001b[0;32mC:\\Users\\sandeep.ram\\AppData\\Local\\Continuum\\Anaconda3\\lib\\site-packages\\pandas\\core\\indexing.py\u001b[0m in \u001b[0;36m_convert_to_indexer\u001b[0;34m(self, obj, axis, is_setter)\u001b[0m\n\u001b[1;32m   1325\u001b[0m                 \u001b[1;32mif\u001b[0m \u001b[0mmask\u001b[0m\u001b[1;33m.\u001b[0m\u001b[0many\u001b[0m\u001b[1;33m(\u001b[0m\u001b[1;33m)\u001b[0m\u001b[1;33m:\u001b[0m\u001b[1;33m\u001b[0m\u001b[0m\n\u001b[1;32m   1326\u001b[0m                     raise KeyError('{mask} not in index'\n\u001b[0;32m-> 1327\u001b[0;31m                                    .format(mask=objarr[mask]))\n\u001b[0m\u001b[1;32m   1328\u001b[0m \u001b[1;33m\u001b[0m\u001b[0m\n\u001b[1;32m   1329\u001b[0m                 \u001b[1;32mreturn\u001b[0m \u001b[0mcom\u001b[0m\u001b[1;33m.\u001b[0m\u001b[0m_values_from_object\u001b[0m\u001b[1;33m(\u001b[0m\u001b[0mindexer\u001b[0m\u001b[1;33m)\u001b[0m\u001b[1;33m\u001b[0m\u001b[0m\n",
      "\u001b[0;31mKeyError\u001b[0m: '[    1     3     5 ... 26772 26773 26774] not in index'"
     ]
    }
   ],
   "source": [
    "#Now let’s make a cross validation logistic model with stratified 5 folds and make predictions for test dataset\n",
    "from sklearn.model_selection import StratifiedKFold\n",
    "i=1\n",
    "kf = StratifiedKFold(n_splits=5,random_state=1,shuffle=True)\n",
    "for train_index,test_index in kf.split(X,y):\n",
    "     print('\\n{} of kfold {}'.format(i,kf.n_splits))\n",
    "     print('train_index',train_index)\n",
    "     print('test_index',test_index)\n",
    "     xtr,xvl = X.loc[train_index],X.loc[test_index]\n",
    "     ytr,yvl = y[train_index],y[test_index]\n",
    "    \n",
    "     model = LogisticRegression(random_state=1)\n",
    "     model.fit(xtr, ytr)\n",
    "     pred_test = model.predict(xvl)\n",
    "     score = accuracy_score(yvl,pred_test)\n",
    "     print('accuracy_score',score)\n",
    "     i+=1\n"
   ]
  },
  {
   "cell_type": "code",
   "execution_count": 147,
   "metadata": {
    "collapsed": false
   },
   "outputs": [
    {
     "ename": "ValueError",
     "evalue": "Found input variables with inconsistent numbers of samples: [6778, 5356]",
     "output_type": "error",
     "traceback": [
      "\u001b[0;31m---------------------------------------------------------------------------\u001b[0m",
      "\u001b[0;31mValueError\u001b[0m                                Traceback (most recent call last)",
      "\u001b[0;32m<ipython-input-147-85db04fdc419>\u001b[0m in \u001b[0;36m<module>\u001b[0;34m()\u001b[0m\n\u001b[1;32m      1\u001b[0m \u001b[1;31m#Let us visualize the roc curve\u001b[0m\u001b[1;33m\u001b[0m\u001b[1;33m\u001b[0m\u001b[0m\n\u001b[1;32m      2\u001b[0m \u001b[1;32mfrom\u001b[0m \u001b[0msklearn\u001b[0m \u001b[1;32mimport\u001b[0m \u001b[0mmetrics\u001b[0m\u001b[1;33m\u001b[0m\u001b[0m\n\u001b[0;32m----> 3\u001b[0;31m \u001b[0mfpr\u001b[0m\u001b[1;33m,\u001b[0m \u001b[0mtpr\u001b[0m\u001b[1;33m,\u001b[0m \u001b[0m_\u001b[0m \u001b[1;33m=\u001b[0m \u001b[0mmetrics\u001b[0m\u001b[1;33m.\u001b[0m\u001b[0mroc_curve\u001b[0m\u001b[1;33m(\u001b[0m\u001b[0myvl\u001b[0m\u001b[1;33m,\u001b[0m\u001b[0mpred\u001b[0m\u001b[1;33m)\u001b[0m\u001b[1;33m\u001b[0m\u001b[0m\n\u001b[0m\u001b[1;32m      4\u001b[0m \u001b[0mauc\u001b[0m \u001b[1;33m=\u001b[0m \u001b[0mmetrics\u001b[0m\u001b[1;33m.\u001b[0m\u001b[0mroc_auc_score\u001b[0m\u001b[1;33m(\u001b[0m\u001b[0myvl\u001b[0m\u001b[1;33m,\u001b[0m \u001b[0mpred\u001b[0m\u001b[1;33m)\u001b[0m\u001b[1;33m\u001b[0m\u001b[0m\n\u001b[1;32m      5\u001b[0m \u001b[0mplt\u001b[0m\u001b[1;33m.\u001b[0m\u001b[0mfigure\u001b[0m\u001b[1;33m(\u001b[0m\u001b[0mfigsize\u001b[0m\u001b[1;33m=\u001b[0m\u001b[1;33m(\u001b[0m\u001b[1;36m12\u001b[0m\u001b[1;33m,\u001b[0m\u001b[1;36m8\u001b[0m\u001b[1;33m)\u001b[0m\u001b[1;33m)\u001b[0m\u001b[1;33m\u001b[0m\u001b[0m\n",
      "\u001b[0;32mC:\\Users\\sandeep.ram\\AppData\\Local\\Continuum\\Anaconda3\\lib\\site-packages\\sklearn\\metrics\\ranking.py\u001b[0m in \u001b[0;36mroc_curve\u001b[0;34m(y_true, y_score, pos_label, sample_weight, drop_intermediate)\u001b[0m\n\u001b[1;32m    532\u001b[0m     \"\"\"\n\u001b[1;32m    533\u001b[0m     fps, tps, thresholds = _binary_clf_curve(\n\u001b[0;32m--> 534\u001b[0;31m         y_true, y_score, pos_label=pos_label, sample_weight=sample_weight)\n\u001b[0m\u001b[1;32m    535\u001b[0m \u001b[1;33m\u001b[0m\u001b[0m\n\u001b[1;32m    536\u001b[0m     \u001b[1;31m# Attempt to drop thresholds corresponding to points in between and\u001b[0m\u001b[1;33m\u001b[0m\u001b[1;33m\u001b[0m\u001b[0m\n",
      "\u001b[0;32mC:\\Users\\sandeep.ram\\AppData\\Local\\Continuum\\Anaconda3\\lib\\site-packages\\sklearn\\metrics\\ranking.py\u001b[0m in \u001b[0;36m_binary_clf_curve\u001b[0;34m(y_true, y_score, pos_label, sample_weight)\u001b[0m\n\u001b[1;32m    318\u001b[0m         \u001b[1;32mraise\u001b[0m \u001b[0mValueError\u001b[0m\u001b[1;33m(\u001b[0m\u001b[1;34m\"{0} format is not supported\"\u001b[0m\u001b[1;33m.\u001b[0m\u001b[0mformat\u001b[0m\u001b[1;33m(\u001b[0m\u001b[0my_type\u001b[0m\u001b[1;33m)\u001b[0m\u001b[1;33m)\u001b[0m\u001b[1;33m\u001b[0m\u001b[0m\n\u001b[1;32m    319\u001b[0m \u001b[1;33m\u001b[0m\u001b[0m\n\u001b[0;32m--> 320\u001b[0;31m     \u001b[0mcheck_consistent_length\u001b[0m\u001b[1;33m(\u001b[0m\u001b[0my_true\u001b[0m\u001b[1;33m,\u001b[0m \u001b[0my_score\u001b[0m\u001b[1;33m,\u001b[0m \u001b[0msample_weight\u001b[0m\u001b[1;33m)\u001b[0m\u001b[1;33m\u001b[0m\u001b[0m\n\u001b[0m\u001b[1;32m    321\u001b[0m     \u001b[0my_true\u001b[0m \u001b[1;33m=\u001b[0m \u001b[0mcolumn_or_1d\u001b[0m\u001b[1;33m(\u001b[0m\u001b[0my_true\u001b[0m\u001b[1;33m)\u001b[0m\u001b[1;33m\u001b[0m\u001b[0m\n\u001b[1;32m    322\u001b[0m     \u001b[0my_score\u001b[0m \u001b[1;33m=\u001b[0m \u001b[0mcolumn_or_1d\u001b[0m\u001b[1;33m(\u001b[0m\u001b[0my_score\u001b[0m\u001b[1;33m)\u001b[0m\u001b[1;33m\u001b[0m\u001b[0m\n",
      "\u001b[0;32mC:\\Users\\sandeep.ram\\AppData\\Local\\Continuum\\Anaconda3\\lib\\site-packages\\sklearn\\utils\\validation.py\u001b[0m in \u001b[0;36mcheck_consistent_length\u001b[0;34m(*arrays)\u001b[0m\n\u001b[1;32m    202\u001b[0m     \u001b[1;32mif\u001b[0m \u001b[0mlen\u001b[0m\u001b[1;33m(\u001b[0m\u001b[0muniques\u001b[0m\u001b[1;33m)\u001b[0m \u001b[1;33m>\u001b[0m \u001b[1;36m1\u001b[0m\u001b[1;33m:\u001b[0m\u001b[1;33m\u001b[0m\u001b[0m\n\u001b[1;32m    203\u001b[0m         raise ValueError(\"Found input variables with inconsistent numbers of\"\n\u001b[0;32m--> 204\u001b[0;31m                          \" samples: %r\" % [int(l) for l in lengths])\n\u001b[0m\u001b[1;32m    205\u001b[0m \u001b[1;33m\u001b[0m\u001b[0m\n\u001b[1;32m    206\u001b[0m \u001b[1;33m\u001b[0m\u001b[0m\n",
      "\u001b[0;31mValueError\u001b[0m: Found input variables with inconsistent numbers of samples: [6778, 5356]"
     ]
    }
   ],
   "source": [
    "#Let us visualize the roc curve\n",
    "from sklearn import metrics\n",
    "fpr, tpr, _ = metrics.roc_curve(yvl,pred)\n",
    "auc = metrics.roc_auc_score(yvl, pred)\n",
    "plt.figure(figsize=(12,8))\n",
    "plt.plot(fpr,tpr,label=\"validation, auc=\"+str(auc))\n",
    "plt.xlabel('False Positive Rate')\n",
    "plt.ylabel('True Positive Rate')\n",
    "plt.legend(loc=4)\n",
    "plt.show()"
   ]
  },
  {
   "cell_type": "code",
   "execution_count": 148,
   "metadata": {
    "collapsed": false
   },
   "outputs": [
    {
     "name": "stderr",
     "output_type": "stream",
     "text": [
      "C:\\Users\\sandeep.ram\\AppData\\Local\\Continuum\\Anaconda3\\lib\\site-packages\\sklearn\\ensemble\\weight_boosting.py:29: DeprecationWarning: numpy.core.umath_tests is an internal NumPy module and should not be imported. It will be removed in a future NumPy release.\n",
      "  from numpy.core.umath_tests import inner1d\n"
     ]
    }
   ],
   "source": [
    "from sklearn.ensemble import RandomForestClassifier"
   ]
  },
  {
   "cell_type": "code",
   "execution_count": 149,
   "metadata": {
    "collapsed": false
   },
   "outputs": [
    {
     "name": "stdout",
     "output_type": "stream",
     "text": [
      "\n",
      "1 of kfold 5\n",
      "accuracy_score 0.8028023598820059\n",
      "\n",
      "2 of kfold 5\n",
      "accuracy_score 0.815929203539823\n",
      "\n",
      "3 of kfold 5\n",
      "accuracy_score 0.8112094395280236\n",
      "\n",
      "4 of kfold 5\n",
      "accuracy_score 0.8154322809088227\n",
      "\n",
      "5 of kfold 5\n",
      "accuracy_score 0.8138093832989083\n"
     ]
    },
    {
     "ename": "NameError",
     "evalue": "name 'test_data' is not defined",
     "output_type": "error",
     "traceback": [
      "\u001b[0;31m---------------------------------------------------------------------------\u001b[0m",
      "\u001b[0;31mNameError\u001b[0m                                 Traceback (most recent call last)",
      "\u001b[0;32m<ipython-input-149-d9f134362635>\u001b[0m in \u001b[0;36m<module>\u001b[0;34m()\u001b[0m\n\u001b[1;32m     12\u001b[0m      \u001b[0mprint\u001b[0m\u001b[1;33m(\u001b[0m\u001b[1;34m'accuracy_score'\u001b[0m\u001b[1;33m,\u001b[0m\u001b[0mscore\u001b[0m\u001b[1;33m)\u001b[0m\u001b[1;33m\u001b[0m\u001b[0m\n\u001b[1;32m     13\u001b[0m      \u001b[0mi\u001b[0m\u001b[1;33m+=\u001b[0m\u001b[1;36m1\u001b[0m\u001b[1;33m\u001b[0m\u001b[0m\n\u001b[0;32m---> 14\u001b[0;31m \u001b[0mpred_test\u001b[0m \u001b[1;33m=\u001b[0m \u001b[0mmodel\u001b[0m\u001b[1;33m.\u001b[0m\u001b[0mpredict\u001b[0m\u001b[1;33m(\u001b[0m\u001b[0mtest_data\u001b[0m\u001b[1;33m)\u001b[0m\u001b[1;33m\u001b[0m\u001b[0m\n\u001b[0m",
      "\u001b[0;31mNameError\u001b[0m: name 'test_data' is not defined"
     ]
    }
   ],
   "source": [
    "from sklearn.ensemble import RandomForestClassifier\n",
    "i=1\n",
    "kf = StratifiedKFold(n_splits=5,random_state=1,shuffle=True)\n",
    "for train_index,test_index in kf.split(X,y):\n",
    "     print('\\n{} of kfold {}'.format(i,kf.n_splits))\n",
    "     xtr,xvl = X.loc[train_index],X.loc[test_index]\n",
    "     ytr,yvl = y[train_index],y[test_index]\n",
    "    \n",
    "     model = RandomForestClassifier(random_state=1, max_depth=10)\n",
    "     model.fit(xtr, ytr)\n",
    "     pred_test = model.predict(xvl)\n",
    "     score = accuracy_score(yvl,pred_test)\n",
    "     print('accuracy_score',score)\n",
    "     i+=1\n",
    "#pred_test = model.predict(test_data)"
   ]
  },
  {
   "cell_type": "code",
   "execution_count": null,
   "metadata": {
    "collapsed": true
   },
   "outputs": [],
   "source": [
    "from xgboost import XGBClassifier"
   ]
  },
  {
   "cell_type": "code",
   "execution_count": null,
   "metadata": {
    "collapsed": true
   },
   "outputs": [],
   "source": [
    "i=1\n",
    "kf = StratifiedKFold(n_splits=5,random_state=1,shuffle=True)\n",
    "for train_index,test_index in kf.split(X,y):\n",
    "     print('\\n{} of kfold {}'.format(i,kf.n_splits))\n",
    "     xtr,xvl = X.loc[train_index],X.loc[test_index]\n",
    "     ytr,yvl = y[train_index],y[test_index]\n",
    "    \n",
    "     model = XGBClassifier(n_estimators=50, max_depth=4)\n",
    "     model.fit(xtr, ytr)\n",
    "     pred_test = model.predict(xvl)\n",
    "     score = accuracy_score(yvl,pred_test)\n",
    "     print('accuracy_score',score)\n",
    "     i+=1"
   ]
  },
  {
   "cell_type": "code",
   "execution_count": null,
   "metadata": {
    "collapsed": true
   },
   "outputs": [],
   "source": []
  },
  {
   "cell_type": "markdown",
   "metadata": {},
   "source": [
    "###### 2.1 Data Exploratory Analysis, 2nd Iteration\n",
    "    - Bivariate Analysis - Numeric(TTest/ANOVA) and Categorical(Chisquare)"
   ]
  },
  {
   "cell_type": "code",
   "execution_count": 250,
   "metadata": {
    "collapsed": false
   },
   "outputs": [
    {
     "name": "stdout",
     "output_type": "stream",
     "text": [
      "       Variable Name T-Statistic      P-Value\n",
      "0                 V3   -0.545695      0.58528\n",
      "1                 V4     1.05056     0.293472\n",
      "2                 V6   -0.551765     0.581114\n",
      "3                 V7    -1.98608    0.0470344\n",
      "4                 V8   -0.413269     0.679413\n",
      "5                V10     1.86779    0.0618023\n",
      "6                V11    0.460656     0.645049\n",
      "7                V16   -0.720142     0.471444\n",
      "8                V37    -2.37213    0.0176927\n",
      "9                V41   -0.394037     0.693556\n",
      "10               V43     3.58904  0.000332487\n",
      "11               V46     -2.3475    0.0189071\n",
      "12           V19_Bin    -3.81705  0.000135358\n",
      "13           V20_Bin     8.82681  1.14139e-18\n",
      "14           V21_Bin   -0.683992     0.493986\n",
      "15           V22_Bin    -1.20361     0.228749\n",
      "16           V23_Bin   -0.584644     0.558792\n",
      "17           V25_Bin   -0.263637     0.792061\n",
      "18           V26_Bin    -2.59132   0.00956595\n",
      "19           V27_Bin    -2.20325    0.0275856\n",
      "20           V28_Bin    0.262233     0.793144\n",
      "21           V29_Bin    -1.69327    0.0904155\n",
      "22           V31_Bin    -2.97922   0.00289244\n",
      "23           V38_Bin    -1.54198     0.123091\n",
      "24           V39_Bin   -0.527432     0.597898\n",
      "25           V40_Bin    -3.55165  0.000383481\n",
      "26           V50_Bin    -3.41148  0.000647075\n",
      "27           V51_Bin    -2.15886    0.0308702\n",
      "28           V52_Bin     -1.9747     0.048312\n",
      "29           V53_Bin    -2.19143    0.0284292\n",
      "30        AvgMTxnCnt   -0.851246      0.39464\n",
      "31  AvgMonBalanceAmt    0.757254     0.448904\n",
      "32          bad_flag         inf            0\n"
     ]
    }
   ],
   "source": [
    "## Numerical Variable - T-test\n",
    "tstats_df = pd.DataFrame()\n",
    "for num_variable in train_data_final_num:\n",
    "    tstats = stats.ttest_ind(train_data_final[train_data_final['bad_flag']==1][num_variable],train_data_final[train_data_final['bad_flag']==0][num_variable])\n",
    "    temp = pd.DataFrame([num_variable, tstats[0], tstats[1]]).T\n",
    "    temp.columns = ['Variable Name', 'T-Statistic', 'P-Value']\n",
    "    tstats_df = pd.concat([tstats_df, temp], axis=0, ignore_index=True)\n",
    "\n",
    "print(tstats_df)"
   ]
  },
  {
   "cell_type": "code",
   "execution_count": 251,
   "metadata": {
    "collapsed": false
   },
   "outputs": [],
   "source": [
    "#keep only v19,v20,v26,v27,v31,v32,v40,v43\n",
    "train_data_final_orginal=train_data_final\n",
    "train_data_final_model=train_data_final\n",
    "train_data_final_model=train_data_final_model[['V7','V37','V43','V46','V19_Bin','V20_Bin','V26_Bin','V27_Bin','V31_Bin','V40_Bin','V50_Bin','V51_Bin','V52_Bin','V53_Bin','bad_flag']]\n"
   ]
  },
  {
   "cell_type": "markdown",
   "metadata": {},
   "source": [
    "###### 2.4 Data Exploratory Analysis\n",
    "    - Variable Transformation: (i) Bucketing"
   ]
  },
  {
   "cell_type": "code",
   "execution_count": 252,
   "metadata": {
    "collapsed": false
   },
   "outputs": [
    {
     "data": {
      "text/html": [
       "<div>\n",
       "<style scoped>\n",
       "    .dataframe tbody tr th:only-of-type {\n",
       "        vertical-align: middle;\n",
       "    }\n",
       "\n",
       "    .dataframe tbody tr th {\n",
       "        vertical-align: top;\n",
       "    }\n",
       "\n",
       "    .dataframe thead th {\n",
       "        text-align: right;\n",
       "    }\n",
       "</style>\n",
       "<table border=\"1\" class=\"dataframe\">\n",
       "  <thead>\n",
       "    <tr style=\"text-align: right;\">\n",
       "      <th></th>\n",
       "      <th>V7</th>\n",
       "      <th>V37</th>\n",
       "      <th>V43</th>\n",
       "      <th>V46</th>\n",
       "      <th>V19_Bin</th>\n",
       "      <th>V20_Bin</th>\n",
       "      <th>V26_Bin</th>\n",
       "      <th>V27_Bin</th>\n",
       "      <th>V31_Bin</th>\n",
       "      <th>V40_Bin</th>\n",
       "      <th>V50_Bin</th>\n",
       "      <th>V51_Bin</th>\n",
       "      <th>V52_Bin</th>\n",
       "      <th>V53_Bin</th>\n",
       "      <th>bad_flag</th>\n",
       "    </tr>\n",
       "  </thead>\n",
       "  <tbody>\n",
       "    <tr>\n",
       "      <th>0</th>\n",
       "      <td>14641.803902</td>\n",
       "      <td>87170.000000</td>\n",
       "      <td>7.473579</td>\n",
       "      <td>5.040550</td>\n",
       "      <td>1</td>\n",
       "      <td>0</td>\n",
       "      <td>0</td>\n",
       "      <td>0</td>\n",
       "      <td>0</td>\n",
       "      <td>0</td>\n",
       "      <td>1</td>\n",
       "      <td>1</td>\n",
       "      <td>0</td>\n",
       "      <td>1</td>\n",
       "      <td>0</td>\n",
       "    </tr>\n",
       "    <tr>\n",
       "      <th>1</th>\n",
       "      <td>14641.803902</td>\n",
       "      <td>343141.868693</td>\n",
       "      <td>0.281470</td>\n",
       "      <td>5.654328</td>\n",
       "      <td>0</td>\n",
       "      <td>0</td>\n",
       "      <td>0</td>\n",
       "      <td>0</td>\n",
       "      <td>0</td>\n",
       "      <td>0</td>\n",
       "      <td>0</td>\n",
       "      <td>0</td>\n",
       "      <td>0</td>\n",
       "      <td>0</td>\n",
       "      <td>0</td>\n",
       "    </tr>\n",
       "    <tr>\n",
       "      <th>2</th>\n",
       "      <td>13838.000000</td>\n",
       "      <td>343141.868693</td>\n",
       "      <td>0.089600</td>\n",
       "      <td>5.654328</td>\n",
       "      <td>1</td>\n",
       "      <td>1</td>\n",
       "      <td>0</td>\n",
       "      <td>0</td>\n",
       "      <td>0</td>\n",
       "      <td>0</td>\n",
       "      <td>1</td>\n",
       "      <td>1</td>\n",
       "      <td>1</td>\n",
       "      <td>0</td>\n",
       "      <td>0</td>\n",
       "    </tr>\n",
       "    <tr>\n",
       "      <th>3</th>\n",
       "      <td>14641.803902</td>\n",
       "      <td>343141.868693</td>\n",
       "      <td>0.156780</td>\n",
       "      <td>5.654328</td>\n",
       "      <td>0</td>\n",
       "      <td>0</td>\n",
       "      <td>0</td>\n",
       "      <td>0</td>\n",
       "      <td>0</td>\n",
       "      <td>0</td>\n",
       "      <td>0</td>\n",
       "      <td>0</td>\n",
       "      <td>0</td>\n",
       "      <td>0</td>\n",
       "      <td>0</td>\n",
       "    </tr>\n",
       "    <tr>\n",
       "      <th>4</th>\n",
       "      <td>14641.803902</td>\n",
       "      <td>60.900000</td>\n",
       "      <td>0.038360</td>\n",
       "      <td>0.004700</td>\n",
       "      <td>0</td>\n",
       "      <td>1</td>\n",
       "      <td>0</td>\n",
       "      <td>0</td>\n",
       "      <td>0</td>\n",
       "      <td>0</td>\n",
       "      <td>0</td>\n",
       "      <td>0</td>\n",
       "      <td>0</td>\n",
       "      <td>0</td>\n",
       "      <td>0</td>\n",
       "    </tr>\n",
       "  </tbody>\n",
       "</table>\n",
       "</div>"
      ],
      "text/plain": [
       "             V7            V37       V43       V46  V19_Bin  V20_Bin  V26_Bin  \\\n",
       "0  14641.803902   87170.000000  7.473579  5.040550        1        0        0   \n",
       "1  14641.803902  343141.868693  0.281470  5.654328        0        0        0   \n",
       "2  13838.000000  343141.868693  0.089600  5.654328        1        1        0   \n",
       "3  14641.803902  343141.868693  0.156780  5.654328        0        0        0   \n",
       "4  14641.803902      60.900000  0.038360  0.004700        0        1        0   \n",
       "\n",
       "   V27_Bin  V31_Bin  V40_Bin  V50_Bin  V51_Bin  V52_Bin  V53_Bin  bad_flag  \n",
       "0        0        0        0        1        1        0        1         0  \n",
       "1        0        0        0        0        0        0        0         0  \n",
       "2        0        0        0        1        1        1        0         0  \n",
       "3        0        0        0        0        0        0        0         0  \n",
       "4        0        0        0        0        0        0        0         0  "
      ]
     },
     "execution_count": 252,
     "metadata": {},
     "output_type": "execute_result"
    }
   ],
   "source": [
    "train_data_final_model.head()"
   ]
  },
  {
   "cell_type": "code",
   "execution_count": 253,
   "metadata": {
    "collapsed": false
   },
   "outputs": [
    {
     "data": {
      "text/html": [
       "<div>\n",
       "<style scoped>\n",
       "    .dataframe tbody tr th:only-of-type {\n",
       "        vertical-align: middle;\n",
       "    }\n",
       "\n",
       "    .dataframe tbody tr th {\n",
       "        vertical-align: top;\n",
       "    }\n",
       "\n",
       "    .dataframe thead th {\n",
       "        text-align: right;\n",
       "    }\n",
       "</style>\n",
       "<table border=\"1\" class=\"dataframe\">\n",
       "  <thead>\n",
       "    <tr style=\"text-align: right;\">\n",
       "      <th></th>\n",
       "      <th>V7</th>\n",
       "      <th>V37</th>\n",
       "      <th>V43</th>\n",
       "      <th>V46</th>\n",
       "      <th>V19_Bin</th>\n",
       "      <th>V20_Bin</th>\n",
       "      <th>V26_Bin</th>\n",
       "      <th>V27_Bin</th>\n",
       "      <th>V31_Bin</th>\n",
       "      <th>V40_Bin</th>\n",
       "      <th>V50_Bin</th>\n",
       "      <th>V51_Bin</th>\n",
       "      <th>V52_Bin</th>\n",
       "      <th>V53_Bin</th>\n",
       "    </tr>\n",
       "  </thead>\n",
       "  <tbody>\n",
       "    <tr>\n",
       "      <th>0</th>\n",
       "      <td>14641.803902</td>\n",
       "      <td>87170.000000</td>\n",
       "      <td>7.473579</td>\n",
       "      <td>5.040550</td>\n",
       "      <td>1</td>\n",
       "      <td>0</td>\n",
       "      <td>0</td>\n",
       "      <td>0</td>\n",
       "      <td>0</td>\n",
       "      <td>0</td>\n",
       "      <td>1</td>\n",
       "      <td>1</td>\n",
       "      <td>0</td>\n",
       "      <td>1</td>\n",
       "    </tr>\n",
       "    <tr>\n",
       "      <th>1</th>\n",
       "      <td>14641.803902</td>\n",
       "      <td>343141.868693</td>\n",
       "      <td>0.281470</td>\n",
       "      <td>5.654328</td>\n",
       "      <td>0</td>\n",
       "      <td>0</td>\n",
       "      <td>0</td>\n",
       "      <td>0</td>\n",
       "      <td>0</td>\n",
       "      <td>0</td>\n",
       "      <td>0</td>\n",
       "      <td>0</td>\n",
       "      <td>0</td>\n",
       "      <td>0</td>\n",
       "    </tr>\n",
       "    <tr>\n",
       "      <th>2</th>\n",
       "      <td>13838.000000</td>\n",
       "      <td>343141.868693</td>\n",
       "      <td>0.089600</td>\n",
       "      <td>5.654328</td>\n",
       "      <td>1</td>\n",
       "      <td>1</td>\n",
       "      <td>0</td>\n",
       "      <td>0</td>\n",
       "      <td>0</td>\n",
       "      <td>0</td>\n",
       "      <td>1</td>\n",
       "      <td>1</td>\n",
       "      <td>1</td>\n",
       "      <td>0</td>\n",
       "    </tr>\n",
       "    <tr>\n",
       "      <th>3</th>\n",
       "      <td>14641.803902</td>\n",
       "      <td>343141.868693</td>\n",
       "      <td>0.156780</td>\n",
       "      <td>5.654328</td>\n",
       "      <td>0</td>\n",
       "      <td>0</td>\n",
       "      <td>0</td>\n",
       "      <td>0</td>\n",
       "      <td>0</td>\n",
       "      <td>0</td>\n",
       "      <td>0</td>\n",
       "      <td>0</td>\n",
       "      <td>0</td>\n",
       "      <td>0</td>\n",
       "    </tr>\n",
       "    <tr>\n",
       "      <th>4</th>\n",
       "      <td>14641.803902</td>\n",
       "      <td>60.900000</td>\n",
       "      <td>0.038360</td>\n",
       "      <td>0.004700</td>\n",
       "      <td>0</td>\n",
       "      <td>1</td>\n",
       "      <td>0</td>\n",
       "      <td>0</td>\n",
       "      <td>0</td>\n",
       "      <td>0</td>\n",
       "      <td>0</td>\n",
       "      <td>0</td>\n",
       "      <td>0</td>\n",
       "      <td>0</td>\n",
       "    </tr>\n",
       "  </tbody>\n",
       "</table>\n",
       "</div>"
      ],
      "text/plain": [
       "             V7            V37       V43       V46  V19_Bin  V20_Bin  V26_Bin  \\\n",
       "0  14641.803902   87170.000000  7.473579  5.040550        1        0        0   \n",
       "1  14641.803902  343141.868693  0.281470  5.654328        0        0        0   \n",
       "2  13838.000000  343141.868693  0.089600  5.654328        1        1        0   \n",
       "3  14641.803902  343141.868693  0.156780  5.654328        0        0        0   \n",
       "4  14641.803902      60.900000  0.038360  0.004700        0        1        0   \n",
       "\n",
       "   V27_Bin  V31_Bin  V40_Bin  V50_Bin  V51_Bin  V52_Bin  V53_Bin  \n",
       "0        0        0        0        1        1        0        1  \n",
       "1        0        0        0        0        0        0        0  \n",
       "2        0        0        0        1        1        1        0  \n",
       "3        0        0        0        0        0        0        0  \n",
       "4        0        0        0        0        0        0        0  "
      ]
     },
     "execution_count": 253,
     "metadata": {},
     "output_type": "execute_result"
    }
   ],
   "source": [
    "X=train_data_final_model.drop(['bad_flag'],axis=1)\n",
    "X.head()"
   ]
  },
  {
   "cell_type": "code",
   "execution_count": 254,
   "metadata": {
    "collapsed": false
   },
   "outputs": [
    {
     "data": {
      "text/html": [
       "<div>\n",
       "<style scoped>\n",
       "    .dataframe tbody tr th:only-of-type {\n",
       "        vertical-align: middle;\n",
       "    }\n",
       "\n",
       "    .dataframe tbody tr th {\n",
       "        vertical-align: top;\n",
       "    }\n",
       "\n",
       "    .dataframe thead th {\n",
       "        text-align: right;\n",
       "    }\n",
       "</style>\n",
       "<table border=\"1\" class=\"dataframe\">\n",
       "  <thead>\n",
       "    <tr style=\"text-align: right;\">\n",
       "      <th></th>\n",
       "      <th>bad_flag</th>\n",
       "    </tr>\n",
       "  </thead>\n",
       "  <tbody>\n",
       "    <tr>\n",
       "      <th>0</th>\n",
       "      <td>0</td>\n",
       "    </tr>\n",
       "    <tr>\n",
       "      <th>1</th>\n",
       "      <td>0</td>\n",
       "    </tr>\n",
       "    <tr>\n",
       "      <th>2</th>\n",
       "      <td>0</td>\n",
       "    </tr>\n",
       "    <tr>\n",
       "      <th>3</th>\n",
       "      <td>0</td>\n",
       "    </tr>\n",
       "    <tr>\n",
       "      <th>4</th>\n",
       "      <td>0</td>\n",
       "    </tr>\n",
       "  </tbody>\n",
       "</table>\n",
       "</div>"
      ],
      "text/plain": [
       "   bad_flag\n",
       "0         0\n",
       "1         0\n",
       "2         0\n",
       "3         0\n",
       "4         0"
      ]
     },
     "execution_count": 254,
     "metadata": {},
     "output_type": "execute_result"
    }
   ],
   "source": [
    "y=train_data_final_model.loc[:,train_data_final_model.columns=='bad_flag']\n",
    "y.head()"
   ]
  },
  {
   "cell_type": "code",
   "execution_count": null,
   "metadata": {
    "collapsed": true
   },
   "outputs": [],
   "source": []
  },
  {
   "cell_type": "code",
   "execution_count": 255,
   "metadata": {
    "collapsed": true
   },
   "outputs": [],
   "source": [
    "#We will use the train_test_split function from sklearn to divide our train dataset. So, first let us import train_test_split.\n",
    "from sklearn.model_selection import train_test_split\n",
    "x_train,x_cv,y_train,y_cv=train_test_split(X,y,test_size=0.3)"
   ]
  },
  {
   "cell_type": "code",
   "execution_count": 256,
   "metadata": {
    "collapsed": false
   },
   "outputs": [
    {
     "data": {
      "text/html": [
       "<div>\n",
       "<style scoped>\n",
       "    .dataframe tbody tr th:only-of-type {\n",
       "        vertical-align: middle;\n",
       "    }\n",
       "\n",
       "    .dataframe tbody tr th {\n",
       "        vertical-align: top;\n",
       "    }\n",
       "\n",
       "    .dataframe thead th {\n",
       "        text-align: right;\n",
       "    }\n",
       "</style>\n",
       "<table border=\"1\" class=\"dataframe\">\n",
       "  <thead>\n",
       "    <tr style=\"text-align: right;\">\n",
       "      <th></th>\n",
       "      <th>V7</th>\n",
       "      <th>V37</th>\n",
       "      <th>V43</th>\n",
       "      <th>V46</th>\n",
       "      <th>V19_Bin</th>\n",
       "      <th>V20_Bin</th>\n",
       "      <th>V26_Bin</th>\n",
       "      <th>V27_Bin</th>\n",
       "      <th>V31_Bin</th>\n",
       "      <th>V40_Bin</th>\n",
       "      <th>V50_Bin</th>\n",
       "      <th>V51_Bin</th>\n",
       "      <th>V52_Bin</th>\n",
       "      <th>V53_Bin</th>\n",
       "    </tr>\n",
       "  </thead>\n",
       "  <tbody>\n",
       "    <tr>\n",
       "      <th>24425</th>\n",
       "      <td>14641.803902</td>\n",
       "      <td>343141.868693</td>\n",
       "      <td>2.475460</td>\n",
       "      <td>5.654328</td>\n",
       "      <td>0</td>\n",
       "      <td>0</td>\n",
       "      <td>0</td>\n",
       "      <td>0</td>\n",
       "      <td>0</td>\n",
       "      <td>0</td>\n",
       "      <td>0</td>\n",
       "      <td>0</td>\n",
       "      <td>0</td>\n",
       "      <td>0</td>\n",
       "    </tr>\n",
       "    <tr>\n",
       "      <th>26132</th>\n",
       "      <td>14641.803902</td>\n",
       "      <td>343141.868693</td>\n",
       "      <td>0.001850</td>\n",
       "      <td>5.654328</td>\n",
       "      <td>1</td>\n",
       "      <td>1</td>\n",
       "      <td>0</td>\n",
       "      <td>0</td>\n",
       "      <td>0</td>\n",
       "      <td>0</td>\n",
       "      <td>0</td>\n",
       "      <td>0</td>\n",
       "      <td>0</td>\n",
       "      <td>0</td>\n",
       "    </tr>\n",
       "    <tr>\n",
       "      <th>25199</th>\n",
       "      <td>14641.803902</td>\n",
       "      <td>343141.868693</td>\n",
       "      <td>7.473579</td>\n",
       "      <td>5.654328</td>\n",
       "      <td>0</td>\n",
       "      <td>0</td>\n",
       "      <td>0</td>\n",
       "      <td>0</td>\n",
       "      <td>0</td>\n",
       "      <td>0</td>\n",
       "      <td>0</td>\n",
       "      <td>0</td>\n",
       "      <td>0</td>\n",
       "      <td>0</td>\n",
       "    </tr>\n",
       "    <tr>\n",
       "      <th>7701</th>\n",
       "      <td>14641.803902</td>\n",
       "      <td>343141.868693</td>\n",
       "      <td>0.014100</td>\n",
       "      <td>5.654328</td>\n",
       "      <td>1</td>\n",
       "      <td>1</td>\n",
       "      <td>0</td>\n",
       "      <td>0</td>\n",
       "      <td>0</td>\n",
       "      <td>0</td>\n",
       "      <td>1</td>\n",
       "      <td>0</td>\n",
       "      <td>0</td>\n",
       "      <td>1</td>\n",
       "    </tr>\n",
       "    <tr>\n",
       "      <th>3981</th>\n",
       "      <td>14641.803902</td>\n",
       "      <td>343141.868693</td>\n",
       "      <td>0.021550</td>\n",
       "      <td>5.654328</td>\n",
       "      <td>0</td>\n",
       "      <td>1</td>\n",
       "      <td>0</td>\n",
       "      <td>0</td>\n",
       "      <td>0</td>\n",
       "      <td>0</td>\n",
       "      <td>0</td>\n",
       "      <td>0</td>\n",
       "      <td>0</td>\n",
       "      <td>0</td>\n",
       "    </tr>\n",
       "  </tbody>\n",
       "</table>\n",
       "</div>"
      ],
      "text/plain": [
       "                 V7            V37       V43       V46  V19_Bin  V20_Bin  \\\n",
       "24425  14641.803902  343141.868693  2.475460  5.654328        0        0   \n",
       "26132  14641.803902  343141.868693  0.001850  5.654328        1        1   \n",
       "25199  14641.803902  343141.868693  7.473579  5.654328        0        0   \n",
       "7701   14641.803902  343141.868693  0.014100  5.654328        1        1   \n",
       "3981   14641.803902  343141.868693  0.021550  5.654328        0        1   \n",
       "\n",
       "       V26_Bin  V27_Bin  V31_Bin  V40_Bin  V50_Bin  V51_Bin  V52_Bin  V53_Bin  \n",
       "24425        0        0        0        0        0        0        0        0  \n",
       "26132        0        0        0        0        0        0        0        0  \n",
       "25199        0        0        0        0        0        0        0        0  \n",
       "7701         0        0        0        0        1        0        0        1  \n",
       "3981         0        0        0        0        0        0        0        0  "
      ]
     },
     "execution_count": 256,
     "metadata": {},
     "output_type": "execute_result"
    }
   ],
   "source": [
    "#The dataset has been divided into training and validation part. Let us import LogisticRegression and accuracy_score from sklearn and fit the logistic regression model.\n",
    "x_cv.head()\n"
   ]
  },
  {
   "cell_type": "code",
   "execution_count": 528,
   "metadata": {
    "collapsed": false
   },
   "outputs": [
    {
     "data": {
      "text/plain": [
       "V19    18742\n",
       "V20    18742\n",
       "V26    18742\n",
       "V27    18742\n",
       "V31    18742\n",
       "V32    18742\n",
       "V40    18742\n",
       "V43    18742\n",
       "dtype: int64"
      ]
     },
     "execution_count": 528,
     "metadata": {},
     "output_type": "execute_result"
    }
   ],
   "source": [
    "x_train.count()"
   ]
  },
  {
   "cell_type": "code",
   "execution_count": 529,
   "metadata": {
    "collapsed": false
   },
   "outputs": [
    {
     "data": {
      "text/html": [
       "<div>\n",
       "<style scoped>\n",
       "    .dataframe tbody tr th:only-of-type {\n",
       "        vertical-align: middle;\n",
       "    }\n",
       "\n",
       "    .dataframe tbody tr th {\n",
       "        vertical-align: top;\n",
       "    }\n",
       "\n",
       "    .dataframe thead th {\n",
       "        text-align: right;\n",
       "    }\n",
       "</style>\n",
       "<table border=\"1\" class=\"dataframe\">\n",
       "  <thead>\n",
       "    <tr style=\"text-align: right;\">\n",
       "      <th></th>\n",
       "      <th>bad_flag</th>\n",
       "    </tr>\n",
       "  </thead>\n",
       "  <tbody>\n",
       "    <tr>\n",
       "      <th>count</th>\n",
       "      <td>18742.000000</td>\n",
       "    </tr>\n",
       "    <tr>\n",
       "      <th>mean</th>\n",
       "      <td>0.096414</td>\n",
       "    </tr>\n",
       "    <tr>\n",
       "      <th>std</th>\n",
       "      <td>0.295167</td>\n",
       "    </tr>\n",
       "    <tr>\n",
       "      <th>min</th>\n",
       "      <td>0.000000</td>\n",
       "    </tr>\n",
       "    <tr>\n",
       "      <th>25%</th>\n",
       "      <td>0.000000</td>\n",
       "    </tr>\n",
       "    <tr>\n",
       "      <th>50%</th>\n",
       "      <td>0.000000</td>\n",
       "    </tr>\n",
       "    <tr>\n",
       "      <th>75%</th>\n",
       "      <td>0.000000</td>\n",
       "    </tr>\n",
       "    <tr>\n",
       "      <th>max</th>\n",
       "      <td>1.000000</td>\n",
       "    </tr>\n",
       "  </tbody>\n",
       "</table>\n",
       "</div>"
      ],
      "text/plain": [
       "           bad_flag\n",
       "count  18742.000000\n",
       "mean       0.096414\n",
       "std        0.295167\n",
       "min        0.000000\n",
       "25%        0.000000\n",
       "50%        0.000000\n",
       "75%        0.000000\n",
       "max        1.000000"
      ]
     },
     "execution_count": 529,
     "metadata": {},
     "output_type": "execute_result"
    }
   ],
   "source": [
    "y_train.describe()"
   ]
  },
  {
   "cell_type": "code",
   "execution_count": 265,
   "metadata": {
    "collapsed": false
   },
   "outputs": [
    {
     "name": "stderr",
     "output_type": "stream",
     "text": [
      "C:\\Users\\sandeep.ram\\AppData\\Local\\Continuum\\Anaconda3\\lib\\site-packages\\sklearn\\linear_model\\logistic.py:432: FutureWarning: Default solver will be changed to 'lbfgs' in 0.22. Specify a solver to silence this warning.\n",
      "  if multi_class not in ['multinomial', 'ovr']:\n",
      "C:\\Users\\sandeep.ram\\AppData\\Local\\Continuum\\Anaconda3\\lib\\site-packages\\sklearn\\utils\\validation.py:752: DataConversionWarning: A column-vector y was passed when a 1d array was expected. Please change the shape of y to (n_samples, ), for example using ravel().\n",
      "  Raises\n"
     ]
    },
    {
     "data": {
      "text/plain": [
       "LogisticRegression(C=1.0, class_weight=None, dual=False, fit_intercept=True,\n",
       "          intercept_scaling=1, max_iter=100, multi_class='warn',\n",
       "          n_jobs=None, penalty='l2', random_state=None, solver='warn',\n",
       "          tol=0.0001, verbose=0, warm_start=False)"
      ]
     },
     "execution_count": 265,
     "metadata": {},
     "output_type": "execute_result"
    }
   ],
   "source": [
    "from sklearn.linear_model import LogisticRegression\n",
    "from sklearn import metrics\n",
    "X_train, X_test, y_train, y_test = train_test_split(X, y, test_size=0.3, random_state=0)\n",
    "logreg = LogisticRegression()\n",
    "logreg.fit(X_train, y_train)"
   ]
  },
  {
   "cell_type": "code",
   "execution_count": 266,
   "metadata": {
    "collapsed": false
   },
   "outputs": [
    {
     "name": "stdout",
     "output_type": "stream",
     "text": [
      "Accuracy of logistic regression classifier on test set: 0.91\n"
     ]
    }
   ],
   "source": [
    "#predict test results\n",
    "y_pred = logreg.predict(X_test)\n",
    "print('Accuracy of logistic regression classifier on test set: {:.2f}'.format(logreg.score(X_test, y_test)))"
   ]
  },
  {
   "cell_type": "code",
   "execution_count": 257,
   "metadata": {
    "collapsed": true
   },
   "outputs": [],
   "source": [
    "from sklearn.linear_model import LogisticRegression\n",
    "from sklearn.metrics import accuracy_score"
   ]
  },
  {
   "cell_type": "code",
   "execution_count": 258,
   "metadata": {
    "collapsed": true
   },
   "outputs": [],
   "source": [
    "model=LogisticRegression()"
   ]
  },
  {
   "cell_type": "code",
   "execution_count": 264,
   "metadata": {
    "collapsed": true
   },
   "outputs": [],
   "source": [
    "model.fit=(x_train,y_train)"
   ]
  },
  {
   "cell_type": "code",
   "execution_count": 260,
   "metadata": {
    "collapsed": false
   },
   "outputs": [
    {
     "data": {
      "text/plain": [
       "0"
      ]
     },
     "execution_count": 260,
     "metadata": {},
     "output_type": "execute_result"
    }
   ],
   "source": [
    "x_train.isnull().sum().sum()"
   ]
  },
  {
   "cell_type": "code",
   "execution_count": 261,
   "metadata": {
    "collapsed": false
   },
   "outputs": [
    {
     "data": {
      "text/plain": [
       "<bound method LinearClassifierMixin.decision_function of LogisticRegression(C=1.0, class_weight=None, dual=False, fit_intercept=True,\n",
       "          intercept_scaling=1, max_iter=100, multi_class='warn',\n",
       "          n_jobs=None, penalty='l2', random_state=None, solver='warn',\n",
       "          tol=0.0001, verbose=0, warm_start=False)>"
      ]
     },
     "execution_count": 261,
     "metadata": {},
     "output_type": "execute_result"
    }
   ],
   "source": [
    "model.decision_function"
   ]
  },
  {
   "cell_type": "code",
   "execution_count": 262,
   "metadata": {
    "collapsed": false
   },
   "outputs": [
    {
     "data": {
      "text/plain": [
       "<bound method LogisticRegression.predict_proba of LogisticRegression(C=1.0, class_weight=None, dual=False, fit_intercept=True,\n",
       "          intercept_scaling=1, max_iter=100, multi_class='warn',\n",
       "          n_jobs=None, penalty='l2', random_state=None, solver='warn',\n",
       "          tol=0.0001, verbose=0, warm_start=False)>"
      ]
     },
     "execution_count": 262,
     "metadata": {},
     "output_type": "execute_result"
    }
   ],
   "source": [
    "model.predict"
   ]
  },
  {
   "cell_type": "code",
   "execution_count": 263,
   "metadata": {
    "collapsed": false
   },
   "outputs": [
    {
     "ename": "NotFittedError",
     "evalue": "Call fit before prediction",
     "output_type": "error",
     "traceback": [
      "\u001b[0;31m---------------------------------------------------------------------------\u001b[0m",
      "\u001b[0;31mNotFittedError\u001b[0m                            Traceback (most recent call last)",
      "\u001b[0;32m<ipython-input-263-5cf6a4d088d7>\u001b[0m in \u001b[0;36m<module>\u001b[0;34m()\u001b[0m\n\u001b[1;32m      1\u001b[0m \u001b[1;31m#Let’s predict the bad_flag_Status for validation set and calculate its accuracy.\u001b[0m\u001b[1;33m\u001b[0m\u001b[1;33m\u001b[0m\u001b[0m\n\u001b[0;32m----> 2\u001b[0;31m \u001b[0mpred_cv\u001b[0m\u001b[1;33m=\u001b[0m\u001b[0mmodel\u001b[0m\u001b[1;33m.\u001b[0m\u001b[0mpredict_proba\u001b[0m\u001b[1;33m(\u001b[0m\u001b[0mx_cv\u001b[0m\u001b[1;33m)\u001b[0m\u001b[1;33m\u001b[0m\u001b[0m\n\u001b[0m",
      "\u001b[0;32mC:\\Users\\sandeep.ram\\AppData\\Local\\Continuum\\Anaconda3\\lib\\site-packages\\sklearn\\linear_model\\logistic.py\u001b[0m in \u001b[0;36mpredict_proba\u001b[0;34m(self, X)\u001b[0m\n\u001b[1;32m   1399\u001b[0m     \u001b[0mcv\u001b[0m \u001b[1;33m:\u001b[0m \u001b[0minteger\u001b[0m \u001b[1;32mor\u001b[0m \u001b[0mcross\u001b[0m\u001b[1;33m-\u001b[0m\u001b[0mvalidation\u001b[0m \u001b[0mgenerator\u001b[0m\u001b[1;33m\u001b[0m\u001b[0m\n\u001b[1;32m   1400\u001b[0m         \u001b[0mThe\u001b[0m \u001b[0mdefault\u001b[0m \u001b[0mcross\u001b[0m\u001b[1;33m-\u001b[0m\u001b[0mvalidation\u001b[0m \u001b[0mgenerator\u001b[0m \u001b[0mused\u001b[0m \u001b[1;32mis\u001b[0m \u001b[0mStratified\u001b[0m \u001b[0mK\u001b[0m\u001b[1;33m-\u001b[0m\u001b[0mFolds\u001b[0m\u001b[1;33m.\u001b[0m\u001b[1;33m\u001b[0m\u001b[0m\n\u001b[0;32m-> 1401\u001b[0;31m         \u001b[0mIf\u001b[0m \u001b[0man\u001b[0m \u001b[0minteger\u001b[0m \u001b[1;32mis\u001b[0m \u001b[0mprovided\u001b[0m\u001b[1;33m,\u001b[0m \u001b[0mthen\u001b[0m \u001b[0mit\u001b[0m \u001b[1;32mis\u001b[0m \u001b[0mthe\u001b[0m \u001b[0mnumber\u001b[0m \u001b[0mof\u001b[0m \u001b[0mfolds\u001b[0m \u001b[0mused\u001b[0m\u001b[1;33m.\u001b[0m\u001b[1;33m\u001b[0m\u001b[0m\n\u001b[0m\u001b[1;32m   1402\u001b[0m         \u001b[0mSee\u001b[0m \u001b[0mthe\u001b[0m \u001b[0mmodule\u001b[0m \u001b[1;33m:\u001b[0m\u001b[0mmod\u001b[0m\u001b[1;33m:\u001b[0m\u001b[0;31m`\u001b[0m\u001b[0msklearn\u001b[0m\u001b[1;33m.\u001b[0m\u001b[0mmodel_selection\u001b[0m\u001b[0;31m`\u001b[0m \u001b[0mmodule\u001b[0m \u001b[1;32mfor\u001b[0m \u001b[0mthe\u001b[0m\u001b[1;33m\u001b[0m\u001b[0m\n\u001b[1;32m   1403\u001b[0m         \u001b[0mlist\u001b[0m \u001b[0mof\u001b[0m \u001b[0mpossible\u001b[0m \u001b[0mcross\u001b[0m\u001b[1;33m-\u001b[0m\u001b[0mvalidation\u001b[0m \u001b[0mobjects\u001b[0m\u001b[1;33m.\u001b[0m\u001b[1;33m\u001b[0m\u001b[0m\n",
      "\u001b[0;31mNotFittedError\u001b[0m: Call fit before prediction"
     ]
    }
   ],
   "source": [
    "#Let’s predict the bad_flag_Status for validation set and calculate its accuracy.\n",
    "pred_cv=model.predict_proba(x_cv)"
   ]
  },
  {
   "cell_type": "code",
   "execution_count": null,
   "metadata": {
    "collapsed": false
   },
   "outputs": [],
   "source": [
    "bp = PdfPages('Transformation Plots.pdf')\n",
    "\n",
    "for num_variable in bankloans_existing.columns.difference(['default']):\n",
    "    binned = pd.cut(bankloans_existing[num_variable], bins=10, labels=list(range(1,11)))\n",
    "    binned = binned.dropna()\n",
    "    ser = bankloans_existing.groupby(binned)['default'].sum() / (bankloans_existing.groupby(binned)['default'].count()-bankloans_existing.groupby(binned)['default'].sum())\n",
    "    ser = np.log(ser)\n",
    "    fig,axes = plt.subplots(figsize=(10,4))\n",
    "    sns.barplot(x=ser.index,y=ser)\n",
    "    plt.ylabel('Log Odds Ratio')\n",
    "    plt.title(str('Logit Plot for identifying if the bucketing is required or not for variable ') + str(num_variable))\n",
    "    bp.savefig(fig)\n",
    "\n",
    "bp.close()"
   ]
  },
  {
   "cell_type": "code",
   "execution_count": null,
   "metadata": {
    "collapsed": true
   },
   "outputs": [],
   "source": [
    "print('These variables need bucketing - creddebt, othdebt, debtinc, employ, income ')\n",
    "bankloans_existing.columns"
   ]
  },
  {
   "cell_type": "code",
   "execution_count": null,
   "metadata": {
    "collapsed": true
   },
   "outputs": [],
   "source": [
    "bankloans_existing[['creddebt', 'othdebt', 'debtinc', 'employ','income' ]].describe(percentiles=[0.1,0.2,0.3,0.4,0.5,0.6,0.7,0.8,0.9]).T"
   ]
  },
  {
   "cell_type": "code",
   "execution_count": null,
   "metadata": {
    "collapsed": true
   },
   "outputs": [],
   "source": [
    "#bucekting\n",
    "#bankloans_existing['creddebt_extreme'] = bankloans_existing['creddebt'].apply(lambda x: 0 if 162 < x < 221 else 1)\n",
    "#bankloans_existing['othdebt_extreme'] = bankloans_existing['othdebt'].apply(lambda x: 0 if 0.6 <= x < 0.84 else 1)\n",
    "#bankloans_existing['debtinc_extreme'] = bankloans_existing['debtinc'].apply(lambda x: 0 if 0.6 <= x < 0.84 else 1)\n",
    "#bankloans_existing['debtinc_extreme'].value_counts()"
   ]
  },
  {
   "cell_type": "markdown",
   "metadata": {},
   "source": [
    "###### 2.5 Data Exploratory Analysis\n",
    "    - Variable Reduction using Somer's D values"
   ]
  },
  {
   "cell_type": "code",
   "execution_count": 443,
   "metadata": {
    "collapsed": false
   },
   "outputs": [
    {
     "name": "stdout",
     "output_type": "stream",
     "text": [
      "<statsmodels.discrete.discrete_model.Logit object at 0x000000012C844358>\n",
      "Optimization terminated successfully.\n",
      "         Current function value: 0.313818\n",
      "         Iterations 6\n",
      "<statsmodels.discrete.discrete_model.Logit object at 0x000000012081AFD0>\n",
      "Optimization terminated successfully.\n",
      "         Current function value: 0.313773\n",
      "         Iterations 7\n",
      "<statsmodels.discrete.discrete_model.Logit object at 0x000000012082B198>\n",
      "Optimization terminated successfully.\n",
      "         Current function value: 0.313809\n",
      "         Iterations 6\n",
      "<statsmodels.discrete.discrete_model.Logit object at 0x000000012081A978>\n",
      "Optimization terminated successfully.\n",
      "         Current function value: 0.313738\n",
      "         Iterations 6\n",
      "<statsmodels.discrete.discrete_model.Logit object at 0x00000000EDBD02E8>\n",
      "Optimization terminated successfully.\n",
      "         Current function value: 0.312230\n",
      "         Iterations 6\n",
      "<statsmodels.discrete.discrete_model.Logit object at 0x000000012081AFD0>\n",
      "Optimization terminated successfully.\n",
      "         Current function value: 0.313759\n",
      "         Iterations 6\n",
      "<statsmodels.discrete.discrete_model.Logit object at 0x000000012082B198>\n",
      "Optimization terminated successfully.\n",
      "         Current function value: 0.313760\n",
      "         Iterations 6\n",
      "<statsmodels.discrete.discrete_model.Logit object at 0x00000000EDBF2940>\n",
      "Optimization terminated successfully.\n",
      "         Current function value: 0.313769\n",
      "         Iterations 6\n",
      "<statsmodels.discrete.discrete_model.Logit object at 0x00000000EDBE82E8>\n",
      "Optimization terminated successfully.\n",
      "         Current function value: 0.313819\n",
      "         Iterations 6\n"
     ]
    },
    {
     "ename": "LinAlgError",
     "evalue": "Singular matrix",
     "output_type": "error",
     "traceback": [
      "\u001b[0;31m---------------------------------------------------------------------------\u001b[0m",
      "\u001b[0;31mLinAlgError\u001b[0m                               Traceback (most recent call last)",
      "\u001b[0;32m<ipython-input-443-baf00c589abc>\u001b[0m in \u001b[0;36m<module>\u001b[0;34m()\u001b[0m\n\u001b[1;32m      4\u001b[0m     \u001b[0mlogreg\u001b[0m \u001b[1;33m=\u001b[0m \u001b[0msm\u001b[0m\u001b[1;33m.\u001b[0m\u001b[0mlogit\u001b[0m\u001b[1;33m(\u001b[0m\u001b[0mformula\u001b[0m \u001b[1;33m=\u001b[0m \u001b[0mstr\u001b[0m\u001b[1;33m(\u001b[0m\u001b[1;34m'bad_flag ~ '\u001b[0m\u001b[1;33m)\u001b[0m\u001b[1;33m+\u001b[0m\u001b[0mstr\u001b[0m\u001b[1;33m(\u001b[0m\u001b[0mnum_variable\u001b[0m\u001b[1;33m)\u001b[0m\u001b[1;33m,\u001b[0m \u001b[0mdata\u001b[0m\u001b[1;33m=\u001b[0m\u001b[0mtrain_data_final_num\u001b[0m\u001b[1;33m)\u001b[0m\u001b[1;33m\u001b[0m\u001b[0m\n\u001b[1;32m      5\u001b[0m     \u001b[0mprint\u001b[0m\u001b[1;33m(\u001b[0m\u001b[0mlogreg\u001b[0m\u001b[1;33m)\u001b[0m\u001b[1;33m\u001b[0m\u001b[0m\n\u001b[0;32m----> 6\u001b[0;31m     \u001b[0mresult\u001b[0m \u001b[1;33m=\u001b[0m \u001b[0mlogreg\u001b[0m\u001b[1;33m.\u001b[0m\u001b[0mfit\u001b[0m\u001b[1;33m(\u001b[0m\u001b[1;33m)\u001b[0m\u001b[1;33m\u001b[0m\u001b[0m\n\u001b[0m\u001b[1;32m      7\u001b[0m     \u001b[0msumm\u001b[0m \u001b[1;33m=\u001b[0m \u001b[0mresult\u001b[0m\u001b[1;33m.\u001b[0m\u001b[0msummary2\u001b[0m\u001b[1;33m(\u001b[0m\u001b[1;33m)\u001b[0m\u001b[1;33m\u001b[0m\u001b[0m\n\u001b[1;32m      8\u001b[0m     \u001b[0my_score\u001b[0m \u001b[1;33m=\u001b[0m \u001b[0mpd\u001b[0m\u001b[1;33m.\u001b[0m\u001b[0mDataFrame\u001b[0m\u001b[1;33m(\u001b[0m\u001b[0mresult\u001b[0m\u001b[1;33m.\u001b[0m\u001b[0mpredict\u001b[0m\u001b[1;33m(\u001b[0m\u001b[1;33m)\u001b[0m\u001b[1;33m)\u001b[0m\u001b[1;33m\u001b[0m\u001b[0m\n",
      "\u001b[0;32mC:\\Users\\sandeep.ram\\AppData\\Local\\Continuum\\Anaconda3\\lib\\site-packages\\statsmodels\\discrete\\discrete_model.py\u001b[0m in \u001b[0;36mfit\u001b[0;34m(self, start_params, method, maxiter, full_output, disp, callback, **kwargs)\u001b[0m\n\u001b[1;32m   1375\u001b[0m         bnryfit = super(Logit, self).fit(start_params=start_params,\n\u001b[1;32m   1376\u001b[0m                 \u001b[0mmethod\u001b[0m\u001b[1;33m=\u001b[0m\u001b[0mmethod\u001b[0m\u001b[1;33m,\u001b[0m \u001b[0mmaxiter\u001b[0m\u001b[1;33m=\u001b[0m\u001b[0mmaxiter\u001b[0m\u001b[1;33m,\u001b[0m \u001b[0mfull_output\u001b[0m\u001b[1;33m=\u001b[0m\u001b[0mfull_output\u001b[0m\u001b[1;33m,\u001b[0m\u001b[1;33m\u001b[0m\u001b[0m\n\u001b[0;32m-> 1377\u001b[0;31m                 disp=disp, callback=callback, **kwargs)\n\u001b[0m\u001b[1;32m   1378\u001b[0m \u001b[1;33m\u001b[0m\u001b[0m\n\u001b[1;32m   1379\u001b[0m         \u001b[0mdiscretefit\u001b[0m \u001b[1;33m=\u001b[0m \u001b[0mLogitResults\u001b[0m\u001b[1;33m(\u001b[0m\u001b[0mself\u001b[0m\u001b[1;33m,\u001b[0m \u001b[0mbnryfit\u001b[0m\u001b[1;33m)\u001b[0m\u001b[1;33m\u001b[0m\u001b[0m\n",
      "\u001b[0;32mC:\\Users\\sandeep.ram\\AppData\\Local\\Continuum\\Anaconda3\\lib\\site-packages\\statsmodels\\discrete\\discrete_model.py\u001b[0m in \u001b[0;36mfit\u001b[0;34m(self, start_params, method, maxiter, full_output, disp, callback, **kwargs)\u001b[0m\n\u001b[1;32m    202\u001b[0m         mlefit = super(DiscreteModel, self).fit(start_params=start_params,\n\u001b[1;32m    203\u001b[0m                 \u001b[0mmethod\u001b[0m\u001b[1;33m=\u001b[0m\u001b[0mmethod\u001b[0m\u001b[1;33m,\u001b[0m \u001b[0mmaxiter\u001b[0m\u001b[1;33m=\u001b[0m\u001b[0mmaxiter\u001b[0m\u001b[1;33m,\u001b[0m \u001b[0mfull_output\u001b[0m\u001b[1;33m=\u001b[0m\u001b[0mfull_output\u001b[0m\u001b[1;33m,\u001b[0m\u001b[1;33m\u001b[0m\u001b[0m\n\u001b[0;32m--> 204\u001b[0;31m                 disp=disp, callback=callback, **kwargs)\n\u001b[0m\u001b[1;32m    205\u001b[0m \u001b[1;33m\u001b[0m\u001b[0m\n\u001b[1;32m    206\u001b[0m         \u001b[1;32mreturn\u001b[0m \u001b[0mmlefit\u001b[0m \u001b[1;31m# up to subclasses to wrap results\u001b[0m\u001b[1;33m\u001b[0m\u001b[0m\n",
      "\u001b[0;32mC:\\Users\\sandeep.ram\\AppData\\Local\\Continuum\\Anaconda3\\lib\\site-packages\\statsmodels\\base\\model.py\u001b[0m in \u001b[0;36mfit\u001b[0;34m(self, start_params, method, maxiter, full_output, disp, fargs, callback, retall, skip_hessian, **kwargs)\u001b[0m\n\u001b[1;32m    456\u001b[0m             \u001b[0mHinv\u001b[0m \u001b[1;33m=\u001b[0m \u001b[0mcov_params_func\u001b[0m\u001b[1;33m(\u001b[0m\u001b[0mself\u001b[0m\u001b[1;33m,\u001b[0m \u001b[0mxopt\u001b[0m\u001b[1;33m,\u001b[0m \u001b[0mretvals\u001b[0m\u001b[1;33m)\u001b[0m\u001b[1;33m\u001b[0m\u001b[0m\n\u001b[1;32m    457\u001b[0m         \u001b[1;32melif\u001b[0m \u001b[0mmethod\u001b[0m \u001b[1;33m==\u001b[0m \u001b[1;34m'newton'\u001b[0m \u001b[1;32mand\u001b[0m \u001b[0mfull_output\u001b[0m\u001b[1;33m:\u001b[0m\u001b[1;33m\u001b[0m\u001b[0m\n\u001b[0;32m--> 458\u001b[0;31m             \u001b[0mHinv\u001b[0m \u001b[1;33m=\u001b[0m \u001b[0mnp\u001b[0m\u001b[1;33m.\u001b[0m\u001b[0mlinalg\u001b[0m\u001b[1;33m.\u001b[0m\u001b[0minv\u001b[0m\u001b[1;33m(\u001b[0m\u001b[1;33m-\u001b[0m\u001b[0mretvals\u001b[0m\u001b[1;33m[\u001b[0m\u001b[1;34m'Hessian'\u001b[0m\u001b[1;33m]\u001b[0m\u001b[1;33m)\u001b[0m \u001b[1;33m/\u001b[0m \u001b[0mnobs\u001b[0m\u001b[1;33m\u001b[0m\u001b[0m\n\u001b[0m\u001b[1;32m    459\u001b[0m         \u001b[1;32melif\u001b[0m \u001b[1;32mnot\u001b[0m \u001b[0mskip_hessian\u001b[0m\u001b[1;33m:\u001b[0m\u001b[1;33m\u001b[0m\u001b[0m\n\u001b[1;32m    460\u001b[0m             \u001b[0mH\u001b[0m \u001b[1;33m=\u001b[0m \u001b[1;33m-\u001b[0m\u001b[1;36m1\u001b[0m \u001b[1;33m*\u001b[0m \u001b[0mself\u001b[0m\u001b[1;33m.\u001b[0m\u001b[0mhessian\u001b[0m\u001b[1;33m(\u001b[0m\u001b[0mxopt\u001b[0m\u001b[1;33m)\u001b[0m\u001b[1;33m\u001b[0m\u001b[0m\n",
      "\u001b[0;32mC:\\Users\\sandeep.ram\\AppData\\Local\\Continuum\\Anaconda3\\lib\\site-packages\\numpy\\linalg\\linalg.py\u001b[0m in \u001b[0;36minv\u001b[0;34m(a)\u001b[0m\n\u001b[1;32m    530\u001b[0m     \u001b[0msignature\u001b[0m \u001b[1;33m=\u001b[0m \u001b[1;34m'D->D'\u001b[0m \u001b[1;32mif\u001b[0m \u001b[0misComplexType\u001b[0m\u001b[1;33m(\u001b[0m\u001b[0mt\u001b[0m\u001b[1;33m)\u001b[0m \u001b[1;32melse\u001b[0m \u001b[1;34m'd->d'\u001b[0m\u001b[1;33m\u001b[0m\u001b[0m\n\u001b[1;32m    531\u001b[0m     \u001b[0mextobj\u001b[0m \u001b[1;33m=\u001b[0m \u001b[0mget_linalg_error_extobj\u001b[0m\u001b[1;33m(\u001b[0m\u001b[0m_raise_linalgerror_singular\u001b[0m\u001b[1;33m)\u001b[0m\u001b[1;33m\u001b[0m\u001b[0m\n\u001b[0;32m--> 532\u001b[0;31m     \u001b[0mainv\u001b[0m \u001b[1;33m=\u001b[0m \u001b[0m_umath_linalg\u001b[0m\u001b[1;33m.\u001b[0m\u001b[0minv\u001b[0m\u001b[1;33m(\u001b[0m\u001b[0ma\u001b[0m\u001b[1;33m,\u001b[0m \u001b[0msignature\u001b[0m\u001b[1;33m=\u001b[0m\u001b[0msignature\u001b[0m\u001b[1;33m,\u001b[0m \u001b[0mextobj\u001b[0m\u001b[1;33m=\u001b[0m\u001b[0mextobj\u001b[0m\u001b[1;33m)\u001b[0m\u001b[1;33m\u001b[0m\u001b[0m\n\u001b[0m\u001b[1;32m    533\u001b[0m     \u001b[1;32mreturn\u001b[0m \u001b[0mwrap\u001b[0m\u001b[1;33m(\u001b[0m\u001b[0mainv\u001b[0m\u001b[1;33m.\u001b[0m\u001b[0mastype\u001b[0m\u001b[1;33m(\u001b[0m\u001b[0mresult_t\u001b[0m\u001b[1;33m,\u001b[0m \u001b[0mcopy\u001b[0m\u001b[1;33m=\u001b[0m\u001b[1;32mFalse\u001b[0m\u001b[1;33m)\u001b[0m\u001b[1;33m)\u001b[0m\u001b[1;33m\u001b[0m\u001b[0m\n\u001b[1;32m    534\u001b[0m \u001b[1;33m\u001b[0m\u001b[0m\n",
      "\u001b[0;32mC:\\Users\\sandeep.ram\\AppData\\Local\\Continuum\\Anaconda3\\lib\\site-packages\\numpy\\linalg\\linalg.py\u001b[0m in \u001b[0;36m_raise_linalgerror_singular\u001b[0;34m(err, flag)\u001b[0m\n\u001b[1;32m     87\u001b[0m \u001b[1;33m\u001b[0m\u001b[0m\n\u001b[1;32m     88\u001b[0m \u001b[1;32mdef\u001b[0m \u001b[0m_raise_linalgerror_singular\u001b[0m\u001b[1;33m(\u001b[0m\u001b[0merr\u001b[0m\u001b[1;33m,\u001b[0m \u001b[0mflag\u001b[0m\u001b[1;33m)\u001b[0m\u001b[1;33m:\u001b[0m\u001b[1;33m\u001b[0m\u001b[0m\n\u001b[0;32m---> 89\u001b[0;31m     \u001b[1;32mraise\u001b[0m \u001b[0mLinAlgError\u001b[0m\u001b[1;33m(\u001b[0m\u001b[1;34m\"Singular matrix\"\u001b[0m\u001b[1;33m)\u001b[0m\u001b[1;33m\u001b[0m\u001b[0m\n\u001b[0m\u001b[1;32m     90\u001b[0m \u001b[1;33m\u001b[0m\u001b[0m\n\u001b[1;32m     91\u001b[0m \u001b[1;32mdef\u001b[0m \u001b[0m_raise_linalgerror_nonposdef\u001b[0m\u001b[1;33m(\u001b[0m\u001b[0merr\u001b[0m\u001b[1;33m,\u001b[0m \u001b[0mflag\u001b[0m\u001b[1;33m)\u001b[0m\u001b[1;33m:\u001b[0m\u001b[1;33m\u001b[0m\u001b[0m\n",
      "\u001b[0;31mLinAlgError\u001b[0m: Singular matrix"
     ]
    }
   ],
   "source": [
    "\n",
    "somersd_df = pd.DataFrame()\n",
    "for num_variable in train_data_final_num.columns.difference(['bad_flag']):\n",
    "    logreg = sm.logit(formula = str('bad_flag ~ ')+str(num_variable), data=train_data_final_num)\n",
    "    print(logreg)\n",
    "    result = logreg.fit()\n",
    "    summ = result.summary2()\n",
    "    y_score = pd.DataFrame(result.predict())\n",
    "    y_score.columns = ['Score']\n",
    "    somers_d = 2*metrics.roc_auc_score(train_data_final_num['bad_flag'],y_score) - 1\n",
    "    temp = pd.DataFrame([num_variable,somers_d]).T\n",
    "    temp.columns = ['Variable Name', 'SomersD']\n",
    "    somersd_df = pd.concat([somersd_df, temp], axis=0)\n",
    "\n"
   ]
  },
  {
   "cell_type": "code",
   "execution_count": 447,
   "metadata": {
    "collapsed": false
   },
   "outputs": [
    {
     "data": {
      "text/html": [
       "<div>\n",
       "<style scoped>\n",
       "    .dataframe tbody tr th:only-of-type {\n",
       "        vertical-align: middle;\n",
       "    }\n",
       "\n",
       "    .dataframe tbody tr th {\n",
       "        vertical-align: top;\n",
       "    }\n",
       "\n",
       "    .dataframe thead th {\n",
       "        text-align: right;\n",
       "    }\n",
       "</style>\n",
       "<table border=\"1\" class=\"dataframe\">\n",
       "  <thead>\n",
       "    <tr style=\"text-align: right;\">\n",
       "      <th></th>\n",
       "      <th>UID</th>\n",
       "      <th>V1</th>\n",
       "      <th>V2</th>\n",
       "      <th>V4</th>\n",
       "      <th>V16</th>\n",
       "      <th>V19</th>\n",
       "      <th>V20</th>\n",
       "      <th>V21</th>\n",
       "      <th>V22</th>\n",
       "      <th>V23</th>\n",
       "      <th>...</th>\n",
       "      <th>V34</th>\n",
       "      <th>V38</th>\n",
       "      <th>V39</th>\n",
       "      <th>V40</th>\n",
       "      <th>V43</th>\n",
       "      <th>V51</th>\n",
       "      <th>V53</th>\n",
       "      <th>TxnCount</th>\n",
       "      <th>BalanceAmt</th>\n",
       "      <th>bad_flag</th>\n",
       "    </tr>\n",
       "  </thead>\n",
       "  <tbody>\n",
       "    <tr>\n",
       "      <th>0</th>\n",
       "      <td>Tr-1</td>\n",
       "      <td>30SEP2038</td>\n",
       "      <td>61P4S1M3GET</td>\n",
       "      <td>3008.654726</td>\n",
       "      <td>1548544.10</td>\n",
       "      <td>12.0</td>\n",
       "      <td>0.0</td>\n",
       "      <td>0.0</td>\n",
       "      <td>0.0</td>\n",
       "      <td>0.0</td>\n",
       "      <td>...</td>\n",
       "      <td>0.0</td>\n",
       "      <td>0.0</td>\n",
       "      <td>0.0</td>\n",
       "      <td>2.0</td>\n",
       "      <td>7.473579</td>\n",
       "      <td>9.000000</td>\n",
       "      <td>10.00000</td>\n",
       "      <td>427</td>\n",
       "      <td>98236.28</td>\n",
       "      <td>0.0</td>\n",
       "    </tr>\n",
       "    <tr>\n",
       "      <th>1</th>\n",
       "      <td>Tr-2</td>\n",
       "      <td>31JAN2038</td>\n",
       "      <td>6NYVS1J3U7M</td>\n",
       "      <td>606.740000</td>\n",
       "      <td>80820.81</td>\n",
       "      <td>0.0</td>\n",
       "      <td>2.0</td>\n",
       "      <td>0.0</td>\n",
       "      <td>0.0</td>\n",
       "      <td>0.0</td>\n",
       "      <td>...</td>\n",
       "      <td>0.0</td>\n",
       "      <td>0.0</td>\n",
       "      <td>0.0</td>\n",
       "      <td>0.0</td>\n",
       "      <td>0.281470</td>\n",
       "      <td>6.356078</td>\n",
       "      <td>7.27581</td>\n",
       "      <td>78</td>\n",
       "      <td>-39505.06</td>\n",
       "      <td>0.0</td>\n",
       "    </tr>\n",
       "    <tr>\n",
       "      <th>2</th>\n",
       "      <td>Tr-3</td>\n",
       "      <td>31APR2038</td>\n",
       "      <td>BLFB1KMS48</td>\n",
       "      <td>963.520000</td>\n",
       "      <td>1076394.14</td>\n",
       "      <td>32.0</td>\n",
       "      <td>21.0</td>\n",
       "      <td>0.0</td>\n",
       "      <td>0.0</td>\n",
       "      <td>2.0</td>\n",
       "      <td>...</td>\n",
       "      <td>0.0</td>\n",
       "      <td>0.0</td>\n",
       "      <td>0.0</td>\n",
       "      <td>0.0</td>\n",
       "      <td>0.089600</td>\n",
       "      <td>10.000000</td>\n",
       "      <td>1.00000</td>\n",
       "      <td>128</td>\n",
       "      <td>46622.60</td>\n",
       "      <td>0.0</td>\n",
       "    </tr>\n",
       "    <tr>\n",
       "      <th>3</th>\n",
       "      <td>Tr-4</td>\n",
       "      <td>31NOV2038</td>\n",
       "      <td>MYGB1LCW8P</td>\n",
       "      <td>393.260000</td>\n",
       "      <td>61815.28</td>\n",
       "      <td>0.0</td>\n",
       "      <td>1.0</td>\n",
       "      <td>1.0</td>\n",
       "      <td>0.0</td>\n",
       "      <td>0.0</td>\n",
       "      <td>...</td>\n",
       "      <td>0.0</td>\n",
       "      <td>0.0</td>\n",
       "      <td>0.0</td>\n",
       "      <td>0.0</td>\n",
       "      <td>0.156780</td>\n",
       "      <td>1.000000</td>\n",
       "      <td>2.00000</td>\n",
       "      <td>41</td>\n",
       "      <td>106036.92</td>\n",
       "      <td>0.0</td>\n",
       "    </tr>\n",
       "    <tr>\n",
       "      <th>4</th>\n",
       "      <td>Tr-5</td>\n",
       "      <td>31OCT2038</td>\n",
       "      <td>6UG5S1PQGE5</td>\n",
       "      <td>497.200000</td>\n",
       "      <td>1326452.17</td>\n",
       "      <td>1.0</td>\n",
       "      <td>7.0</td>\n",
       "      <td>0.0</td>\n",
       "      <td>0.0</td>\n",
       "      <td>0.0</td>\n",
       "      <td>...</td>\n",
       "      <td>0.0</td>\n",
       "      <td>0.0</td>\n",
       "      <td>0.0</td>\n",
       "      <td>2.0</td>\n",
       "      <td>0.038360</td>\n",
       "      <td>3.000000</td>\n",
       "      <td>2.00000</td>\n",
       "      <td>216</td>\n",
       "      <td>-503462.47</td>\n",
       "      <td>0.0</td>\n",
       "    </tr>\n",
       "  </tbody>\n",
       "</table>\n",
       "<p>5 rows × 30 columns</p>\n",
       "</div>"
      ],
      "text/plain": [
       "    UID         V1           V2           V4         V16   V19   V20  V21  \\\n",
       "0  Tr-1  30SEP2038  61P4S1M3GET  3008.654726  1548544.10  12.0   0.0  0.0   \n",
       "1  Tr-2  31JAN2038  6NYVS1J3U7M   606.740000    80820.81   0.0   2.0  0.0   \n",
       "2  Tr-3  31APR2038   BLFB1KMS48   963.520000  1076394.14  32.0  21.0  0.0   \n",
       "3  Tr-4  31NOV2038   MYGB1LCW8P   393.260000    61815.28   0.0   1.0  1.0   \n",
       "4  Tr-5  31OCT2038  6UG5S1PQGE5   497.200000  1326452.17   1.0   7.0  0.0   \n",
       "\n",
       "   V22  V23    ...     V34  V38  V39  V40       V43        V51       V53  \\\n",
       "0  0.0  0.0    ...     0.0  0.0  0.0  2.0  7.473579   9.000000  10.00000   \n",
       "1  0.0  0.0    ...     0.0  0.0  0.0  0.0  0.281470   6.356078   7.27581   \n",
       "2  0.0  2.0    ...     0.0  0.0  0.0  0.0  0.089600  10.000000   1.00000   \n",
       "3  0.0  0.0    ...     0.0  0.0  0.0  0.0  0.156780   1.000000   2.00000   \n",
       "4  0.0  0.0    ...     0.0  0.0  0.0  2.0  0.038360   3.000000   2.00000   \n",
       "\n",
       "   TxnCount  BalanceAmt  bad_flag  \n",
       "0       427    98236.28       0.0  \n",
       "1        78   -39505.06       0.0  \n",
       "2       128    46622.60       0.0  \n",
       "3        41   106036.92       0.0  \n",
       "4       216  -503462.47       0.0  \n",
       "\n",
       "[5 rows x 30 columns]"
      ]
     },
     "execution_count": 447,
     "metadata": {},
     "output_type": "execute_result"
    }
   ],
   "source": [
    "## Variance Inflation Factor assessment\n",
    "X = train_data_final\n",
    "features = \"+\".join(X.columns.difference(['bad_flag']))\n",
    "X.head()"
   ]
  },
  {
   "cell_type": "code",
   "execution_count": 448,
   "metadata": {
    "collapsed": false
   },
   "outputs": [
    {
     "data": {
      "text/plain": [
       "'BalanceAmt+TxnCount+UID+V1+V16+V19+V2+V20+V21+V22+V23+V24+V25+V26+V27+V28+V29+V30+V31+V32+V33+V34+V38+V39+V4+V40+V43+V51+V53'"
      ]
     },
     "execution_count": 448,
     "metadata": {},
     "output_type": "execute_result"
    }
   ],
   "source": [
    "features"
   ]
  },
  {
   "cell_type": "code",
   "execution_count": 450,
   "metadata": {
    "collapsed": false
   },
   "outputs": [
    {
     "ename": "MemoryError",
     "evalue": "",
     "output_type": "error",
     "traceback": [
      "\u001b[0;31m---------------------------------------------------------------------------\u001b[0m",
      "\u001b[0;31mMemoryError\u001b[0m                               Traceback (most recent call last)",
      "\u001b[0;32m<ipython-input-450-997a863463c8>\u001b[0m in \u001b[0;36m<module>\u001b[0;34m()\u001b[0m\n\u001b[1;32m      1\u001b[0m a,b = dmatrices(formula_like='bad_flag ~ '+ 'BalanceAmt+TxnCount+V1+V16+V19+V2+V20+V21+V22+V23+V24+V25+V26+V27+V28+V29+V30+V31+V32+V33+V34+V38+V39+V4+V40+V43+V51+V53'\n\u001b[0;32m----> 2\u001b[0;31m , data = X, return_type='dataframe')\n\u001b[0m\u001b[1;32m      3\u001b[0m \u001b[1;33m\u001b[0m\u001b[0m\n",
      "\u001b[0;32mC:\\Users\\sandeep.ram\\AppData\\Local\\Continuum\\Anaconda3\\lib\\site-packages\\patsy\\highlevel.py\u001b[0m in \u001b[0;36mdmatrices\u001b[0;34m(formula_like, data, eval_env, NA_action, return_type)\u001b[0m\n\u001b[1;32m    308\u001b[0m     \u001b[0meval_env\u001b[0m \u001b[1;33m=\u001b[0m \u001b[0mEvalEnvironment\u001b[0m\u001b[1;33m.\u001b[0m\u001b[0mcapture\u001b[0m\u001b[1;33m(\u001b[0m\u001b[0meval_env\u001b[0m\u001b[1;33m,\u001b[0m \u001b[0mreference\u001b[0m\u001b[1;33m=\u001b[0m\u001b[1;36m1\u001b[0m\u001b[1;33m)\u001b[0m\u001b[1;33m\u001b[0m\u001b[0m\n\u001b[1;32m    309\u001b[0m     (lhs, rhs) = _do_highlevel_design(formula_like, data, eval_env,\n\u001b[0;32m--> 310\u001b[0;31m                                       NA_action, return_type)\n\u001b[0m\u001b[1;32m    311\u001b[0m     \u001b[1;32mif\u001b[0m \u001b[0mlhs\u001b[0m\u001b[1;33m.\u001b[0m\u001b[0mshape\u001b[0m\u001b[1;33m[\u001b[0m\u001b[1;36m1\u001b[0m\u001b[1;33m]\u001b[0m \u001b[1;33m==\u001b[0m \u001b[1;36m0\u001b[0m\u001b[1;33m:\u001b[0m\u001b[1;33m\u001b[0m\u001b[0m\n\u001b[1;32m    312\u001b[0m         \u001b[1;32mraise\u001b[0m \u001b[0mPatsyError\u001b[0m\u001b[1;33m(\u001b[0m\u001b[1;34m\"model is missing required outcome variables\"\u001b[0m\u001b[1;33m)\u001b[0m\u001b[1;33m\u001b[0m\u001b[0m\n",
      "\u001b[0;32mC:\\Users\\sandeep.ram\\AppData\\Local\\Continuum\\Anaconda3\\lib\\site-packages\\patsy\\highlevel.py\u001b[0m in \u001b[0;36m_do_highlevel_design\u001b[0;34m(formula_like, data, eval_env, NA_action, return_type)\u001b[0m\n\u001b[1;32m    163\u001b[0m         \u001b[1;32mreturn\u001b[0m \u001b[0miter\u001b[0m\u001b[1;33m(\u001b[0m\u001b[1;33m[\u001b[0m\u001b[0mdata\u001b[0m\u001b[1;33m]\u001b[0m\u001b[1;33m)\u001b[0m\u001b[1;33m\u001b[0m\u001b[0m\n\u001b[1;32m    164\u001b[0m     design_infos = _try_incr_builders(formula_like, data_iter_maker, eval_env,\n\u001b[0;32m--> 165\u001b[0;31m                                       NA_action)\n\u001b[0m\u001b[1;32m    166\u001b[0m     \u001b[1;32mif\u001b[0m \u001b[0mdesign_infos\u001b[0m \u001b[1;32mis\u001b[0m \u001b[1;32mnot\u001b[0m \u001b[1;32mNone\u001b[0m\u001b[1;33m:\u001b[0m\u001b[1;33m\u001b[0m\u001b[0m\n\u001b[1;32m    167\u001b[0m         return build_design_matrices(design_infos, data,\n",
      "\u001b[0;32mC:\\Users\\sandeep.ram\\AppData\\Local\\Continuum\\Anaconda3\\lib\\site-packages\\patsy\\highlevel.py\u001b[0m in \u001b[0;36m_try_incr_builders\u001b[0;34m(formula_like, data_iter_maker, eval_env, NA_action)\u001b[0m\n\u001b[1;32m     68\u001b[0m                                       \u001b[0mdata_iter_maker\u001b[0m\u001b[1;33m,\u001b[0m\u001b[1;33m\u001b[0m\u001b[0m\n\u001b[1;32m     69\u001b[0m                                       \u001b[0meval_env\u001b[0m\u001b[1;33m,\u001b[0m\u001b[1;33m\u001b[0m\u001b[0m\n\u001b[0;32m---> 70\u001b[0;31m                                       NA_action)\n\u001b[0m\u001b[1;32m     71\u001b[0m     \u001b[1;32melse\u001b[0m\u001b[1;33m:\u001b[0m\u001b[1;33m\u001b[0m\u001b[0m\n\u001b[1;32m     72\u001b[0m         \u001b[1;32mreturn\u001b[0m \u001b[1;32mNone\u001b[0m\u001b[1;33m\u001b[0m\u001b[0m\n",
      "\u001b[0;32mC:\\Users\\sandeep.ram\\AppData\\Local\\Continuum\\Anaconda3\\lib\\site-packages\\patsy\\build.py\u001b[0m in \u001b[0;36mdesign_matrix_builders\u001b[0;34m(termlists, data_iter_maker, eval_env, NA_action)\u001b[0m\n\u001b[1;32m    719\u001b[0m         term_to_subterm_infos = _make_subterm_infos(termlist,\n\u001b[1;32m    720\u001b[0m                                                     \u001b[0mnum_column_counts\u001b[0m\u001b[1;33m,\u001b[0m\u001b[1;33m\u001b[0m\u001b[0m\n\u001b[0;32m--> 721\u001b[0;31m                                                     cat_levels_contrasts)\n\u001b[0m\u001b[1;32m    722\u001b[0m         \u001b[1;32massert\u001b[0m \u001b[0misinstance\u001b[0m\u001b[1;33m(\u001b[0m\u001b[0mterm_to_subterm_infos\u001b[0m\u001b[1;33m,\u001b[0m \u001b[0mOrderedDict\u001b[0m\u001b[1;33m)\u001b[0m\u001b[1;33m\u001b[0m\u001b[0m\n\u001b[1;32m    723\u001b[0m         \u001b[1;32massert\u001b[0m \u001b[0mfrozenset\u001b[0m\u001b[1;33m(\u001b[0m\u001b[0mterm_to_subterm_infos\u001b[0m\u001b[1;33m)\u001b[0m \u001b[1;33m==\u001b[0m \u001b[0mfrozenset\u001b[0m\u001b[1;33m(\u001b[0m\u001b[0mtermlist\u001b[0m\u001b[1;33m)\u001b[0m\u001b[1;33m\u001b[0m\u001b[0m\n",
      "\u001b[0;32mC:\\Users\\sandeep.ram\\AppData\\Local\\Continuum\\Anaconda3\\lib\\site-packages\\patsy\\build.py\u001b[0m in \u001b[0;36m_make_subterm_infos\u001b[0;34m(terms, num_column_counts, cat_levels_contrasts)\u001b[0m\n\u001b[1;32m    626\u001b[0m                         coded = code_contrast_matrix(factor_coding[factor],\n\u001b[1;32m    627\u001b[0m                                                      \u001b[0mlevels\u001b[0m\u001b[1;33m,\u001b[0m \u001b[0mcontrast\u001b[0m\u001b[1;33m,\u001b[0m\u001b[1;33m\u001b[0m\u001b[0m\n\u001b[0;32m--> 628\u001b[0;31m                                                      default=Treatment)\n\u001b[0m\u001b[1;32m    629\u001b[0m                         \u001b[0mcontrast_matrices\u001b[0m\u001b[1;33m[\u001b[0m\u001b[0mfactor\u001b[0m\u001b[1;33m]\u001b[0m \u001b[1;33m=\u001b[0m \u001b[0mcoded\u001b[0m\u001b[1;33m\u001b[0m\u001b[0m\n\u001b[1;32m    630\u001b[0m                         \u001b[0msubterm_columns\u001b[0m \u001b[1;33m*=\u001b[0m \u001b[0mcoded\u001b[0m\u001b[1;33m.\u001b[0m\u001b[0mmatrix\u001b[0m\u001b[1;33m.\u001b[0m\u001b[0mshape\u001b[0m\u001b[1;33m[\u001b[0m\u001b[1;36m1\u001b[0m\u001b[1;33m]\u001b[0m\u001b[1;33m\u001b[0m\u001b[0m\n",
      "\u001b[0;32mC:\\Users\\sandeep.ram\\AppData\\Local\\Continuum\\Anaconda3\\lib\\site-packages\\patsy\\contrasts.py\u001b[0m in \u001b[0;36mcode_contrast_matrix\u001b[0;34m(intercept, levels, contrast, default)\u001b[0m\n\u001b[1;32m    601\u001b[0m         \u001b[1;32mreturn\u001b[0m \u001b[0mcontrast\u001b[0m\u001b[1;33m.\u001b[0m\u001b[0mcode_with_intercept\u001b[0m\u001b[1;33m(\u001b[0m\u001b[0mlevels\u001b[0m\u001b[1;33m)\u001b[0m\u001b[1;33m\u001b[0m\u001b[0m\n\u001b[1;32m    602\u001b[0m     \u001b[1;32melse\u001b[0m\u001b[1;33m:\u001b[0m\u001b[1;33m\u001b[0m\u001b[0m\n\u001b[0;32m--> 603\u001b[0;31m         \u001b[1;32mreturn\u001b[0m \u001b[0mcontrast\u001b[0m\u001b[1;33m.\u001b[0m\u001b[0mcode_without_intercept\u001b[0m\u001b[1;33m(\u001b[0m\u001b[0mlevels\u001b[0m\u001b[1;33m)\u001b[0m\u001b[1;33m\u001b[0m\u001b[0m\n\u001b[0m\u001b[1;32m    604\u001b[0m \u001b[1;33m\u001b[0m\u001b[0m\n",
      "\u001b[0;32mC:\\Users\\sandeep.ram\\AppData\\Local\\Continuum\\Anaconda3\\lib\\site-packages\\patsy\\contrasts.py\u001b[0m in \u001b[0;36mcode_without_intercept\u001b[0;34m(self, levels)\u001b[0m\n\u001b[1;32m    182\u001b[0m         \u001b[1;32melse\u001b[0m\u001b[1;33m:\u001b[0m\u001b[1;33m\u001b[0m\u001b[0m\n\u001b[1;32m    183\u001b[0m             \u001b[0mreference\u001b[0m \u001b[1;33m=\u001b[0m \u001b[0m_get_level\u001b[0m\u001b[1;33m(\u001b[0m\u001b[0mlevels\u001b[0m\u001b[1;33m,\u001b[0m \u001b[0mself\u001b[0m\u001b[1;33m.\u001b[0m\u001b[0mreference\u001b[0m\u001b[1;33m)\u001b[0m\u001b[1;33m\u001b[0m\u001b[0m\n\u001b[0;32m--> 184\u001b[0;31m         \u001b[0meye\u001b[0m \u001b[1;33m=\u001b[0m \u001b[0mnp\u001b[0m\u001b[1;33m.\u001b[0m\u001b[0meye\u001b[0m\u001b[1;33m(\u001b[0m\u001b[0mlen\u001b[0m\u001b[1;33m(\u001b[0m\u001b[0mlevels\u001b[0m\u001b[1;33m)\u001b[0m \u001b[1;33m-\u001b[0m \u001b[1;36m1\u001b[0m\u001b[1;33m)\u001b[0m\u001b[1;33m\u001b[0m\u001b[0m\n\u001b[0m\u001b[1;32m    185\u001b[0m         contrasts = np.vstack((eye[:reference, :],\n\u001b[1;32m    186\u001b[0m                                 \u001b[0mnp\u001b[0m\u001b[1;33m.\u001b[0m\u001b[0mzeros\u001b[0m\u001b[1;33m(\u001b[0m\u001b[1;33m(\u001b[0m\u001b[1;36m1\u001b[0m\u001b[1;33m,\u001b[0m \u001b[0mlen\u001b[0m\u001b[1;33m(\u001b[0m\u001b[0mlevels\u001b[0m\u001b[1;33m)\u001b[0m \u001b[1;33m-\u001b[0m \u001b[1;36m1\u001b[0m\u001b[1;33m)\u001b[0m\u001b[1;33m)\u001b[0m\u001b[1;33m,\u001b[0m\u001b[1;33m\u001b[0m\u001b[0m\n",
      "\u001b[0;32mC:\\Users\\sandeep.ram\\AppData\\Local\\Continuum\\Anaconda3\\lib\\site-packages\\numpy\\lib\\twodim_base.py\u001b[0m in \u001b[0;36meye\u001b[0;34m(N, M, k, dtype, order)\u001b[0m\n\u001b[1;32m    184\u001b[0m     \u001b[1;32mif\u001b[0m \u001b[0mM\u001b[0m \u001b[1;32mis\u001b[0m \u001b[1;32mNone\u001b[0m\u001b[1;33m:\u001b[0m\u001b[1;33m\u001b[0m\u001b[0m\n\u001b[1;32m    185\u001b[0m         \u001b[0mM\u001b[0m \u001b[1;33m=\u001b[0m \u001b[0mN\u001b[0m\u001b[1;33m\u001b[0m\u001b[0m\n\u001b[0;32m--> 186\u001b[0;31m     \u001b[0mm\u001b[0m \u001b[1;33m=\u001b[0m \u001b[0mzeros\u001b[0m\u001b[1;33m(\u001b[0m\u001b[1;33m(\u001b[0m\u001b[0mN\u001b[0m\u001b[1;33m,\u001b[0m \u001b[0mM\u001b[0m\u001b[1;33m)\u001b[0m\u001b[1;33m,\u001b[0m \u001b[0mdtype\u001b[0m\u001b[1;33m=\u001b[0m\u001b[0mdtype\u001b[0m\u001b[1;33m,\u001b[0m \u001b[0morder\u001b[0m\u001b[1;33m=\u001b[0m\u001b[0morder\u001b[0m\u001b[1;33m)\u001b[0m\u001b[1;33m\u001b[0m\u001b[0m\n\u001b[0m\u001b[1;32m    187\u001b[0m     \u001b[1;32mif\u001b[0m \u001b[0mk\u001b[0m \u001b[1;33m>=\u001b[0m \u001b[0mM\u001b[0m\u001b[1;33m:\u001b[0m\u001b[1;33m\u001b[0m\u001b[0m\n\u001b[1;32m    188\u001b[0m         \u001b[1;32mreturn\u001b[0m \u001b[0mm\u001b[0m\u001b[1;33m\u001b[0m\u001b[0m\n",
      "\u001b[0;31mMemoryError\u001b[0m: "
     ]
    }
   ],
   "source": [
    "a,b = dmatrices(formula_like='bad_flag ~ '+ 'BalanceAmt+TxnCount+V1+V16+V19+V2+V20+V21+V22+V23+V24+V25+V26+V27+V28+V29+V30+V31+V32+V33+V34+V38+V39+V4+V40+V43+V51+V53'\n",
    ", data = X, return_type='dataframe')\n",
    "\n"
   ]
  },
  {
   "cell_type": "code",
   "execution_count": null,
   "metadata": {
    "collapsed": false
   },
   "outputs": [],
   "source": [
    "#Train and Test split\n",
    "\n",
    "train_features = X.columns.difference(['default'])\n",
    "train_X, test_X = train_test_split(X, test_size=0.3, random_state=42)\n",
    "train_X.columns"
   ]
  },
  {
   "cell_type": "code",
   "execution_count": null,
   "metadata": {
    "collapsed": false
   },
   "outputs": [],
   "source": [
    "logreg = sm.logit(formula='default ~ ' + \"+\".join(train_features), data=train_X)\n",
    "result = logreg.fit()"
   ]
  },
  {
   "cell_type": "code",
   "execution_count": null,
   "metadata": {
    "collapsed": true
   },
   "outputs": [],
   "source": [
    "dir(result)"
   ]
  },
  {
   "cell_type": "code",
   "execution_count": null,
   "metadata": {
    "collapsed": false
   },
   "outputs": [],
   "source": [
    "logreg = sm.logit(formula='default ~ address+debtinc+employ+othdebt' , data=train_X)\n",
    "result = logreg.fit()"
   ]
  },
  {
   "cell_type": "code",
   "execution_count": null,
   "metadata": {
    "collapsed": false
   },
   "outputs": [],
   "source": [
    " result.summary2()"
   ]
  },
  {
   "cell_type": "code",
   "execution_count": null,
   "metadata": {
    "collapsed": false
   },
   "outputs": [],
   "source": [
    "train_gini = 2*metrics.roc_auc_score(train_X['default'], result.predict()) - 1\n",
    "print(\"The Gini Index for the model built on the Train Data is : \", train_gini)\n",
    "\n",
    "test_gini = 2*metrics.roc_auc_score(test_X['default'], result.predict(test_X)) - 1\n",
    "print(\"The Gini Index for the model built on the Test Data is : \", test_gini)"
   ]
  },
  {
   "cell_type": "code",
   "execution_count": null,
   "metadata": {
    "collapsed": false
   },
   "outputs": [],
   "source": [
    "## Intuition behind ROC curve - predicted probability as a tool for separating the '1's and '0's\n",
    "train_predicted_prob = pd.DataFrame(result.predict(train_X))\n",
    "train_predicted_prob.columns = ['prob']\n",
    "train_actual = train_X['default']\n",
    "# making a DataFrame with actual and prob columns\n",
    "train_predict = pd.concat([train_actual, train_predicted_prob], axis=1)\n",
    "train_predict.columns = ['actual','prob']\n",
    "train_predict.head()"
   ]
  },
  {
   "cell_type": "code",
   "execution_count": null,
   "metadata": {
    "collapsed": false
   },
   "outputs": [],
   "source": [
    "## Intuition behind ROC curve - predicted probability as a tool for separating the '1's and '0's\n",
    "test_predicted_prob = pd.DataFrame(result.predict(test_X))\n",
    "test_predicted_prob.columns = ['prob']\n",
    "test_actual = test_X['default']\n",
    "# making a DataFrame with actual and prob columns\n",
    "test_predict = pd.concat([test_actual, test_predicted_prob], axis=1)\n",
    "test_predict.columns = ['actual','prob']\n",
    "test_predict.head()"
   ]
  },
  {
   "cell_type": "code",
   "execution_count": null,
   "metadata": {
    "collapsed": true
   },
   "outputs": [],
   "source": [
    "## Intuition behind ROC curve - confusion matrix for each different cut-off shows trade off in sensitivity and specificity\n",
    "roc_like_df = pd.DataFrame()\n",
    "train_temp = train_predict.copy()\n",
    "\n",
    "for cut_off in np.linspace(0,1,50):\n",
    "    train_temp['cut_off'] = cut_off\n",
    "    train_temp['predicted'] = train_temp['prob'].apply(lambda x: 0.0 if x < cut_off else 1.0)\n",
    "    train_temp['tp'] = train_temp.apply(lambda x: 1.0 if x['actual']==1.0 and x['predicted']==1 else 0.0, axis=1)\n",
    "    train_temp['fp'] = train_temp.apply(lambda x: 1.0 if x['actual']==0.0 and x['predicted']==1 else 0.0, axis=1)\n",
    "    train_temp['tn'] = train_temp.apply(lambda x: 1.0 if x['actual']==0.0 and x['predicted']==0 else 0.0, axis=1)\n",
    "    train_temp['fn'] = train_temp.apply(lambda x: 1.0 if x['actual']==1.0 and x['predicted']==0 else 0.0, axis=1)\n",
    "    sensitivity = train_temp['tp'].sum() / (train_temp['tp'].sum() + train_temp['fn'].sum())\n",
    "    specificity = train_temp['tn'].sum() / (train_temp['tn'].sum() + train_temp['fp'].sum())\n",
    "    roc_like_table = pd.DataFrame([cut_off, sensitivity, specificity]).T\n",
    "    roc_like_table.columns = ['cutoff', 'sensitivity', 'specificity']\n",
    "    roc_like_df = pd.concat([roc_like_df, roc_like_table], axis=0)\n"
   ]
  },
  {
   "cell_type": "code",
   "execution_count": null,
   "metadata": {
    "collapsed": false
   },
   "outputs": [],
   "source": [
    "roc_like_df"
   ]
  },
  {
   "cell_type": "code",
   "execution_count": null,
   "metadata": {
    "collapsed": false
   },
   "outputs": [],
   "source": [
    "plt.subplots(figsize=(10,4))\n",
    "plt.scatter(roc_like_df['cutoff'], roc_like_df['sensitivity'], marker='*', label='Sensitivity')\n",
    "plt.scatter(roc_like_df['cutoff'], roc_like_df['specificity'], marker='*', label='Specificity')\n",
    "plt.scatter(roc_like_df['cutoff'], 1-roc_like_df['specificity'], marker='*', label='FPR')\n",
    "plt.title('For each cutoff, pair of sensitivity and FPR is plotted for ROC')\n",
    "plt.legend()"
   ]
  },
  {
   "cell_type": "code",
   "execution_count": null,
   "metadata": {
    "collapsed": true
   },
   "outputs": [],
   "source": [
    "## Finding ideal cut-off for checking if this remains same in OOS validation\n",
    "roc_like_df['total'] = roc_like_df['sensitivity'] + roc_like_df['specificity']"
   ]
  },
  {
   "cell_type": "code",
   "execution_count": null,
   "metadata": {
    "collapsed": false
   },
   "outputs": [],
   "source": [
    "roc_like_df"
   ]
  },
  {
   "cell_type": "code",
   "execution_count": null,
   "metadata": {
    "collapsed": false
   },
   "outputs": [],
   "source": [
    "roc_like_df[roc_like_df['total']==roc_like_df['total'].max()]"
   ]
  },
  {
   "cell_type": "code",
   "execution_count": null,
   "metadata": {
    "collapsed": false
   },
   "outputs": [],
   "source": [
    "test_predict['predicted'] = test_predict['prob'].apply(lambda x: 1 if x > 0.29 else 0)\n",
    "train_predict['predicted'] = train_predict['prob'].apply(lambda x: 1 if x > 0.29 else 0)\n",
    "sns.heatmap(pd.crosstab(train_predict['actual'], train_predict['predicted']), annot=True, fmt='.0f')\n",
    "plt.title('Train Data Confusion Matrix')\n",
    "plt.show()\n",
    "sns.heatmap(pd.crosstab(test_predict['actual'], test_predict['predicted']), annot=True, fmt='.0f')\n",
    "plt.title('Test Data Confusion Matrix')\n",
    "plt.show()\n",
    "# (117+236)/(117+236+120+17)"
   ]
  },
  {
   "cell_type": "code",
   "execution_count": null,
   "metadata": {
    "collapsed": false
   },
   "outputs": [],
   "source": [
    "print(\"The overall accuracy score for the Train Data is : \", metrics.accuracy_score(train_predict.actual, train_predict.predicted))\n",
    "print(\"The overall accuracy score for the Test Data  is : \", metrics.accuracy_score(test_predict.actual, test_predict.predicted))"
   ]
  },
  {
   "cell_type": "code",
   "execution_count": null,
   "metadata": {
    "collapsed": false
   },
   "outputs": [],
   "source": [
    "train_predict['Deciles']=pd.qcut(train_predict['prob'],10, labels=False)\n",
    "#test['Deciles']=pd.qcut(test['prob'],10, labels=False)\n",
    "train_predict.head()"
   ]
  },
  {
   "cell_type": "code",
   "execution_count": null,
   "metadata": {
    "collapsed": true
   },
   "outputs": [],
   "source": [
    "df = train_predict[['Deciles','actual']].groupby(train_predict.Deciles).sum().sort_index(ascending=False)"
   ]
  },
  {
   "cell_type": "code",
   "execution_count": null,
   "metadata": {
    "collapsed": false
   },
   "outputs": [],
   "source": [
    "df"
   ]
  },
  {
   "cell_type": "code",
   "execution_count": null,
   "metadata": {
    "collapsed": false
   },
   "outputs": [],
   "source": [
    "train_predict[['Deciles','actual']].groupby(train_predict.Deciles).count().sort_index(ascending=False)"
   ]
  },
  {
   "cell_type": "code",
   "execution_count": null,
   "metadata": {
    "collapsed": true
   },
   "outputs": [],
   "source": [
    "new_cust_prob = pd.DataFrame(result.predict(bankloans_new))\n",
    "\n",
    "\n",
    "new_cust_prob.columns = ['prob1']\n",
    "\n",
    "bankloans_new1=pd.concat([bankloans_new, new_cust_prob.prob1], axis=1)"
   ]
  },
  {
   "cell_type": "code",
   "execution_count": null,
   "metadata": {
    "collapsed": false
   },
   "outputs": [],
   "source": [
    "new_cust_prob.head(5)"
   ]
  },
  {
   "cell_type": "code",
   "execution_count": null,
   "metadata": {
    "collapsed": false
   },
   "outputs": [],
   "source": [
    "bankloans_new1.head()"
   ]
  },
  {
   "cell_type": "code",
   "execution_count": null,
   "metadata": {
    "collapsed": true
   },
   "outputs": [],
   "source": [
    "bankloans_new1['predicted'] = bankloans_new1['prob1'].apply(lambda x: 1 if x > 0.29 else 0)"
   ]
  },
  {
   "cell_type": "code",
   "execution_count": null,
   "metadata": {
    "collapsed": false
   },
   "outputs": [],
   "source": [
    "bankloans_new1.head()"
   ]
  },
  {
   "cell_type": "code",
   "execution_count": null,
   "metadata": {
    "collapsed": true
   },
   "outputs": [],
   "source": [
    "# Decision Trees\n",
    "import sklearn.tree as dt\n",
    "import sklearn.ensemble as en"
   ]
  },
  {
   "cell_type": "code",
   "execution_count": null,
   "metadata": {
    "collapsed": true
   },
   "outputs": [],
   "source": [
    "from sklearn import metrics\n",
    "from sklearn.tree import DecisionTreeClassifier, export_graphviz, export\n",
    "from sklearn.grid_search import GridSearchCV"
   ]
  },
  {
   "cell_type": "code",
   "execution_count": null,
   "metadata": {
    "collapsed": true
   },
   "outputs": [],
   "source": [
    "X.columns"
   ]
  },
  {
   "cell_type": "code",
   "execution_count": null,
   "metadata": {
    "collapsed": true
   },
   "outputs": [],
   "source": [
    "features = X.columns.difference(['default'])\n",
    "features"
   ]
  },
  {
   "cell_type": "code",
   "execution_count": null,
   "metadata": {
    "collapsed": true
   },
   "outputs": [],
   "source": [
    "from sklearn.cross_validation import train_test_split\n",
    "\n",
    "\n",
    "train_X, test_X, train_y, test_y = train_test_split( X[features],\n",
    "                                                  X['default'],\n",
    "                                                  test_size = 0.7,\n",
    "                                                  random_state = 142 )"
   ]
  },
  {
   "cell_type": "code",
   "execution_count": null,
   "metadata": {
    "collapsed": true
   },
   "outputs": [],
   "source": [
    "clf_tree = DecisionTreeClassifier( max_depth = 3 )\n",
    "clf_tree.fit( train_X, train_y )"
   ]
  },
  {
   "cell_type": "code",
   "execution_count": null,
   "metadata": {
    "collapsed": true
   },
   "outputs": [],
   "source": [
    "dir(clf_tree)"
   ]
  },
  {
   "cell_type": "code",
   "execution_count": null,
   "metadata": {
    "collapsed": true
   },
   "outputs": [],
   "source": [
    "pd.DataFrame(clf_tree.predict_proba(train_X))"
   ]
  },
  {
   "cell_type": "code",
   "execution_count": null,
   "metadata": {
    "collapsed": true
   },
   "outputs": [],
   "source": [
    "tree_train_pred = pd.DataFrame( { 'actual':  train_y,\n",
    "                            'predicted': clf_tree.predict( train_X ) } )"
   ]
  },
  {
   "cell_type": "code",
   "execution_count": null,
   "metadata": {
    "collapsed": true
   },
   "outputs": [],
   "source": [
    "tree_train_pred.head(10)"
   ]
  },
  {
   "cell_type": "code",
   "execution_count": null,
   "metadata": {
    "collapsed": true
   },
   "outputs": [],
   "source": [
    "tree_test_pred = pd.DataFrame( { 'actual':  test_y,\n",
    "                            'predicted': clf_tree.predict( test_X ) } )"
   ]
  },
  {
   "cell_type": "code",
   "execution_count": null,
   "metadata": {
    "collapsed": true
   },
   "outputs": [],
   "source": [
    "tree_test_pred.head(10)"
   ]
  },
  {
   "cell_type": "code",
   "execution_count": null,
   "metadata": {
    "collapsed": true
   },
   "outputs": [],
   "source": [
    "metrics.accuracy_score( tree_train_pred.actual, tree_train_pred.predicted )"
   ]
  },
  {
   "cell_type": "code",
   "execution_count": null,
   "metadata": {
    "collapsed": true
   },
   "outputs": [],
   "source": [
    "metrics.accuracy_score( tree_test_pred.actual, tree_test_pred.predicted )"
   ]
  },
  {
   "cell_type": "code",
   "execution_count": null,
   "metadata": {
    "collapsed": true
   },
   "outputs": [],
   "source": [
    "tree_cm = metrics.confusion_matrix( tree_test_pred.predicted,\n",
    "                                 tree_test_pred.actual,\n",
    "                                 [1,0] )\n",
    "sns.heatmap(tree_cm, annot=True, fmt='.2f',\n",
    "         xticklabels = [\"Left\", \"No Left\"] , yticklabels = [\"Left\", \"No Left\"] )\n",
    "\n",
    "plt.ylabel('True label')\n",
    "plt.xlabel('Predicted label')"
   ]
  },
  {
   "cell_type": "code",
   "execution_count": null,
   "metadata": {
    "collapsed": true
   },
   "outputs": [],
   "source": [
    "#Fine Tuning the parameters\n",
    "param_grid = {'max_depth': np.arange(3, 12)}"
   ]
  },
  {
   "cell_type": "code",
   "execution_count": null,
   "metadata": {
    "collapsed": true
   },
   "outputs": [],
   "source": [
    "tree = GridSearchCV(DecisionTreeClassifier(), param_grid, cv = 5)\n",
    "tree.fit( train_X, train_y )"
   ]
  },
  {
   "cell_type": "code",
   "execution_count": null,
   "metadata": {
    "collapsed": true
   },
   "outputs": [],
   "source": [
    "tree.best_params_"
   ]
  },
  {
   "cell_type": "code",
   "execution_count": null,
   "metadata": {
    "collapsed": true
   },
   "outputs": [],
   "source": [
    "tree.best_score_"
   ]
  },
  {
   "cell_type": "code",
   "execution_count": null,
   "metadata": {
    "collapsed": true
   },
   "outputs": [],
   "source": [
    "#Building Final Decision Tree Model\n",
    "train_X.head()"
   ]
  },
  {
   "cell_type": "code",
   "execution_count": null,
   "metadata": {
    "collapsed": true
   },
   "outputs": [],
   "source": [
    "clf_tree = DecisionTreeClassifier( max_depth = 5 )\n",
    "clf_tree.fit( train_X, train_y )"
   ]
  },
  {
   "cell_type": "code",
   "execution_count": null,
   "metadata": {
    "collapsed": true
   },
   "outputs": [],
   "source": [
    "tree_test_pred = pd.DataFrame( { 'actual':  test_y,\n",
    "                            'predicted': clf_tree.predict( test_X ) } )"
   ]
  },
  {
   "cell_type": "code",
   "execution_count": null,
   "metadata": {
    "collapsed": true
   },
   "outputs": [],
   "source": [
    "tree_test_pred.sample( n = 10 )"
   ]
  },
  {
   "cell_type": "code",
   "execution_count": null,
   "metadata": {
    "collapsed": true
   },
   "outputs": [],
   "source": [
    "metrics.accuracy_score( tree_test_pred.actual, tree_test_pred.predicted )"
   ]
  },
  {
   "cell_type": "code",
   "execution_count": null,
   "metadata": {
    "collapsed": true
   },
   "outputs": [],
   "source": [
    "tree_cm = metrics.confusion_matrix( tree_test_pred.predicted,\n",
    "                                 tree_test_pred.actual,\n",
    "                                 [1,0] )\n",
    "sns.heatmap(tree_cm, annot=True,\n",
    "         fmt='.2f',\n",
    "         xticklabels = [\"Left\", \"No Left\"] , yticklabels = [\"Left\", \"No Left\"] )\n",
    "\n",
    "plt.ylabel('True label')\n",
    "plt.xlabel('Predicted label')"
   ]
  },
  {
   "cell_type": "code",
   "execution_count": null,
   "metadata": {
    "collapsed": true
   },
   "outputs": [],
   "source": [
    "#Generate Rules from Decision Trees\n",
    "#To create a decision tree visualization graph.\n",
    "#Install GraphViz (As per the OS and version you are using)\n",
    "#pip install pydotplus\n",
    "#Add the path to environmental variables\n",
    "#Note: The notebook needs a restart."
   ]
  },
  {
   "cell_type": "code",
   "execution_count": null,
   "metadata": {
    "collapsed": true
   },
   "outputs": [],
   "source": [
    "import os     \n",
    "os.environ[\"PATH\"] += os.pathsep + 'C:/Program Files (x86)/Graphviz2.38/bin/'"
   ]
  },
  {
   "cell_type": "code",
   "execution_count": null,
   "metadata": {
    "collapsed": true
   },
   "outputs": [],
   "source": [
    "export_graphviz( clf_tree,\n",
    "              out_file = \"hr_tree.odt\",\n",
    "              feature_names = train_X.columns )"
   ]
  },
  {
   "cell_type": "code",
   "execution_count": null,
   "metadata": {
    "collapsed": true
   },
   "outputs": [],
   "source": [
    "import pydotplus as pdot\n",
    "\n",
    "chd_tree_graph = pdot.graphviz.graph_from_dot_file( 'hr_tree.odt' )"
   ]
  },
  {
   "cell_type": "code",
   "execution_count": null,
   "metadata": {
    "collapsed": true
   },
   "outputs": [],
   "source": [
    "chd_tree_graph.write_jpg( 'hr_tree.jpg' )"
   ]
  },
  {
   "cell_type": "code",
   "execution_count": null,
   "metadata": {
    "collapsed": true
   },
   "outputs": [],
   "source": [
    "from IPython.display import Image\n",
    "Image(filename='hr_tree.jpg')"
   ]
  },
  {
   "cell_type": "code",
   "execution_count": null,
   "metadata": {
    "collapsed": true
   },
   "outputs": [],
   "source": []
  }
 ],
 "metadata": {
  "kernelspec": {
   "display_name": "Python 3",
   "language": "python",
   "name": "python3"
  }
 },
 "nbformat": 4,
 "nbformat_minor": 2
}
